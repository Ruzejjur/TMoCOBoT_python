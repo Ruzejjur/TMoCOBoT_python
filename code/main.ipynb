{
 "cells": [
  {
   "cell_type": "code",
   "execution_count": null,
   "metadata": {},
   "outputs": [],
   "source": [
    "# Imports \n",
    "\n",
    "# Pandas: Data manipulation and analysis\n",
    "import pandas as pd\n",
    "\n",
    "# NumPy: Scientific computing with arrays, array manipulation\n",
    "import numpy as np\n",
    "\n",
    "# Matplotlib: Plotting library\n",
    "import matplotlib.pyplot as plt\n",
    "\n",
    "# sys: Access system-specific parameters and functions\n",
    "import sys\n",
    "\n",
    "# os: Interact with the operating system\n",
    "import os\n",
    "\n",
    "# importlib: Dynamic module import\n",
    "import importlib\n",
    "\n",
    "# contextlib: Utilities for working with context managers\n",
    "from contextlib import contextmanager"
   ]
  },
  {
   "cell_type": "code",
   "execution_count": null,
   "metadata": {},
   "outputs": [],
   "source": [
    "# Context manager to temporarily add a directory to sys.path\n",
    "# This ensures the directory is added to sys.path when entering the context\n",
    "# and removed from sys.path when exiting the context\n",
    "@contextmanager\n",
    "def add_sys_path(path):\n",
    "    \"\"\"\n",
    "    Temporarily adds the specified path to sys.path.\n",
    "\n",
    "    Parameters:\n",
    "    path (str): The directory path to add to sys.path.\n",
    "\n",
    "    Yields:\n",
    "    None\n",
    "    \"\"\"\n",
    "    # Check if the specified path is already in sys.path\n",
    "    if path not in sys.path:\n",
    "        # If not, append the path to sys.path\n",
    "        sys.path.append(path)\n",
    "    try:\n",
    "        # Yield control back to the calling context\n",
    "        # Code within the 'with' block will execute at this point\n",
    "        yield\n",
    "    finally:\n",
    "        # This block will always execute upon exiting the context\n",
    "        # Check if the path is in sys.path\n",
    "        if path in sys.path:\n",
    "            # If it is, remove the path from sys.path\n",
    "            sys.path.remove(path)\n",
    "\n",
    "# Function to import and reload modules if necessary\n",
    "def import_and_reload(module_name, path):\n",
    "    \"\"\"\n",
    "    Imports and reloads the specified module from the given path.\n",
    "\n",
    "    Parameters:\n",
    "    module_name (str): The name of the module to import and reload.\n",
    "    path (str): The directory path where the module is located.\n",
    "\n",
    "    Returns:\n",
    "    module: The imported and reloaded module.\n",
    "    \"\"\"\n",
    "    # Use the add_sys_path context manager to temporarily add the path to sys.path\n",
    "    with add_sys_path(path):\n",
    "        # Import the module using its name\n",
    "        module = importlib.import_module(module_name)\n",
    "        # Reload the module to ensure any changes are reflected\n",
    "        importlib.reload(module)\n",
    "        # Return the imported and reloaded module\n",
    "        return module\n"
   ]
  },
  {
   "cell_type": "code",
   "execution_count": null,
   "metadata": {},
   "outputs": [],
   "source": [
    "# Setting working directory\n",
    "\n",
    "# Define the path to the working directory\n",
    "working_directory = '/Users/ruzejjur/Github/TMoCOBoT_python'\n",
    "\n",
    "# Change the current working directory to the specified path\n",
    "os.chdir(working_directory)"
   ]
  },
  {
   "cell_type": "code",
   "execution_count": null,
   "metadata": {},
   "outputs": [],
   "source": [
    "# Add and import auxiliary script\n",
    "auxiliary_path = os.path.abspath(os.path.join(working_directory, 'code', 'auxiliary'))\n",
    "auxiliary = import_and_reload('auxiliary', auxiliary_path)\n",
    "\n",
    "# Add and import testing script\n",
    "testing_path = os.path.abspath(os.path.join(working_directory, 'code', 'auxiliary'))\n",
    "testing = import_and_reload('testing', testing_path)"
   ]
  },
  {
   "cell_type": "markdown",
   "metadata": {},
   "source": [
    "# Simulated examples\n",
    "\n",
    "To simplify the analysis, specific parameters are defined for the experts, which include the following:\n",
    "\n",
    " - 10 experts for each brand. \n",
    " - 3 mobile brands.\n",
    " - 3 features.\n",
    " - 6 score values.\n",
    "\n",
    "These parameters have been deliberately chosen to configure the system and demonstrate the functionality of our proposed solution.\n",
    "\n",
    "The parameters associated with the primary modeller are as follows:\n",
    "\n",
    " - The preference score $r_{I,n}$ = 4 for all features.\n",
    " - The primary modeller's brand $P_{I}(B)$ preference follows a uniform distribution.\n",
    " - The primary modeller's opinion on brands $b\\in{B}$ is established in the experimental setup.\n",
    " - The primary modeller's certainty $c_{I,b,n} \\in \\langle 0, 1 \\rangle$ is established in the experimental setup.\n",
    " - The primary modeller's trust $t_{I,E_{i}} \\in \\langle 0, 1 \\rangle$ is established in the experimental setup.\n",
    "\n",
    "The preference score is set for simplicity, eliminating one hyperparameter to tune. \n",
    "The primary modeller's brand preference $P_{I}(B)$ is configured to ensure that the choice of the brand $b\\in{B}$ is not influenced by the primary modeller's bias.\n",
    "\n",
    "The objective is to design experiments in such a way that the brand selection process can be inferred from the setup of the experts.\n",
    "\n",
    "In the following five examples, the primary modeller's opinions are presented in the following table:"
   ]
  },
  {
   "cell_type": "code",
   "execution_count": null,
   "metadata": {},
   "outputs": [],
   "source": [
    "# The primary modeller's opinion\n",
    "\n",
    "# Array representing the scores given by the primary modeller for different phone brands and features\n",
    "# * Note 1: This array represents primary modellers opinion\n",
    "primary_modeller_scores = np.array([\n",
    "    [5, 4, 5],  # Scores for Brand_1\n",
    "    [6, 5, 6],  # Scores for Brand_2\n",
    "    [4, 4, 3]   # Scores for Brand_3\n",
    "], dtype=np.int8)\n"
   ]
  },
  {
   "cell_type": "code",
   "execution_count": null,
   "metadata": {},
   "outputs": [],
   "source": [
    "# Creating a DataFrame with the given data\n",
    "# Index represents phone brands, and columns represent different features\n",
    "primary_modeller_scores_df = pd.DataFrame(\n",
    "    primary_modeller_scores,\n",
    "    index=[\"Brand 1\", \"Brand 2\", \"Brand 3\"],  # Setting the row labels for phone brands\n",
    "    columns=[\"Feature 1\", \"Feature 2\", \"Feature 3\"]  # Setting the column labels for features\n",
    ")\n",
    "\n",
    "# Display the DataFrame\n",
    "primary_modeller_scores_df"
   ]
  },
  {
   "cell_type": "markdown",
   "metadata": {},
   "source": [
    "The primary modeller's opinion on brands is as follows: **Brand_2 > Brand_1 > Brand_3**."
   ]
  },
  {
   "cell_type": "markdown",
   "metadata": {},
   "source": [
    "## Opinion Merging and Preference Sub-setting\n",
    "\n",
    "The aim of this section is to illustrate the influence of expert opinions on the primary modeller's brand preference."
   ]
  },
  {
   "cell_type": "markdown",
   "metadata": {},
   "source": [
    "### Example 1\n",
    "The experts are configured to prefer the brands in the following order:\n",
    "\n",
    " **Brand_1 > Brand_2 > Brand_3**.\n",
    "\n",
    "The Brand_1 is slightly more preferred than Brand_2, this is set up for later demonstration of the trust value $t_{I,E_{i}}$ in 'Inclusion of trust' section."
   ]
  },
  {
   "cell_type": "markdown",
   "metadata": {},
   "source": [
    "#### Experiment setup"
   ]
  },
  {
   "cell_type": "markdown",
   "metadata": {},
   "source": [
    "##### Agent"
   ]
  },
  {
   "cell_type": "code",
   "execution_count": null,
   "metadata": {},
   "outputs": [],
   "source": [
    "# Converting the primary modeller's scores to a DataFrame for better readability\n",
    "\n",
    "# Creating a DataFrame with the given data\n",
    "# Index represents phone brands, and columns represent different features\n",
    "primary_modeller_scores_df = pd.DataFrame(\n",
    "    primary_modeller_scores,\n",
    "    index=[\"Brand 1\", \"Brand 2\", \"Brand 3\"],  # Setting the row labels for phone brands\n",
    "    columns=[\"Feature 1\", \"Feature 2\", \"Feature 3\"]  # Setting the column labels for features\n",
    ")\n",
    "\n",
    "# Printing the DataFrame\n",
    "print(\"The Primary Modeller's Scores:\")\n",
    "primary_modeller_scores_df"
   ]
  },
  {
   "cell_type": "code",
   "execution_count": null,
   "metadata": {},
   "outputs": [],
   "source": [
    "# Setting up the opinion certainty\n",
    "\n",
    "# Array representing the certainty of the primary modeller's opinion for each phone brand\n",
    "# ! Note 1: ones does not equate to no certainty being applied as the opinion certainty is multiplied with number of responders\n",
    "opinion_certainty_array = np.array([1, 1, 1], dtype=np.float16)\n",
    "\n",
    "# Boolean flag to determine if certainty should be applied\n",
    "# * Note 1: This flag is important as setting it to True will ensure that the opinion certainty array is ones.\n",
    "apply_certainty = False\n"
   ]
  },
  {
   "cell_type": "code",
   "execution_count": null,
   "metadata": {},
   "outputs": [],
   "source": [
    "# Setting up the number of responders for each brand so that the opinion\n",
    "# certainty can be applied as many times as the responders responded\n",
    "\n",
    "# Array representing the number of responders for each phone brand\n",
    "number_of_responders = np.array([10, 10, 10], dtype=np.int32)"
   ]
  },
  {
   "cell_type": "code",
   "execution_count": null,
   "metadata": {},
   "outputs": [],
   "source": [
    "# Create a trust matrix with ones, representing equal trust for each responder\n",
    "# The matrix has 3 rows (one for each phone brand) and 10 columns (one for each responder)\n",
    "# * Note 1: Setting trust like this is equivalent to no inclusion of trust\n",
    "trust_matrix = np.ones((3, 10),dtype=np.float16)"
   ]
  },
  {
   "cell_type": "code",
   "execution_count": null,
   "metadata": {},
   "outputs": [],
   "source": [
    "# Primary modeller's score preference for each feature\n",
    "\n",
    "# Array representing the primary modeller's score preference for each feature\n",
    "# * Note 1: This means that scores below the selected scores are not taken into acoount durring the opinion formulation\n",
    "primary_modeller_score_preference = np.array([4, 4, 4], dtype=np.int8)"
   ]
  },
  {
   "cell_type": "code",
   "execution_count": null,
   "metadata": {},
   "outputs": [],
   "source": [
    "# Primary modeller's brand preference\n",
    "\n",
    "# Array representing the primary modeller's initial brand preference\n",
    "# * Note 1: Set to uniform\n",
    "primary_modeller_brand_pref = np.array([1, 1, 1], dtype=np.int8)\n",
    "\n",
    "# Normalize the brand preference so that the sum equals 1\n",
    "primary_modeller_brand_pref = primary_modeller_brand_pref / np.sum(primary_modeller_brand_pref)\n"
   ]
  },
  {
   "cell_type": "code",
   "execution_count": null,
   "metadata": {},
   "outputs": [],
   "source": [
    "# Setting score range\n",
    "\n",
    "# This represents the highest possible score for each feature, i.e., score range = 'best'\n",
    "score_range = 6"
   ]
  },
  {
   "cell_type": "code",
   "execution_count": null,
   "metadata": {},
   "outputs": [],
   "source": [
    "# The values of exponents in Dirichlet distribution must be non-zero,\n",
    "# setting them to a low value\n",
    "\n",
    "# Initial feature weight for the Dirichlet distribution\n",
    "initial_feature_weight = 0.01\n"
   ]
  },
  {
   "cell_type": "markdown",
   "metadata": {},
   "source": [
    "#### Expert opinions"
   ]
  },
  {
   "cell_type": "markdown",
   "metadata": {},
   "source": [
    "The opinion's of individual experts $E_{i}$ for each brand $b\\in{B}$."
   ]
  },
  {
   "cell_type": "code",
   "execution_count": null,
   "metadata": {},
   "outputs": [],
   "source": [
    "# Simulated experts for Brand_1\n",
    "# Array representing the opinions of 10 simulated experts on Brand_1 for 3 features\n",
    "Brand_1_expert_opinions = np.array([\n",
    "    [4, 3, 4], [5, 3, 5], [5, 6, 5], [6, 5, 3], [6, 6, 6], \n",
    "    [5, 6, 5], [6, 6, 5], [6, 3, 4], [4, 5, 4], [6, 4, 3]\n",
    "], dtype=np.int8)\n",
    "\n",
    "# Simulated experts for Brand_2\n",
    "# Array representing the opinions of 10 simulated experts on Brand_2 for 3 features\n",
    "Brand_2_expert_opinions = np.array([\n",
    "    [5, 5, 5], [5, 6, 5], [3, 4, 4], [3, 4, 5], [4, 5, 5], \n",
    "    [5, 6, 4], [6, 6, 6], [5, 6, 6], [4, 3, 4], [4, 6, 3]\n",
    "], dtype=np.int8)\n",
    "\n",
    "# Simulated experts for Brand_3\n",
    "# Array representing the opinions of 10 simulated experts on Brand_3 for 3 features\n",
    "Brand_3_expert_opinions = np.array([\n",
    "    [3, 4, 3], [3, 3, 4], [4, 3, 4], [3, 3, 3], [5, 4, 3], \n",
    "    [3, 5, 5], [4, 5, 6], [4, 3, 2], [3, 4, 3], [4, 3, 4]\n",
    "], dtype=np.int8)\n"
   ]
  },
  {
   "cell_type": "code",
   "execution_count": null,
   "metadata": {},
   "outputs": [],
   "source": [
    "# Creating DataFrames for each brand\n",
    "\n",
    "# DataFrame for Brand_1 expert opinions\n",
    "Brand_1_expert_opinions_df = pd.DataFrame(\n",
    "    Brand_1_expert_opinions, \n",
    "    index=[f\"Brand_1 expert {i+1}\" for i in range(10)],  # Setting index as expert identifiers\n",
    "    columns=[\"Feature 1 score\", \"Feature 2 score\", \"Feature 3 score\"]  # Setting the column labels for features\n",
    ")\n",
    "\n",
    "# DataFrame for Brand_2 expert opinions\n",
    "Brand_2_expert_opinions_df = pd.DataFrame(\n",
    "    Brand_2_expert_opinions,\n",
    "    index=[f\"Brand_2 expert {i+1}\" for i in range(10)],  # Setting index as expert identifiers\n",
    "    columns=[\"Feature 1 score\", \"Feature 2 score\", \"Feature 3 score\"]  # Setting the column labels for features\n",
    ")\n",
    "\n",
    "# DataFrame for Brand_3 expert opinions\n",
    "Brand_3_expert_opinions_df = pd.DataFrame(\n",
    "    Brand_3_expert_opinions, \n",
    "    index=[f\"Brand_3 expert {i+1}\" for i in range(10)],  # Setting index as expert identifiers\n",
    "    columns=[\"Feature 1 score\", \"Feature 2 score\", \"Feature 3 score\"]  # Setting the column labels for features\n",
    ")\n"
   ]
  },
  {
   "cell_type": "code",
   "execution_count": null,
   "metadata": {},
   "outputs": [],
   "source": [
    "print(\"Brand_1 Experts' Opinions:\")\n",
    "Brand_1_expert_opinions_df"
   ]
  },
  {
   "cell_type": "code",
   "execution_count": null,
   "metadata": {},
   "outputs": [],
   "source": [
    "print(\"\\nBrand_2 Experts' Opinions:\")\n",
    "Brand_2_expert_opinions_df"
   ]
  },
  {
   "cell_type": "code",
   "execution_count": null,
   "metadata": {},
   "outputs": [],
   "source": [
    "print(\"\\nBrand_3 Experts' Opinions:\")\n",
    "Brand_3_expert_opinions_df"
   ]
  },
  {
   "cell_type": "markdown",
   "metadata": {},
   "source": [
    "<ins>Simple inference of experts opinion of brands</ins>"
   ]
  },
  {
   "cell_type": "code",
   "execution_count": null,
   "metadata": {},
   "outputs": [],
   "source": [
    "# Calculate the mean scores of each expert\n",
    "Brand_1_means = Brand_1_expert_opinions_df.mean(axis=1)\n",
    "Brand_2_means = Brand_2_expert_opinions_df.mean(axis=1)\n",
    "Brand_3_means = Brand_3_expert_opinions_df.mean(axis=1)\n",
    "\n",
    "# Create a box plot for each brand\n",
    "fig, ax = plt.subplots(figsize=(10, 6))\n",
    "\n",
    "ax.boxplot([Brand_1_means, Brand_2_means, Brand_3_means], labels=[\"Brand 1\", \"Brand 2\", \"Brand 3\"], showmeans=True)\n",
    "ax.set_title('Box Plot of Mean Expert Scores for Each Brand', fontsize=15.5)\n",
    "ax.set_ylabel('Mean Score')\n",
    "ax.set_xlabel('Brand')\n",
    "\n",
    "# Adding scatter plot of the observations\n",
    "x_positions = [1, 2, 3]\n",
    "for i, means in enumerate([Brand_1_means, Brand_2_means, Brand_3_means]):\n",
    "    ax.scatter([x_positions[i]] * len(means), means, alpha=0.6, color='blue', s=5)\n",
    "\n",
    "# Save the figure in .eps format\n",
    "\n",
    "# save_path = os.path.join(working_directory, 'Bar_charts', 'brand_mean_scores_boxplot.eps')\n",
    "# plt.tight_layout()\n",
    "# plt.savefig(save_path, format='eps')\n",
    "\n",
    "# Show the plot\n",
    "plt.show()\n"
   ]
  },
  {
   "cell_type": "markdown",
   "metadata": {},
   "source": [
    "<ins>The primary modeller's brand preference after opinion merging.</ins>"
   ]
  },
  {
   "cell_type": "code",
   "execution_count": null,
   "metadata": {},
   "outputs": [],
   "source": [
    "# Running the simulated example from the auxiliary module\n",
    "\n",
    "# Call the simulated_example function with the provided parameters\n",
    "_, primary_modeller_posterior_updated = auxiliary.simulated_example(\n",
    "    primary_modeller_scores,  # Initial scores given by the primary modeller\n",
    "    opinion_certainty_array,  # Certainty of the primary modeller's opinions\n",
    "    apply_certainty,  # Flag to apply certainty\n",
    "    number_of_responders,  # Number of responders for each brand\n",
    "    trust_matrix,  # Trust matrix representing trust for each responder\n",
    "    primary_modeller_score_preference,  # Primary modeller's score preference for each feature\n",
    "    primary_modeller_brand_pref,  # Distribution representing primary modeller's brand prefference\n",
    "    score_range,  # Highest possible score for each feature\n",
    "    initial_feature_weight,  # Initial feature weight for the Dirichlet distribution\n",
    "    Brand_1_expert_opinions,  # Expert opinions for Brand_1\n",
    "    Brand_2_expert_opinions,  # Expert opinions for Brand_2\n",
    "    Brand_3_expert_opinions  # Expert opinions for Brand_3\n",
    ")\n"
   ]
  },
  {
   "cell_type": "code",
   "execution_count": null,
   "metadata": {},
   "outputs": [],
   "source": [
    "## Plot primary modeller's updated posterior distribution on brands\n",
    "\n",
    "# Variable names for the x-ticks\n",
    "variable_names = ['Brand 1', 'Brand 2', 'Brand 3']\n",
    "\n",
    "# Create a figure window with a single subplot\n",
    "fig, ax = plt.subplots(1, 1, figsize=(7, 5))\n",
    "\n",
    "# Plotting the updated posterior distribution as a bar chart\n",
    "ax.bar(variable_names, primary_modeller_posterior_updated)\n",
    "ax.set_ylabel('Probability')\n",
    "ax.set_title(\"Primary modeller's updated brand preference\", fontsize=15.5)\n",
    "ax.tick_params(axis='x', labelsize=17)\n",
    "\n",
    "# Save the figure in .eps format\n",
    "save_path = os.path.join(working_directory, 'Bar_charts', 'figure_0.eps')\n",
    "plt.tight_layout()\n",
    "plt.savefig(save_path, format='eps')\n",
    "\n",
    "# Show the plot\n",
    "plt.show()\n"
   ]
  },
  {
   "cell_type": "markdown",
   "metadata": {},
   "source": [
    "<ins>The primary modeller's updated brand preference.</ins>"
   ]
  },
  {
   "cell_type": "code",
   "execution_count": null,
   "metadata": {},
   "outputs": [],
   "source": [
    "# Round the values and convert them to percentage strings\n",
    "primary_modeller_posterior_updated_percent = [f\"{value * 100:.2f}%\" for value in primary_modeller_posterior_updated]\n",
    "\n",
    "# Create a DataFrame for the updated posterior percentages\n",
    "primary_modeller_posterior_updated_df = pd.DataFrame(\n",
    "    [primary_modeller_posterior_updated_percent],    # Percentage values as a list\n",
    "    columns=[\"Brand 1\", \"Brand 2\", \"Brand 3\"]         # Column labels for the DataFrame\n",
    ")\n",
    "\n",
    "# Display the DataFrame\n",
    "print(\"The Primary modeller's updated brand preference:\")\n",
    "primary_modeller_posterior_updated_df"
   ]
  },
  {
   "cell_type": "markdown",
   "metadata": {},
   "source": [
    "The results suggest that the experts influenced the primary modeller's opinion to favour the Brand_1 brand. Additionally, the primary modeller's probability of choosing the Brand_3 brand prior to opinion merging is low due to the low score assigned to feature 3 for the Brand_3 brand.  Consequently, this leads to a low probability entering the posterior distribution before opinion merging, significantly reducing the probability of selecting the Brand_3 brand."
   ]
  },
  {
   "cell_type": "markdown",
   "metadata": {},
   "source": [
    "### Example 2"
   ]
  },
  {
   "cell_type": "markdown",
   "metadata": {},
   "source": [
    "#### Experiment setup"
   ]
  },
  {
   "cell_type": "markdown",
   "metadata": {},
   "source": [
    "##### Agent"
   ]
  },
  {
   "cell_type": "code",
   "execution_count": null,
   "metadata": {},
   "outputs": [],
   "source": [
    "# Creating a DataFrame with the given data\n",
    "# Index represents phone brands, and columns represent different features\n",
    "primary_modeller_scores_df = pd.DataFrame(\n",
    "    primary_modeller_scores,\n",
    "    index=[\"Brand 1\", \"Brand 2\", \"Brand 3\"],           # Setting the row labels for phone brands\n",
    "    columns=[\"Feature 1\", \"Feature 2\", \"Feature 3\"]  # Setting the column labels for features\n",
    ")\n",
    "\n",
    "# Display the DataFrame\n",
    "primary_modeller_scores_df"
   ]
  },
  {
   "cell_type": "code",
   "execution_count": null,
   "metadata": {},
   "outputs": [],
   "source": [
    "# Setting up the opinion certainty\n",
    "\n",
    "# Array representing the certainty of the primary modeller's opinion for each phone brand\n",
    "# ! Note 1: ones does not equate to no certainty being applied as the opinion certainty is multiplied with number of responders\n",
    "opinion_certainty_array = np.array([1, 1, 1], dtype = np.float16)\n",
    "\n",
    "# Boolean flag to determine if certainty should be applied\n",
    "# * Note 1: This flag is important as setting it to True will ensure that the opinion certainty array is ones.\n",
    "apply_certainty = False"
   ]
  },
  {
   "cell_type": "code",
   "execution_count": null,
   "metadata": {},
   "outputs": [],
   "source": [
    "# Setting up the number of responders for each brand so that the opinion\n",
    "# certainty can be applied as many times as the responders responded\n",
    "\n",
    "# Array representing the number of responders for each phone brand\n",
    "number_of_responders = np.array([10, 10, 10], dtype = np.int32)"
   ]
  },
  {
   "cell_type": "code",
   "execution_count": null,
   "metadata": {},
   "outputs": [],
   "source": [
    "# Create a trust matrix with ones, representing equal trust for each responder\n",
    "# The matrix has 3 rows (one for each phone brand) and 10 columns (one for each responder)\n",
    "# * Note 1: Setting trust like this is equivalent to no inclusion of trust\n",
    "trust_matrix = np.ones((3, 10), dtype=np.float16)"
   ]
  },
  {
   "cell_type": "code",
   "execution_count": null,
   "metadata": {},
   "outputs": [],
   "source": [
    "# Primary modeller's score preference for each feature\n",
    "\n",
    "# Array representing the primary modeller's score preference for each feature\n",
    "# * Note 1: This means that scores below the selected scores are not taken into acoount durring the opinion formulation\n",
    "primary_modeller_score_preference = np.array([4, 4, 4], dtype=np.int8)"
   ]
  },
  {
   "cell_type": "code",
   "execution_count": null,
   "metadata": {},
   "outputs": [],
   "source": [
    "# Primary modeller's brand preference\n",
    "\n",
    "# Array representing the primary modeller's initial brand preference\n",
    "# * Note 1: Set to uniform\n",
    "primary_modeller_brand_pref = np.array([1, 1, 1], dtype=np.float16)\n",
    "\n",
    "# Normalize the brand preference so that the sum equals 1\n",
    "primary_modeller_brand_pref = primary_modeller_brand_pref / np.sum(primary_modeller_brand_pref)"
   ]
  },
  {
   "cell_type": "code",
   "execution_count": null,
   "metadata": {},
   "outputs": [],
   "source": [
    "# Setting score range\n",
    "\n",
    "# This represents the highest possible score for each feature, i.e., score range = 'best'\n",
    "score_range = 6"
   ]
  },
  {
   "cell_type": "code",
   "execution_count": null,
   "metadata": {},
   "outputs": [],
   "source": [
    "# The values of exponents in Dirichlet distribution must be non-zero,\n",
    "# setting them to a low value\n",
    "\n",
    "# Initial feature weight for the Dirichlet distribution\n",
    "initial_feature_weight = 0.01"
   ]
  },
  {
   "cell_type": "markdown",
   "metadata": {},
   "source": [
    "##### Expert opinons"
   ]
  },
  {
   "cell_type": "markdown",
   "metadata": {},
   "source": [
    "The experts are configured to prefer the brands in the following order:\n",
    "\n",
    " **Brand_1 $\\approx$ Brand_2 $\\approx$ Brand_3**, \n",
    "\n",
    "the scores are set up to similar **<ins>high</ins>** values."
   ]
  },
  {
   "cell_type": "code",
   "execution_count": null,
   "metadata": {},
   "outputs": [],
   "source": [
    "# Simulated experts for Brand_1\n",
    "# Array representing the opinions of 10 simulated experts on Brand_1 for 3 features\n",
    "Brand_1_expert_opinions = np.array([\n",
    "    [6, 5, 6], [5, 5, 5], [6, 5, 5], [5, 5, 6], [6, 6, 6],\n",
    "    [5, 6, 5], [6, 5, 5], [6, 5, 5], [5, 6, 6], [6, 5, 5]\n",
    "], dtype=np.int8)\n",
    "\n",
    "# Simulated experts for Brand_2\n",
    "# Array representing the opinions of 10 simulated experts on Brand_2 for 3 features\n",
    "Brand_2_expert_opinions = np.array([\n",
    "    [5, 6, 5], [6, 5, 5], [6, 5, 6], [5, 6, 5], [6, 6, 5],\n",
    "    [6, 5, 6], [6, 6, 6], [6, 5, 6], [5, 6, 5], [6, 6, 6]\n",
    "], dtype=np.int8)\n",
    "\n",
    "# Simulated experts for Brand_3\n",
    "# Array representing the opinions of 10 simulated experts on Brand_3 for 3 features\n",
    "Brand_3_expert_opinions = np.array([\n",
    "    [5, 5, 6], [6, 5, 6], [6, 6, 6], [6, 6, 6], [6, 5, 6],\n",
    "    [6, 5, 5], [6, 5, 6], [5, 5, 6], [6, 6, 5], [5, 6, 5]\n",
    "], dtype=np.int8)"
   ]
  },
  {
   "cell_type": "code",
   "execution_count": null,
   "metadata": {},
   "outputs": [],
   "source": [
    "# Creating DataFrames for each brand\n",
    "\n",
    "# DataFrame for Brand_1 expert opinions\n",
    "Brand_1_expert_opinions_df = pd.DataFrame(\n",
    "    Brand_1_expert_opinions, \n",
    "    index=[f\"Brand_1 expert {i+1}\" for i in range(10)],  # Setting index as expert identifiers\n",
    "    columns=[\"Feature 1 score\", \"Feature 2 score\", \"Feature 3 score\"]  # Setting the column labels for features\n",
    ")\n",
    "\n",
    "# DataFrame for Brand_2 expert opinions\n",
    "Brand_2_expert_opinions_df = pd.DataFrame(\n",
    "    Brand_2_expert_opinions,\n",
    "    index=[f\"Brand_2 expert {i+1}\" for i in range(10)],  # Setting index as expert identifiers\n",
    "    columns=[\"Feature 1 score\", \"Feature 2 score\", \"Feature 3 score\"]  # Setting the column labels for features\n",
    ")\n",
    "\n",
    "# DataFrame for Brand_3 expert opinions\n",
    "Brand_3_expert_opinions_df = pd.DataFrame(\n",
    "    Brand_3_expert_opinions, \n",
    "    index=[f\"Brand_3 expert {i+1}\" for i in range(10)],  # Setting index as expert identifiers\n",
    "    columns=[\"Feature 1 score\", \"Feature 2 score\", \"Feature 3 score\"]  # Setting the column labels for features\n",
    ")\n"
   ]
  },
  {
   "cell_type": "markdown",
   "metadata": {},
   "source": [
    "<ins>Simple inference of experts opinion of brands</ins>"
   ]
  },
  {
   "cell_type": "code",
   "execution_count": null,
   "metadata": {},
   "outputs": [],
   "source": [
    "# Calculate the mean scores of each expert\n",
    "Brand_1_means = Brand_1_expert_opinions_df.mean(axis=1)\n",
    "Brand_2_means = Brand_2_expert_opinions_df.mean(axis=1)\n",
    "Brand_3_means = Brand_3_expert_opinions_df.mean(axis=1)\n",
    "\n",
    "# Create a box plot for each brand\n",
    "fig, ax = plt.subplots(figsize=(10, 6))\n",
    "\n",
    "ax.boxplot([Brand_1_means, Brand_2_means, Brand_3_means], labels=[\"Brand 1\", \"Brand 2\", \"Brand 3\"], showmeans=True)\n",
    "ax.set_title('Box Plot of Mean Expert Scores for Each Brand', fontsize=15.5)\n",
    "ax.set_ylabel('Mean Score')\n",
    "ax.set_xlabel('Brand')\n",
    "\n",
    "# Adding scatter plot of the observations\n",
    "x_positions = [1, 2, 3]\n",
    "for i, means in enumerate([Brand_1_means, Brand_2_means, Brand_3_means]):\n",
    "    ax.scatter([x_positions[i]] * len(means), means, alpha=0.6, color='blue', s=5)\n",
    "\n",
    "# Save the figure in .eps format\n",
    "# save_path = os.path.join(working_directory, 'Bar_charts', 'brand_mean_scores_boxplot.eps')\n",
    "# plt.tight_layout()\n",
    "# plt.savefig(save_path, format='eps')\n",
    "\n",
    "# Show the plot\n",
    "plt.show()\n"
   ]
  },
  {
   "cell_type": "code",
   "execution_count": null,
   "metadata": {},
   "outputs": [],
   "source": [
    "# Running the simulated example from the auxiliary module\n",
    "\n",
    "# Call the simulated_example function with the provided parameters\n",
    "_, primary_modeller_posterior_updated = auxiliary.simulated_example(\n",
    "    primary_modeller_scores,  # Initial scores given by the primary modeller\n",
    "    opinion_certainty_array,  # Certainty of the primary modeller's opinions\n",
    "    apply_certainty,  # Flag to apply certainty\n",
    "    number_of_responders,  # Number of responders for each brand\n",
    "    trust_matrix,  # Trust matrix representing trust for each responder\n",
    "    primary_modeller_score_preference,  # Primary modeller's score preference for each feature\n",
    "    primary_modeller_brand_pref,  # Distribution representing primary modeller's brand prefference\n",
    "    score_range,  # Highest possible score for each feature\n",
    "    initial_feature_weight,  # Initial feature weight for the Dirichlet distribution\n",
    "    Brand_1_expert_opinions,  # Expert opinions for Brand_1\n",
    "    Brand_2_expert_opinions,  # Expert opinions for Brand_2\n",
    "    Brand_3_expert_opinions  # Expert opinions for Brand_3\n",
    ")\n"
   ]
  },
  {
   "cell_type": "code",
   "execution_count": null,
   "metadata": {},
   "outputs": [],
   "source": [
    "# Create a figure window\n",
    "plt.figure(figsize=(7, 5))\n",
    "\n",
    "# Plot the primary modeller's updated posterior distribution on brands\n",
    "plt.bar(['Brand 1', 'Brand 2', 'Brand 3'], primary_modeller_posterior_updated)\n",
    "\n",
    "# Set the font size for the x-ticks\n",
    "plt.xticks(fontsize=17)\n",
    "\n",
    "# Label the y-axis and set the title\n",
    "plt.ylabel('Probability')\n",
    "plt.title(\"Primary modeller's updated brand preference\", fontsize=18)\n",
    "\n",
    "# Save the plot\n",
    "save_path = os.path.join(working_directory, 'Bar_charts', 'figure_1.eps')\n",
    "plt.tight_layout()\n",
    "plt.savefig(save_path, format='eps')\n",
    "\n",
    "# Display the plot\n",
    "plt.show()\n"
   ]
  },
  {
   "cell_type": "markdown",
   "metadata": {},
   "source": [
    "<ins>The primary modeller's updated brand preference.</ins>"
   ]
  },
  {
   "cell_type": "code",
   "execution_count": null,
   "metadata": {},
   "outputs": [],
   "source": [
    "# Round the values and convert them to percentage strings\n",
    "primary_modeller_posterior_updated_percent = [f\"{value * 100:.2f}%\" for value in primary_modeller_posterior_updated]\n",
    "\n",
    "# Create a DataFrame for the updated posterior percentages\n",
    "primary_modeller_posterior_updated_df = pd.DataFrame(\n",
    "    [primary_modeller_posterior_updated_percent],    # Percentage values as a list\n",
    "    columns=[\"Brand 1\", \"Brand 2\", \"Brand 3\"]         # Column labels for the DataFrame\n",
    ")\n",
    "\n",
    "# Display the DataFrame\n",
    "print(\"The Primary modeller's updated brand preference:\")\n",
    "primary_modeller_posterior_updated_df"
   ]
  },
  {
   "cell_type": "markdown",
   "metadata": {},
   "source": [
    "Comment on this result are at the end of this section."
   ]
  },
  {
   "cell_type": "markdown",
   "metadata": {},
   "source": [
    "### Example 3"
   ]
  },
  {
   "cell_type": "markdown",
   "metadata": {},
   "source": [
    "The experts are configured to prefer the brands in the following order:\n",
    "\n",
    "**Brand_1 $\\approx$ Brand_2 $\\approx$ Brand_3**, \n",
    "                      \n",
    "the scores are set up to similar **<ins>low</ins>** values."
   ]
  },
  {
   "cell_type": "markdown",
   "metadata": {},
   "source": [
    "#### Experiment setup"
   ]
  },
  {
   "cell_type": "markdown",
   "metadata": {},
   "source": [
    "##### Agent"
   ]
  },
  {
   "cell_type": "code",
   "execution_count": null,
   "metadata": {},
   "outputs": [],
   "source": [
    "# Creating a DataFrame with the given data\n",
    "# Index represents phone brands, and columns represent different features\n",
    "primary_modeller_scores_df = pd.DataFrame(\n",
    "    primary_modeller_scores,\n",
    "    index=[\"Brand 1\", \"Brand 2\", \"Brand 3\"],           # Setting the row labels for phone brands\n",
    "    columns=[\"Feature 1\", \"Feature 2\", \"Feature 3\"]  # Setting the column labels for features\n",
    ")\n",
    "\n",
    "# Display the DataFrame\n",
    "primary_modeller_scores_df"
   ]
  },
  {
   "cell_type": "code",
   "execution_count": null,
   "metadata": {},
   "outputs": [],
   "source": [
    "# Setting up the opinion certainty\n",
    "\n",
    "# Array representing the certainty of the primary modeller's opinion for each phone brand\n",
    "# ! Note 1: ones does not equate to no certainty being applied as the opinion certainty is multiplied with number of responders\n",
    "opinion_certainty_array = np.array([1, 1, 1], dtype=np.float16)\n",
    "\n",
    "# Boolean flag to determine if certainty should be applied\n",
    "# * Note 1: This flag is important as setting it to True will ensure that the opinion certainty array is ones.\n",
    "apply_certainty = False\n"
   ]
  },
  {
   "cell_type": "code",
   "execution_count": null,
   "metadata": {},
   "outputs": [],
   "source": [
    "# Setting up the number of responders for each brand so that the opinion\n",
    "# certainty can be applied as many times as the responders responded\n",
    "\n",
    "# Array representing the number of responders for each phone brand\n",
    "number_of_responders = np.array([10, 10, 10], dtype=np.int32)"
   ]
  },
  {
   "cell_type": "code",
   "execution_count": null,
   "metadata": {},
   "outputs": [],
   "source": [
    "# Create a trust matrix with ones, representing equal trust for each responder\n",
    "# The matrix has 3 rows (one for each phone brand) and 10 columns (one for each responder)\n",
    "# * Note 1: Setting trust like this is equivalent to no inclusion of trust\n",
    "trust_matrix = np.ones((3, 10), dtype=np.float16)"
   ]
  },
  {
   "cell_type": "code",
   "execution_count": null,
   "metadata": {},
   "outputs": [],
   "source": [
    "# Primary modeller's score preference for each feature\n",
    "\n",
    "# Array representing the primary modeller's score preference for each feature\n",
    "# * Note 1: This means that scores below the selected scores are not taken into acoount durring the opinion formulation\n",
    "primary_modeller_score_preference = np.array([4, 4, 4], dtype=np.int8)"
   ]
  },
  {
   "cell_type": "code",
   "execution_count": null,
   "metadata": {},
   "outputs": [],
   "source": [
    "# Primary modeller's brand preference\n",
    "\n",
    "# Array representing the primary modeller's initial brand preference\n",
    "# * Note 1: Set to uniform\n",
    "primary_modeller_brand_pref = np.array([1, 1, 1], dtype=np.float32)\n",
    "\n",
    "# Normalize the brand preference so that the sum equals 1\n",
    "primary_modeller_brand_pref = primary_modeller_brand_pref / np.sum(primary_modeller_brand_pref)\n"
   ]
  },
  {
   "cell_type": "code",
   "execution_count": null,
   "metadata": {},
   "outputs": [],
   "source": [
    "# Setting score range\n",
    "\n",
    "# This represents the highest possible score for each feature, i.e., score range = 'best'\n",
    "score_range = 6"
   ]
  },
  {
   "cell_type": "code",
   "execution_count": null,
   "metadata": {},
   "outputs": [],
   "source": [
    "# The values of exponents in Dirichlet distribution must be non-zero,\n",
    "# setting them to a low value\n",
    "\n",
    "# Initial feature weight for the Dirichlet distribution\n",
    "initial_feature_weight = 0.01\n"
   ]
  },
  {
   "cell_type": "markdown",
   "metadata": {},
   "source": [
    "#### Expert opinions"
   ]
  },
  {
   "cell_type": "code",
   "execution_count": null,
   "metadata": {},
   "outputs": [],
   "source": [
    "# Simulated experts for Brand_1\n",
    "# Array representing the opinions of 10 simulated experts on Brand_1 for 3 features\n",
    "Brand_1_expert_opinions = np.array([\n",
    "    [3, 4, 4], [3, 4, 4], [4, 4, 4], [4, 3, 3], [4, 3, 3],\n",
    "    [4, 4, 1], [4, 1, 4], [4, 3, 4], [4, 5, 4], [4, 4, 3]\n",
    "], dtype=np.int8)\n",
    "\n",
    "# Simulated experts for Brand_2\n",
    "# Array representing the opinions of 10 simulated experts on Brand_2 for 3 features\n",
    "Brand_2_expert_opinions = np.array([\n",
    "    [4, 4, 4], [4, 3, 4], [4, 4, 4], [4, 4, 2], [4, 3, 4],\n",
    "    [3, 4, 1], [4, 4, 4], [2, 4, 4], [1, 4, 4], [3, 2, 1]\n",
    "], dtype=np.int8)\n",
    "\n",
    "# Simulated experts for Brand_3\n",
    "# Array representing the opinions of 10 simulated experts on Brand_3 for 3 features\n",
    "Brand_3_expert_opinions = np.array([\n",
    "    [4, 4, 4], [4, 4, 4], [3, 5, 4], [4, 4, 4], [2, 1, 4],\n",
    "    [4, 4, 5], [3, 4, 2], [4, 3, 4], [4, 4, 1], [1, 2, 3]\n",
    "], dtype=np.int8)\n"
   ]
  },
  {
   "cell_type": "code",
   "execution_count": null,
   "metadata": {},
   "outputs": [],
   "source": [
    "# Creating DataFrames for each brand\n",
    "\n",
    "# DataFrame for Brand_1 expert opinions\n",
    "Brand_1_expert_opinions_df = pd.DataFrame(\n",
    "    Brand_1_expert_opinions, \n",
    "    index=[f\"Brand_1 expert {i+1}\" for i in range(10)],  # Setting index as expert identifiers\n",
    "    columns=[\"Feature 1 score\", \"Feature 2 score\", \"Feature 3 score\"]  # Setting the column labels for features\n",
    ")\n",
    "\n",
    "# DataFrame for Brand_2 expert opinions\n",
    "Brand_2_expert_opinions_df = pd.DataFrame(\n",
    "    Brand_2_expert_opinions,\n",
    "    index=[f\"Brand_2 expert {i+1}\" for i in range(10)],  # Setting index as expert identifiers\n",
    "    columns=[\"Feature 1 score\", \"Feature 2 score\", \"Feature 3 score\"]  # Setting the column labels for features\n",
    ")\n",
    "\n",
    "# DataFrame for Brand_3 expert opinions\n",
    "Brand_3_expert_opinions_df = pd.DataFrame(\n",
    "    Brand_3_expert_opinions, \n",
    "    index=[f\"Brand_3 expert {i+1}\" for i in range(10)],  # Setting index as expert identifiers\n",
    "    columns=[\"Feature 1 score\", \"Feature 2 score\", \"Feature 3 score\"]  # Setting the column labels for features\n",
    ")\n"
   ]
  },
  {
   "cell_type": "markdown",
   "metadata": {},
   "source": [
    "<ins>Simple inference of experts opinion of brands</ins>"
   ]
  },
  {
   "cell_type": "code",
   "execution_count": null,
   "metadata": {},
   "outputs": [],
   "source": [
    "# Calculate the mean scores of each expert\n",
    "Brand_1_means = Brand_1_expert_opinions_df.mean(axis=1)\n",
    "Brand_2_means = Brand_2_expert_opinions_df.mean(axis=1)\n",
    "Brand_3_means = Brand_3_expert_opinions_df.mean(axis=1)\n",
    "\n",
    "# Create a box plot for each brand\n",
    "fig, ax = plt.subplots(figsize=(10, 6))\n",
    "\n",
    "ax.boxplot([Brand_1_means, Brand_2_means, Brand_3_means], labels=[\"Brand 1\", \"Brand 2\", \"Brand 3\"], showmeans=True)\n",
    "ax.set_title('Box Plot of Mean Expert Scores for Each Brand', fontsize=15.5)\n",
    "ax.set_ylabel('Mean Score')\n",
    "ax.set_xlabel('Brand')\n",
    "\n",
    "# Adding scatter plot of the observations\n",
    "x_positions = [1, 2, 3]\n",
    "for i, means in enumerate([Brand_1_means, Brand_2_means, Brand_3_means]):\n",
    "    ax.scatter([x_positions[i]] * len(means), means, alpha=0.6, color='blue', s=5)\n",
    "\n",
    "# Save the figure in .eps format\n",
    "\n",
    "# save_path = os.path.join(working_directory, 'Bar_charts', 'brand_mean_scores_boxplot.eps')\n",
    "# plt.tight_layout()\n",
    "# plt.savefig(save_path, format='eps')\n",
    "\n",
    "# Show the plot\n",
    "plt.show()\n"
   ]
  },
  {
   "cell_type": "code",
   "execution_count": null,
   "metadata": {},
   "outputs": [],
   "source": [
    "# Running the simulated example from the auxiliary module\n",
    "\n",
    "# Call the simulated_example function with the provided parameters\n",
    "_, primary_modeller_posterior_updated = auxiliary.simulated_example(\n",
    "    primary_modeller_scores,  # Initial scores given by the primary modeller\n",
    "    opinion_certainty_array,  # Certainty of the primary modeller's opinions\n",
    "    apply_certainty,  # Flag to apply certainty\n",
    "    number_of_responders,  # Number of responders for each brand\n",
    "    trust_matrix,  # Trust matrix representing trust for each responder\n",
    "    primary_modeller_score_preference,  # Primary modeller's score preference for each feature\n",
    "    primary_modeller_brand_pref,  # Distribution representing primary modeller's brand prefference\n",
    "    score_range,  # Highest possible score for each feature\n",
    "    initial_feature_weight,  # Initial feature weight for the Dirichlet distribution\n",
    "    Brand_1_expert_opinions,  # Expert opinions for Brand_1\n",
    "    Brand_2_expert_opinions,  # Expert opinions for Brand_2\n",
    "    Brand_3_expert_opinions  # Expert opinions for Brand_3\n",
    ")\n"
   ]
  },
  {
   "cell_type": "code",
   "execution_count": null,
   "metadata": {},
   "outputs": [],
   "source": [
    "# Create a figure window\n",
    "plt.figure(figsize=(7, 5))\n",
    "\n",
    "# Plot the primary modeller's updated posterior distribution on brands\n",
    "plt.bar(['Brand 1', 'Brand 2', 'Brand 3'], primary_modeller_posterior_updated)\n",
    "\n",
    "# Set the font size for the x-ticks\n",
    "plt.xticks(fontsize=17)\n",
    "\n",
    "# Label the y-axis and set the title\n",
    "plt.ylabel('Probability')\n",
    "plt.title(\"Primary modeller's updated brand preference\", fontsize=18)\n",
    "\n",
    "# Save the plot\n",
    "save_path = os.path.join(working_directory, 'Bar_charts', 'figure_2.eps')\n",
    "plt.tight_layout()\n",
    "plt.savefig(save_path, format='eps')\n",
    "\n",
    "# Display the plot\n",
    "plt.show()"
   ]
  },
  {
   "cell_type": "markdown",
   "metadata": {},
   "source": [
    "<ins>The primary modeller's updated brand preference.</ins>"
   ]
  },
  {
   "cell_type": "code",
   "execution_count": null,
   "metadata": {},
   "outputs": [],
   "source": [
    "# Round the values and convert them to percentage strings\n",
    "primary_modeller_posterior_updated_percent = [f\"{value * 100:.2f}%\" for value in primary_modeller_posterior_updated]\n",
    "\n",
    "# Create a DataFrame for the updated posterior percentages\n",
    "primary_modeller_posterior_updated_df = pd.DataFrame(\n",
    "    [primary_modeller_posterior_updated_percent],    # Percentage values as a list\n",
    "    columns=[\"Brand 1\", \"Brand 2\", \"Brand 3\"]         # Column labels for the DataFrame\n",
    ")\n",
    "\n",
    "# Display the DataFrame\n",
    "print(\"The Primary modeller's updated brand preference:\")\n",
    "primary_modeller_posterior_updated_df"
   ]
  },
  {
   "cell_type": "markdown",
   "metadata": {},
   "source": [
    "The results of the last two experiments show only a minor difference in the final brand preference. However, it was expected that the primary modeller's opinion would have a stronger influence, pushing the preference towards the following order: **Brand_2 > Brand_1 > Brand_3**.\n",
    "\n",
    "This is attributed to the fact that each expert's contribution to the updated weight $V_{f_{j,b}}$ has a magnitude of +1, and the primary modeller's contribution is also + 1. The cumulative effect of the experts' contributions diminishes the impact of the primary modeller's opinion.\n",
    "\n",
    "To address this, the magnitude of the primary modeller's weights $n_{f_{1,b}}$ needs to be adjusted to ensure that the primary modeller's opinion is not diminished. Further elaboration on this adjustment will be provided in the section titled 'Inclusion of Opinion Certainty' below."
   ]
  },
  {
   "cell_type": "markdown",
   "metadata": {},
   "source": [
    "## Inclusion of trust\n",
    "In this section, we are examining the integration of trust $t_{I,E_{i}}$, into each expert's $E_{i}$ opinion.  The previously mentioned issue still exists and will be addressed later.\n",
    "For now, the primary modeller's opinion will be de-emphasized. This approach allows for a more precise demonstration of trust inclusion, free from any bias introduced by the primary modeller's opinion.\n",
    "For simplicity, the setup of the following two experiments is the same as in the first example from the previous section."
   ]
  },
  {
   "cell_type": "markdown",
   "metadata": {},
   "source": [
    "### Example 1\n",
    "We start by configuring low trust values $t_{I,E_{i}}$ for experts reacting to the Brand_1 brand and high trust values for experts reacting to Brand_2 and Brand_3. The expected outcome is that the preferred brand should be Brand_2, since it has similar score values provided by the experts' $E_{i}$ as Brand_1, with Brand_2 being slightly less favoured."
   ]
  },
  {
   "cell_type": "markdown",
   "metadata": {},
   "source": [
    "#### Experiment setup"
   ]
  },
  {
   "cell_type": "markdown",
   "metadata": {},
   "source": [
    "##### Agent"
   ]
  },
  {
   "cell_type": "code",
   "execution_count": null,
   "metadata": {},
   "outputs": [],
   "source": [
    "# The primary modeller's opinion\n",
    "\n",
    "# Array representing the scores given by the primary modeller for different phone brands and features\n",
    "# * Note 1: This array represents primary modellers opinion\n",
    "primary_modeller_scores = np.array([\n",
    "    [5, 4, 5],  # Scores for Brand_1\n",
    "    [6, 5, 6],  # Scores for Brand_2\n",
    "    [4, 4, 3]   # Scores for Brand_3\n",
    "], dtype=np.int8)"
   ]
  },
  {
   "cell_type": "code",
   "execution_count": null,
   "metadata": {},
   "outputs": [],
   "source": [
    "# Creating a DataFrame with the given data\n",
    "# Index represents phone brands, and columns represent different features\n",
    "primary_modeller_scores_df = pd.DataFrame(\n",
    "    primary_modeller_scores,\n",
    "    index=[\"Brand 1\", \"Brand 2\", \"Brand 3\"],           # Setting the row labels for phone brands\n",
    "    columns=[\"Feature 1\", \"Feature 2\", \"Feature 3\"]  # Setting the column labels for features\n",
    ")\n",
    "\n",
    "# Display the DataFrame\n",
    "primary_modeller_scores_df"
   ]
  },
  {
   "cell_type": "code",
   "execution_count": null,
   "metadata": {},
   "outputs": [],
   "source": [
    "# Setting up the opinion certainty\n",
    "\n",
    "# Array representing the certainty of the primary modeller's opinion for each phone brand\n",
    "# ! Note 1: ones does not equate to no certainty being applied as the opinion certainty is multiplied with number of responders\n",
    "opinion_certainty_array = np.array([1, 1, 1], dtype=np.float16)\n",
    "\n",
    "# Boolean flag to determine if certainty should be applied\n",
    "# * Note 1: This flag is important as setting it to True will ensure that the opinion certainty array is ones.\n",
    "apply_certainty = False"
   ]
  },
  {
   "cell_type": "code",
   "execution_count": null,
   "metadata": {},
   "outputs": [],
   "source": [
    "# Setting up the number of responders for each brand so that the opinion\n",
    "# certainty can be applied as many times as the responders responded\n",
    "\n",
    "# Array representing the number of responders for each phone brand\n",
    "number_of_responders = np.array([10, 10, 10], dtype=np.int32)"
   ]
  },
  {
   "cell_type": "code",
   "execution_count": null,
   "metadata": {},
   "outputs": [],
   "source": [
    "# Setting up trust in experts' opinions\n",
    "\n",
    "# Trust matrix representing the trust levels for each expert's opinion\n",
    "# Rows represent phone brands (Brand_1, Brand_2, Brand_3)\n",
    "# Columns represent individual experts' trust levels\n",
    "trust_matrix = np.array([\n",
    "    [0.8, 0.9, 0.3, 0.7, 0.2, 0.2, 0.3, 0.5, 0.4, 0.9],  # Trust levels for Brand_1 experts\n",
    "    [0.9, 0.9, 0.3, 0.3, 0.7, 0.7, 0.9, 0.9, 0.4, 0.4],  # Trust levels for Brand_2 experts\n",
    "    [0.9, 0.7, 0.8, 0.8, 0.9, 0.8, 0.7, 0.7, 0.8, 0.9]   # Trust levels for Brand_3 experts\n",
    "], dtype=np.float32)"
   ]
  },
  {
   "cell_type": "code",
   "execution_count": null,
   "metadata": {},
   "outputs": [],
   "source": [
    "# Primary modeller's score preference for each feature\n",
    "\n",
    "# Array representing the primary modeller's score preference for each feature\n",
    "# * Note 1: This means that scores below the selected scores are not taken into acoount durring the opinion formulation\n",
    "primary_modeller_score_preference = np.array([4, 4, 4], dtype=np.int8)"
   ]
  },
  {
   "cell_type": "code",
   "execution_count": null,
   "metadata": {},
   "outputs": [],
   "source": [
    "# Primary modeller's brand preference\n",
    "\n",
    "# Array representing the primary modeller's initial brand preference\n",
    "# * Note 1: Set to uniform\n",
    "primary_modeller_brand_pref = np.array([1, 1, 1], dtype=np.float32)\n",
    "\n",
    "# Normalize the brand preference so that the sum equals 1\n",
    "primary_modeller_brand_pref = primary_modeller_brand_pref / np.sum(primary_modeller_brand_pref)"
   ]
  },
  {
   "cell_type": "code",
   "execution_count": null,
   "metadata": {},
   "outputs": [],
   "source": [
    "# Setting score range\n",
    "\n",
    "# This represents the highest possible score for each feature, i.e., score range = 'best'\n",
    "score_range = 6"
   ]
  },
  {
   "cell_type": "code",
   "execution_count": null,
   "metadata": {},
   "outputs": [],
   "source": [
    "# The values of exponents in Dirichlet distribution must be non-zero,\n",
    "# setting them to a low value\n",
    "\n",
    "# Initial feature weight for the Dirichlet distribution\n",
    "initial_feature_weight = 0.01"
   ]
  },
  {
   "cell_type": "markdown",
   "metadata": {},
   "source": [
    "#### Expert opinions"
   ]
  },
  {
   "cell_type": "markdown",
   "metadata": {},
   "source": [
    "The opinion's of individual experts $E_{i}$ for each brand $b\\in{B}$."
   ]
  },
  {
   "cell_type": "code",
   "execution_count": null,
   "metadata": {},
   "outputs": [],
   "source": [
    "# Simulated experts for Brand_1\n",
    "# Array representing the opinions of 10 simulated experts on Brand_1 for 3 features\n",
    "Brand_1_expert_opinions = np.array([\n",
    "    [4, 3, 4], [5, 3, 5], [5, 6, 5], [6, 5, 3], [6, 6, 6], \n",
    "    [5, 6, 5], [6, 6, 5], [6, 3, 4], [4, 5, 4], [6, 4, 3]\n",
    "], dtype=np.int8)\n",
    "\n",
    "# Simulated experts for Brand_2\n",
    "# Array representing the opinions of 10 simulated experts on Brand_2 for 3 features\n",
    "Brand_2_expert_opinions = np.array([\n",
    "    [5, 5, 5], [5, 6, 5], [3, 4, 4], [3, 4, 5], [4, 5, 5], \n",
    "    [5, 6, 4], [6, 6, 6], [5, 6, 6], [4, 3, 4], [4, 6, 3]\n",
    "], dtype=np.int8)\n",
    "\n",
    "# Simulated experts for Brand_3\n",
    "# Array representing the opinions of 10 simulated experts on Brand_3 for 3 features\n",
    "Brand_3_expert_opinions = np.array([\n",
    "    [3, 4, 3], [3, 3, 4], [4, 3, 4], [3, 3, 3], [5, 4, 3], \n",
    "    [3, 5, 5], [4, 5, 6], [4, 3, 2], [3, 4, 3], [4, 3, 4]\n",
    "], dtype=np.int8)"
   ]
  },
  {
   "cell_type": "code",
   "execution_count": null,
   "metadata": {},
   "outputs": [],
   "source": [
    "# Creating DataFrames for each brand\n",
    "\n",
    "# DataFrame for Brand_1 expert opinions\n",
    "Brand_1_expert_opinions_df = pd.DataFrame(\n",
    "    Brand_1_expert_opinions, \n",
    "    index=[f\"Brand_1 expert {i+1}\" for i in range(10)],  # Setting index as expert identifiers\n",
    "    columns=[\"Feature 1 score\", \"Feature 2 score\", \"Feature 3 score\"]  # Setting the column labels for features\n",
    ")\n",
    "\n",
    "# DataFrame for Brand_2 expert opinions\n",
    "Brand_2_expert_opinions_df = pd.DataFrame(\n",
    "    Brand_2_expert_opinions,\n",
    "    index=[f\"Brand_2 expert {i+1}\" for i in range(10)],  # Setting index as expert identifiers\n",
    "    columns=[\"Feature 1 score\", \"Feature 2 score\", \"Feature 3 score\"]  # Setting the column labels for features\n",
    ")\n",
    "\n",
    "# DataFrame for Brand_3 expert opinions\n",
    "Brand_3_expert_opinions_df = pd.DataFrame(\n",
    "    Brand_3_expert_opinions, \n",
    "    index=[f\"Brand_3 expert {i+1}\" for i in range(10)],  # Setting index as expert identifiers\n",
    "    columns=[\"Feature 1 score\", \"Feature 2 score\", \"Feature 3 score\"]  # Setting the column labels for features\n",
    ")\n"
   ]
  },
  {
   "cell_type": "markdown",
   "metadata": {},
   "source": [
    "<ins>Simple inference of experts opinion of brands</ins>"
   ]
  },
  {
   "cell_type": "code",
   "execution_count": null,
   "metadata": {},
   "outputs": [],
   "source": [
    "# Calculate the mean scores of each expert\n",
    "Brand_1_means = Brand_1_expert_opinions_df.mean(axis=1)\n",
    "Brand_2_means = Brand_2_expert_opinions_df.mean(axis=1)\n",
    "Brand_3_means = Brand_3_expert_opinions_df.mean(axis=1)\n",
    "\n",
    "# Create a box plot for each brand\n",
    "fig, ax = plt.subplots(figsize=(10, 6))\n",
    "\n",
    "ax.boxplot([Brand_1_means, Brand_2_means, Brand_3_means], labels=[\"Brand 1\", \"Brand 2\", \"Brand 3\"], showmeans=True)\n",
    "ax.set_title('Box Plot of Mean Expert Scores for Each Brand', fontsize=15.5)\n",
    "ax.set_ylabel('Mean Score')\n",
    "ax.set_xlabel('Brand')\n",
    "\n",
    "# Adding scatter plot of the observations\n",
    "x_positions = [1, 2, 3]\n",
    "for i, means in enumerate([Brand_1_means, Brand_2_means, Brand_3_means]):\n",
    "    ax.scatter([x_positions[i]] * len(means), means, alpha=0.6, color='blue', s=5)\n",
    "\n",
    "# Save the figure in .eps format\n",
    "\n",
    "# save_path = os.path.join(working_directory, 'Bar_charts', 'brand_mean_scores_boxplot.eps')\n",
    "# plt.tight_layout()\n",
    "# plt.savefig(save_path, format='eps')\n",
    "\n",
    "# Show the plot\n",
    "plt.show()\n"
   ]
  },
  {
   "cell_type": "code",
   "execution_count": null,
   "metadata": {},
   "outputs": [],
   "source": [
    "# Running the simulated example from the auxiliary module\n",
    "\n",
    "# Call the simulated_example function with the provided parameters\n",
    "_, primary_modeller_posterior_updated = auxiliary.simulated_example(\n",
    "    primary_modeller_scores,  # Initial scores given by the primary modeller\n",
    "    opinion_certainty_array,  # Certainty of the primary modeller's opinions\n",
    "    apply_certainty,  # Flag to apply certainty\n",
    "    number_of_responders,  # Number of responders for each brand\n",
    "    trust_matrix,  # Trust matrix representing trust for each responder\n",
    "    primary_modeller_score_preference,  # Primary modeller's score preference for each feature\n",
    "    primary_modeller_brand_pref,  # Distribution representing primary modeller's brand prefference\n",
    "    score_range,  # Highest possible score for each feature\n",
    "    initial_feature_weight,  # Initial feature weight for the Dirichlet distribution\n",
    "    Brand_1_expert_opinions,  # Expert opinions for Brand_1\n",
    "    Brand_2_expert_opinions,  # Expert opinions for Brand_2\n",
    "    Brand_3_expert_opinions  # Expert opinions for Brand_3\n",
    ")"
   ]
  },
  {
   "cell_type": "code",
   "execution_count": null,
   "metadata": {},
   "outputs": [],
   "source": [
    "# Create a figure window\n",
    "plt.figure(figsize=(7, 5))\n",
    "\n",
    "# Plot the primary modeller's updated posterior distribution on brands\n",
    "plt.bar(['Brand 1', 'Brand 2', 'Brand 3'], primary_modeller_posterior_updated)\n",
    "\n",
    "# Set the font size for the x-ticks\n",
    "plt.xticks(fontsize=17)\n",
    "\n",
    "# Label the y-axis and set the title\n",
    "plt.ylabel('Probability')\n",
    "plt.title(\"Primary modeller's updated brand preference\", fontsize=18)\n",
    "\n",
    "# Save the plot\n",
    "save_path = os.path.join(working_directory, 'Bar_charts', 'figure_3.eps')\n",
    "plt.tight_layout()\n",
    "plt.savefig(save_path, format='eps')\n",
    "\n",
    "# Display the plot\n",
    "plt.show()"
   ]
  },
  {
   "cell_type": "markdown",
   "metadata": {},
   "source": [
    "<ins>The primary modeller's updated brand preference.</ins>"
   ]
  },
  {
   "cell_type": "code",
   "execution_count": null,
   "metadata": {},
   "outputs": [],
   "source": [
    "# Round the values and convert them to percentage strings\n",
    "primary_modeller_posterior_updated_percent = [f\"{value * 100:.2f}%\" for value in primary_modeller_posterior_updated]\n",
    "\n",
    "# Create a DataFrame for the updated posterior percentages\n",
    "primary_modeller_posterior_updated_df = pd.DataFrame(\n",
    "    [primary_modeller_posterior_updated_percent],    # Percentage values as a list\n",
    "    columns=[\"Brand 1\", \"Brand 2\", \"Brand 3\"]         # Column labels for the DataFrame\n",
    ")\n",
    "\n",
    "# Display the DataFrame\n",
    "print(\"The Primary modeller's updated brand preference:\")\n",
    "primary_modeller_posterior_updated_df"
   ]
  },
  {
   "cell_type": "markdown",
   "metadata": {},
   "source": [
    "### Example 2\n",
    "Setting the trust $t_{I,E_{i}}$ for experts reacting to Brand_1 and Brand_2 brands to low values and to high values for Brand_3. The preferred brand should be Brand_3."
   ]
  },
  {
   "cell_type": "markdown",
   "metadata": {},
   "source": [
    "#### Experiment setup"
   ]
  },
  {
   "cell_type": "markdown",
   "metadata": {},
   "source": [
    "##### Agent"
   ]
  },
  {
   "cell_type": "code",
   "execution_count": null,
   "metadata": {},
   "outputs": [],
   "source": [
    "# The primary modeller's opinion\n",
    "\n",
    "# Array representing the scores given by the primary modeller for different phone brands and features\n",
    "# * Note 1: This array represents primary modellers opinion\n",
    "primary_modeller_scores = np.array([\n",
    "    [5, 4, 5],  # Scores for Brand_1\n",
    "    [6, 5, 6],  # Scores for Brand_2\n",
    "    [4, 4, 3]   # Scores for Brand_3\n",
    "], dtype=np.int8)"
   ]
  },
  {
   "cell_type": "code",
   "execution_count": null,
   "metadata": {},
   "outputs": [],
   "source": [
    "# Creating a DataFrame with the given data\n",
    "# Index represents phone brands, and columns represent different features\n",
    "primary_modeller_scores_df = pd.DataFrame(\n",
    "    primary_modeller_scores,\n",
    "    index=[\"Brand 1\", \"Brand 2\", \"Brand 3\"],  # Setting the row labels for phone brands\n",
    "    columns=[\"Feature 1\", \"Feature 2\", \"Feature 3\"]  # Setting the column labels for features\n",
    ")\n",
    "\n",
    "# Display the DataFrame\n",
    "primary_modeller_scores_df"
   ]
  },
  {
   "cell_type": "code",
   "execution_count": null,
   "metadata": {},
   "outputs": [],
   "source": [
    "# Setting up the opinion certainty\n",
    "\n",
    "# Array representing the certainty of the primary modeller's opinion for each phone brand\n",
    "# ! Note 1: ones does not equate to no certainty being applied as the opinion certainty is multiplied with number of responders\n",
    "opinion_certainty_array = np.array([1, 1, 1], dtype=np.float16)\n",
    "\n",
    "# Boolean flag to determine if certainty should be applied\n",
    "# * Note 1: This flag is important as setting it to True will ensure that the opinion certainty array is ones.\n",
    "apply_certainty = False"
   ]
  },
  {
   "cell_type": "code",
   "execution_count": null,
   "metadata": {},
   "outputs": [],
   "source": [
    "# Setting up the number of responders for each brand so that the opinion\n",
    "# certainty can be applied as many times as the responders responded\n",
    "\n",
    "# Array representing the number of responders for each phone brand\n",
    "number_of_responders = np.array([10, 10, 10], dtype=np.int32)"
   ]
  },
  {
   "cell_type": "code",
   "execution_count": null,
   "metadata": {},
   "outputs": [],
   "source": [
    "# Setting up trust in experts' opinions\n",
    "\n",
    "# Trust matrix representing the trust levels for each expert's opinion\n",
    "# Rows represent phone brands (Brand_1, Brand_2, Brand_3)\n",
    "# Columns represent individual experts' trust levels\n",
    "trust_matrix = np.array([\n",
    "    [0.8, 0.9, 0.5, 0.9, 0.2, 0.2, 0.2, 0.5, 0.4, 0.9],  # Trust levels for Brand_1 experts\n",
    "    [0.3, 0.3, 0.9, 0.9, 0.5, 0.5, 0.2, 0.2, 0.8, 0.8],  # Trust levels for Brand_2 experts\n",
    "    [0.5, 0.7, 0.9, 0.2, 0.9, 0.8, 0.9, 0.7, 0.8, 0.9]   # Trust levels for Brand_3 experts\n",
    "], dtype=np.float32)"
   ]
  },
  {
   "cell_type": "code",
   "execution_count": null,
   "metadata": {},
   "outputs": [],
   "source": [
    "# Primary modeller's score preference for each feature\n",
    "\n",
    "# Array representing the primary modeller's score preference for each feature\n",
    "# * Note 1: This means that scores below the selected scores are not taken into acoount durring the opinion formulation\n",
    "primary_modeller_score_preference = np.array([4, 4, 4], dtype=np.int8)"
   ]
  },
  {
   "cell_type": "code",
   "execution_count": null,
   "metadata": {},
   "outputs": [],
   "source": [
    "# Primary modeller's brand preference\n",
    "\n",
    "# Array representing the primary modeller's initial brand preference\n",
    "# * Note 1: Set to uniform\n",
    "primary_modeller_brand_pref = np.array([1, 1, 1], dtype=np.float32)\n",
    "\n",
    "# Normalize the brand preference so that the sum equals 1\n",
    "primary_modeller_brand_pref = primary_modeller_brand_pref / np.sum(primary_modeller_brand_pref)"
   ]
  },
  {
   "cell_type": "code",
   "execution_count": null,
   "metadata": {},
   "outputs": [],
   "source": [
    "# Setting score range\n",
    "\n",
    "# This represents the highest possible score for each feature, i.e., score range = 'best'\n",
    "score_range = 6"
   ]
  },
  {
   "cell_type": "code",
   "execution_count": null,
   "metadata": {},
   "outputs": [],
   "source": [
    "# The values of exponents in Dirichlet distribution must be non-zero,\n",
    "# setting them to a low value\n",
    "\n",
    "# Initial feature weight for the Dirichlet distribution\n",
    "initial_feature_weight = 0.01"
   ]
  },
  {
   "cell_type": "markdown",
   "metadata": {},
   "source": [
    "##### Expert opinions"
   ]
  },
  {
   "cell_type": "code",
   "execution_count": null,
   "metadata": {},
   "outputs": [],
   "source": [
    "# Simulated experts for Brand_1\n",
    "# Array representing the opinions of 10 simulated experts on Brand_1 for 3 features\n",
    "Brand_1_expert_opinions = np.array([\n",
    "    [4, 3, 4], [5, 3, 5], [5, 6, 5], [6, 5, 3], [6, 6, 6], \n",
    "    [5, 6, 5], [6, 6, 5], [6, 3, 4], [4, 5, 4], [6, 4, 3]\n",
    "], dtype=np.int8)\n",
    "\n",
    "# Simulated experts for Brand_2\n",
    "# Array representing the opinions of 10 simulated experts on Brand_2 for 3 features\n",
    "Brand_2_expert_opinions = np.array([\n",
    "    [5, 5, 5], [5, 6, 5], [3, 4, 4], [3, 4, 5], [4, 5, 5], \n",
    "    [5, 6, 4], [6, 6, 6], [5, 6, 6], [4, 3, 4], [4, 6, 3]\n",
    "], dtype=np.int8)\n",
    "\n",
    "# Simulated experts for Brand_3\n",
    "# Array representing the opinions of 10 simulated experts on Brand_3 for 3 features\n",
    "Brand_3_expert_opinions = np.array([\n",
    "    [3, 4, 3], [3, 3, 4], [4, 3, 4], [3, 3, 3], [5, 4, 3], \n",
    "    [3, 5, 5], [4, 5, 6], [4, 3, 2], [3, 4, 3], [4, 3, 4]\n",
    "], dtype=np.int8)\n"
   ]
  },
  {
   "cell_type": "code",
   "execution_count": null,
   "metadata": {},
   "outputs": [],
   "source": [
    "# Creating DataFrames for each brand\n",
    "\n",
    "# DataFrame for Brand_1 expert opinions\n",
    "Brand_1_expert_opinions_df = pd.DataFrame(\n",
    "    Brand_1_expert_opinions, \n",
    "    index=[f\"Brand_1 expert {i+1}\" for i in range(10)],  # Setting index as expert identifiers\n",
    "    columns=[\"Feature 1 score\", \"Feature 2 score\", \"Feature 3 score\"]  # Setting the column labels for features\n",
    ")\n",
    "\n",
    "# DataFrame for Brand_2 expert opinions\n",
    "Brand_2_expert_opinions_df = pd.DataFrame(\n",
    "    Brand_2_expert_opinions,\n",
    "    index=[f\"Brand_2 expert {i+1}\" for i in range(10)],  # Setting index as expert identifiers\n",
    "    columns=[\"Feature 1 score\", \"Feature 2 score\", \"Feature 3 score\"]  # Setting the column labels for features\n",
    ")\n",
    "\n",
    "# DataFrame for Brand_3 expert opinions\n",
    "Brand_3_expert_opinions_df = pd.DataFrame(\n",
    "    Brand_3_expert_opinions, \n",
    "    index=[f\"Brand_3 expert {i+1}\" for i in range(10)],  # Setting index as expert identifiers\n",
    "    columns=[\"Feature 1 score\", \"Feature 2 score\", \"Feature 3 score\"]  # Setting the column labels for features\n",
    ")\n"
   ]
  },
  {
   "cell_type": "markdown",
   "metadata": {},
   "source": [
    "<ins>Simple inference of experts opinion of brands</ins>"
   ]
  },
  {
   "cell_type": "code",
   "execution_count": null,
   "metadata": {},
   "outputs": [],
   "source": [
    "# Calculate the mean scores of each expert\n",
    "Brand_1_means = Brand_1_expert_opinions_df.mean(axis=1)\n",
    "Brand_2_means = Brand_2_expert_opinions_df.mean(axis=1)\n",
    "Brand_3_means = Brand_3_expert_opinions_df.mean(axis=1)\n",
    "\n",
    "# Create a box plot for each brand\n",
    "fig, ax = plt.subplots(figsize=(10, 6))\n",
    "\n",
    "ax.boxplot([Brand_1_means, Brand_2_means, Brand_3_means], labels=[\"Brand 1\", \"Brand 2\", \"Brand 3\"], showmeans=True)\n",
    "ax.set_title('Box Plot of Mean Expert Scores for Each Brand', fontsize=15.5)\n",
    "ax.set_ylabel('Mean Score')\n",
    "ax.set_xlabel('Brand')\n",
    "\n",
    "# Adding scatter plot of the observations\n",
    "x_positions = [1, 2, 3]\n",
    "for i, means in enumerate([Brand_1_means, Brand_2_means, Brand_3_means]):\n",
    "    ax.scatter([x_positions[i]] * len(means), means, alpha=0.6, color='blue', s=5)\n",
    "\n",
    "# Save the figure in .eps format\n",
    "\n",
    "# save_path = os.path.join(working_directory, 'Bar_charts', 'brand_mean_scores_boxplot.eps')\n",
    "# plt.tight_layout()\n",
    "# plt.savefig(save_path, format='eps')\n",
    "\n",
    "# Show the plot\n",
    "plt.show()\n"
   ]
  },
  {
   "cell_type": "code",
   "execution_count": null,
   "metadata": {},
   "outputs": [],
   "source": [
    "# Running the simulated example from the auxiliary module\n",
    "\n",
    "# Call the simulated_example function with the provided parameters\n",
    "_, primary_modeller_posterior_updated = auxiliary.simulated_example(\n",
    "    primary_modeller_scores,  # Initial scores given by the primary modeller\n",
    "    opinion_certainty_array,  # Certainty of the primary modeller's opinions\n",
    "    apply_certainty,  # Flag to apply certainty\n",
    "    number_of_responders,  # Number of responders for each brand\n",
    "    trust_matrix,  # Trust matrix representing trust for each responder\n",
    "    primary_modeller_score_preference,  # Primary modeller's score preference for each feature\n",
    "    primary_modeller_brand_pref,  # Distribution representing primary modeller's brand prefference\n",
    "    score_range,  # Highest possible score for each feature\n",
    "    initial_feature_weight,  # Initial feature weight for the Dirichlet distribution\n",
    "    Brand_1_expert_opinions,  # Expert opinions for Brand_1\n",
    "    Brand_2_expert_opinions,  # Expert opinions for Brand_2\n",
    "    Brand_3_expert_opinions  # Expert opinions for Brand_3\n",
    ")\n"
   ]
  },
  {
   "cell_type": "code",
   "execution_count": null,
   "metadata": {},
   "outputs": [],
   "source": [
    "# Create a figure window\n",
    "plt.figure(figsize=(7, 5))\n",
    "\n",
    "# Plot the primary modeller's updated posterior distribution on brands\n",
    "plt.bar(['Brand 1', 'Brand 2', 'Brand 3'], primary_modeller_posterior_updated)\n",
    "\n",
    "# Set the font size for the x-ticks\n",
    "plt.xticks(fontsize=17)\n",
    "\n",
    "# Label the y-axis and set the title\n",
    "plt.ylabel('Probability')\n",
    "plt.title(\"Primary modeller's updated brand preference\", fontsize=18)\n",
    "\n",
    "# Save the plot\n",
    "save_path = os.path.join(working_directory, 'Bar_charts', 'figure_4.eps')\n",
    "plt.tight_layout()\n",
    "plt.savefig(save_path, format='eps')\n",
    "\n",
    "# Display the plot\n",
    "plt.show()"
   ]
  },
  {
   "cell_type": "markdown",
   "metadata": {},
   "source": [
    "<ins>The primary modeller's updated brand preference.</ins>"
   ]
  },
  {
   "cell_type": "code",
   "execution_count": null,
   "metadata": {},
   "outputs": [],
   "source": [
    "# Round the values and convert them to percentage strings\n",
    "primary_modeller_posterior_updated_percent = [f\"{value * 100:.2f}%\" for value in primary_modeller_posterior_updated]\n",
    "\n",
    "# Create a DataFrame for the updated posterior percentages\n",
    "primary_modeller_posterior_updated_df = pd.DataFrame(\n",
    "    [primary_modeller_posterior_updated_percent],    # Percentage values as a list\n",
    "    columns=[\"Brand 1\", \"Brand 2\", \"Brand 3\"]         # Column labels for the DataFrame\n",
    ")\n",
    "\n",
    "# Display the DataFrame\n",
    "print(\"The Primary modeller's updated brand preference:\")\n",
    "primary_modeller_posterior_updated_df"
   ]
  },
  {
   "cell_type": "markdown",
   "metadata": {},
   "source": [
    "The trust process works as intended."
   ]
  },
  {
   "cell_type": "markdown",
   "metadata": {},
   "source": [
    "### Inclusion of certainty\n",
    "This section aims to provide a solution to the problem of setting the primary modeller's initial weights $n_{f_{1,b}}$ so that the primary modeller's opinion is not diminished, this is described in the first three examples. \n",
    "To better demonstrate the proposed solution, the trust values $t_{I,E_{i}} \\in \\langle 0, 1 \\rangle$ are intentionally excluded. When the trust value is not set, it is equivalent to setting the trust $t_{I,E_{i}}$ to the maximum value of 1.\n",
    "In contrast, in the opposite scenario, the weight increments of the experts are generally $t_{I,E_{i}} \\in \\langle 0, 1 \\rangle$, this effect is linearly combined with the value of opinion certainty $c_{I,b,n}$.\n",
    "A simplified solution was deemed to be sufficient.\n",
    "\n",
    "For simplicity, the setup of the following three examples are the same as in the first example from the first section, apart from the setup of the primary modeller's opinion and opinion certainty."
   ]
  },
  {
   "cell_type": "markdown",
   "metadata": {},
   "source": [
    "### Example 1:\n",
    "This example illustrates the impact of the opinion certainty $c_{I,b,n}$ on the final brand ordering. Setting maximum opinion certainty $c_{I,b,n}$ = 1 in the primary modeller's low scores for the Brand_1 brand should lead to the preference for the Brand_2 as the top brand, Brand_3 being the second most preferred brand.\n",
    "\n",
    "The primary modeller's opinion is configured to prefer the brands in the following order:\n",
    "\n",
    "**Brand_2 > Brand_3 > Brand_1**."
   ]
  },
  {
   "cell_type": "markdown",
   "metadata": {},
   "source": [
    "#### Experiment setup"
   ]
  },
  {
   "cell_type": "markdown",
   "metadata": {},
   "source": [
    "##### Agent"
   ]
  },
  {
   "cell_type": "code",
   "execution_count": null,
   "metadata": {},
   "outputs": [],
   "source": [
    "# The primary modeller's opinion\n",
    "\n",
    "# Array representing the scores given by the primary modeller for different phone brands and features\n",
    "# * Note 1: This array represents primary modellers opinion\n",
    "primary_modeller_scores = np.array([\n",
    "    [3, 4, 1],  # Scores for Brand_1\n",
    "    [6, 5, 6],  # Scores for Brand_2\n",
    "    [4, 4, 3]   # Scores for Brand_3\n",
    "], dtype=np.int8)"
   ]
  },
  {
   "cell_type": "code",
   "execution_count": null,
   "metadata": {},
   "outputs": [],
   "source": [
    "# Create a DataFrame\n",
    "primary_modeller_scores_df = pd.DataFrame(\n",
    "    primary_modeller_scores,\n",
    "    index=[\"Brand 1\", \"Brand 2\", \"Brand 3\"],\n",
    "    columns=[\"Feature 1\", \"Feature 2\", \"Feature 3\"]\n",
    ")\n",
    "\n",
    "# Display the DataFrame\n",
    "print(\"The Primary Modellers Scores Table:\")\n",
    "primary_modeller_scores_df"
   ]
  },
  {
   "cell_type": "markdown",
   "metadata": {},
   "source": [
    "The primary modeller's certainty in the opinion $c_{I,b,n}$ for each brand is the following: "
   ]
  },
  {
   "cell_type": "code",
   "execution_count": null,
   "metadata": {},
   "outputs": [],
   "source": [
    "# Setting up the opinion certainty\n",
    "\n",
    "# Array representing the certainty of the primary modeller's opinion for each phone brand\n",
    "opinion_certainty_array = np.array([1, 0.4, 0.1], dtype=np.float16)\n",
    "\n",
    "# Boolean flag to determine if certainty should be applied\n",
    "# * Note 1: This flag is important as setting it to True will ensure that the opinion certainty array is ones.\n",
    "apply_certainty = True\n"
   ]
  },
  {
   "cell_type": "code",
   "execution_count": null,
   "metadata": {},
   "outputs": [],
   "source": [
    "# Round the values and convert them to percentage strings\n",
    "opinion_certainty_percent = [f\"{round(value * 100, 1)}%\" for value in opinion_certainty_array]\n",
    "\n",
    "# Create a DataFrame for opinion certainty percentages\n",
    "opinion_certainty_df = pd.DataFrame(\n",
    "    [opinion_certainty_percent],             # Percentage values as a list\n",
    "    columns=[\"Brand 1\", \"Brand 2\", \"Brand 3\"]  # Column labels for the DataFrame\n",
    ")\n",
    "\n",
    "# Display the DataFrame\n",
    "print(\"Opinion Certainty Table:\")\n",
    "opinion_certainty_df\n"
   ]
  },
  {
   "cell_type": "code",
   "execution_count": null,
   "metadata": {},
   "outputs": [],
   "source": [
    "# Setting up the number of responders for each brand so that the opinion\n",
    "# certainty can be applied as many times as the responders responded\n",
    "\n",
    "# Array representing the number of responders for each phone brand\n",
    "number_of_responders = np.array([10, 10, 10], dtype=np.int32)"
   ]
  },
  {
   "cell_type": "code",
   "execution_count": null,
   "metadata": {},
   "outputs": [],
   "source": [
    "# Create a trust matrix with ones, representing equal trust for each responder\n",
    "# The matrix has 3 rows (one for each phone brand) and 10 columns (one for each responder)\n",
    "# * Note 1: Setting trust like this is equivalent to no inclusion of trust\n",
    "trust_matrix = np.ones((3, 10), dtype=np.float16)"
   ]
  },
  {
   "cell_type": "code",
   "execution_count": null,
   "metadata": {},
   "outputs": [],
   "source": [
    "# Primary modeller's score preference for each feature\n",
    "\n",
    "# Array representing the primary modeller's score preference for each feature\n",
    "# * Note 1: This means that scores below the selected scores are not taken into acoount durring the opinion formulation\n",
    "primary_modeller_score_preference = np.array([4, 4, 4], dtype=np.int8)"
   ]
  },
  {
   "cell_type": "code",
   "execution_count": null,
   "metadata": {},
   "outputs": [],
   "source": [
    "# Primary modeller's brand preference\n",
    "\n",
    "# Array representing the primary modeller's initial brand preference\n",
    "# * Note 1: Set to uniform\n",
    "primary_modeller_brand_pref = np.array([1, 1, 1], dtype=np.float32)\n",
    "\n",
    "# Normalize the brand preference so that the sum equals 1\n",
    "primary_modeller_brand_pref = primary_modeller_brand_pref / np.sum(primary_modeller_brand_pref)\n"
   ]
  },
  {
   "cell_type": "code",
   "execution_count": null,
   "metadata": {},
   "outputs": [],
   "source": [
    "# Setting score range\n",
    "\n",
    "# This represents the highest possible score for each feature, i.e., score range = 'best'\n",
    "score_range = 6"
   ]
  },
  {
   "cell_type": "code",
   "execution_count": null,
   "metadata": {},
   "outputs": [],
   "source": [
    "# The values of exponents in Dirichlet distribution must be non-zero,\n",
    "# setting them to a low value\n",
    "\n",
    "# Initial feature weight for the Dirichlet distribution\n",
    "initial_feature_weight = 0.01\n"
   ]
  },
  {
   "cell_type": "markdown",
   "metadata": {},
   "source": [
    "##### Expert opinions"
   ]
  },
  {
   "cell_type": "markdown",
   "metadata": {},
   "source": [
    "Low values of opinion certainty $c_{I,b,n}$ for Brand_2 and Brand_3, result in higher influence of the experts' opinion on the opinion of the primary modeller. This can be intuitively interpreted as the primary modeller being more receptive to advice from the experts $E_{i}$."
   ]
  },
  {
   "cell_type": "code",
   "execution_count": null,
   "metadata": {},
   "outputs": [],
   "source": [
    "# Simulated experts for Brand_1\n",
    "# Array representing the opinions of 10 simulated experts on Brand_1 for 3 features\n",
    "Brand_1_expert_opinions = np.array([\n",
    "    [4, 3, 4], [5, 3, 5], [5, 6, 5], [6, 5, 3], [6, 6, 6], \n",
    "    [5, 6, 5], [6, 6, 5], [6, 3, 4], [4, 5, 4], [6, 4, 3]\n",
    "], dtype=np.int8)\n",
    "\n",
    "# Simulated experts for Brand_2\n",
    "# Array representing the opinions of 10 simulated experts on Brand_2 for 3 features\n",
    "Brand_2_expert_opinions = np.array([\n",
    "    [5, 5, 5], [5, 6, 5], [3, 4, 4], [3, 4, 5], [4, 5, 5], \n",
    "    [5, 6, 4], [6, 6, 6], [5, 6, 6], [4, 3, 4], [4, 6, 3]\n",
    "], dtype=np.int8)\n",
    "\n",
    "# Simulated experts for Brand_3\n",
    "# Array representing the opinions of 10 simulated experts on Brand_3 for 3 features\n",
    "Brand_3_expert_opinions = np.array([\n",
    "    [3, 4, 3], [3, 3, 4], [4, 3, 4], [3, 3, 3], [5, 4, 3], \n",
    "    [3, 5, 5], [4, 5, 6], [4, 3, 2], [3, 4, 3], [4, 3, 4]\n",
    "], dtype=np.int8)"
   ]
  },
  {
   "cell_type": "code",
   "execution_count": null,
   "metadata": {},
   "outputs": [],
   "source": [
    "# Creating DataFrames for each brand\n",
    "\n",
    "# DataFrame for Brand_1 expert opinions\n",
    "Brand_1_expert_opinions_df = pd.DataFrame(\n",
    "    Brand_1_expert_opinions, \n",
    "    index=[f\"Brand_1 expert {i+1}\" for i in range(10)],  # Setting index as expert identifiers\n",
    "    columns=[\"Feature 1 score\", \"Feature 2 score\", \"Feature 3 score\"]  # Setting the column labels for features\n",
    ")\n",
    "\n",
    "# DataFrame for Brand_2 expert opinions\n",
    "Brand_2_expert_opinions_df = pd.DataFrame(\n",
    "    Brand_2_expert_opinions,\n",
    "    index=[f\"Brand_2 expert {i+1}\" for i in range(10)],  # Setting index as expert identifiers\n",
    "    columns=[\"Feature 1 score\", \"Feature 2 score\", \"Feature 3 score\"]  # Setting the column labels for features\n",
    ")\n",
    "\n",
    "# DataFrame for Brand_3 expert opinions\n",
    "Brand_3_expert_opinions_df = pd.DataFrame(\n",
    "    Brand_3_expert_opinions, \n",
    "    index=[f\"Brand_3 expert {i+1}\" for i in range(10)],  # Setting index as expert identifiers\n",
    "    columns=[\"Feature 1 score\", \"Feature 2 score\", \"Feature 3 score\"]  # Setting the column labels for features\n",
    ")"
   ]
  },
  {
   "cell_type": "markdown",
   "metadata": {},
   "source": [
    "<ins>Simple inference of experts opinion of brands</ins>"
   ]
  },
  {
   "cell_type": "code",
   "execution_count": null,
   "metadata": {},
   "outputs": [],
   "source": [
    "# Calculate the mean scores of each expert\n",
    "Brand_1_means = Brand_1_expert_opinions_df.mean(axis=1)\n",
    "Brand_2_means = Brand_2_expert_opinions_df.mean(axis=1)\n",
    "Brand_3_means = Brand_3_expert_opinions_df.mean(axis=1)\n",
    "\n",
    "# Create a box plot for each brand\n",
    "fig, ax = plt.subplots(figsize=(10, 6))\n",
    "\n",
    "ax.boxplot([Brand_1_means, Brand_2_means, Brand_3_means], labels=[\"Brand 1\", \"Brand 2\", \"Brand 3\"], showmeans=True)\n",
    "ax.set_title('Box Plot of Mean Expert Scores for Each Brand', fontsize=15.5)\n",
    "ax.set_ylabel('Mean Score')\n",
    "ax.set_xlabel('Brand')\n",
    "\n",
    "# Adding scatter plot of the observations\n",
    "x_positions = [1, 2, 3]\n",
    "for i, means in enumerate([Brand_1_means, Brand_2_means, Brand_3_means]):\n",
    "    ax.scatter([x_positions[i]] * len(means), means, alpha=0.6, color='blue', s=5)\n",
    "\n",
    "# Save the figure in .eps format\n",
    "\n",
    "# save_path = os.path.join(working_directory, 'Bar_charts', 'brand_mean_scores_boxplot.eps')\n",
    "# plt.tight_layout()\n",
    "# plt.savefig(save_path, format='eps')\n",
    "\n",
    "# Show the plot\n",
    "plt.show()\n"
   ]
  },
  {
   "cell_type": "code",
   "execution_count": null,
   "metadata": {},
   "outputs": [],
   "source": [
    "# Running the simulated example from the auxiliary module\n",
    "\n",
    "# Call the simulated_example function with the provided parameters\n",
    "_, primary_modeller_posterior_updated = auxiliary.simulated_example(\n",
    "    primary_modeller_scores,  # Initial scores given by the primary modeller\n",
    "    opinion_certainty_array,  # Certainty of the primary modeller's opinions\n",
    "    apply_certainty,  # Flag to apply certainty\n",
    "    number_of_responders,  # Number of responders for each brand\n",
    "    trust_matrix,  # Trust matrix representing trust for each responder\n",
    "    primary_modeller_score_preference,  # Primary modeller's score preference for each feature\n",
    "    primary_modeller_brand_pref,  # Distribution representing primary modeller's brand prefference\n",
    "    score_range,  # Highest possible score for each feature\n",
    "    initial_feature_weight,  # Initial feature weight for the Dirichlet distribution\n",
    "    Brand_1_expert_opinions,  # Expert opinions for Brand_1\n",
    "    Brand_2_expert_opinions,  # Expert opinions for Brand_2\n",
    "    Brand_3_expert_opinions  # Expert opinions for Brand_3\n",
    ")\n"
   ]
  },
  {
   "cell_type": "code",
   "execution_count": null,
   "metadata": {},
   "outputs": [],
   "source": [
    "## Plot primary modeller's initial and updated posterior distribution on brands\n",
    "\n",
    "# Create a figure window with two subplots\n",
    "fig, axes = plt.subplots(1, 1, figsize=(7, 5))\n",
    "\n",
    "# Variable names for the x-ticks\n",
    "variable_names = ['Brand 1', 'Brand 2', 'Brand 3']\n",
    "\n",
    "# Plotting the initial posterior distribution as a bar chart\n",
    "axes.bar(variable_names, primary_modeller_posterior_updated)\n",
    "axes.set_ylabel('Probability')\n",
    "axes.set_title(\"Primary modeller's updated brand preference\", fontsize=15.5)\n",
    "axes.tick_params(axis='x', labelsize=17)\n",
    "\n",
    "# Save the figure\n",
    "save_path = os.path.join(working_directory, 'Bar_charts', 'figure_5.eps')\n",
    "plt.tight_layout()\n",
    "plt.savefig(save_path, format='eps')\n",
    "\n",
    "# Show the plots\n",
    "plt.show()\n",
    "\n",
    "\n"
   ]
  },
  {
   "cell_type": "markdown",
   "metadata": {},
   "source": [
    "<ins>The primary modeller's updated brand preference.</ins>"
   ]
  },
  {
   "cell_type": "code",
   "execution_count": null,
   "metadata": {},
   "outputs": [],
   "source": [
    "# Round the values and convert them to percentage strings\n",
    "primary_modeller_posterior_updated_percent = [f\"{value * 100:.2f}%\" for value in primary_modeller_posterior_updated]\n",
    "\n",
    "# Create a DataFrame for the updated posterior percentages\n",
    "primary_modeller_posterior_updated_df = pd.DataFrame(\n",
    "    [primary_modeller_posterior_updated_percent],    # Percentage values as a list\n",
    "    columns=[\"Brand 1\", \"Brand 2\", \"Brand 3\"]         # Column labels for the DataFrame\n",
    ")\n",
    "\n",
    "# Display the DataFrame\n",
    "print(\"The Primary modeller's updated brand preference:\")\n",
    "primary_modeller_posterior_updated_df"
   ]
  },
  {
   "cell_type": "markdown",
   "metadata": {},
   "source": [
    "The opinion certainty process works as intended in this example."
   ]
  },
  {
   "cell_type": "markdown",
   "metadata": {},
   "source": [
    "### Example 2\n",
    "In this example the maximum opinion certainty $c_{I,b,n}$ = 1 in the primary modeller's low scores for the Brand_1 and Brand_2 brand should lead to the preference for the Brand_3 brand.\n",
    "\n",
    "The primary modeller's opinion is configured to prefer the brands in the following order:\n",
    "\n",
    "**Brand_3 > Brand_2 > Brand_1**. "
   ]
  },
  {
   "cell_type": "markdown",
   "metadata": {},
   "source": [
    "#### Experiment setup"
   ]
  },
  {
   "cell_type": "markdown",
   "metadata": {},
   "source": [
    "##### Agent"
   ]
  },
  {
   "cell_type": "code",
   "execution_count": null,
   "metadata": {},
   "outputs": [],
   "source": [
    "# The primary modeller's opinion\n",
    "\n",
    "# Array representing the scores given by the primary modeller for different phone brands and features\n",
    "# * Note 1: This array represents primary modellers opinion\n",
    "primary_modeller_scores = np.array([\n",
    "    [3, 1, 1],  # Scores for Brand_1\n",
    "    [2, 3, 1],  # Scores for Brand_2\n",
    "    [6, 5, 5]   # Scores for Brand_3\n",
    "], dtype=np.int8)\n"
   ]
  },
  {
   "cell_type": "code",
   "execution_count": null,
   "metadata": {},
   "outputs": [],
   "source": [
    "# Creating a DataFrame with the given data\n",
    "# Index represents phone brands, and columns represent different features\n",
    "primary_modeller_scores_df = pd.DataFrame(\n",
    "    primary_modeller_scores,\n",
    "    index=[\"Brand 1\", \"Brand 2\", \"Brand 3\"],           # Setting the row labels for phone brands\n",
    "    columns=[\"Feature 1\", \"Feature 2\", \"Feature 3\"]  # Setting the column labels for features\n",
    ")\n",
    "\n",
    "# Display the DataFrame\n",
    "primary_modeller_scores_df"
   ]
  },
  {
   "cell_type": "markdown",
   "metadata": {},
   "source": [
    "The primary modeller's certainty in the opinion $c_{I,b,n}$ for each brand is the following: "
   ]
  },
  {
   "cell_type": "code",
   "execution_count": null,
   "metadata": {},
   "outputs": [],
   "source": [
    "# Setting up the opinion certainty\n",
    "\n",
    "# Array representing the certainty of the primary modeller's opinion for each phone brand\n",
    "opinion_certainty_array = np.array([0.2, 0.2, 1], dtype=np.float16)\n",
    "\n",
    "# Boolean flag to determine if certainty should be applied\n",
    "# * Note 1: This flag is important as setting it to True will ensure that the opinion certainty array is ones.\n",
    "apply_certainty = True"
   ]
  },
  {
   "cell_type": "code",
   "execution_count": null,
   "metadata": {},
   "outputs": [],
   "source": [
    "# Round the values and convert them to percentage strings\n",
    "opinion_certainty_percent = [f\"{round(value * 100, 1)}%\" for value in opinion_certainty_array]\n",
    "\n",
    "# Create a DataFrame for opinion certainty percentages\n",
    "opinion_certainty_df = pd.DataFrame(\n",
    "    [opinion_certainty_percent],             # Percentage values as a list\n",
    "    columns=[\"Brand 1\", \"Brand 2\", \"Brand 3\"]  # Column labels for the DataFrame\n",
    ")\n",
    "\n",
    "# Display the DataFrame\n",
    "print(\"Opinion Certainty Table:\")\n",
    "opinion_certainty_df\n"
   ]
  },
  {
   "cell_type": "markdown",
   "metadata": {},
   "source": [
    "Similarly to the previous example, low values of opinion certainty $c_{I,b,n}$ for Brand_1 and Brand_2, result in higher influence of the experts' opinion on the opinion of the primary modeller. This can be intuitively interpreted as the primary modeller being more receptive to advice from the experts $E_{i}$."
   ]
  },
  {
   "cell_type": "code",
   "execution_count": null,
   "metadata": {},
   "outputs": [],
   "source": [
    "# Setting up the number of responders for each brand so that the opinion\n",
    "# certainty can be applied as many times as the responders responded\n",
    "\n",
    "# Array representing the number of responders for each phone brand\n",
    "number_of_responders = np.array([10, 10, 10], dtype=np.int32)"
   ]
  },
  {
   "cell_type": "code",
   "execution_count": null,
   "metadata": {},
   "outputs": [],
   "source": [
    "# Create a trust matrix with ones, representing equal trust for each responder\n",
    "# The matrix has 3 rows (one for each phone brand) and 10 columns (one for each responder)\n",
    "# * Note 1: Setting trust like this is equivalent to no inclusion of trust\n",
    "trust_matrix = np.ones((3, 10), dtype=np.float16)"
   ]
  },
  {
   "cell_type": "code",
   "execution_count": null,
   "metadata": {},
   "outputs": [],
   "source": [
    "# Primary modeller's score preference for each feature\n",
    "\n",
    "# Array representing the primary modeller's score preference for each feature\n",
    "# * Note 1: This means that scores below the selected scores are not taken into acoount durring the opinion formulation\n",
    "primary_modeller_score_preference = np.array([4, 4, 4], dtype=np.int8)"
   ]
  },
  {
   "cell_type": "code",
   "execution_count": null,
   "metadata": {},
   "outputs": [],
   "source": [
    "# Primary modeller's brand preference\n",
    "\n",
    "# Array representing the primary modeller's initial brand preference\n",
    "# * Note 1: Set to uniform\n",
    "primary_modeller_brand_pref = np.array([1, 1, 1], dtype=np.float32)\n",
    "\n",
    "# Normalize the brand preference so that the sum equals 1\n",
    "primary_modeller_brand_pref = primary_modeller_brand_pref / np.sum(primary_modeller_brand_pref)\n"
   ]
  },
  {
   "cell_type": "code",
   "execution_count": null,
   "metadata": {},
   "outputs": [],
   "source": [
    "# Setting score range\n",
    "\n",
    "# This represents the highest possible score for each feature, i.e., score range = 'best'\n",
    "score_range = 6"
   ]
  },
  {
   "cell_type": "code",
   "execution_count": null,
   "metadata": {},
   "outputs": [],
   "source": [
    "# The values of exponents in Dirichlet distribution must be non-zero,\n",
    "# setting them to a low value\n",
    "\n",
    "# Initial feature weight for the Dirichlet distribution\n",
    "initial_feature_weight = 0.01\n"
   ]
  },
  {
   "cell_type": "markdown",
   "metadata": {},
   "source": [
    "##### Expert opinions"
   ]
  },
  {
   "cell_type": "code",
   "execution_count": null,
   "metadata": {},
   "outputs": [],
   "source": [
    "# Simulated experts for Brand_1\n",
    "# Array representing the opinions of 10 simulated experts on Brand_1 for 3 features\n",
    "Brand_1_expert_opinions = np.array([\n",
    "    [4, 3, 4], [5, 3, 5], [5, 6, 5], [6, 5, 3], [6, 6, 6], \n",
    "    [5, 6, 5], [6, 6, 5], [6, 3, 4], [4, 5, 4], [6, 4, 3]\n",
    "], dtype=np.int8)\n",
    "\n",
    "# Simulated experts for Brand_2\n",
    "# Array representing the opinions of 10 simulated experts on Brand_2 for 3 features\n",
    "Brand_2_expert_opinions = np.array([\n",
    "    [5, 5, 5], [5, 6, 5], [3, 4, 4], [3, 4, 5], [4, 5, 5], \n",
    "    [5, 6, 4], [6, 6, 6], [5, 6, 6], [4, 3, 4], [4, 6, 3]\n",
    "], dtype=np.int8)\n",
    "\n",
    "# Simulated experts for Brand_3\n",
    "# Array representing the opinions of 10 simulated experts on Brand_3 for 3 features\n",
    "Brand_3_expert_opinions = np.array([\n",
    "    [3, 4, 3], [3, 3, 4], [4, 3, 4], [3, 3, 3], [5, 4, 3], \n",
    "    [3, 5, 5], [4, 5, 6], [4, 3, 2], [3, 4, 3], [4, 3, 4]\n",
    "], dtype=np.int8)\n"
   ]
  },
  {
   "cell_type": "code",
   "execution_count": null,
   "metadata": {},
   "outputs": [],
   "source": [
    "# Creating DataFrames for each brand\n",
    "\n",
    "# DataFrame for Brand_1 expert opinions\n",
    "Brand_1_expert_opinions_df = pd.DataFrame(\n",
    "    Brand_1_expert_opinions, \n",
    "    index=[f\"Brand_1 expert {i+1}\" for i in range(10)],  # Setting index as expert identifiers\n",
    "    columns=[\"Feature 1 score\", \"Feature 2 score\", \"Feature 3 score\"]  # Setting the column labels for features\n",
    ")\n",
    "\n",
    "# DataFrame for Brand_2 expert opinions\n",
    "Brand_2_expert_opinions_df = pd.DataFrame(\n",
    "    Brand_2_expert_opinions,\n",
    "    index=[f\"Brand_2 expert {i+1}\" for i in range(10)],  # Setting index as expert identifiers\n",
    "    columns=[\"Feature 1 score\", \"Feature 2 score\", \"Feature 3 score\"]  # Setting the column labels for features\n",
    ")\n",
    "\n",
    "# DataFrame for Brand_3 expert opinions\n",
    "Brand_3_expert_opinions_df = pd.DataFrame(\n",
    "    Brand_3_expert_opinions, \n",
    "    index=[f\"Brand_3 expert {i+1}\" for i in range(10)],  # Setting index as expert identifiers\n",
    "    columns=[\"Feature 1 score\", \"Feature 2 score\", \"Feature 3 score\"]  # Setting the column labels for features\n",
    ")"
   ]
  },
  {
   "cell_type": "markdown",
   "metadata": {},
   "source": [
    "<ins>Simple inference of experts opinion of brands</ins>"
   ]
  },
  {
   "cell_type": "code",
   "execution_count": null,
   "metadata": {},
   "outputs": [],
   "source": [
    "# Calculate the mean scores of each expert\n",
    "Brand_1_means = Brand_1_expert_opinions_df.mean(axis=1)\n",
    "Brand_2_means = Brand_2_expert_opinions_df.mean(axis=1)\n",
    "Brand_3_means = Brand_3_expert_opinions_df.mean(axis=1)\n",
    "\n",
    "# Create a box plot for each brand\n",
    "fig, ax = plt.subplots(figsize=(10, 6))\n",
    "\n",
    "ax.boxplot([Brand_1_means, Brand_2_means, Brand_3_means], labels=[\"Brand 1\", \"Brand 2\", \"Brand 3\"], showmeans=True)\n",
    "ax.set_title('Box Plot of Mean Expert Scores for Each Brand', fontsize=15.5)\n",
    "ax.set_ylabel('Mean Score')\n",
    "ax.set_xlabel('Brand')\n",
    "\n",
    "# Adding scatter plot of the observations\n",
    "x_positions = [1, 2, 3]\n",
    "for i, means in enumerate([Brand_1_means, Brand_2_means, Brand_3_means]):\n",
    "    ax.scatter([x_positions[i]] * len(means), means, alpha=0.6, color='blue', s=5)\n",
    "\n",
    "# Save the figure in .eps format\n",
    "\n",
    "# save_path = os.path.join(working_directory, 'Bar_charts', 'brand_mean_scores_boxplot.eps')\n",
    "# plt.tight_layout()\n",
    "# plt.savefig(save_path, format='eps')\n",
    "\n",
    "# Show the plot\n",
    "plt.show()\n"
   ]
  },
  {
   "cell_type": "code",
   "execution_count": null,
   "metadata": {},
   "outputs": [],
   "source": [
    "# Running the simulated example from the auxiliary module\n",
    "\n",
    "# Call the simulated_example function with the provided parameters\n",
    "_, primary_modeller_posterior_updated = auxiliary.simulated_example(\n",
    "    primary_modeller_scores,  # Initial scores given by the primary modeller\n",
    "    opinion_certainty_array,  # Certainty of the primary modeller's opinions\n",
    "    apply_certainty,  # Flag to apply certainty\n",
    "    number_of_responders,  # Number of responders for each brand\n",
    "    trust_matrix,  # Trust matrix representing trust for each responder\n",
    "    primary_modeller_score_preference,  # Primary modeller's score preference for each feature\n",
    "    primary_modeller_brand_pref,  # Distribution representing primary modeller's brand prefference\n",
    "    score_range,  # Highest possible score for each feature\n",
    "    initial_feature_weight,  # Initial feature weight for the Dirichlet distribution\n",
    "    Brand_1_expert_opinions,  # Expert opinions for Brand_1\n",
    "    Brand_2_expert_opinions,  # Expert opinions for Brand_2\n",
    "    Brand_3_expert_opinions  # Expert opinions for Brand_3\n",
    ")\n"
   ]
  },
  {
   "cell_type": "code",
   "execution_count": null,
   "metadata": {},
   "outputs": [],
   "source": [
    "## Plot primary modeller's initial and updated posterior distribution on brands\n",
    "\n",
    "# Create a figure window with two subplots\n",
    "fig, axes = plt.subplots(1, 1, figsize=(7, 5))\n",
    "\n",
    "# Variable names for the x-ticks\n",
    "variable_names = ['Brand 1', 'Brand 2', 'Brand 3']\n",
    "\n",
    "# Plotting the updated posterior distribution as a bar chart\n",
    "axes.bar(variable_names, primary_modeller_posterior_updated)\n",
    "axes.set_ylabel('Probability')\n",
    "axes.set_title(\"Primary modeller's updated brand preference\", fontsize=15.5)\n",
    "axes.tick_params(axis='x', labelsize=17)\n",
    "\n",
    "# Save the figure\n",
    "save_path = os.path.join(working_directory, 'Bar_charts', 'figure_6.eps')\n",
    "plt.tight_layout()\n",
    "plt.savefig(save_path, format='eps')\n",
    "\n",
    "# Show the plots\n",
    "plt.show()\n"
   ]
  },
  {
   "cell_type": "markdown",
   "metadata": {},
   "source": [
    "<ins>The primary modeller's updated brand preference.</ins>"
   ]
  },
  {
   "cell_type": "code",
   "execution_count": null,
   "metadata": {},
   "outputs": [],
   "source": [
    "# Round the values and convert them to percentage strings\n",
    "primary_modeller_posterior_updated_percent = [f\"{value * 100:.2f}%\" for value in primary_modeller_posterior_updated]\n",
    "\n",
    "# Create a DataFrame for the updated posterior percentages\n",
    "primary_modeller_posterior_updated_df = pd.DataFrame(\n",
    "    [primary_modeller_posterior_updated_percent],    # Percentage values as a list\n",
    "    columns=[\"Brand 1\", \"Brand 2\", \"Brand 3\"]         # Column labels for the DataFrame\n",
    ")\n",
    "\n",
    "# Display the DataFrame\n",
    "print(\"The Primary modeller's updated brand preference:\")\n",
    "primary_modeller_posterior_updated_df"
   ]
  },
  {
   "cell_type": "markdown",
   "metadata": {},
   "source": [
    "The opinion certainty process works as intended in this example."
   ]
  },
  {
   "cell_type": "markdown",
   "metadata": {},
   "source": [
    "### Example 3\n",
    "In this example the maximum opinion certainty $c_{I,b,n}$ = 1 in the primary modeller's lowest scores for Brand_1 brand should lead to the preference for the Brand_2 brand.\n",
    "\n",
    "The primary modeller's opinion is configured to prefer the brands in the following order:\n",
    "\n",
    "**Brand_2 > Brand_3 > Brand_1**. "
   ]
  },
  {
   "cell_type": "markdown",
   "metadata": {},
   "source": [
    "#### Experiment setup"
   ]
  },
  {
   "cell_type": "markdown",
   "metadata": {},
   "source": [
    "##### Agent"
   ]
  },
  {
   "cell_type": "code",
   "execution_count": null,
   "metadata": {},
   "outputs": [],
   "source": [
    "# The primary modeller's opinion\n",
    "\n",
    "# Array representing the scores given by the primary modeller for different phone brands and features\n",
    "# * Note 1: This array represents primary modellers opinion\n",
    "primary_modeller_scores = np.array([\n",
    "    [1, 1, 1],  # Scores for Brand_1\n",
    "    [6, 5, 6],  # Scores for Brand_2\n",
    "    [4, 4, 3]   # Scores for Brand_3\n",
    "], dtype=np.int8)\n"
   ]
  },
  {
   "cell_type": "code",
   "execution_count": null,
   "metadata": {},
   "outputs": [],
   "source": [
    "# Creating a DataFrame with the given data\n",
    "# Index represents phone brands, and columns represent different features\n",
    "primary_modeller_scores_df = pd.DataFrame(\n",
    "    primary_modeller_scores,\n",
    "    index=[\"Brand 1\", \"Brand 2\", \"Brand 3\"],           # Setting the row labels for phone brands\n",
    "    columns=[\"Feature 1\", \"Feature 2\", \"Feature 3\"]  # Setting the column labels for features\n",
    ")\n",
    "\n",
    "# Display the DataFrame\n",
    "primary_modeller_scores_df"
   ]
  },
  {
   "cell_type": "markdown",
   "metadata": {},
   "source": [
    "Additionally, to simulate an issue with this design, all the experts' opinions for Brand_1 are deliberately set to the highest scores.\n",
    "\n",
    "The primary modeller's certainty in the opinion $c_{I,b,n}$ for each brand is the following: "
   ]
  },
  {
   "cell_type": "code",
   "execution_count": null,
   "metadata": {},
   "outputs": [],
   "source": [
    "# Setting up the opinion certainty\n",
    "\n",
    "# Array representing the certainty of the primary modeller's opinion for each phone brand\n",
    "opinion_certainty_array = np.array([1, 0, 0], dtype=np.float16)\n",
    "\n",
    "# Boolean flag to determine if certainty should be applied\n",
    "# * Note 1: This flag is important as setting it to True will ensure that the opinion certainty array is ones.\n",
    "apply_certainty = True"
   ]
  },
  {
   "cell_type": "code",
   "execution_count": null,
   "metadata": {},
   "outputs": [],
   "source": [
    "# Round the values and convert them to percentage strings\n",
    "opinion_certainty_percent = [f\"{round(value * 100, 1)}%\" for value in opinion_certainty_array]\n",
    "\n",
    "# Create a DataFrame for opinion certainty percentages\n",
    "opinion_certainty_df = pd.DataFrame(\n",
    "    [opinion_certainty_percent],             # Percentage values as a list\n",
    "    columns=[\"Brand 1\", \"Brand 2\", \"Brand 3\"]  # Column labels for the DataFrame\n",
    ")\n",
    "\n",
    "# Display the DataFrame\n",
    "print(\"Opinion Certainty Table:\")\n",
    "opinion_certainty_df"
   ]
  },
  {
   "cell_type": "code",
   "execution_count": null,
   "metadata": {},
   "outputs": [],
   "source": [
    "# Setting up the number of responders for each brand so that the opinion\n",
    "# certainty can be applied as many times as the responders responded\n",
    "\n",
    "# Array representing the number of responders for each phone brand\n",
    "number_of_responders = np.array([10, 10, 10], dtype=np.int32)"
   ]
  },
  {
   "cell_type": "code",
   "execution_count": null,
   "metadata": {},
   "outputs": [],
   "source": [
    "# Create a trust matrix with ones, representing equal trust for each responder\n",
    "# The matrix has 3 rows (one for each phone brand) and 10 columns (one for each responder)\n",
    "# * Note 1: Setting trust like this is equivalent to no inclusion of trust\n",
    "trust_matrix = np.ones((3, 10), dtype=np.float16)"
   ]
  },
  {
   "cell_type": "code",
   "execution_count": null,
   "metadata": {},
   "outputs": [],
   "source": [
    "# Primary modeller's score preference for each feature\n",
    "\n",
    "# Array representing the primary modeller's score preference for each feature\n",
    "# * Note 1: This means that scores below the selected scores are not taken into acoount durring the opinion formulation\n",
    "primary_modeller_score_preference = np.array([4, 4, 4], dtype=np.int8)"
   ]
  },
  {
   "cell_type": "code",
   "execution_count": null,
   "metadata": {},
   "outputs": [],
   "source": [
    "# Primary modeller's brand preference\n",
    "\n",
    "# Array representing the primary modeller's initial brand preference\n",
    "# * Note 1: Set to uniform\n",
    "primary_modeller_brand_pref = np.array([1, 1, 1], dtype=np.float16)\n",
    "\n",
    "# Normalize the brand preference so that the sum equals 1\n",
    "primary_modeller_brand_pref = primary_modeller_brand_pref / np.sum(primary_modeller_brand_pref)\n"
   ]
  },
  {
   "cell_type": "code",
   "execution_count": null,
   "metadata": {},
   "outputs": [],
   "source": [
    "# Setting score range\n",
    "\n",
    "# This represents the highest possible score for each feature, i.e., score range = 'best'\n",
    "score_range = 6"
   ]
  },
  {
   "cell_type": "code",
   "execution_count": null,
   "metadata": {},
   "outputs": [],
   "source": [
    "# The values of exponents in Dirichlet distribution must be non-zero,\n",
    "# setting them to a low value\n",
    "\n",
    "# Initial feature weight for the Dirichlet distribution\n",
    "initial_feature_weight = 0.01\n"
   ]
  },
  {
   "cell_type": "markdown",
   "metadata": {},
   "source": [
    "When opinion certainty values $c_{I,b,n}$ for Brand_2 and Brand_3 are set to zero, it results in the complete influence of the experts' opinions on the primary modeller's own opinion. This can be intuitively interpreted as the primary modeller completely replacing his own opinion with the opinions of the experts $E_{i}$."
   ]
  },
  {
   "cell_type": "markdown",
   "metadata": {},
   "source": [
    "##### Expert opinions"
   ]
  },
  {
   "cell_type": "code",
   "execution_count": null,
   "metadata": {},
   "outputs": [],
   "source": [
    "# Simulated experts for Brand_1\n",
    "# Array representing the opinions of 10 simulated experts on Brand_1 for 3 features\n",
    "Brand_1_expert_opinions = np.array([\n",
    "    [6, 6, 6], [6, 6, 6], [6, 6, 6], [6, 6, 6], [6, 6, 6], \n",
    "    [6, 6, 6], [6, 6, 6], [6, 6, 6], [6, 6, 6], [6, 6, 6]\n",
    "], dtype=np.int8)\n",
    "\n",
    "# Simulated experts for Brand_2\n",
    "# Array representing the opinions of 10 simulated experts on Brand_2 for 3 features\n",
    "Brand_2_expert_opinions = np.array([\n",
    "    [5, 5, 5], [5, 6, 5], [3, 4, 4], [3, 4, 5], [4, 5, 5], \n",
    "    [5, 6, 4], [6, 6, 6], [5, 6, 6], [4, 3, 4], [4, 6, 3]\n",
    "], dtype=np.int8)\n",
    "\n",
    "# Simulated experts for Brand_3\n",
    "# Array representing the opinions of 10 simulated experts on Brand_3 for 3 features\n",
    "Brand_3_expert_opinions = np.array([\n",
    "    [3, 4, 3], [3, 3, 4], [4, 3, 4], [3, 3, 3], [5, 4, 3], \n",
    "    [3, 5, 5], [4, 5, 6], [4, 3, 2], [3, 4, 3], [4, 3, 4]\n",
    "], dtype=np.int8)"
   ]
  },
  {
   "cell_type": "code",
   "execution_count": null,
   "metadata": {},
   "outputs": [],
   "source": [
    "# Creating DataFrames for each brand\n",
    "\n",
    "# DataFrame for Brand_1 expert opinions\n",
    "Brand_1_expert_opinions_df = pd.DataFrame(\n",
    "    Brand_1_expert_opinions, \n",
    "    index=[f\"Brand_1 expert {i+1}\" for i in range(10)],  # Setting index as expert identifiers\n",
    "    columns=[\"Feature 1 score\", \"Feature 2 score\", \"Feature 3 score\"]  # Setting the column labels for features\n",
    ")\n",
    "\n",
    "# DataFrame for Brand_2 expert opinions\n",
    "Brand_2_expert_opinions_df = pd.DataFrame(\n",
    "    Brand_2_expert_opinions,\n",
    "    index=[f\"Brand_2 expert {i+1}\" for i in range(10)],  # Setting index as expert identifiers\n",
    "    columns=[\"Feature 1 score\", \"Feature 2 score\", \"Feature 3 score\"]  # Setting the column labels for features\n",
    ")\n",
    "\n",
    "# DataFrame for Brand_3 expert opinions\n",
    "Brand_3_expert_opinions_df = pd.DataFrame(\n",
    "    Brand_3_expert_opinions, \n",
    "    index=[f\"Brand_3 expert {i+1}\" for i in range(10)],  # Setting index as expert identifiers\n",
    "    columns=[\"Feature 1 score\", \"Feature 2 score\", \"Feature 3 score\"]  # Setting the column labels for features\n",
    ")"
   ]
  },
  {
   "cell_type": "markdown",
   "metadata": {},
   "source": [
    "<ins>Simple inference of experts opinion of brands</ins>"
   ]
  },
  {
   "cell_type": "code",
   "execution_count": null,
   "metadata": {},
   "outputs": [],
   "source": [
    "# Calculate the mean scores of each expert\n",
    "Brand_1_means = Brand_1_expert_opinions_df.mean(axis=1)\n",
    "Brand_2_means = Brand_2_expert_opinions_df.mean(axis=1)\n",
    "Brand_3_means = Brand_3_expert_opinions_df.mean(axis=1)\n",
    "\n",
    "# Create a box plot for each brand\n",
    "fig, ax = plt.subplots(figsize=(10, 6))\n",
    "\n",
    "ax.boxplot([Brand_1_means, Brand_2_means, Brand_3_means], labels=[\"Brand 1\", \"Brand 2\", \"Brand 3\"], showmeans=True)\n",
    "ax.set_title('Box Plot of Mean Expert Scores for Each Brand', fontsize=15.5)\n",
    "ax.set_ylabel('Mean Score')\n",
    "ax.set_xlabel('Brand')\n",
    "\n",
    "# Adding scatter plot of the observations\n",
    "x_positions = [1, 2, 3]\n",
    "for i, means in enumerate([Brand_1_means, Brand_2_means, Brand_3_means]):\n",
    "    ax.scatter([x_positions[i]] * len(means), means, alpha=0.6, color='blue', s=5)\n",
    "\n",
    "# Save the figure in .eps format\n",
    "\n",
    "# save_path = os.path.join(working_directory, 'Bar_charts', 'brand_mean_scores_boxplot.eps')\n",
    "# plt.tight_layout()\n",
    "# plt.savefig(save_path, format='eps')\n",
    "\n",
    "# Show the plot\n",
    "plt.show()\n"
   ]
  },
  {
   "cell_type": "code",
   "execution_count": null,
   "metadata": {},
   "outputs": [],
   "source": [
    "# Running the simulated example from the auxiliary module\n",
    "\n",
    "# Call the simulated_example function with the provided parameters\n",
    "_, primary_modeller_posterior_updated = auxiliary.simulated_example(\n",
    "    primary_modeller_scores,  # Initial scores given by the primary modeller\n",
    "    opinion_certainty_array,  # Certainty of the primary modeller's opinions\n",
    "    apply_certainty,  # Flag to apply certainty\n",
    "    number_of_responders,  # Number of responders for each brand\n",
    "    trust_matrix,  # Trust matrix representing trust for each responder\n",
    "    primary_modeller_score_preference,  # Primary modeller's score preference for each feature\n",
    "    primary_modeller_brand_pref,  # Distribution representing primary modeller's brand prefference\n",
    "    score_range,  # Highest possible score for each feature\n",
    "    initial_feature_weight,  # Initial feature weight for the Dirichlet distribution\n",
    "    Brand_1_expert_opinions,  # Expert opinions for Brand_1\n",
    "    Brand_2_expert_opinions,  # Expert opinions for Brand_2\n",
    "    Brand_3_expert_opinions  # Expert opinions for Brand_3\n",
    ")\n"
   ]
  },
  {
   "cell_type": "code",
   "execution_count": null,
   "metadata": {},
   "outputs": [],
   "source": [
    "## Plot primary modeller's initial and updated posterior distribution on brands\n",
    "\n",
    "# Create a figure window with two subplots\n",
    "fig, axes = plt.subplots(1, 1, figsize=(7, 5))\n",
    "\n",
    "# Variable names for the x-ticks\n",
    "variable_names = ['Brand 1', 'Brand 2', 'Brand 3']\n",
    "\n",
    "# Plotting the updated posterior distribution as a bar chart\n",
    "axes.bar(variable_names, primary_modeller_posterior_updated)\n",
    "axes.set_ylabel('Probability')\n",
    "axes.set_title(\"Primary modeller's updated brand preference\", fontsize=15.5)\n",
    "axes.tick_params(axis='x', labelsize=17)\n",
    "\n",
    "# Save the figure\n",
    "save_path = os.path.join(working_directory, 'Bar_charts', 'figure_7.eps')\n",
    "plt.tight_layout()\n",
    "plt.savefig(save_path, format='eps')\n",
    "\n",
    "# Show the plots\n",
    "plt.show()\n"
   ]
  },
  {
   "cell_type": "markdown",
   "metadata": {},
   "source": [
    "<ins>The primary modeller's updated brand preference.</ins>"
   ]
  },
  {
   "cell_type": "code",
   "execution_count": null,
   "metadata": {},
   "outputs": [],
   "source": [
    "# Round the values and convert them to percentage strings\n",
    "primary_modeller_posterior_updated_percent = [f\"{value * 100:.2f}%\" for value in primary_modeller_posterior_updated]\n",
    "\n",
    "# Create a DataFrame for the updated posterior percentages\n",
    "primary_modeller_posterior_updated_df = pd.DataFrame(\n",
    "    [primary_modeller_posterior_updated_percent],    # Percentage values as a list\n",
    "    columns=[\"Brand 1\", \"Brand 2\", \"Brand 3\"]         # Column labels for the DataFrame\n",
    ")\n",
    "\n",
    "# Display the DataFrame\n",
    "print(\"The Primary modeller's updated brand preference:\")\n",
    "primary_modeller_posterior_updated_df"
   ]
  },
  {
   "cell_type": "markdown",
   "metadata": {},
   "source": [
    "In this scenario, an unexpected outcome occurs due to the way each expert's $E_{i}$ contribution to the updated weight $V_{f_{j,b}}$ and the primary modeller's contribution are configured. In particular:\n",
    "\n",
    " 1. Each expert's contribution to the updated weight $V_{f_{i,b}}$ has a magnitude of +1.\n",
    " 2. The primary modeller's contribution to the updated weight $V_{f_{i,b}}$ is also +1 for each expert, given that opinion certainty $c_{I,b,n}$ is set to the maximum value of 1.\n",
    "\n",
    "As a result, the updated weight becomes $V_{i_{Brand_1}}$ = 10 for all $i\\in \\{1,2,3\\}$. This leads to high maximum values for the respective probabilities $P_{I}^{0}(F_{i,Brand_1}|Brand_1)$ for all $i\\in \\{1,2,3\\}$, of choosing the underlying scores. Consequently, the probabilities entering the final posterior distribution on brands $P_{I}^{0}(F_{1,Brand_1}|Brand_1)P_{I}^{0}(F_{2,Brand_1}|Brand_1)P_{I}^{0}(F_{3,Brand_1}|Brand_1)$ remain high, resulting in the selection of the Brand_1 brand, contrary to the expected outcome."
   ]
  }
 ],
 "metadata": {
  "kernelspec": {
   "display_name": "TMoCOBoT",
   "language": "python",
   "name": "python3"
  },
  "language_info": {
   "codemirror_mode": {
    "name": "ipython",
    "version": 3
   },
   "file_extension": ".py",
   "mimetype": "text/x-python",
   "name": "python",
   "nbconvert_exporter": "python",
   "pygments_lexer": "ipython3",
   "version": "3.12.4"
  }
 },
 "nbformat": 4,
 "nbformat_minor": 2
}
