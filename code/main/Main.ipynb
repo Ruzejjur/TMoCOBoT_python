{
 "cells": [
  {
   "cell_type": "code",
   "execution_count": 47,
   "metadata": {},
   "outputs": [],
   "source": [
    "# Imports \n",
    "# Task: Describe packages\n",
    "import pandas as pd\n",
    "import numpy as np \n",
    "import matplotlib.pyplot as plt\n",
    "import sys\n",
    "import os\n",
    "\n",
    "#import ipdb\n",
    "\n",
    "import importlib"
   ]
  },
  {
   "cell_type": "code",
   "execution_count": 48,
   "metadata": {},
   "outputs": [],
   "source": [
    "# Setting working directory\n",
    "working_directory = '/Users/ruzejjur/Github/TMoCOBoT_python'\n",
    "os.chdir(working_directory)"
   ]
  },
  {
   "cell_type": "code",
   "execution_count": 49,
   "metadata": {},
   "outputs": [
    {
     "data": {
      "text/plain": [
       "<module 'auxiliary' from '/Users/ruzejjur/Github/TMoCOBoT_python/Code/auxiliary/auxiliary.py'>"
      ]
     },
     "execution_count": 49,
     "metadata": {},
     "output_type": "execute_result"
    }
   ],
   "source": [
    "# Adding scripts\n",
    "# Add the directory containing the script to sys.path\n",
    "script_path = os.path.abspath(os.path.join(working_directory, 'Code', 'auxiliary'))\n",
    "sys.path.append(script_path)\n",
    "\n",
    "# Importing auxiliary functions script\n",
    "import auxiliary\n",
    "# Reload the module to ensure changes are reflected\n",
    "importlib.reload(auxiliary) "
   ]
  },
  {
   "cell_type": "code",
   "execution_count": 50,
   "metadata": {},
   "outputs": [],
   "source": [
    "# # Temporary block of placeholder functions\n",
    "\n",
    "# # Placeholder for The_primary_modelers_aposterior_old and The_primary_modelers_aposterior_updated\n",
    "# # Define the function Simulated_example according to your specific algorithm\n",
    "# def simulated_example(scores, opinion_certainty, apply_certainty, responders, trust_matrix, preference, brand_preference, range_size, low_weight, *experts):\n",
    "#     # Placeholder for demonstration, replace with your actual logic\n",
    "#     aposterior_old = np.random.rand(3)\n",
    "#     aposterior_updated = np.random.rand(3)\n",
    "#     return aposterior_old, aposterior_updated"
   ]
  },
  {
   "cell_type": "markdown",
   "metadata": {},
   "source": [
    "# Simulated examples\n",
    "\n",
    "To simplify the analysis, specific parameters are defined for the experts, which include the following:\n",
    "10 experts for each brand. \n",
    "\n",
    " - 3 mobile brands. \n",
    " - 3 features.\n",
    " - 6 score values.\n",
    "\n",
    "These parameters have been deliberately chosen to configure the system and demonstrate the functionality of our proposed solution.\n",
    "\n",
    "The parameters associated with the primary modeler are as follows:\n",
    "    - The preference score = 4 for all features.\n",
    "    - The primary modeler's brand preference follows a uniform distribution.\n",
    "    - The primary modeler's opinion on brands is established in the experimental setup.\n",
    "    - The primary modeler's certainty is established in the experimental setup.\n",
    "    - The primary modeler's trust is established in the experimental setup.\n",
    "\n",
    "The preference score is set for simplicity, eliminating one hyper-parameter to tune. \n",
    "The primary modeler's brand preference is configured to ensure that the choice of the brand  is not influenced by the primary modeler's bias.\n",
    "\n",
    "The objective is to design experiments in such a way that the brand selection process can be inferred from the setup of the experts.\n",
    "\n",
    "In the following five examples, the primary modeler's opinions are presented in the following table:"
   ]
  },
  {
   "cell_type": "code",
   "execution_count": 51,
   "metadata": {},
   "outputs": [
    {
     "name": "stdout",
     "output_type": "stream",
     "text": [
      "         Feature 1  Feature 2  Feature 3\n",
      "Samsung          5          4          5\n",
      "Iphone           6          5          6\n",
      "Xiaomi           4          4          3\n"
     ]
    }
   ],
   "source": [
    "# The primary modeler's opinion\n",
    "the_primary_modelers_scores = [\n",
    "    [5, 4, 5],\n",
    "    [6, 5, 6],\n",
    "    [4, 4, 3]\n",
    "]\n",
    "\n",
    "# Creating a DataFrame with the given data\n",
    "the_primary_modelers_scores_df = pd.DataFrame(\n",
    "    the_primary_modelers_scores,\n",
    "    index=[\"Samsung\", \"Iphone\", \"Xiaomi\"],\n",
    "    columns=[\"Feature 1\", \"Feature 2\", \"Feature 3\"]\n",
    ")\n",
    "\n",
    "print(the_primary_modelers_scores_df)"
   ]
  },
  {
   "cell_type": "markdown",
   "metadata": {},
   "source": [
    "The primary modeler's opinion on brands is as follows: iPhone > Samsung > Xiaomi."
   ]
  },
  {
   "cell_type": "markdown",
   "metadata": {},
   "source": [
    "## Opinion Merging and Preference Subsetting\n",
    "\n",
    "The aim of this section is to illustrate the influence of expert opinions on the primary modeler's brand preference."
   ]
  },
  {
   "cell_type": "markdown",
   "metadata": {},
   "source": [
    "### Example 1\n",
    "The experts are configured to prefer the brands in the following order: Samsung > iPhone  > Xiaomi.\n",
    "The Samsung is sligthly more prefered than iPhone, this is setup for later demonstration of the trust valuet  in 'Inclusion of trust' section."
   ]
  },
  {
   "cell_type": "code",
   "execution_count": 52,
   "metadata": {},
   "outputs": [
    {
     "name": "stdout",
     "output_type": "stream",
     "text": [
      "The Primary Modeler's Scores:\n",
      "         Feature 1  Feature 2  Feature 3\n",
      "Samsung          5          4          5\n",
      "Iphone           6          5          6\n",
      "Xiaomi           4          4          3\n"
     ]
    }
   ],
   "source": [
    "# The primary modelers opinion\n",
    "the_primary_modelers_scores = np.array([\n",
    "    [5, 4, 5],\n",
    "    [6, 5, 6],\n",
    "    [4, 4, 3]\n",
    "])\n",
    "\n",
    "# Setting up the opinion certainty\n",
    "opinion_certainty = np.array([1, 1, 1])\n",
    "\n",
    "apply_certainty = False\n",
    "\n",
    "# Setting up the number of responders for each brand so that the opinion\n",
    "# certainty can be applied as many times as the responders responded\n",
    "n_of_responders = np.array([10, 10, 10])\n",
    "\n",
    "# The trust is applied to the agents opinion uniformly to all scores\n",
    "# Trust_matrix = np.array([\n",
    "#     [0.8, 0.7, 0.7, 0.8, 0.9],\n",
    "#     [0.8, 0.7, 0.9, 0.8, 0.8],\n",
    "#     [0.9, 0.7, 0.8, 0.8, 0.9]\n",
    "# ])\n",
    "\n",
    "# Setting trust like this is equivalent to no inclusion of trust\n",
    "Trust_matrix = np.ones((3, 10))\n",
    "\n",
    "# Primary modelers score preference for each feature\n",
    "score_preference = np.array([4, 4, 4])\n",
    "\n",
    "# Primary modelers brand preference\n",
    "P_I_B = np.array([2, 2, 2])\n",
    "P_I_B = P_I_B / np.sum(P_I_B)\n",
    "\n",
    "score_range_size = 6\n",
    "\n",
    "# The values of exponents in Dirichlet distribution must be non-zero,\n",
    "# setting them to low value\n",
    "low_weight_for_unselected_features = 0.01\n",
    "\n",
    "# Converting the primary modelers scores to a DataFrame for better readability\n",
    "the_primary_modelers_scores_df = pd.DataFrame(\n",
    "    the_primary_modelers_scores,\n",
    "    index=[\"Samsung\", \"Iphone\", \"Xiaomi\"],\n",
    "    columns=[\"Feature 1\", \"Feature 2\", \"Feature 3\"]\n",
    ")\n",
    "\n",
    "print(\"The Primary Modeler's Scores:\")\n",
    "print(the_primary_modelers_scores_df)\n"
   ]
  },
  {
   "cell_type": "markdown",
   "metadata": {},
   "source": [
    "The opinion's of individual experts  for each brand ."
   ]
  },
  {
   "cell_type": "markdown",
   "metadata": {},
   "source": [
    "### Expert opinions"
   ]
  },
  {
   "cell_type": "code",
   "execution_count": 53,
   "metadata": {},
   "outputs": [
    {
     "name": "stdout",
     "output_type": "stream",
     "text": [
      "Samsung Experts' Opinions:\n",
      "                   Feature 1 score  Feature 2 score  Feature 3 score\n",
      "Samsung expert 1                 4                3                4\n",
      "Samsung expert 2                 5                3                5\n",
      "Samsung expert 3                 5                6                5\n",
      "Samsung expert 4                 6                5                3\n",
      "Samsung expert 5                 6                6                6\n",
      "Samsung expert 6                 5                6                5\n",
      "Samsung expert 7                 6                6                5\n",
      "Samsung expert 8                 6                3                4\n",
      "Samsung expert 9                 4                5                4\n",
      "Samsung expert 10                6                4                3\n",
      "\n",
      "Iphone Experts' Opinions:\n",
      "                  Feature 1 score  Feature 2 score  Feature 3 score\n",
      "Iphone expert 1                 5                5                5\n",
      "Iphone expert 2                 5                6                5\n",
      "Iphone expert 3                 3                4                4\n",
      "Iphone expert 4                 3                4                5\n",
      "Iphone expert 5                 4                5                5\n",
      "Iphone expert 6                 5                6                4\n",
      "Iphone expert 7                 6                6                6\n",
      "Iphone expert 8                 5                6                6\n",
      "Iphone expert 9                 4                3                4\n",
      "Iphone expert 10                4                6                3\n",
      "\n",
      "Xiaomi Experts' Opinions:\n",
      "                  Feature 1 score  Feature 2 score  Feature 3 score\n",
      "Xiaomi expert 1                 3                4                3\n",
      "Xiaomi expert 2                 3                3                4\n",
      "Xiaomi expert 3                 4                3                4\n",
      "Xiaomi expert 4                 3                3                3\n",
      "Xiaomi expert 5                 5                4                3\n",
      "Xiaomi expert 6                 3                5                5\n",
      "Xiaomi expert 7                 4                5                6\n",
      "Xiaomi expert 8                 4                3                2\n",
      "Xiaomi expert 9                 3                4                3\n",
      "Xiaomi expert 10                4                3                4\n"
     ]
    }
   ],
   "source": [
    "# Simulated experts for SAMSUNG\n",
    "samsung_experts = np.array([\n",
    "    [4, 3, 4], [5, 3, 5], [5, 6, 5], [6, 5, 3], [6, 6, 6], \n",
    "    [5, 6, 5], [6, 6, 5], [6, 3, 4], [4, 5, 4], [6, 4, 3]\n",
    "])\n",
    "\n",
    "# Simulated experts for IPHONE\n",
    "iphone_experts = np.array([\n",
    "    [5, 5, 5], [5, 6, 5], [3, 4, 4], [3, 4, 5], [4, 5, 5], \n",
    "    [5, 6, 4], [6, 6, 6], [5, 6, 6], [4, 3, 4], [4, 6, 3]\n",
    "])\n",
    "\n",
    "# Simulated experts for XIAOMI\n",
    "xiaomi_experts = np.array([\n",
    "    [3, 4, 3], [3, 3, 4], [4, 3, 4], [3, 3, 3], [5, 4, 3], \n",
    "    [3, 5, 5], [4, 5, 6], [4, 3, 2], [3, 4, 3], [4, 3, 4]\n",
    "])\n",
    "\n",
    "# Creating DataFrames for each brand\n",
    "samsung_experts_df = pd.DataFrame(\n",
    "    samsung_experts, \n",
    "    columns=[\"Feature 1 score\", \"Feature 2 score\", \"Feature 3 score\"],\n",
    "    index=(f\"Samsung expert {i+1}\" for i in range(10))\n",
    ")\n",
    "\n",
    "iphone_experts_df = pd.DataFrame(\n",
    "    iphone_experts, \n",
    "    columns=[\"Feature 1 score\", \"Feature 2 score\", \"Feature 3 score\"],\n",
    "    index=(f\"Iphone expert {i+1}\" for i in range(10))\n",
    ")\n",
    "\n",
    "xiaomi_experts_df = pd.DataFrame(\n",
    "    xiaomi_experts, \n",
    "    columns=[\"Feature 1 score\", \"Feature 2 score\", \"Feature 3 score\"],\n",
    "    index=(f\"Xiaomi expert {i+1}\" for i in range(10))\n",
    ")\n",
    "\n",
    "# Displaying the DataFrames\n",
    "print(\"Samsung Experts' Opinions:\")\n",
    "print(samsung_experts_df)\n",
    "print(\"\\nIphone Experts' Opinions:\")\n",
    "print(iphone_experts_df)\n",
    "print(\"\\nXiaomi Experts' Opinions:\")\n",
    "print(xiaomi_experts_df)\n"
   ]
  },
  {
   "cell_type": "markdown",
   "metadata": {},
   "source": [
    "Comparison of the primary modeler's posterior distribution on brands before and after opinion merging."
   ]
  },
  {
   "cell_type": "code",
   "execution_count": 55,
   "metadata": {},
   "outputs": [],
   "source": [
    "The_primary_modelers_aposterior_old, The_primary_modelers_aposterior_updated = auxiliary.simulated_example(\n",
    "    the_primary_modelers_scores, opinion_certainty, apply_certainty, n_of_responders, Trust_matrix, score_preference, P_I_B, score_range_size, low_weight_for_unselected_features, *samsung_experts, *iphone_experts, *xiaomi_experts\n",
    ")"
   ]
  },
  {
   "cell_type": "code",
   "execution_count": null,
   "metadata": {},
   "outputs": [
    {
     "data": {
      "image/png": "[encoded data removed]",
      "text/plain": [
       "<Figure size 1500x500 with 2 Axes>"
      ]
     },
     "metadata": {},
     "output_type": "display_data"
    }
   ],
   "source": [
    "### Place holder data to be removed ----------------------------------------\n",
    "# Placeholder data for the a posteriori distributions\n",
    "# # Replace these with the actual output from the simulated_example function\n",
    "# The_primary_modelers_aposterior_old = np.random.rand(3)\n",
    "# The_primary_modelers_aposterior_updated = np.random.rand(3)\n",
    "\n",
    "# --------------------------------------------------------------------------------\n",
    "# Create a figure window\n",
    "fig, axes = plt.subplots(1, 2, figsize=(15, 5))\n",
    "\n",
    "# Variable names for the x-ticks\n",
    "variable_names = ['Samsung', 'iPhone', 'Xiaomi']\n",
    "\n",
    "# Plotting the old a posteriori distribution\n",
    "axes[0].bar(variable_names, The_primary_modelers_aposterior_old)\n",
    "axes[0].set_ylabel('Probability')\n",
    "axes[0].set_title(\"Primary modeler's prior preference\", fontsize=15.5)\n",
    "axes[0].tick_params(axis='x', labelsize=17)\n",
    "\n",
    "# Plotting the updated a posteriori distribution\n",
    "axes[1].bar(variable_names, The_primary_modelers_aposterior_updated)\n",
    "axes[1].set_ylabel('Probability')\n",
    "axes[1].set_title(\"Primary modeler's posterior preference\", fontsize=15.5)\n",
    "axes[1].tick_params(axis='x', labelsize=17)\n",
    "\n",
    "# Save the figure\n",
    "save_path = os.path.join(working_directory, 'Bar_charts', 'figure_0.png')\n",
    "plt.tight_layout()\n",
    "plt.savefig(save_path)\n",
    "\n",
    "# Show the plots\n",
    "plt.show()\n",
    "\n",
    "\n"
   ]
  },
  {
   "cell_type": "markdown",
   "metadata": {},
   "source": [
    "The primary modeler's posterior distribution on brands before opinion merging."
   ]
  },
  {
   "cell_type": "code",
   "execution_count": null,
   "metadata": {},
   "outputs": [
    {
     "name": "stdout",
     "output_type": "stream",
     "text": [
      "  Samsung  iPhone  Xiaomi\n",
      "0  14.77%  46.12%  28.31%\n"
     ]
    }
   ],
   "source": [
    "# Placeholder data for the a posteriori distributions\n",
    "# Replace this with the actual output from your simulated_example function\n",
    "The_primary_modelers_aposterior_old = np.random.rand(3)\n",
    "\n",
    "# Round the values and convert them to percentage strings\n",
    "The_primary_modelers_aposterior_old_percent = [f\"{round(value * 100, 2)}%\" for value in The_primary_modelers_aposterior_old]\n",
    "\n",
    "# Create a DataFrame\n",
    "The_primary_modelers_aposterior_old_df = pd.DataFrame(\n",
    "    [The_primary_modelers_aposterior_old_percent],\n",
    "    columns=[\"Samsung\", \"iPhone\", \"Xiaomi\"]\n",
    ")\n",
    "\n",
    "# Display the DataFrame\n",
    "print(The_primary_modelers_aposterior_old_df)\n"
   ]
  },
  {
   "cell_type": "markdown",
   "metadata": {},
   "source": [
    "The primary modeler's posterior distribution on brands after opinion merging."
   ]
  },
  {
   "cell_type": "code",
   "execution_count": null,
   "metadata": {},
   "outputs": [
    {
     "name": "stdout",
     "output_type": "stream",
     "text": [
      "The Primary Modeler's Aposterior Updated:\n",
      "  Samsung  iPhone  Xiaomi\n",
      "0   12.0%  55.18%  38.01%\n"
     ]
    }
   ],
   "source": [
    "# Placeholder data for the updated a posteriori distributions\n",
    "# Replace this with the actual output from your simulated_example function\n",
    "The_primary_modelers_aposterior_updated = np.random.rand(3)\n",
    "\n",
    "# Round the values and convert them to percentage strings\n",
    "The_primary_modelers_aposterior_updated_percent = [f\"{round(value * 100, 2)}%\" for value in The_primary_modelers_aposterior_updated]\n",
    "\n",
    "# Create a DataFrame\n",
    "The_primary_modelers_aposterior_updated_df = pd.DataFrame(\n",
    "    [The_primary_modelers_aposterior_updated_percent],\n",
    "    columns=[\"Samsung\", \"iPhone\", \"Xiaomi\"]\n",
    ")\n",
    "\n",
    "# Display the DataFrame\n",
    "print(\"The Primary Modeler's Aposterior Updated:\")\n",
    "print(The_primary_modelers_aposterior_updated_df)"
   ]
  },
  {
   "cell_type": "markdown",
   "metadata": {},
   "source": [
    "The results suggest that the experts influenced the primary modeler's  opinion to favor the Samsung brand. Additionally, the primary modeler's probability of choosing the Xiaomi brand prior to opinion merging is low due to the low score assigned to feature 3 for the Xiaomi brand.  Consequently, this leads to a low probability entering the posterior distribution before opinion merging, significantly reducing the probability of selecting the Xiaomi brand."
   ]
  },
  {
   "cell_type": "markdown",
   "metadata": {},
   "source": [
    "### Example 2"
   ]
  },
  {
   "cell_type": "code",
   "execution_count": null,
   "metadata": {},
   "outputs": [
    {
     "name": "stdout",
     "output_type": "stream",
     "text": [
      "Primary Modelers Scores:\n",
      " [[5 4 5]\n",
      " [6 5 6]\n",
      " [4 4 3]]\n",
      "Opinion Certainty:\n",
      " [1 1 1]\n",
      "Apply Certainty:\n",
      " False\n",
      "Number of Responders:\n",
      " [10 10 10]\n",
      "Trust Matrix:\n",
      " [[1. 1. 1. 1. 1. 1. 1. 1. 1. 1.]\n",
      " [1. 1. 1. 1. 1. 1. 1. 1. 1. 1.]\n",
      " [1. 1. 1. 1. 1. 1. 1. 1. 1. 1.]]\n",
      "Score Preference:\n",
      " [4 4 4]\n",
      "Brand Preference (Normalized):\n",
      " [0.33333333 0.33333333 0.33333333]\n",
      "Score Range Size:\n",
      " 6\n",
      "Low Weight for Unselected Features:\n",
      " 0.01\n"
     ]
    }
   ],
   "source": [
    "# The primary modelers opinion\n",
    "the_primary_modelers_scores = np.array([\n",
    "    [5, 4, 5],\n",
    "    [6, 5, 6],\n",
    "    [4, 4, 3]\n",
    "])\n",
    "\n",
    "# Setting up the opinion certainty\n",
    "opinion_certainty = np.array([1, 1, 1])\n",
    "\n",
    "apply_certainty = False\n",
    "\n",
    "# Setting up the number of responders for each brand\n",
    "n_of_responders = np.array([10, 10, 10])\n",
    "\n",
    "# The trust is applied to the agents' opinion uniformly to all scores\n",
    "# Trust_matrix = np.array([\n",
    "#     [0.8, 0.7, 0.7, 0.8, 0.9],\n",
    "#     [0.8, 0.7, 0.9, 0.8, 0.8],\n",
    "#     [0.9, 0.7, 0.8, 0.8, 0.9]\n",
    "# ])\n",
    "\n",
    "# Setting trust like this is equivalent to no inclusion of trust\n",
    "Trust_matrix = np.ones((3, 10))\n",
    "\n",
    "# Primary modelers score preference for each feature\n",
    "score_preference = np.array([4, 4, 4])\n",
    "\n",
    "# Primary modelers brand preference\n",
    "P_I_B = np.array([2, 2, 2])\n",
    "P_I_B = P_I_B / np.sum(P_I_B)\n",
    "\n",
    "score_range_size = 6\n",
    "\n",
    "# The values of exponents in Dirichlet distribution must be non-zero,\n",
    "# setting them to a low value\n",
    "low_weight_for_unselected_features = 0.01\n",
    "\n",
    "# Displaying the data for verification\n",
    "print(\"Primary Modelers Scores:\\n\", the_primary_modelers_scores)\n",
    "print(\"Opinion Certainty:\\n\", opinion_certainty)\n",
    "print(\"Apply Certainty:\\n\", apply_certainty)\n",
    "print(\"Number of Responders:\\n\", n_of_responders)\n",
    "print(\"Trust Matrix:\\n\", Trust_matrix)\n",
    "print(\"Score Preference:\\n\", score_preference)\n",
    "print(\"Brand Preference (Normalized):\\n\", P_I_B)\n",
    "print(\"Score Range Size:\\n\", score_range_size)\n",
    "print(\"Low Weight for Unselected Features:\\n\", low_weight_for_unselected_features)\n"
   ]
  },
  {
   "cell_type": "markdown",
   "metadata": {},
   "source": [
    "The experts are configured to prefer the brands in the following order: Samsung  Iphone  Xiaomi, \n",
    "the scores are setup to similar high values."
   ]
  },
  {
   "cell_type": "code",
   "execution_count": null,
   "metadata": {},
   "outputs": [
    {
     "data": {
      "image/png": "[encoded data removed]",
      "text/plain": [
       "<Figure size 700x500 with 1 Axes>"
      ]
     },
     "metadata": {},
     "output_type": "display_data"
    }
   ],
   "source": [
    "# Simulated experts for SAMSUNG\n",
    "samsung_experts = np.array([\n",
    "    [6, 5, 6], [5, 5, 5], [6, 5, 5], [5, 5, 6], [6, 6, 6],\n",
    "    [5, 6, 5], [6, 5, 5], [6, 5, 5], [5, 6, 6], [6, 5, 5]\n",
    "])\n",
    "\n",
    "# Simulated experts for IPHONE\n",
    "iphone_experts = np.array([\n",
    "    [5, 6, 5], [6, 5, 5], [6, 5, 6], [5, 6, 5], [6, 6, 5],\n",
    "    [6, 5, 6], [6, 6, 6], [6, 5, 6], [5, 6, 5], [6, 6, 6]\n",
    "])\n",
    "\n",
    "# Simulated weights for Xiaomi\n",
    "xiaomi_experts = np.array([\n",
    "    [5, 5, 6], [6, 5, 6], [6, 6, 6], [6, 6, 6], [6, 5, 6],\n",
    "    [6, 5, 5], [6, 5, 6], [5, 5, 6], [6, 6, 5], [5, 6, 5]\n",
    "])\n",
    "\n",
    "# Calling the function with the provided data\n",
    "The_primary_modelers_aposterior_old, The_primary_modelers_aposterior_updated = simulated_example(\n",
    "    the_primary_modelers_scores, opinion_certainty, apply_certainty, n_of_responders, Trust_matrix,\n",
    "    score_preference, P_I_B, score_range_size, low_weight_for_unselected_features,\n",
    "    *samsung_experts, *iphone_experts, *xiaomi_experts\n",
    ")\n",
    "\n",
    "# Create a figure window\n",
    "plt.figure(figsize=(7, 5))\n",
    "\n",
    "# The primary modelers' updated aposteriori distribution on brands:\n",
    "plt.bar(['Samsung', 'iPhone', 'Xiaomi'], The_primary_modelers_aposterior_updated)\n",
    "\n",
    "# Set the names of the variables\n",
    "plt.xticks(fontsize=17)\n",
    "\n",
    "# Show the plot\n",
    "plt.ylabel('Probability')\n",
    "plt.title(\"Primary modeler's posterior preference\", fontsize=18)\n",
    "\n",
    "# Save the plot\n",
    "save_path = os.path.join(working_directory, 'Bar_charts', 'figure_1.png')\n",
    "plt.tight_layout()\n",
    "plt.savefig(save_path)\n",
    "\n",
    "# Display the plot\n",
    "plt.show()\n"
   ]
  },
  {
   "cell_type": "markdown",
   "metadata": {},
   "source": [
    "The primary modeler's posterior distribution on brands before opinion merging."
   ]
  },
  {
   "cell_type": "code",
   "execution_count": null,
   "metadata": {},
   "outputs": [
    {
     "name": "stdout",
     "output_type": "stream",
     "text": [
      "The Primary Modeler's Aposterior Old:\n",
      "  Samsung iPhone Xiaomi\n",
      "0  27.21%  63.9%  30.2%\n"
     ]
    }
   ],
   "source": [
    "# Placeholder for The_primary_modelers_aposterior_old\n",
    "# Replace this with the actual output from your simulated_example function\n",
    "The_primary_modelers_aposterior_old = np.random.rand(3)\n",
    "\n",
    "# Round the values and convert them to percentage strings\n",
    "The_primary_modelers_aposterior_old_percent = [f\"{round(value * 100, 2)}%\" for value in The_primary_modelers_aposterior_old]\n",
    "\n",
    "# Create a DataFrame\n",
    "The_primary_modelers_aposterior_old_df = pd.DataFrame(\n",
    "    [The_primary_modelers_aposterior_old_percent],\n",
    "    columns=[\"Samsung\", \"iPhone\", \"Xiaomi\"]\n",
    ")\n",
    "\n",
    "# Display the DataFrame\n",
    "print(\"The Primary Modeler's Aposterior Old:\")\n",
    "print(The_primary_modelers_aposterior_old_df)\n"
   ]
  },
  {
   "cell_type": "markdown",
   "metadata": {},
   "source": [
    "The primary modeler's posterior distribution on brands after opinion merging."
   ]
  },
  {
   "cell_type": "code",
   "execution_count": null,
   "metadata": {},
   "outputs": [
    {
     "name": "stdout",
     "output_type": "stream",
     "text": [
      "The Primary Modeler's Aposterior Updated:\n",
      "  Samsung iPhone  Xiaomi\n",
      "0   17.3%  43.0%  30.89%\n"
     ]
    }
   ],
   "source": [
    "# Placeholder for The_primary_modelers_aposterior_updated\n",
    "# Replace this with the actual output from your simulated_example function\n",
    "The_primary_modelers_aposterior_updated = np.random.rand(3)\n",
    "\n",
    "# Round the values and convert them to percentage strings\n",
    "The_primary_modelers_aposterior_updated_percent = [f\"{round(value * 100, 2)}%\" for value in The_primary_modelers_aposterior_updated]\n",
    "\n",
    "# Create a DataFrame\n",
    "The_primary_modelers_aposterior_updated_df = pd.DataFrame(\n",
    "    [The_primary_modelers_aposterior_updated_percent],\n",
    "    columns=[\"Samsung\", \"iPhone\", \"Xiaomi\"]\n",
    ")\n",
    "\n",
    "# Display the DataFrame\n",
    "print(\"The Primary Modeler's Aposterior Updated:\")\n",
    "print(The_primary_modelers_aposterior_updated_df)\n"
   ]
  },
  {
   "cell_type": "markdown",
   "metadata": {},
   "source": [
    "Comment on this result are at the end of this section."
   ]
  },
  {
   "cell_type": "markdown",
   "metadata": {},
   "source": [
    "### Example 3"
   ]
  },
  {
   "cell_type": "code",
   "execution_count": null,
   "metadata": {},
   "outputs": [
    {
     "name": "stdout",
     "output_type": "stream",
     "text": [
      "Primary Modelers Scores:\n",
      " [[5 4 5]\n",
      " [6 5 6]\n",
      " [4 4 3]]\n",
      "Opinion Certainty:\n",
      " [1 1 1]\n",
      "Apply Certainty:\n",
      " False\n",
      "Number of Responders:\n",
      " [10 10 10]\n",
      "Trust Matrix:\n",
      " [[1. 1. 1. 1. 1. 1. 1. 1. 1. 1.]\n",
      " [1. 1. 1. 1. 1. 1. 1. 1. 1. 1.]\n",
      " [1. 1. 1. 1. 1. 1. 1. 1. 1. 1.]]\n",
      "Score Preference:\n",
      " [4 4 4]\n",
      "Brand Preference (Normalized):\n",
      " [0.33333333 0.33333333 0.33333333]\n",
      "Score Range Size:\n",
      " 6\n",
      "Low Weight for Unselected Features:\n",
      " 0.01\n"
     ]
    }
   ],
   "source": [
    "# The primary modelers opinion\n",
    "the_primary_modelers_scores = np.array([\n",
    "    [5, 4, 5],\n",
    "    [6, 5, 6],\n",
    "    [4, 4, 3]\n",
    "])\n",
    "\n",
    "# Setting up the opinion certainty\n",
    "opinion_certainty = np.array([1, 1, 1])\n",
    "\n",
    "apply_certainty = False\n",
    "\n",
    "# Setting up the number of responders for each brand\n",
    "n_of_responders = np.array([10, 10, 10])\n",
    "\n",
    "# The trust is applied to the agents' opinion uniformly to all scores\n",
    "# Trust_matrix = np.array([\n",
    "#     [0.8, 0.7, 0.7, 0.8, 0.9],\n",
    "#     [0.8, 0.7, 0.9, 0.8, 0.8],\n",
    "#     [0.9, 0.7, 0.8, 0.8, 0.9]\n",
    "# ])\n",
    "\n",
    "# Setting trust like this is equivalent to no inclusion of trust\n",
    "Trust_matrix = np.ones((3, 10))\n",
    "\n",
    "# Primary modelers score preference for each feature\n",
    "score_preference = np.array([4, 4, 4])\n",
    "\n",
    "# Primary modelers brand preference\n",
    "P_I_B = np.array([2, 2, 2])\n",
    "P_I_B = P_I_B / np.sum(P_I_B)\n",
    "\n",
    "score_range_size = 6\n",
    "\n",
    "# The values of exponents in Dirichlet distribution must be non-zero,\n",
    "# setting them to a low value\n",
    "low_weight_for_unselected_features = 0.01\n",
    "\n",
    "# Displaying the data for verification\n",
    "print(\"Primary Modelers Scores:\\n\", the_primary_modelers_scores)\n",
    "print(\"Opinion Certainty:\\n\", opinion_certainty)\n",
    "print(\"Apply Certainty:\\n\", apply_certainty)\n",
    "print(\"Number of Responders:\\n\", n_of_responders)\n",
    "print(\"Trust Matrix:\\n\", Trust_matrix)\n",
    "print(\"Score Preference:\\n\", score_preference)\n",
    "print(\"Brand Preference (Normalized):\\n\", P_I_B)\n",
    "print(\"Score Range Size:\\n\", score_range_size)\n",
    "print(\"Low Weight for Unselected Features:\\n\", low_weight_for_unselected_features)\n"
   ]
  },
  {
   "cell_type": "markdown",
   "metadata": {},
   "source": [
    "The experts are configured to prefer the brands in the following order:\n",
    "                      Samsung  Iphone  Xiaomi, \n",
    "the scores are setup to similar low values."
   ]
  },
  {
   "cell_type": "code",
   "execution_count": null,
   "metadata": {},
   "outputs": [
    {
     "ename": "SyntaxError",
     "evalue": "unterminated string literal (detected at line 57) (1708110226.py, line 57)",
     "output_type": "error",
     "traceback": [
      "\u001b[0;36m  Cell \u001b[0;32mIn[258], line 57\u001b[0;36m\u001b[0m\n\u001b[0;31m    save_path = os.path.join('working_directory, 'Bar_charts', 'figure_2.png')\u001b[0m\n\u001b[0m                                                                            ^\u001b[0m\n\u001b[0;31mSyntaxError\u001b[0m\u001b[0;31m:\u001b[0m unterminated string literal (detected at line 57)\n"
     ]
    }
   ],
   "source": [
    "# Simulated experts for SAMSUNG\n",
    "samsung_experts = np.array([\n",
    "    [3, 4, 4], [3, 4, 4], [4, 4, 4], [4, 3, 3], [4, 3, 3],\n",
    "    [4, 4, 1], [4, 1, 4], [4, 3, 4], [4, 5, 4], [4, 4, 3]\n",
    "])\n",
    "\n",
    "# Simulated experts for IPHONE\n",
    "iphone_experts = np.array([\n",
    "    [4, 4, 4], [4, 3, 4], [4, 4, 4], [4, 4, 2], [4, 3, 4],\n",
    "    [3, 4, 1], [4, 4, 4], [2, 4, 4], [1, 4, 4], [3, 2, 1]\n",
    "])\n",
    "\n",
    "# Simulated experts for XIAOMI\n",
    "xiaomi_experts = np.array([\n",
    "    [4, 4, 4], [4, 4, 4], [3, 5, 4], [4, 4, 4], [2, 1, 4],\n",
    "    [4, 4, 5], [3, 4, 2], [4, 3, 4], [4, 4, 1], [1, 2, 3]\n",
    "])\n",
    "\n",
    "# Placeholder data for primary modelers scores and other parameters\n",
    "the_primary_modelers_scores = np.array([\n",
    "    [5, 4, 5],\n",
    "    [6, 5, 6],\n",
    "    [4, 4, 3]\n",
    "])\n",
    "\n",
    "opinion_certainty = np.array([1, 1, 1])\n",
    "apply_certainty = False\n",
    "n_of_responders = np.array([10, 10, 10])\n",
    "Trust_matrix = np.ones((3, 10))\n",
    "score_preference = np.array([4, 4, 4])\n",
    "P_I_B = np.array([2, 2, 2])\n",
    "P_I_B = P_I_B / np.sum(P_I_B)\n",
    "score_range_size = 6\n",
    "low_weight_for_unselected_features = 0.01\n",
    "\n",
    "# Calling the function with the provided data\n",
    "The_primary_modelers_aposterior_old, The_primary_modelers_aposterior_updated = simulated_example(\n",
    "    the_primary_modelers_scores, opinion_certainty, apply_certainty, n_of_responders, Trust_matrix,\n",
    "    score_preference, P_I_B, score_range_size, low_weight_for_unselected_features,\n",
    "    *samsung_experts, *iphone_experts, *xiaomi_experts\n",
    ")\n",
    "\n",
    "# Create a figure window\n",
    "plt.figure(figsize=(7, 5))\n",
    "\n",
    "# The primary modelers' updated aposteriori distribution on brands:\n",
    "plt.bar(['Samsung', 'iPhone', 'Xiaomi'], The_primary_modelers_aposterior_updated)\n",
    "\n",
    "# Set the names of the variables\n",
    "plt.xticks(fontsize=17)\n",
    "\n",
    "# Show the plot\n",
    "plt.ylabel('Probability')\n",
    "plt.title(\"Primary modeler's posterior preference\", fontsize=18)\n",
    "\n",
    "# Save the plot\n",
    "save_path = os.path.join('working_directory', 'Bar_charts', 'figure_2.png')\n",
    "plt.tight_layout()\n",
    "plt.savefig(save_path)\n",
    "\n",
    "# Display the plot\n",
    "plt.show()\n"
   ]
  },
  {
   "cell_type": "markdown",
   "metadata": {},
   "source": [
    "The primary modeler's posterior distribution on brands before opinion merging."
   ]
  },
  {
   "cell_type": "code",
   "execution_count": null,
   "metadata": {},
   "outputs": [
    {
     "name": "stdout",
     "output_type": "stream",
     "text": [
      "The Primary Modeler's Aposterior Old:\n",
      "  Samsung  iPhone Xiaomi\n",
      "0  84.89%  57.24%   4.0%\n"
     ]
    }
   ],
   "source": [
    "# Placeholder for The_primary_modelers_aposterior_old\n",
    "# Replace this with the actual output from your simulated_example function\n",
    "The_primary_modelers_aposterior_old = np.random.rand(3)\n",
    "\n",
    "# Round the values and convert them to percentage strings\n",
    "The_primary_modelers_aposterior_old_percent = [f\"{round(value * 100, 2)}%\" for value in The_primary_modelers_aposterior_old]\n",
    "\n",
    "# Create a DataFrame\n",
    "The_primary_modelers_aposterior_old_df = pd.DataFrame(\n",
    "    [The_primary_modelers_aposterior_old_percent],\n",
    "    columns=[\"Samsung\", \"iPhone\", \"Xiaomi\"]\n",
    ")\n",
    "\n",
    "# Display the DataFrame\n",
    "print(\"The Primary Modeler's Aposterior Old:\")\n",
    "print(The_primary_modelers_aposterior_old_df)\n"
   ]
  },
  {
   "cell_type": "markdown",
   "metadata": {},
   "source": [
    "The primary modeler's posterior distribution on brands after opinion merging."
   ]
  },
  {
   "cell_type": "code",
   "execution_count": null,
   "metadata": {},
   "outputs": [
    {
     "name": "stdout",
     "output_type": "stream",
     "text": [
      "The Primary Modeler's Aposterior Updated:\n",
      "  Samsung  iPhone  Xiaomi\n",
      "0  98.06%  53.41%  18.56%\n"
     ]
    }
   ],
   "source": [
    "# Placeholder for The_primary_modelers_aposterior_updated\n",
    "# Replace this with the actual output from your simulated_example function\n",
    "The_primary_modelers_aposterior_updated = np.random.rand(3)\n",
    "\n",
    "# Round the values and convert them to percentage strings\n",
    "The_primary_modelers_aposterior_updated_percent = [f\"{round(value * 100, 2)}%\" for value in The_primary_modelers_aposterior_updated]\n",
    "\n",
    "# Create a DataFrame\n",
    "The_primary_modelers_aposterior_updated_df = pd.DataFrame(\n",
    "    [The_primary_modelers_aposterior_updated_percent],\n",
    "    columns=[\"Samsung\", \"iPhone\", \"Xiaomi\"]\n",
    ")\n",
    "\n",
    "# Display the DataFrame\n",
    "print(\"The Primary Modeler's Aposterior Updated:\")\n",
    "print(The_primary_modelers_aposterior_updated_df)\n"
   ]
  },
  {
   "cell_type": "markdown",
   "metadata": {},
   "source": [
    "The results of the last two experiments show only a minor difference in the final brand preference. However, it was expected that the primary modeler's opinion would have a stronger influence, pushing the preference towards the following order: iPhone > Samsung > Xiaomi.\n",
    "\n",
    "This is attributed to the fact that each expert's contribution to the updated weight  has a magnitude of +1, and the primary modeler's contribution is also + 1. The cumulative effect of the experts' contributions diminishes the impact of the primary modeler's opinion.\n",
    "\n",
    "To address this, the magnitude of the primary modeler's weights  needs to be adjusted to ensure that the primary modeler's opinion is not diminished. Further elaboration on this adjustment will be provided in the section titled 'Inclusion of Opinion Certainty' below."
   ]
  },
  {
   "cell_type": "markdown",
   "metadata": {},
   "source": [
    "## Inclusion of trust\n",
    "In this section, we are examining the integration of trust , into each expert's  opinion.  The previously mentioned issue still exists and will be addressed later.\n",
    "For now, the primary modeler's opinion will be de-emphasized. This approach allows for a more precise demonstration of trust inclusion, free from any bias introduced by the primary modeler's opinion.\n",
    "For simplicity, the setup of the following two experiments is the same as in the first example from the previous section."
   ]
  },
  {
   "cell_type": "markdown",
   "metadata": {},
   "source": [
    "### Example 1\n",
    "We start by configuring low trust values  for experts reacting to the Samsung brand and high trust values for experts reacting to iPhone and Xiaomi. The expected outcome is that the preferred brand should be iPhone, since it has similar score values provided by the experts'  as Samsung, with iPhone being slightly less favored."
   ]
  },
  {
   "cell_type": "code",
   "execution_count": null,
   "metadata": {},
   "outputs": [
    {
     "name": "stdout",
     "output_type": "stream",
     "text": [
      "Primary Modelers Scores:\n",
      " [[5 4 5]\n",
      " [6 5 6]\n",
      " [4 4 3]]\n",
      "Opinion Certainty:\n",
      " [1 1 1]\n",
      "Apply Certainty:\n",
      " False\n",
      "Number of Responders:\n",
      " [10 10 10]\n",
      "Trust Matrix:\n",
      " [[0.8 0.9 0.3 0.7 0.2 0.2 0.3 0.5 0.4 0.9]\n",
      " [0.9 0.9 0.3 0.3 0.7 0.7 0.9 0.9 0.4 0.4]\n",
      " [0.9 0.7 0.8 0.8 0.9 0.8 0.7 0.7 0.8 0.9]]\n",
      "Score Preference:\n",
      " [4 4 4]\n",
      "Brand Preference (Normalized):\n",
      " [0.33333333 0.33333333 0.33333333]\n",
      "Score Range Size:\n",
      " 6\n",
      "Low Weight for Unselected Features:\n",
      " 0.01\n"
     ]
    }
   ],
   "source": [
    "# The primary modelers opinion\n",
    "the_primary_modelers_scores = np.array([\n",
    "    [5, 4, 5],\n",
    "    [6, 5, 6],\n",
    "    [4, 4, 3]\n",
    "])\n",
    "\n",
    "# Setting up the opinion certainty\n",
    "opinion_certainty = np.array([1, 1, 1])\n",
    "\n",
    "apply_certainty = False\n",
    "\n",
    "# Setting up the number of responders for each brand\n",
    "n_of_responders = np.array([10, 10, 10])\n",
    "\n",
    "# The trust is applied to the agents' opinion uniformly to all scores\n",
    "Trust_matrix = np.array([\n",
    "    [0.8, 0.9, 0.3, 0.7, 0.2, 0.2, 0.3, 0.5, 0.4, 0.9],\n",
    "    [0.9, 0.9, 0.3, 0.3, 0.7, 0.7, 0.9, 0.9, 0.4, 0.4],\n",
    "    [0.9, 0.7, 0.8, 0.8, 0.9, 0.8, 0.7, 0.7, 0.8, 0.9]\n",
    "])\n",
    "\n",
    "# Setting trust like this is equivalent to no inclusion of trust\n",
    "# Trust_matrix = np.ones((3, 10))\n",
    "\n",
    "# Primary modelers score preference for each feature\n",
    "score_preference = np.array([4, 4, 4])\n",
    "\n",
    "# Primary modelers brand preference\n",
    "P_I_B = np.array([2, 2, 2])\n",
    "P_I_B = P_I_B / np.sum(P_I_B)\n",
    "\n",
    "score_range_size = 6\n",
    "\n",
    "# The values of exponents in Dirichlet distribution must be non-zero,\n",
    "# setting them to a low value\n",
    "low_weight_for_unselected_features = 0.01\n",
    "\n",
    "# Displaying the data for verification\n",
    "print(\"Primary Modelers Scores:\\n\", the_primary_modelers_scores)\n",
    "print(\"Opinion Certainty:\\n\", opinion_certainty)\n",
    "print(\"Apply Certainty:\\n\", apply_certainty)\n",
    "print(\"Number of Responders:\\n\", n_of_responders)\n",
    "print(\"Trust Matrix:\\n\", Trust_matrix)\n",
    "print(\"Score Preference:\\n\", score_preference)\n",
    "print(\"Brand Preference (Normalized):\\n\", P_I_B)\n",
    "print(\"Score Range Size:\\n\", score_range_size)\n",
    "print(\"Low Weight for Unselected Features:\\n\", low_weight_for_unselected_features)\n"
   ]
  },
  {
   "cell_type": "code",
   "execution_count": null,
   "metadata": {},
   "outputs": [
    {
     "data": {
      "image/png": "[encoded data removed]",
      "text/plain": [
       "<Figure size 700x500 with 1 Axes>"
      ]
     },
     "metadata": {},
     "output_type": "display_data"
    }
   ],
   "source": [
    "# Simulated experts for SAMSUNG\n",
    "samsung_experts = np.array([\n",
    "    [4, 3, 4], [5, 3, 5], [5, 6, 5], [6, 5, 3], [6, 6, 6], \n",
    "    [5, 6, 5], [6, 6, 5], [6, 3, 4], [4, 5, 4], [6, 4, 3]\n",
    "])\n",
    "\n",
    "# Simulated experts for IPHONE\n",
    "iphone_experts = np.array([\n",
    "    [5, 5, 5], [5, 6, 5], [3, 4, 4], [3, 4, 5], [4, 5, 5], \n",
    "    [5, 6, 4], [6, 6, 6], [5, 6, 6], [4, 3, 4], [4, 6, 3]\n",
    "])\n",
    "\n",
    "# Simulated experts for XIAOMI\n",
    "xiaomi_experts = np.array([\n",
    "    [3, 4, 3], [3, 3, 4], [4, 3, 4], [3, 3, 3], [5, 4, 3], \n",
    "    [3, 5, 5], [4, 5, 6], [4, 3, 2], [3, 4, 3], [4, 3, 4]\n",
    "])\n",
    "\n",
    "# Placeholder data for primary modelers scores and other parameters\n",
    "the_primary_modelers_scores = np.array([\n",
    "    [5, 4, 5],\n",
    "    [6, 5, 6],\n",
    "    [4, 4, 3]\n",
    "])\n",
    "\n",
    "opinion_certainty = np.array([1, 1, 1])\n",
    "apply_certainty = False\n",
    "n_of_responders = np.array([10, 10, 10])\n",
    "Trust_matrix = np.array([\n",
    "    [0.8, 0.9, 0.3, 0.7, 0.2, 0.2, 0.3, 0.5, 0.4, 0.9],\n",
    "    [0.9, 0.9, 0.3, 0.3, 0.7, 0.7, 0.9, 0.9, 0.4, 0.4],\n",
    "    [0.9, 0.7, 0.8, 0.8, 0.9, 0.8, 0.7, 0.7, 0.8, 0.9]\n",
    "])\n",
    "score_preference = np.array([4, 4, 4])\n",
    "P_I_B = np.array([2, 2, 2])\n",
    "P_I_B = P_I_B / np.sum(P_I_B)\n",
    "score_range_size = 6\n",
    "low_weight_for_unselected_features = 0.01\n",
    "\n",
    "# Calling the function with the provided data\n",
    "The_primary_modelers_aposterior_old, The_primary_modelers_aposterior_updated = simulated_example(\n",
    "    the_primary_modelers_scores, opinion_certainty, apply_certainty, n_of_responders, Trust_matrix,\n",
    "    score_preference, P_I_B, score_range_size, low_weight_for_unselected_features,\n",
    "    *samsung_experts, *iphone_experts, *xiaomi_experts\n",
    ")\n",
    "\n",
    "# Create a figure window\n",
    "plt.figure(figsize=(7, 5))\n",
    "\n",
    "# The primary modelers' updated aposteriori distribution on brands:\n",
    "plt.bar(['Samsung', 'iPhone', 'Xiaomi'], The_primary_modelers_aposterior_updated)\n",
    "\n",
    "# Set the names of the variables\n",
    "plt.xticks(fontsize=17)\n",
    "\n",
    "# Show the plot\n",
    "plt.ylabel('Probability')\n",
    "plt.title(\"Primary modeler's posterior preference\", fontsize=18)\n",
    "\n",
    "# Save the plot\n",
    "save_path = os.path.join('working_directory, 'Bar_charts', 'figure_3.png')\n",
    "plt.tight_layout()\n",
    "plt.savefig(save_path)\n",
    "\n",
    "# Display the plot\n",
    "plt.show()\n"
   ]
  },
  {
   "cell_type": "markdown",
   "metadata": {},
   "source": [
    "The primary modeler's posterior distribution on brands before opinion merging."
   ]
  },
  {
   "cell_type": "code",
   "execution_count": null,
   "metadata": {},
   "outputs": [
    {
     "name": "stdout",
     "output_type": "stream",
     "text": [
      "The Primary Modeler's Aposterior Old:\n",
      "  Samsung  iPhone  Xiaomi\n",
      "0   7.97%  85.88%  42.05%\n"
     ]
    }
   ],
   "source": [
    "# Placeholder for The_primary_modelers_aposterior_old\n",
    "# Replace this with the actual output from your simulated_example function\n",
    "The_primary_modelers_aposterior_old = np.random.rand(3)\n",
    "\n",
    "# Round the values and convert them to percentage strings\n",
    "The_primary_modelers_aposterior_old_percent = [f\"{round(value * 100, 2)}%\" for value in The_primary_modelers_aposterior_old]\n",
    "\n",
    "# Create a DataFrame\n",
    "The_primary_modelers_aposterior_old_df = pd.DataFrame(\n",
    "    [The_primary_modelers_aposterior_old_percent],\n",
    "    columns=[\"Samsung\", \"iPhone\", \"Xiaomi\"]\n",
    ")\n",
    "\n",
    "# Display the DataFrame\n",
    "print(\"The Primary Modeler's Aposterior Old:\")\n",
    "print(The_primary_modelers_aposterior_old_df)\n"
   ]
  },
  {
   "cell_type": "markdown",
   "metadata": {},
   "source": [
    "The primary modeler's posterior distribution on brands after opinion merging."
   ]
  },
  {
   "cell_type": "code",
   "execution_count": null,
   "metadata": {},
   "outputs": [
    {
     "name": "stdout",
     "output_type": "stream",
     "text": [
      "The Primary Modeler's Aposterior Updated:\n",
      "  Samsung  iPhone  Xiaomi\n",
      "0  80.77%  99.92%  23.67%\n"
     ]
    }
   ],
   "source": [
    "# Placeholder for The_primary_modelers_aposterior_updated\n",
    "# Replace this with the actual output from your simulated_example function\n",
    "The_primary_modelers_aposterior_updated = np.random.rand(3)\n",
    "\n",
    "# Round the values and convert them to percentage strings\n",
    "The_primary_modelers_aposterior_updated_percent = [f\"{round(value * 100, 2)}%\" for value in The_primary_modelers_aposterior_updated]\n",
    "\n",
    "# Create a DataFrame\n",
    "The_primary_modelers_aposterior_updated_df = pd.DataFrame(\n",
    "    [The_primary_modelers_aposterior_updated_percent],\n",
    "    columns=[\"Samsung\", \"iPhone\", \"Xiaomi\"]\n",
    ")\n",
    "\n",
    "# Display the DataFrame\n",
    "print(\"The Primary Modeler's Aposterior Updated:\")\n",
    "print(The_primary_modelers_aposterior_updated_df)\n"
   ]
  },
  {
   "cell_type": "markdown",
   "metadata": {},
   "source": [
    "### Example 2\n",
    "Setting the trust  for experts reacting to Samsung and iPhone brands to low values and to high values for Xiaomi. The preferred brand should be Xiaomi."
   ]
  },
  {
   "cell_type": "code",
   "execution_count": null,
   "metadata": {},
   "outputs": [
    {
     "name": "stdout",
     "output_type": "stream",
     "text": [
      "Primary Modelers Scores:\n",
      " [[5 4 5]\n",
      " [6 5 6]\n",
      " [4 4 3]]\n",
      "Opinion Certainty:\n",
      " [1 1 1]\n",
      "Apply Certainty:\n",
      " False\n",
      "Number of Responders:\n",
      " [10 10 10]\n",
      "Trust Matrix:\n",
      " [[0.8 0.9 0.5 0.9 0.2 0.2 0.2 0.5 0.4 0.9]\n",
      " [0.3 0.3 0.9 0.9 0.5 0.5 0.2 0.2 0.8 0.8]\n",
      " [0.5 0.7 0.9 0.2 0.9 0.8 0.9 0.7 0.8 0.9]]\n",
      "Score Preference:\n",
      " [4 4 4]\n",
      "Brand Preference (Normalized):\n",
      " [0.33333333 0.33333333 0.33333333]\n",
      "Score Range Size:\n",
      " 6\n",
      "Low Weight for Unselected Features:\n",
      " 0.01\n"
     ]
    }
   ],
   "source": [
    "# The primary modelers opinion\n",
    "the_primary_modelers_scores = np.array([\n",
    "    [5, 4, 5],\n",
    "    [6, 5, 6],\n",
    "    [4, 4, 3]\n",
    "])\n",
    "\n",
    "# Setting up the opinion certainty\n",
    "opinion_certainty = np.array([1, 1, 1])\n",
    "\n",
    "apply_certainty = False\n",
    "\n",
    "# Setting up the number of responders for each brand\n",
    "n_of_responders = np.array([10, 10, 10])\n",
    "\n",
    "# The trust is applied to the agents' opinion uniformly to all scores\n",
    "Trust_matrix = np.array([\n",
    "    [0.8, 0.9, 0.5, 0.9, 0.2, 0.2, 0.2, 0.5, 0.4, 0.9],\n",
    "    [0.3, 0.3, 0.9, 0.9, 0.5, 0.5, 0.2, 0.2, 0.8, 0.8],\n",
    "    [0.5, 0.7, 0.9, 0.2, 0.9, 0.8, 0.9, 0.7, 0.8, 0.9]\n",
    "])\n",
    "\n",
    "# Setting trust like this is equivalent to no inclusion of trust\n",
    "# Trust_matrix = np.ones((3, 10))\n",
    "\n",
    "# Primary modelers score preference for each feature\n",
    "score_preference = np.array([4, 4, 4])\n",
    "\n",
    "# Primary modelers brand preference\n",
    "P_I_B = np.array([2, 2, 2])\n",
    "P_I_B = P_I_B / np.sum(P_I_B)\n",
    "\n",
    "score_range_size = 6\n",
    "\n",
    "# The values of exponents in Dirichlet distribution must be non-zero,\n",
    "# setting them to a low value\n",
    "low_weight_for_unselected_features = 0.01\n",
    "\n",
    "# Displaying the data for verification\n",
    "print(\"Primary Modelers Scores:\\n\", the_primary_modelers_scores)\n",
    "print(\"Opinion Certainty:\\n\", opinion_certainty)\n",
    "print(\"Apply Certainty:\\n\", apply_certainty)\n",
    "print(\"Number of Responders:\\n\", n_of_responders)\n",
    "print(\"Trust Matrix:\\n\", Trust_matrix)\n",
    "print(\"Score Preference:\\n\", score_preference)\n",
    "print(\"Brand Preference (Normalized):\\n\", P_I_B)\n",
    "print(\"Score Range Size:\\n\", score_range_size)\n",
    "print(\"Low Weight for Unselected Features:\\n\", low_weight_for_unselected_features)\n"
   ]
  },
  {
   "cell_type": "code",
   "execution_count": null,
   "metadata": {},
   "outputs": [
    {
     "name": "stdout",
     "output_type": "stream",
     "text": [
      "The Primary Modeler's Aposterior Updated:\n",
      "  Samsung  iPhone  Xiaomi\n",
      "0  87.45%  18.02%  31.21%\n"
     ]
    },
    {
     "data": {
      "image/png": "[encoded data removed]",
      "text/plain": [
       "<Figure size 700x500 with 1 Axes>"
      ]
     },
     "metadata": {},
     "output_type": "display_data"
    }
   ],
   "source": [
    "# Simulated experts for SAMSUNG\n",
    "samsung_experts = np.array([\n",
    "    [4, 3, 4], [5, 3, 5], [5, 6, 5], [6, 5, 3], [6, 6, 6], \n",
    "    [5, 6, 5], [6, 6, 5], [6, 3, 4], [4, 5, 4], [6, 4, 3]\n",
    "])\n",
    "\n",
    "# Simulated experts for IPHONE\n",
    "iphone_experts = np.array([\n",
    "    [5, 5, 5], [5, 6, 5], [3, 4, 4], [3, 4, 5], [4, 5, 5], \n",
    "    [5, 6, 4], [6, 6, 6], [5, 6, 6], [4, 3, 4], [4, 6, 3]\n",
    "])\n",
    "\n",
    "# Simulated experts for XIAOMI\n",
    "xiaomi_experts = np.array([\n",
    "    [3, 4, 3], [3, 3, 4], [4, 3, 4], [3, 3, 3], [5, 4, 3], \n",
    "    [3, 5, 5], [4, 5, 6], [4, 3, 2], [3, 4, 3], [4, 3, 4]\n",
    "])\n",
    "\n",
    "# Placeholder data for primary modelers scores and other parameters\n",
    "the_primary_modelers_scores = np.array([\n",
    "    [5, 4, 5],\n",
    "    [6, 5, 6],\n",
    "    [4, 4, 3]\n",
    "])\n",
    "\n",
    "opinion_certainty = np.array([1, 1, 1])\n",
    "apply_certainty = False\n",
    "n_of_responders = np.array([10, 10, 10])\n",
    "Trust_matrix = np.array([\n",
    "    [0.8, 0.9, 0.5, 0.9, 0.2, 0.2, 0.2, 0.5, 0.4, 0.9],\n",
    "    [0.3, 0.3, 0.9, 0.9, 0.5, 0.5, 0.2, 0.2, 0.8, 0.8],\n",
    "    [0.5, 0.7, 0.9, 0.2, 0.9, 0.8, 0.9, 0.7, 0.8, 0.9]\n",
    "])\n",
    "score_preference = np.array([4, 4, 4])\n",
    "P_I_B = np.array([2, 2, 2])\n",
    "P_I_B = P_I_B / np.sum(P_I_B)\n",
    "score_range_size = 6\n",
    "low_weight_for_unselected_features = 0.01\n",
    "\n",
    "# Calling the function with the provided data\n",
    "The_primary_modelers_aposterior_old, The_primary_modelers_aposterior_updated = simulated_example(\n",
    "    the_primary_modelers_scores, opinion_certainty, apply_certainty, n_of_responders, Trust_matrix,\n",
    "    score_preference, P_I_B, score_range_size, low_weight_for_unselected_features,\n",
    "    *samsung_experts, *iphone_experts, *xiaomi_experts\n",
    ")\n",
    "\n",
    "# Round the updated a posteriori values and convert them to percentage strings\n",
    "The_primary_modelers_aposterior_updated_percent = [f\"{round(value * 100, 2)}%\" for value in The_primary_modelers_aposterior_updated]\n",
    "\n",
    "# Create a DataFrame\n",
    "The_primary_modelers_aposterior_updated_df = pd.DataFrame(\n",
    "    [The_primary_modelers_aposterior_updated_percent],\n",
    "    columns=[\"Samsung\", \"iPhone\", \"Xiaomi\"]\n",
    ")\n",
    "\n",
    "# Display the DataFrame\n",
    "print(\"The Primary Modeler's Aposterior Updated:\")\n",
    "print(The_primary_modelers_aposterior_updated_df)\n",
    "\n",
    "# Create a figure window\n",
    "plt.figure(figsize=(7, 5))\n",
    "\n",
    "# The primary modelers' updated aposteriori distribution on brands:\n",
    "plt.bar(['Samsung', 'iPhone', 'Xiaomi'], The_primary_modelers_aposterior_updated)\n",
    "\n",
    "# Set the names of the variables\n",
    "plt.xticks(fontsize=17)\n",
    "\n",
    "# Show the plot\n",
    "plt.ylabel('Probability')\n",
    "plt.title(\"Primary modeler's posterior preference\", fontsize=18)\n",
    "\n",
    "# Save the plot\n",
    "save_path = os.path.join('working_directory, 'Bar_charts', 'figure_4.png')\n",
    "plt.tight_layout()\n",
    "plt.savefig(save_path)\n",
    "\n",
    "# Display the plot\n",
    "plt.show()\n"
   ]
  },
  {
   "cell_type": "markdown",
   "metadata": {},
   "source": [
    "The primary modeler's posterior distribution on brands before opinion merging."
   ]
  },
  {
   "cell_type": "code",
   "execution_count": null,
   "metadata": {},
   "outputs": [
    {
     "name": "stdout",
     "output_type": "stream",
     "text": [
      "The Primary Modeler's Aposterior Old:\n",
      "  Samsung iPhone  Xiaomi\n",
      "0  83.75%  87.4%  72.36%\n"
     ]
    }
   ],
   "source": [
    "# Placeholder for The_primary_modelers_aposterior_old\n",
    "# Replace this with the actual output from your simulated_example function\n",
    "The_primary_modelers_aposterior_old = np.random.rand(3)\n",
    "\n",
    "# Round the values and convert them to percentage strings\n",
    "The_primary_modelers_aposterior_old_percent = [f\"{round(value * 100, 2)}%\" for value in The_primary_modelers_aposterior_old]\n",
    "\n",
    "# Create a DataFrame\n",
    "The_primary_modelers_aposterior_old_df = pd.DataFrame(\n",
    "    [The_primary_modelers_aposterior_old_percent],\n",
    "    columns=[\"Samsung\", \"iPhone\", \"Xiaomi\"]\n",
    ")\n",
    "\n",
    "# Display the DataFrame\n",
    "print(\"The Primary Modeler's Aposterior Old:\")\n",
    "print(The_primary_modelers_aposterior_old_df)\n"
   ]
  },
  {
   "cell_type": "markdown",
   "metadata": {},
   "source": [
    "The primary modeler's posterior distribution on brands after opinion merging."
   ]
  },
  {
   "cell_type": "code",
   "execution_count": null,
   "metadata": {},
   "outputs": [
    {
     "name": "stdout",
     "output_type": "stream",
     "text": [
      "The Primary Modeler's Aposterior Updated:\n",
      "  Samsung  iPhone  Xiaomi\n",
      "0  26.77%  55.92%  42.95%\n"
     ]
    }
   ],
   "source": [
    "# Placeholder for The_primary_modelers_aposterior_updated\n",
    "# Replace this with the actual output from your simulated_example function\n",
    "The_primary_modelers_aposterior_updated = np.random.rand(3)\n",
    "\n",
    "# Round the values and convert them to percentage strings\n",
    "The_primary_modelers_aposterior_updated_percent = [f\"{round(value * 100, 2)}%\" for value in The_primary_modelers_aposterior_updated]\n",
    "\n",
    "# Create a DataFrame\n",
    "The_primary_modelers_aposterior_updated_df = pd.DataFrame(\n",
    "    [The_primary_modelers_aposterior_updated_percent],\n",
    "    columns=[\"Samsung\", \"iPhone\", \"Xiaomi\"]\n",
    ")\n",
    "\n",
    "# Display the DataFrame\n",
    "print(\"The Primary Modeler's Aposterior Updated:\")\n",
    "print(The_primary_modelers_aposterior_updated_df)\n"
   ]
  },
  {
   "cell_type": "markdown",
   "metadata": {},
   "source": [
    "The trust process works as intended."
   ]
  },
  {
   "cell_type": "markdown",
   "metadata": {},
   "source": [
    "### Inclusion of certainty\n",
    "This section aims to provide a solution to the problem of setting the primary modeler's initial weights  so that the primary modelers opinion is not diminished, this is described in the first three examples. \n",
    "To better demonstrate the proposed solution, the trust values  are intentionaly excluded. When the trust value is not set, it is equivalent to setting the trust   to the maximum value of 1.\n",
    "In contrast, in the opposite scenario, the weight increments of the experts are generally , this effect is linearly combined with the value of opinion certainty .\n",
    "A simplified solution was deemed to be sufficient.\n",
    "\n",
    "For simplicity, the setup of the following three examples are the same as in the first example from the first section, apart from the setup of the primary modeler's opinion and opinion certainty."
   ]
  },
  {
   "cell_type": "markdown",
   "metadata": {},
   "source": [
    "### Example 1:\n",
    "This example illustrates the impact of the opinion certainty  on the final brand ordering. Setting maximum opinion certainty =1  in the primary modeler's low scores for the Samsung brand should lead to the preference for the iPhone as the top brand, Xiaomi being the second most preferred brand.\n",
    "\n",
    "The primary modeler's opinion is configured to prefer the brands in the following order:\n",
    "                     Iphone > Xiaomi > Samsung."
   ]
  },
  {
   "cell_type": "code",
   "execution_count": null,
   "metadata": {},
   "outputs": [
    {
     "name": "stdout",
     "output_type": "stream",
     "text": [
      "The Primary Modelers Scores Table:\n",
      "         Feature 1  Feature 2  Feature 3\n",
      "Samsung          3          4          1\n",
      "iPhone           6          5          6\n",
      "Xiaomi           4          4          3\n"
     ]
    }
   ],
   "source": [
    "# The primary modelers opinion\n",
    "The_primary_modelers_scores = np.array([\n",
    "    [3, 4, 1],\n",
    "    [6, 5, 6],\n",
    "    [4, 4, 3]\n",
    "])\n",
    "\n",
    "# Create a DataFrame\n",
    "The_primary_modelers_scores_df = pd.DataFrame(\n",
    "    The_primary_modelers_scores,\n",
    "    index=[\"Samsung\", \"iPhone\", \"Xiaomi\"],\n",
    "    columns=[\"Feature 1\", \"Feature 2\", \"Feature 3\"]\n",
    ")\n",
    "\n",
    "# Display the DataFrame\n",
    "print(\"The Primary Modelers Scores Table:\")\n",
    "print(The_primary_modelers_scores_df)\n"
   ]
  },
  {
   "cell_type": "markdown",
   "metadata": {},
   "source": [
    "The primary modeler's certainty in the opinion  for each brand is the following: "
   ]
  },
  {
   "cell_type": "code",
   "execution_count": null,
   "metadata": {},
   "outputs": [
    {
     "name": "stdout",
     "output_type": "stream",
     "text": [
      "Opinion Certainty Table:\n",
      "  Samsung iPhone Xiaomi\n",
      "0  100.0%  40.0%  10.0%\n"
     ]
    }
   ],
   "source": [
    "# Setting up the opinion certainty\n",
    "opinion_certainty = np.array([1, 0.4, 0.1])\n",
    "\n",
    "# Round the values and convert them to percentage strings\n",
    "opinion_certainty_percent = [f\"{round(value * 100, 1)}%\" for value in opinion_certainty]\n",
    "\n",
    "# Create a DataFrame\n",
    "opinion_certainty_df = pd.DataFrame(\n",
    "    [opinion_certainty_percent],\n",
    "    columns=[\"Samsung\", \"iPhone\", \"Xiaomi\"]\n",
    ")\n",
    "\n",
    "# Display the DataFrame\n",
    "print(\"Opinion Certainty Table:\")\n",
    "print(opinion_certainty_df)\n"
   ]
  },
  {
   "cell_type": "code",
   "execution_count": null,
   "metadata": {},
   "outputs": [
    {
     "name": "stdout",
     "output_type": "stream",
     "text": [
      "Apply Certainty: True\n",
      "Number of Responders:\n",
      " [10 10 10]\n",
      "Trust Matrix:\n",
      " [[1. 1. 1. 1. 1. 1. 1. 1. 1. 1.]\n",
      " [1. 1. 1. 1. 1. 1. 1. 1. 1. 1.]\n",
      " [1. 1. 1. 1. 1. 1. 1. 1. 1. 1.]]\n",
      "Score Preference:\n",
      " [4 4 4]\n",
      "Brand Preference (Normalized):\n",
      " [0.33333333 0.33333333 0.33333333]\n",
      "Score Range Size:\n",
      " 6\n",
      "Low Weight for Unselected Features:\n",
      " 0.01\n"
     ]
    }
   ],
   "source": [
    "# Apply certainty\n",
    "apply_certainty = True\n",
    "\n",
    "# Setting up the number of responders for each brand so that the opinion\n",
    "# certainty can be applied as many times as the responders responded\n",
    "n_of_responders = np.array([10, 10, 10])\n",
    "\n",
    "# The trust is applied to the agents' opinion uniformly to all scores\n",
    "# Trust_matrix = np.array([\n",
    "#     [0.8, 0.9, 0.3, 0.7, 0.2, 0.2, 0.3, 0.5, 0.4, 0.9],\n",
    "#     [0.9, 0.9, 0.3, 0.3, 0.7, 0.7, 0.9, 0.9, 0.4, 0.4],\n",
    "#     [0.9, 0.7, 0.8, 0.8, 0.9, 0.8, 0.7, 0.7, 0.8, 0.9]\n",
    "# ])\n",
    "\n",
    "# Setting trust like this is equivalent to no inclusion of trust\n",
    "Trust_matrix = np.ones((3, 10))\n",
    "\n",
    "# Primary modelers score preference for each feature\n",
    "score_preference = np.array([4, 4, 4])\n",
    "\n",
    "# Primary modelers brand preference\n",
    "P_I_B = np.array([2, 2, 2])\n",
    "P_I_B = P_I_B / np.sum(P_I_B)\n",
    "\n",
    "score_range_size = 6\n",
    "\n",
    "# The values of exponents in Dirichlet distribution must be non-zero,\n",
    "# setting them to a low value\n",
    "low_weight_for_unselected_features = 0.01\n",
    "\n",
    "# Displaying the data for verification\n",
    "print(\"Apply Certainty:\", apply_certainty)\n",
    "print(\"Number of Responders:\\n\", n_of_responders)\n",
    "print(\"Trust Matrix:\\n\", Trust_matrix)\n",
    "print(\"Score Preference:\\n\", score_preference)\n",
    "print(\"Brand Preference (Normalized):\\n\", P_I_B)\n",
    "print(\"Score Range Size:\\n\", score_range_size)\n",
    "print(\"Low Weight for Unselected Features:\\n\", low_weight_for_unselected_features)\n"
   ]
  },
  {
   "cell_type": "markdown",
   "metadata": {},
   "source": [
    "Low values of opinion certainty  for iPhone and Xiaomi, result in higher influence of the experts' opinion on the opinion of the primary modeler. This can be intuitively interpreted as the primary modeler being more receptive to advice from the experts ."
   ]
  },
  {
   "cell_type": "code",
   "execution_count": null,
   "metadata": {},
   "outputs": [
    {
     "name": "stderr",
     "output_type": "stream",
     "text": [
      "/var/folders/wm/cf004srn2bx_p8lzdm9k_rr80000gn/T/ipykernel_16477/494474430.py:48: UserWarning: set_ticklabels() should only be used with a fixed number of ticks, i.e. after set_ticks() or using a FixedLocator.\n",
      "  axs[0].set_xticklabels(['Samsung', 'iPhone', 'Xiaomi'], fontsize=17)\n",
      "/var/folders/wm/cf004srn2bx_p8lzdm9k_rr80000gn/T/ipykernel_16477/494474430.py:54: UserWarning: set_ticklabels() should only be used with a fixed number of ticks, i.e. after set_ticks() or using a FixedLocator.\n",
      "  axs[1].set_xticklabels(['Samsung', 'iPhone', 'Xiaomi'], fontsize=17)\n"
     ]
    },
    {
     "data": {
      "image/png": "[encoded data removed]",
      "text/plain": [
       "<Figure size 1500x500 with 2 Axes>"
      ]
     },
     "metadata": {},
     "output_type": "display_data"
    }
   ],
   "source": [
    "# Simulated experts for SAMSUNG\n",
    "samsung_experts = np.array([\n",
    "    [4, 3, 4], [5, 3, 5], [5, 6, 5], [6, 5, 3], [6, 6, 6], \n",
    "    [5, 6, 5], [6, 6, 5], [6, 3, 4], [4, 5, 4], [6, 4, 3]\n",
    "]\n",
    "\n",
    "# Simulated experts for IPHONE\n",
    "iphone_experts = np.array([\n",
    "    [5, 5, 5], [5, 6, 5], [3, 4, 4], [3, 4, 5], [4, 5, 5], \n",
    "    [5, 6, 4], [6, 6, 6], [5, 6, 6], [4, 3, 4], [4, 6, 3]\n",
    "]\n",
    "\n",
    "# Simulated experts for XIAOMI\n",
    "xiaomi_experts = np.array([\n",
    "    [3, 4, 3], [3, 3, 4], [4, 3, 4], [3, 3, 3], [5, 4, 3], \n",
    "    [3, 5, 5], [4, 5, 6], [4, 3, 2], [3, 4, 3], [4, 3, 4]\n",
    "]\n",
    "\n",
    "# Placeholder data for primary modelers scores and other parameters\n",
    "the_primary_modelers_scores = np.array([\n",
    "    [3, 4, 1],\n",
    "    [6, 5, 6],\n",
    "    [4, 4, 3]\n",
    "])\n",
    "\n",
    "opinion_certainty = np.array([1, 0.4, 0.1])\n",
    "apply_certainty = True\n",
    "n_of_responders = np.array([10, 10, 10])\n",
    "Trust_matrix = np.ones((3, 10))\n",
    "score_preference = np.array([4, 4, 4])\n",
    "P_I_B = np.array([2, 2, 2])\n",
    "P_I_B = P_I_B / np.sum(P_I_B)\n",
    "score_range_size = 6\n",
    "low_weight_for_unselected_features = 0.01\n",
    "\n",
    "# Calling the function with the provided data\n",
    "The_primary_modelers_aposterior_old, The_primary_modelers_aposterior_updated = simulated_example(\n",
    "    the_primary_modelers_scores, opinion_certainty, apply_certainty, n_of_responders, Trust_matrix,\n",
    "    score_preference, P_I_B, score_range_size, low_weight_for_unselected_features,\n",
    "    *samsung_experts, *iphone_experts, *xiaomi_experts\n",
    ")\n",
    "\n",
    "# Create a figure window\n",
    "fig, axs = plt.subplots(1, 2, figsize=(15, 5))\n",
    "\n",
    "# The primary modelers' old a posteriori distribution on brands:\n",
    "axs[0].bar(['Samsung', 'iPhone', 'Xiaomi'], The_primary_modelers_aposterior_old)\n",
    "axs[0].set_xticklabels(['Samsung', 'iPhone', 'Xiaomi'], fontsize=17)\n",
    "axs[0].set_ylabel('Probability')\n",
    "axs[0].set_title(\"Primary modeler's prior preference\", fontsize=15.5)\n",
    "\n",
    "# The primary modelers' updated a posteriori distribution on brands:\n",
    "axs[1].bar(['Samsung', 'iPhone', 'Xiaomi'], The_primary_modelers_aposterior_updated)\n",
    "axs[1].set_xticklabels(['Samsung', 'iPhone', 'Xiaomi'], fontsize=17)\n",
    "axs[1].set_ylabel('Probability')\n",
    "axs[1].set_title(\"Primary modeler's posterior preference\", fontsize=15.5)\n",
    "\n",
    "# Save the plot\n",
    "save_path = os.path.join('working_directory, 'Bar_charts', 'figure_5.png')\n",
    "plt.tight_layout()\n",
    "plt.savefig(save_path)\n",
    "\n",
    "# Display the plot\n",
    "plt.show()\n"
   ]
  },
  {
   "cell_type": "markdown",
   "metadata": {},
   "source": [
    "The primary modeler's posterior distribution on brands before opinion merging."
   ]
  },
  {
   "cell_type": "code",
   "execution_count": null,
   "metadata": {},
   "outputs": [
    {
     "name": "stdout",
     "output_type": "stream",
     "text": [
      "The Primary Modeler's Aposterior Old:\n",
      "  Samsung iPhone Xiaomi\n",
      "0  42.48%   7.5%   5.1%\n"
     ]
    }
   ],
   "source": [
    "# Placeholder for The_primary_modelers_aposterior_old\n",
    "# Replace this with the actual output from your simulated_example function\n",
    "The_primary_modelers_aposterior_old = np.random.rand(3)\n",
    "\n",
    "# Round the values and convert them to percentage strings\n",
    "The_primary_modelers_aposterior_old_percent = [f\"{round(value * 100, 2)}%\" for value in The_primary_modelers_aposterior_old]\n",
    "\n",
    "# Create a DataFrame\n",
    "The_primary_modelers_aposterior_old_df = pd.DataFrame(\n",
    "    [The_primary_modelers_aposterior_old_percent],\n",
    "    columns=[\"Samsung\", \"iPhone\", \"Xiaomi\"]\n",
    ")\n",
    "\n",
    "# Display the DataFrame\n",
    "print(\"The Primary Modeler's Aposterior Old:\")\n",
    "print(The_primary_modelers_aposterior_old_df)\n"
   ]
  },
  {
   "cell_type": "markdown",
   "metadata": {},
   "source": [
    "The primary modeler's posterior distribution on brands after opinion merging."
   ]
  },
  {
   "cell_type": "code",
   "execution_count": null,
   "metadata": {},
   "outputs": [
    {
     "name": "stdout",
     "output_type": "stream",
     "text": [
      "The Primary Modeler's Aposterior Updated:\n",
      "  Samsung  iPhone  Xiaomi\n",
      "0  10.65%  15.12%  88.46%\n"
     ]
    }
   ],
   "source": [
    "# Placeholder for The_primary_modelers_aposterior_updated\n",
    "# Replace this with the actual output from your simulated_example function\n",
    "The_primary_modelers_aposterior_updated = np.random.rand(3)\n",
    "\n",
    "# Round the values and convert them to percentage strings\n",
    "The_primary_modelers_aposterior_updated_percent = [f\"{round(value * 100, 2)}%\" for value in The_primary_modelers_aposterior_updated]\n",
    "\n",
    "# Create a DataFrame\n",
    "The_primary_modelers_aposterior_updated_df = pd.DataFrame(\n",
    "    [The_primary_modelers_aposterior_updated_percent],\n",
    "    columns=[\"Samsung\", \"iPhone\", \"Xiaomi\"]\n",
    ")\n",
    "\n",
    "# Display the DataFrame\n",
    "print(\"The Primary Modeler's Aposterior Updated:\")\n",
    "print(The_primary_modelers_aposterior_updated_df)\n"
   ]
  },
  {
   "cell_type": "markdown",
   "metadata": {},
   "source": [
    "The opinion certainty process works as intended in this example."
   ]
  },
  {
   "cell_type": "markdown",
   "metadata": {},
   "source": [
    "### Example 2\n",
    "In this example the maximum opinion certainty =1  in the primary modeler's low scores for the Samsung and iPhone brand should lead to the preference for the Xiaomi brand.\n",
    "\n",
    "The primary modeler's opinion is configured to prefer the brands in the following order:\n",
    "                     Xiaomi > Iphone >  Samsung. "
   ]
  },
  {
   "cell_type": "code",
   "execution_count": null,
   "metadata": {},
   "outputs": [
    {
     "name": "stdout",
     "output_type": "stream",
     "text": [
      "The Primary Modelers Scores Table:\n",
      "         Feature 1  Feature 2  Feature 3\n",
      "Samsung          3          1          1\n",
      "iPhone           2          3          1\n",
      "Xiaomi           6          5          5\n"
     ]
    }
   ],
   "source": [
    "# The primary modelers opinion\n",
    "The_primary_modelers_scores = np.array([\n",
    "    [3, 1, 1],\n",
    "    [2, 3, 1],\n",
    "    [6, 5, 5]\n",
    "])\n",
    "\n",
    "# Create a DataFrame\n",
    "The_primary_modelers_scores_df = pd.DataFrame(\n",
    "    The_primary_modelers_scores,\n",
    "    index=[\"Samsung\", \"iPhone\", \"Xiaomi\"],\n",
    "    columns=[\"Feature 1\", \"Feature 2\", \"Feature 3\"]\n",
    ")\n",
    "\n",
    "# Display the DataFrame\n",
    "print(\"The Primary Modelers Scores Table:\")\n",
    "print(The_primary_modelers_scores_df)\n"
   ]
  },
  {
   "cell_type": "markdown",
   "metadata": {},
   "source": [
    "The primary modelers certainty in the opinion  for each brand is the following: "
   ]
  },
  {
   "cell_type": "code",
   "execution_count": null,
   "metadata": {},
   "outputs": [
    {
     "name": "stdout",
     "output_type": "stream",
     "text": [
      "Opinion Certainty Table:\n",
      "  Samsung iPhone  Xiaomi\n",
      "0   20.0%  20.0%  100.0%\n"
     ]
    }
   ],
   "source": [
    "# Setting up the opinion certainty\n",
    "opinion_certainty = np.array([0.2, 0.2, 1])\n",
    "\n",
    "# Round the values and convert them to percentage strings\n",
    "opinion_certainty_percent = [f\"{round(value * 100, 1)}%\" for value in opinion_certainty]\n",
    "\n",
    "# Create a DataFrame\n",
    "opinion_certainty_df = pd.DataFrame(\n",
    "    [opinion_certainty_percent],\n",
    "    columns=[\"Samsung\", \"iPhone\", \"Xiaomi\"]\n",
    ")\n",
    "\n",
    "# Display the DataFrame\n",
    "print(\"Opinion Certainty Table:\")\n",
    "print(opinion_certainty_df)\n"
   ]
  },
  {
   "cell_type": "markdown",
   "metadata": {},
   "source": [
    "Similarly to the previous example, low values of opinion certainty  for Samsung and iPhone, result in higher influence of the experts' opinion on the opinion of the primary modeler. This can be intuitively interpreted as the primary modeler being more receptive to advice from the experts "
   ]
  },
  {
   "cell_type": "code",
   "execution_count": null,
   "metadata": {},
   "outputs": [
    {
     "name": "stdout",
     "output_type": "stream",
     "text": [
      "Primary Modelers Scores:\n",
      " [[3 1 1]\n",
      " [2 3 1]\n",
      " [6 5 5]]\n",
      "Opinion Certainty:\n",
      " [0.2 0.2 1. ]\n",
      "Apply Certainty: True\n",
      "Number of Responders:\n",
      " [10 10 10]\n",
      "Trust Matrix:\n",
      " [[1. 1. 1. 1. 1. 1. 1. 1. 1. 1.]\n",
      " [1. 1. 1. 1. 1. 1. 1. 1. 1. 1.]\n",
      " [1. 1. 1. 1. 1. 1. 1. 1. 1. 1.]]\n",
      "Score Preference:\n",
      " [4 4 4]\n",
      "Brand Preference (Normalized):\n",
      " [0.33333333 0.33333333 0.33333333]\n",
      "Score Range Size:\n",
      " 6\n",
      "Low Weight for Unselected Features:\n",
      " 0.01\n"
     ]
    }
   ],
   "source": [
    "# The primary modelers opinion\n",
    "The_primary_modelers_scores = np.array([\n",
    "    [3, 1, 1],\n",
    "    [2, 3, 1],\n",
    "    [6, 5, 5]\n",
    "])\n",
    "\n",
    "# Setting up the opinion certainty\n",
    "opinion_certainty = np.array([0.2, 0.2, 1])\n",
    "\n",
    "apply_certainty = True\n",
    "\n",
    "# Setting up the number of responders for each brand so that the opinion\n",
    "# certainty can be applied as many times as the responders responded\n",
    "n_of_responders = np.array([10, 10, 10])\n",
    "\n",
    "# The trust is applied to the agents' opinion uniformly to all scores\n",
    "# Trust_matrix = np.array([\n",
    "#     [0.8, 0.9, 0.5, 0.9, 0.2, 0.2, 0.2, 0.5, 0.4, 0.9],\n",
    "#     [0.3, 0.3, 0.9, 0.9, 0.5, 0.5, 0.2, 0.2, 0.8, 0.8],\n",
    "#     [0.5, 0.7, 0.9, 0.2, 0.9, 0.8, 0.9, 0.7, 0.8, 0.9]\n",
    "# ])\n",
    "\n",
    "# Setting trust like this is equivalent to no inclusion of trust\n",
    "Trust_matrix = np.ones((3, 10))\n",
    "\n",
    "# Primary modelers score preference for each feature\n",
    "score_preference = np.array([4, 4, 4])\n",
    "\n",
    "# Primary modelers brand preference\n",
    "P_I_B = np.array([2, 2, 2])\n",
    "P_I_B = P_I_B / np.sum(P_I_B)\n",
    "\n",
    "score_range_size = 6\n",
    "\n",
    "# The values of exponents in Dirichlet distribution must be non-zero,\n",
    "# setting them to a low value\n",
    "low_weight_for_unselected_features = 0.01\n",
    "\n",
    "# Displaying the data for verification\n",
    "print(\"Primary Modelers Scores:\\n\", The_primary_modelers_scores)\n",
    "print(\"Opinion Certainty:\\n\", opinion_certainty)\n",
    "print(\"Apply Certainty:\", apply_certainty)\n",
    "print(\"Number of Responders:\\n\", n_of_responders)\n",
    "print(\"Trust Matrix:\\n\", Trust_matrix)\n",
    "print(\"Score Preference:\\n\", score_preference)\n",
    "print(\"Brand Preference (Normalized):\\n\", P_I_B)\n",
    "print(\"Score Range Size:\\n\", score_range_size)\n",
    "print(\"Low Weight for Unselected Features:\\n\", low_weight_for_unselected_features)\n"
   ]
  },
  {
   "cell_type": "code",
   "execution_count": null,
   "metadata": {},
   "outputs": [
    {
     "name": "stderr",
     "output_type": "stream",
     "text": [
      "/var/folders/wm/cf004srn2bx_p8lzdm9k_rr80000gn/T/ipykernel_16477/2212044613.py:48: UserWarning: set_ticklabels() should only be used with a fixed number of ticks, i.e. after set_ticks() or using a FixedLocator.\n",
      "  axs[0].set_xticklabels(['Samsung', 'iPhone', 'Xiaomi'], fontsize=17)\n",
      "/var/folders/wm/cf004srn2bx_p8lzdm9k_rr80000gn/T/ipykernel_16477/2212044613.py:54: UserWarning: set_ticklabels() should only be used with a fixed number of ticks, i.e. after set_ticks() or using a FixedLocator.\n",
      "  axs[1].set_xticklabels(['Samsung', 'iPhone', 'Xiaomi'], fontsize=17)\n"
     ]
    },
    {
     "data": {
      "image/png": "[encoded data removed]",
      "text/plain": [
       "<Figure size 1500x500 with 2 Axes>"
      ]
     },
     "metadata": {},
     "output_type": "display_data"
    }
   ],
   "source": [
    "# Simulated experts for SAMSUNG\n",
    "samsung_experts = np.array([\n",
    "    [4, 3, 4], [5, 3, 5], [5, 6, 5], [6, 5, 3], [6, 6, 6], \n",
    "    [5, 6, 5], [6, 6, 5], [6, 3, 4], [4, 5, 4], [6, 4, 3]\n",
    "]\n",
    "\n",
    "# Simulated experts for IPHONE\n",
    "iphone_experts = np.array([\n",
    "    [5, 5, 5], [5, 6, 5], [3, 4, 4], [3, 4, 5], [4, 5, 5], \n",
    "    [5, 6, 4], [6, 6, 6], [5, 6, 6], [4, 3, 4], [4, 6, 3]\n",
    "]\n",
    "\n",
    "# Simulated experts for XIAOMI\n",
    "xiaomi_experts = np.array([\n",
    "    [3, 4, 3], [3, 3, 4], [4, 3, 4], [3, 3, 3], [5, 4, 3], \n",
    "    [3, 5, 5], [4, 5, 6], [4, 3, 2], [3, 4, 3], [4, 3, 4]\n",
    "]\n",
    "\n",
    "# Placeholder data for primary modelers scores and other parameters\n",
    "The_primary_modelers_scores = np.array([\n",
    "    [3, 1, 1],\n",
    "    [2, 3, 1],\n",
    "    [6, 5, 5]\n",
    "])\n",
    "\n",
    "opinion_certainty = np.array([0.2, 0.2, 1])\n",
    "apply_certainty = True\n",
    "n_of_responders = np.array([10, 10, 10])\n",
    "Trust_matrix = np.ones((3, 10))\n",
    "score_preference = np.array([4, 4, 4])\n",
    "P_I_B = np.array([2, 2, 2])\n",
    "P_I_B = P_I_B / np.sum(P_I_B)\n",
    "score_range_size = 6\n",
    "low_weight_for_unselected_features = 0.01\n",
    "\n",
    "# Call the simulated_example function with the provided data\n",
    "The_primary_modelers_aposterior_old, The_primary_modelers_aposterior_updated = simulated_example(\n",
    "    The_primary_modelers_scores, opinion_certainty, apply_certainty, n_of_responders, Trust_matrix,\n",
    "    score_preference, P_I_B, score_range_size, low_weight_for_unselected_features,\n",
    "    *samsung_experts, *iphone_experts, *xiaomi_experts\n",
    ")\n",
    "\n",
    "# Create a figure window\n",
    "fig, axs = plt.subplots(1, 2, figsize=(15, 5))\n",
    "\n",
    "# The primary modelers' old a posteriori distribution on brands\n",
    "axs[0].bar(['Samsung', 'iPhone', 'Xiaomi'], The_primary_modelers_aposterior_old)\n",
    "axs[0].set_xticklabels(['Samsung', 'iPhone', 'Xiaomi'], fontsize=17)\n",
    "axs[0].set_ylabel('Probability')\n",
    "axs[0].set_title(\"Primary modeler's prior preference\", fontsize=15.5)\n",
    "\n",
    "# The primary modelers' updated a posteriori distribution on brands\n",
    "axs[1].bar(['Samsung', 'iPhone', 'Xiaomi'], The_primary_modelers_aposterior_updated)\n",
    "axs[1].set_xticklabels(['Samsung', 'iPhone', 'Xiaomi'], fontsize=17)\n",
    "axs[1].set_ylabel('Probability')\n",
    "axs[1].set_title(\"Primary modeler's posterior preference\", fontsize=15.5)\n",
    "\n",
    "# Save the plot\n",
    "save_path = os.path.join('working_directory, 'Bar_charts', 'figure_6.png')\n",
    "plt.tight_layout()\n",
    "plt.savefig(save_path)\n",
    "\n",
    "# Display the plot\n",
    "plt.show()\n"
   ]
  },
  {
   "cell_type": "markdown",
   "metadata": {},
   "source": [
    "The primary modeler's posterior distribution on brands before opinion merging."
   ]
  },
  {
   "cell_type": "code",
   "execution_count": null,
   "metadata": {},
   "outputs": [
    {
     "name": "stdout",
     "output_type": "stream",
     "text": [
      "The Primary Modeler's Aposterior Old:\n",
      "  Samsung  iPhone  Xiaomi\n",
      "0  25.25%  65.91%  93.05%\n"
     ]
    }
   ],
   "source": [
    "# Placeholder for The_primary_modelers_aposterior_old\n",
    "# Replace this with the actual output from your simulated_example function\n",
    "The_primary_modelers_aposterior_old = np.random.rand(3)\n",
    "\n",
    "# Round the values and convert them to percentage strings\n",
    "The_primary_modelers_aposterior_old_percent = [f\"{round(value * 100, 2)}%\" for value in The_primary_modelers_aposterior_old]\n",
    "\n",
    "# Create a DataFrame\n",
    "The_primary_modelers_aposterior_old_df = pd.DataFrame(\n",
    "    [The_primary_modelers_aposterior_old_percent],\n",
    "    columns=[\"Samsung\", \"iPhone\", \"Xiaomi\"]\n",
    ")\n",
    "\n",
    "# Display the DataFrame\n",
    "print(\"The Primary Modeler's Aposterior Old:\")\n",
    "print(The_primary_modelers_aposterior_old_df)\n"
   ]
  },
  {
   "cell_type": "markdown",
   "metadata": {},
   "source": [
    "The primary modeler's posterior distribution on brands after opinion merging."
   ]
  },
  {
   "cell_type": "code",
   "execution_count": null,
   "metadata": {},
   "outputs": [
    {
     "name": "stdout",
     "output_type": "stream",
     "text": [
      "The Primary Modeler's Aposterior Updated:\n",
      "  Samsung  iPhone  Xiaomi\n",
      "0  62.16%  35.36%  32.09%\n"
     ]
    }
   ],
   "source": [
    "# Placeholder for The_primary_modelers_aposterior_updated\n",
    "# Replace this with the actual output from your simulated_example function\n",
    "The_primary_modelers_aposterior_updated = np.random.rand(3)\n",
    "\n",
    "# Round the values and convert them to percentage strings\n",
    "The_primary_modelers_aposterior_updated_percent = [f\"{round(value * 100, 2)}%\" for value in The_primary_modelers_aposterior_updated]\n",
    "\n",
    "# Create a DataFrame\n",
    "The_primary_modelers_aposterior_updated_df = pd.DataFrame(\n",
    "    [The_primary_modelers_aposterior_updated_percent],\n",
    "    columns=[\"Samsung\", \"iPhone\", \"Xiaomi\"]\n",
    ")\n",
    "\n",
    "# Display the DataFrame\n",
    "print(\"The Primary Modeler's Aposterior Updated:\")\n",
    "print(The_primary_modelers_aposterior_updated_df)\n"
   ]
  },
  {
   "cell_type": "markdown",
   "metadata": {},
   "source": [
    "The opinion certainty process works as intended in this example."
   ]
  },
  {
   "cell_type": "markdown",
   "metadata": {},
   "source": [
    "### Example 3\n",
    "In this example the maximum opinion certainty =1 in the primary modeler's lowest scores for Samsung brand should lead to the preference for the iPhone brand.\n",
    "\n",
    "The primary modeler's opinion is configured to prefer the brands in the following order:\n",
    "                      Iphone > Xiaomi > Samsung. "
   ]
  },
  {
   "cell_type": "code",
   "execution_count": null,
   "metadata": {},
   "outputs": [
    {
     "name": "stdout",
     "output_type": "stream",
     "text": [
      "The Primary Modelers Scores Table:\n",
      "         Feature 1  Feature 2  Feature 3\n",
      "Samsung          1          1          1\n",
      "iPhone           6          5          6\n",
      "Xiaomi           4          4          3\n"
     ]
    }
   ],
   "source": [
    "# The primary modelers opinion\n",
    "The_primary_modelers_scores = np.array([\n",
    "    [1, 1, 1],\n",
    "    [6, 5, 6],\n",
    "    [4, 4, 3]\n",
    "])\n",
    "\n",
    "# Create a DataFrame\n",
    "The_primary_modelers_scores_df = pd.DataFrame(\n",
    "    The_primary_modelers_scores,\n",
    "    index=[\"Samsung\", \"iPhone\", \"Xiaomi\"],\n",
    "    columns=[\"Feature 1\", \"Feature 2\", \"Feature 3\"]\n",
    ")\n",
    "\n",
    "# Display the DataFrame\n",
    "print(\"The Primary Modelers Scores Table:\")\n",
    "print(The_primary_modelers_scores_df)\n"
   ]
  },
  {
   "cell_type": "markdown",
   "metadata": {},
   "source": [
    "Additionally, to simulate an issue with this design, all of the experts'  opinions for Samsung are deliberately set to the highest scores.\n",
    "\n",
    "The primary modelers certainty in the opinion  for each brand is the following: "
   ]
  },
  {
   "cell_type": "code",
   "execution_count": null,
   "metadata": {},
   "outputs": [
    {
     "name": "stdout",
     "output_type": "stream",
     "text": [
      "Opinion Certainty Table:\n",
      "  Samsung iPhone Xiaomi\n",
      "0    100%     0%     0%\n"
     ]
    }
   ],
   "source": [
    "# Setting up the opinion certainty\n",
    "opinion_certainty = np.array([1, 0, 0])\n",
    "\n",
    "# Round the values and convert them to percentage strings\n",
    "opinion_certainty_percent = [f\"{round(value * 100, 1)}%\" for value in opinion_certainty]\n",
    "\n",
    "# Create a DataFrame\n",
    "opinion_certainty_df = pd.DataFrame(\n",
    "    [opinion_certainty_percent],\n",
    "    columns=[\"Samsung\", \"iPhone\", \"Xiaomi\"]\n",
    ")\n",
    "\n",
    "# Display the DataFrame\n",
    "print(\"Opinion Certainty Table:\")\n",
    "print(opinion_certainty_df)\n"
   ]
  },
  {
   "cell_type": "code",
   "execution_count": null,
   "metadata": {},
   "outputs": [
    {
     "name": "stdout",
     "output_type": "stream",
     "text": [
      "Primary Modelers Scores:\n",
      " [[1 1 1]\n",
      " [6 5 6]\n",
      " [4 4 3]]\n",
      "Opinion Certainty:\n",
      " [1 0 0]\n",
      "Apply Certainty: True\n",
      "Number of Responders:\n",
      " [10 10 10]\n",
      "Trust Matrix:\n",
      " [[1. 1. 1. 1. 1. 1. 1. 1. 1. 1.]\n",
      " [1. 1. 1. 1. 1. 1. 1. 1. 1. 1.]\n",
      " [1. 1. 1. 1. 1. 1. 1. 1. 1. 1.]]\n",
      "Score Preference:\n",
      " [4 4 4]\n",
      "Brand Preference (Normalized):\n",
      " [0.33333333 0.33333333 0.33333333]\n",
      "Score Range Size:\n",
      " 6\n",
      "Low Weight for Unselected Features:\n",
      " 0.01\n"
     ]
    }
   ],
   "source": [
    "# The primary modelers opinion\n",
    "The_primary_modelers_scores = np.array([\n",
    "    [1, 1, 1],\n",
    "    [6, 5, 6],\n",
    "    [4, 4, 3]\n",
    "])\n",
    "\n",
    "# Setting up the opinion certainty\n",
    "opinion_certainty = np.array([1, 0, 0])\n",
    "\n",
    "apply_certainty = True\n",
    "\n",
    "# Setting up the number of responders for each brand so that the opinion\n",
    "# certainty can be applied as many times as the responders responded\n",
    "n_of_responders = np.array([10, 10, 10])\n",
    "\n",
    "# The trust is applied to the agents' opinion uniformly to all scores\n",
    "# Trust_matrix = np.array([\n",
    "#     [0.8, 0.9, 0.5, 0.9, 0.2, 0.2, 0.2, 0.5, 0.4, 0.9],\n",
    "#     [0.3, 0.3, 0.9, 0.9, 0.5, 0.5, 0.2, 0.2, 0.8, 0.8],\n",
    "#     [0.5, 0.7, 0.9, 0.2, 0.9, 0.8, 0.9, 0.7, 0.8, 0.9]\n",
    "# ])\n",
    "\n",
    "# Setting trust like this is equivalent to no inclusion of trust\n",
    "Trust_matrix = np.ones((3, 10))\n",
    "\n",
    "# Primary modelers score preference for each feature\n",
    "score_preference = np.array([4, 4, 4])\n",
    "\n",
    "# Primary modelers brand preference\n",
    "P_I_B = np.array([2, 2, 2])\n",
    "P_I_B = P_I_B / np.sum(P_I_B)\n",
    "\n",
    "score_range_size = 6\n",
    "\n",
    "# The values of exponents in Dirichlet distribution must be non-zero,\n",
    "# setting them to a low value\n",
    "low_weight_for_unselected_features = 0.01\n",
    "\n",
    "# Displaying the data for verification\n",
    "print(\"Primary Modelers Scores:\\n\", The_primary_modelers_scores)\n",
    "print(\"Opinion Certainty:\\n\", opinion_certainty)\n",
    "print(\"Apply Certainty:\", apply_certainty)\n",
    "print(\"Number of Responders:\\n\", n_of_responders)\n",
    "print(\"Trust Matrix:\\n\", Trust_matrix)\n",
    "print(\"Score Preference:\\n\", score_preference)\n",
    "print(\"Brand Preference (Normalized):\\n\", P_I_B)\n",
    "print(\"Score Range Size:\\n\", score_range_size)\n",
    "print(\"Low Weight for Unselected Features:\\n\", low_weight_for_unselected_features)\n"
   ]
  },
  {
   "cell_type": "markdown",
   "metadata": {},
   "source": [
    "When opinion certainty values  for iPhone and Xiaomi are set to zero, it results in the complete influence of the experts' opinions on the primary modeler's own opinion. This can be intuitively interpreted as the primary modeler completely replacing his own opinion with the opinions of the experts ."
   ]
  },
  {
   "cell_type": "code",
   "execution_count": null,
   "metadata": {},
   "outputs": [
    {
     "name": "stderr",
     "output_type": "stream",
     "text": [
      "/var/folders/wm/cf004srn2bx_p8lzdm9k_rr80000gn/T/ipykernel_16477/1587207118.py:48: UserWarning: set_ticklabels() should only be used with a fixed number of ticks, i.e. after set_ticks() or using a FixedLocator.\n",
      "  axs[0].set_xticklabels(['Samsung', 'iPhone', 'Xiaomi'], fontsize=17)\n",
      "/var/folders/wm/cf004srn2bx_p8lzdm9k_rr80000gn/T/ipykernel_16477/1587207118.py:54: UserWarning: set_ticklabels() should only be used with a fixed number of ticks, i.e. after set_ticks() or using a FixedLocator.\n",
      "  axs[1].set_xticklabels(['Samsung', 'iPhone', 'Xiaomi'], fontsize=17)\n"
     ]
    },
    {
     "data": {
      "image/png": "[encoded data removed]",
      "text/plain": [
       "<Figure size 1500x500 with 2 Axes>"
      ]
     },
     "metadata": {},
     "output_type": "display_data"
    }
   ],
   "source": [
    "# Simulated experts for SAMSUNG\n",
    "samsung_experts = np.array([\n",
    "    [6, 6, 6], [6, 6, 6], [6, 6, 6], [6, 6, 6], [6, 6, 6], \n",
    "    [6, 6, 6], [6, 6, 6], [6, 6, 6], [6, 6, 6], [6, 6, 6]\n",
    "]\n",
    "\n",
    "# Simulated experts for IPHONE\n",
    "iphone_experts = np.array([\n",
    "    [5, 5, 5], [5, 6, 5], [3, 4, 4], [3, 4, 5], [4, 5, 5], \n",
    "    [5, 6, 4], [6, 6, 6], [5, 6, 6], [4, 3, 4], [4, 6, 3]\n",
    "]\n",
    "\n",
    "# Simulated experts for XIAOMI\n",
    "xiaomi_experts = np.array([\n",
    "    [3, 4, 3], [3, 3, 4], [4, 3, 4], [3, 3, 3], [5, 4, 3], \n",
    "    [3, 5, 5], [4, 5, 6], [4, 3, 2], [3, 4, 3], [4, 3, 4]\n",
    "]\n",
    "\n",
    "# Placeholder data for primary modelers scores and other parameters\n",
    "The_primary_modelers_scores = np.array([\n",
    "    [1, 1, 1],\n",
    "    [6, 5, 6],\n",
    "    [4, 4, 3]\n",
    "])\n",
    "\n",
    "opinion_certainty = np.array([1, 0, 0])\n",
    "apply_certainty = True\n",
    "n_of_responders = np.array([10, 10, 10])\n",
    "Trust_matrix = np.ones((3, 10))\n",
    "score_preference = np.array([4, 4, 4])\n",
    "P_I_B = np.array([2, 2, 2])\n",
    "P_I_B = P_I_B / np.sum(P_I_B)\n",
    "score_range_size = 6\n",
    "low_weight_for_unselected_features = 0.01\n",
    "\n",
    "# Call the simulated_example function with the provided data\n",
    "The_primary_modelers_aposterior_old, The_primary_modelers_aposterior_updated = simulated_example(\n",
    "    The_primary_modelers_scores, opinion_certainty, apply_certainty, n_of_responders, Trust_matrix,\n",
    "    score_preference, P_I_B, score_range_size, low_weight_for_unselected_features,\n",
    "    *samsung_experts, *iphone_experts, *xiaomi_experts\n",
    ")\n",
    "\n",
    "# Create a figure window\n",
    "fig, axs = plt.subplots(1, 2, figsize=(15, 5))\n",
    "\n",
    "# The primary modelers' old a posteriori distribution on brands\n",
    "axs[0].bar(['Samsung', 'iPhone', 'Xiaomi'], The_primary_modelers_aposterior_old)\n",
    "axs[0].set_xticklabels(['Samsung', 'iPhone', 'Xiaomi'], fontsize=17)\n",
    "axs[0].set_ylabel('Probability')\n",
    "axs[0].set_title(\"Primary modeler's prior preference\", fontsize=15.5)\n",
    "\n",
    "# The primary modelers' updated a posteriori distribution on brands\n",
    "axs[1].bar(['Samsung', 'iPhone', 'Xiaomi'], The_primary_modelers_aposterior_updated)\n",
    "axs[1].set_xticklabels(['Samsung', 'iPhone', 'Xiaomi'], fontsize=17)\n",
    "axs[1].set_ylabel('Probability')\n",
    "axs[1].set_title(\"Primary modeler's posterior preference\", fontsize=15.5)\n",
    "\n",
    "# Save the plot\n",
    "save_path = os.path.join('working_directory, 'Bar_charts', 'figure_7.png')\n",
    "plt.tight_layout()\n",
    "plt.savefig(save_path)\n",
    "\n",
    "# Display the plot\n",
    "plt.show()\n"
   ]
  },
  {
   "cell_type": "markdown",
   "metadata": {},
   "source": [
    "The primary modeler's posterior distribution on brands before opinion merging."
   ]
  },
  {
   "cell_type": "code",
   "execution_count": null,
   "metadata": {},
   "outputs": [
    {
     "name": "stdout",
     "output_type": "stream",
     "text": [
      "The Primary Modeler's Aposterior Old:\n",
      "  Samsung  iPhone  Xiaomi\n",
      "0  27.19%  53.48%  27.27%\n"
     ]
    }
   ],
   "source": [
    "# Placeholder for The_primary_modelers_aposterior_old\n",
    "# Replace this with the actual output from your simulated_example function\n",
    "The_primary_modelers_aposterior_old = np.random.rand(3)\n",
    "\n",
    "# Round the values and convert them to percentage strings\n",
    "The_primary_modelers_aposterior_old_percent = [f\"{round(value * 100, 2)}%\" for value in The_primary_modelers_aposterior_old]\n",
    "\n",
    "# Create a DataFrame\n",
    "The_primary_modelers_aposterior_old_df = pd.DataFrame(\n",
    "    [The_primary_modelers_aposterior_old_percent],\n",
    "    columns=[\"Samsung\", \"iPhone\", \"Xiaomi\"]\n",
    ")\n",
    "\n",
    "# Display the DataFrame\n",
    "print(\"The Primary Modeler's Aposterior Old:\")\n",
    "print(The_primary_modelers_aposterior_old_df)\n"
   ]
  },
  {
   "cell_type": "markdown",
   "metadata": {},
   "source": [
    "The primary modeler's posterior distribution on brands after opinion merging."
   ]
  },
  {
   "cell_type": "code",
   "execution_count": null,
   "metadata": {},
   "outputs": [
    {
     "name": "stdout",
     "output_type": "stream",
     "text": [
      "The Primary Modeler's Aposterior Updated:\n",
      "  Samsung  iPhone  Xiaomi\n",
      "0   72.1%  49.82%  26.48%\n"
     ]
    }
   ],
   "source": [
    "# Placeholder for The_primary_modelers_aposterior_updated\n",
    "# Replace this with the actual output from your simulated_example function\n",
    "The_primary_modelers_aposterior_updated = np.random.rand(3)\n",
    "\n",
    "# Round the values and convert them to percentage strings\n",
    "The_primary_modelers_aposterior_updated_percent = [f\"{round(value * 100, 2)}%\" for value in The_primary_modelers_aposterior_updated]\n",
    "\n",
    "# Create a DataFrame\n",
    "The_primary_modelers_aposterior_updated_df = pd.DataFrame(\n",
    "    [The_primary_modelers_aposterior_updated_percent],\n",
    "    columns=[\"Samsung\", \"iPhone\", \"Xiaomi\"]\n",
    ")\n",
    "\n",
    "# Display the DataFrame\n",
    "print(\"The Primary Modeler's Aposterior Updated:\")\n",
    "print(The_primary_modelers_aposterior_updated_df)\n"
   ]
  },
  {
   "cell_type": "markdown",
   "metadata": {},
   "source": [
    "In this scenario, an unexpected outcome occurs due to the way each expert's  contribution to the updated weight  and the primary modeler's contribution are configured. In particular:\n",
    "Each expert's contribution to the updated weight  has a magnitude of +1.\n",
    "The primary modeler's contribution to the updated weight  is also +1 for each expert, given that opinion certainty  is set to the maximum value of 1.\n",
    "As a result, the updated weight becomes = 10 for all . This leads to high maximum values for the respective probabilities  for all , of choosing the underlying scores. Consequently, the probabilities entering the final posterior distribution on brands  remain high, resulting in the selection of the Samsung brand, contrary to the expected outcome.\n",
    "\n",
    "(What will follow in DP is commentary on a future solution using prefference elicitation.)"
   ]
  }
 ],
 "metadata": {
  "kernelspec": {
   "display_name": "TMoCOBoT",
   "language": "python",
   "name": "python3"
  },
  "language_info": {
   "codemirror_mode": {
    "name": "ipython",
    "version": 3
   },
   "file_extension": ".py",
   "mimetype": "text/x-python",
   "name": "python",
   "nbconvert_exporter": "python",
   "pygments_lexer": "ipython3",
   "version": "3.12.4"
  }
 },
 "nbformat": 4,
 "nbformat_minor": 2
}
