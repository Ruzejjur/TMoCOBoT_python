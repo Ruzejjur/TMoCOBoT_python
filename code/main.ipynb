{
 "cells": [
  {
   "cell_type": "code",
   "execution_count": 1993,
   "metadata": {},
   "outputs": [],
   "source": [
    "# Imports \n",
    "\n",
    "# Pandas: Data manipulation and analysis\n",
    "import pandas as pd\n",
    "\n",
    "# NumPy: Scientific computing with arrays, array manipulation\n",
    "import numpy as np\n",
    "\n",
    "# Matplotlib: Plotting library\n",
    "import matplotlib.pyplot as plt\n",
    "\n",
    "# sys: Access system-specific parameters and functions\n",
    "import sys\n",
    "\n",
    "# os: Interact with the operating system\n",
    "import os\n",
    "\n",
    "# importlib: Dynamic module import\n",
    "import importlib\n",
    "\n",
    "# contextlib: Utilities for working with context managers\n",
    "from contextlib import contextmanager"
   ]
  },
  {
   "cell_type": "code",
   "execution_count": 1994,
   "metadata": {},
   "outputs": [],
   "source": [
    "# Context manager to temporarily add a directory to sys.path\n",
    "# This ensures the directory is added to sys.path when entering the context\n",
    "# and removed from sys.path when exiting the context\n",
    "@contextmanager\n",
    "def add_sys_path(path):\n",
    "    \"\"\"\n",
    "    Temporarily adds the specified path to sys.path.\n",
    "\n",
    "    Parameters:\n",
    "    path (str): The directory path to add to sys.path.\n",
    "\n",
    "    Yields:\n",
    "    None\n",
    "    \"\"\"\n",
    "    # Check if the specified path is already in sys.path\n",
    "    if path not in sys.path:\n",
    "        # If not, append the path to sys.path\n",
    "        sys.path.append(path)\n",
    "    try:\n",
    "        # Yield control back to the calling context\n",
    "        # Code within the 'with' block will execute at this point\n",
    "        yield\n",
    "    finally:\n",
    "        # This block will always execute upon exiting the context\n",
    "        # Check if the path is in sys.path\n",
    "        if path in sys.path:\n",
    "            # If it is, remove the path from sys.path\n",
    "            sys.path.remove(path)\n",
    "\n",
    "# Function to import and reload modules if necessary\n",
    "def import_and_reload(module_name, path):\n",
    "    \"\"\"\n",
    "    Imports and reloads the specified module from the given path.\n",
    "\n",
    "    Parameters:\n",
    "    module_name (str): The name of the module to import and reload.\n",
    "    path (str): The directory path where the module is located.\n",
    "\n",
    "    Returns:\n",
    "    module: The imported and reloaded module.\n",
    "    \"\"\"\n",
    "    # Use the add_sys_path context manager to temporarily add the path to sys.path\n",
    "    with add_sys_path(path):\n",
    "        # Import the module using its name\n",
    "        module = importlib.import_module(module_name)\n",
    "        # Reload the module to ensure any changes are reflected\n",
    "        importlib.reload(module)\n",
    "        # Return the imported and reloaded module\n",
    "        return module\n"
   ]
  },
  {
   "cell_type": "code",
   "execution_count": 1995,
   "metadata": {},
   "outputs": [],
   "source": [
    "# Setting working directory\n",
    "\n",
    "# Define the path to the working directory\n",
    "working_directory = '/Users/ruzejjur/Github/TMoCOBoT_python'\n",
    "\n",
    "# Change the current working directory to the specified path\n",
    "os.chdir(working_directory)"
   ]
  },
  {
   "cell_type": "code",
   "execution_count": 1996,
   "metadata": {},
   "outputs": [],
   "source": [
    "# Add and import auxiliary script\n",
    "auxiliary_path = os.path.abspath(os.path.join(working_directory, 'code', 'auxiliary'))\n",
    "auxiliary = import_and_reload('auxiliary', auxiliary_path)\n",
    "\n",
    "# Add and import testing script\n",
    "testing_path = os.path.abspath(os.path.join(working_directory, 'code', 'auxiliary'))\n",
    "testing = import_and_reload('testing', testing_path)"
   ]
  },
  {
   "cell_type": "markdown",
   "metadata": {},
   "source": [
    "# Simulated examples\n",
    "\n",
    "To simplify the analysis, specific parameters are defined for the experts, which include the following:\n",
    "\n",
    " - 10 experts for each brand. \n",
    " - 3 mobile brands.\n",
    " - 3 features.\n",
    " - 6 score values.\n",
    "\n",
    "These parameters have been deliberately chosen to configure the system and demonstrate the functionality of our proposed solution.\n",
    "\n",
    "The parameters associated with the primary modeler are as follows:\n",
    "\n",
    " - The preference score $r_{I,n}$ = 4 for all features.\n",
    " - The primary modeler's brand $P_{I}(B)$ preference follows a uniform distribution.\n",
    " - The primary modeler's opinion on brands $b\\in{B}$ is established in the experimental setup.\n",
    " - The primary modeler's certainty $c_{I,b,n} \\in \\langle 0, 1 \\rangle$ is established in the experimental setup.\n",
    " - The primary modeler's trust $t_{I,E_{i}} \\in \\langle 0, 1 \\rangle$ is established in the experimental setup.\n",
    "\n",
    "The preference score is set for simplicity, eliminating one hyperparameter to tune. \n",
    "The primary modeler's brand preference $P_{I}(B)$ is configured to ensure that the choice of the brand $b\\in{B}$ is not influenced by the primary modeler's bias.\n",
    "\n",
    "The objective is to design experiments in such a way that the brand selection process can be inferred from the setup of the experts.\n",
    "\n",
    "In the following five examples, the primary modeler's opinions are presented in the following table:"
   ]
  },
  {
   "cell_type": "code",
   "execution_count": 1997,
   "metadata": {},
   "outputs": [],
   "source": [
    "# The primary modeler's opinion\n",
    "\n",
    "# Array representing the scores given by the primary modeler for different phone brands and features\n",
    "# * Note 1: This array represents primary modelers opinion\n",
    "primary_modeler_scores = np.array([\n",
    "    [5, 4, 5],  # Scores for Samsung\n",
    "    [6, 5, 6],  # Scores for iPhone\n",
    "    [4, 4, 3]   # Scores for Xiaomi\n",
    "], dtype=np.int8)\n"
   ]
  },
  {
   "cell_type": "code",
   "execution_count": 1998,
   "metadata": {},
   "outputs": [
    {
     "data": {
      "application/vnd.microsoft.datawrangler.viewer.v0+json": {
       "columns": [
        {
         "name": "index",
         "rawType": "object",
         "type": "string"
        },
        {
         "name": "Feature 1",
         "rawType": "int8",
         "type": "integer"
        },
        {
         "name": "Feature 2",
         "rawType": "int8",
         "type": "integer"
        },
        {
         "name": "Feature 3",
         "rawType": "int8",
         "type": "integer"
        }
       ],
       "conversionMethod": "pd.DataFrame",
       "ref": "9a8b58cc-56b3-4d1c-8b65-c4b53f2db1c0",
       "rows": [
        [
         "Samsung",
         "5",
         "4",
         "5"
        ],
        [
         "iPhone",
         "6",
         "5",
         "6"
        ],
        [
         "Xiaomi",
         "4",
         "4",
         "3"
        ]
       ],
       "shape": {
        "columns": 3,
        "rows": 3
       }
      },
      "text/html": [
       "<div>\n",
       "<style scoped>\n",
       "    .dataframe tbody tr th:only-of-type {\n",
       "        vertical-align: middle;\n",
       "    }\n",
       "\n",
       "    .dataframe tbody tr th {\n",
       "        vertical-align: top;\n",
       "    }\n",
       "\n",
       "    .dataframe thead th {\n",
       "        text-align: right;\n",
       "    }\n",
       "</style>\n",
       "<table border=\"1\" class=\"dataframe\">\n",
       "  <thead>\n",
       "    <tr style=\"text-align: right;\">\n",
       "      <th></th>\n",
       "      <th>Feature 1</th>\n",
       "      <th>Feature 2</th>\n",
       "      <th>Feature 3</th>\n",
       "    </tr>\n",
       "  </thead>\n",
       "  <tbody>\n",
       "    <tr>\n",
       "      <th>Samsung</th>\n",
       "      <td>5</td>\n",
       "      <td>4</td>\n",
       "      <td>5</td>\n",
       "    </tr>\n",
       "    <tr>\n",
       "      <th>iPhone</th>\n",
       "      <td>6</td>\n",
       "      <td>5</td>\n",
       "      <td>6</td>\n",
       "    </tr>\n",
       "    <tr>\n",
       "      <th>Xiaomi</th>\n",
       "      <td>4</td>\n",
       "      <td>4</td>\n",
       "      <td>3</td>\n",
       "    </tr>\n",
       "  </tbody>\n",
       "</table>\n",
       "</div>"
      ],
      "text/plain": [
       "         Feature 1  Feature 2  Feature 3\n",
       "Samsung          5          4          5\n",
       "iPhone           6          5          6\n",
       "Xiaomi           4          4          3"
      ]
     },
     "execution_count": 1998,
     "metadata": {},
     "output_type": "execute_result"
    }
   ],
   "source": [
    "# Creating a DataFrame with the given data\n",
    "# Index represents phone brands, and columns represent different features\n",
    "primary_modeler_scores_df = pd.DataFrame(\n",
    "    primary_modeler_scores,\n",
    "    index=[\"Samsung\", \"iPhone\", \"Xiaomi\"],  # Setting the row labels for phone brands\n",
    "    columns=[\"Feature 1\", \"Feature 2\", \"Feature 3\"]  # Setting the column labels for features\n",
    ")\n",
    "\n",
    "# Display the DataFrame\n",
    "primary_modeler_scores_df"
   ]
  },
  {
   "cell_type": "markdown",
   "metadata": {},
   "source": [
    "The primary modeler's opinion on brands is as follows: **iPhone > Samsung > Xiaomi**."
   ]
  },
  {
   "cell_type": "markdown",
   "metadata": {},
   "source": [
    "## Opinion Merging and Preference Sub-setting\n",
    "\n",
    "The aim of this section is to illustrate the influence of expert opinions on the primary modeler's brand preference."
   ]
  },
  {
   "cell_type": "markdown",
   "metadata": {},
   "source": [
    "### Example 1\n",
    "The experts are configured to prefer the brands in the following order:\n",
    "\n",
    " **Samsung > iPhone > Xiaomi**.\n",
    "\n",
    "The Samsung is slightly more preferred than iPhone, this is set up for later demonstration of the trust value $t_{I,E_{i}}$ in 'Inclusion of trust' section."
   ]
  },
  {
   "cell_type": "markdown",
   "metadata": {},
   "source": [
    "#### Experiment setup"
   ]
  },
  {
   "cell_type": "markdown",
   "metadata": {},
   "source": [
    "##### Agent"
   ]
  },
  {
   "cell_type": "code",
   "execution_count": 1999,
   "metadata": {},
   "outputs": [
    {
     "name": "stdout",
     "output_type": "stream",
     "text": [
      "The Primary Modeler's Scores:\n"
     ]
    },
    {
     "data": {
      "application/vnd.microsoft.datawrangler.viewer.v0+json": {
       "columns": [
        {
         "name": "index",
         "rawType": "object",
         "type": "string"
        },
        {
         "name": "Feature 1",
         "rawType": "int8",
         "type": "integer"
        },
        {
         "name": "Feature 2",
         "rawType": "int8",
         "type": "integer"
        },
        {
         "name": "Feature 3",
         "rawType": "int8",
         "type": "integer"
        }
       ],
       "conversionMethod": "pd.DataFrame",
       "ref": "c90cb01f-0857-4a64-8ad8-6b2cf4399c56",
       "rows": [
        [
         "Samsung",
         "5",
         "4",
         "5"
        ],
        [
         "iPhone",
         "6",
         "5",
         "6"
        ],
        [
         "Xiaomi",
         "4",
         "4",
         "3"
        ]
       ],
       "shape": {
        "columns": 3,
        "rows": 3
       }
      },
      "text/html": [
       "<div>\n",
       "<style scoped>\n",
       "    .dataframe tbody tr th:only-of-type {\n",
       "        vertical-align: middle;\n",
       "    }\n",
       "\n",
       "    .dataframe tbody tr th {\n",
       "        vertical-align: top;\n",
       "    }\n",
       "\n",
       "    .dataframe thead th {\n",
       "        text-align: right;\n",
       "    }\n",
       "</style>\n",
       "<table border=\"1\" class=\"dataframe\">\n",
       "  <thead>\n",
       "    <tr style=\"text-align: right;\">\n",
       "      <th></th>\n",
       "      <th>Feature 1</th>\n",
       "      <th>Feature 2</th>\n",
       "      <th>Feature 3</th>\n",
       "    </tr>\n",
       "  </thead>\n",
       "  <tbody>\n",
       "    <tr>\n",
       "      <th>Samsung</th>\n",
       "      <td>5</td>\n",
       "      <td>4</td>\n",
       "      <td>5</td>\n",
       "    </tr>\n",
       "    <tr>\n",
       "      <th>iPhone</th>\n",
       "      <td>6</td>\n",
       "      <td>5</td>\n",
       "      <td>6</td>\n",
       "    </tr>\n",
       "    <tr>\n",
       "      <th>Xiaomi</th>\n",
       "      <td>4</td>\n",
       "      <td>4</td>\n",
       "      <td>3</td>\n",
       "    </tr>\n",
       "  </tbody>\n",
       "</table>\n",
       "</div>"
      ],
      "text/plain": [
       "         Feature 1  Feature 2  Feature 3\n",
       "Samsung          5          4          5\n",
       "iPhone           6          5          6\n",
       "Xiaomi           4          4          3"
      ]
     },
     "execution_count": 1999,
     "metadata": {},
     "output_type": "execute_result"
    }
   ],
   "source": [
    "# Converting the primary modeler's scores to a DataFrame for better readability\n",
    "\n",
    "# Creating a DataFrame with the given data\n",
    "# Index represents phone brands, and columns represent different features\n",
    "primary_modeler_scores_df = pd.DataFrame(\n",
    "    primary_modeler_scores,\n",
    "    index=[\"Samsung\", \"iPhone\", \"Xiaomi\"],  # Setting the row labels for phone brands\n",
    "    columns=[\"Feature 1\", \"Feature 2\", \"Feature 3\"]  # Setting the column labels for features\n",
    ")\n",
    "\n",
    "# Printing the DataFrame\n",
    "print(\"The Primary Modeler's Scores:\")\n",
    "primary_modeler_scores_df"
   ]
  },
  {
   "cell_type": "code",
   "execution_count": 2000,
   "metadata": {},
   "outputs": [],
   "source": [
    "# Setting up the opinion certainty\n",
    "\n",
    "# Array representing the certainty of the primary modeler's opinion for each phone brand\n",
    "# ! Note 1: ones does not equate to no certainty being applied as the opinion certainty is multiplied with number of responders\n",
    "opinion_certainty_array = np.array([1, 1, 1], dtype=np.float16)\n",
    "\n",
    "# Boolean flag to determine if certainty should be applied\n",
    "# * Note 1: This flag is important as setting it to True will ensure that the opinion certainty array is ones.\n",
    "apply_certainty = False\n"
   ]
  },
  {
   "cell_type": "code",
   "execution_count": 2001,
   "metadata": {},
   "outputs": [],
   "source": [
    "# Setting up the number of responders for each brand so that the opinion\n",
    "# certainty can be applied as many times as the responders responded\n",
    "\n",
    "# Array representing the number of responders for each phone brand\n",
    "number_of_responders = np.array([10, 10, 10], dtype=np.int32)"
   ]
  },
  {
   "cell_type": "code",
   "execution_count": 2002,
   "metadata": {},
   "outputs": [],
   "source": [
    "# Create a trust matrix with ones, representing equal trust for each responder\n",
    "# The matrix has 3 rows (one for each phone brand) and 10 columns (one for each responder)\n",
    "# * Note 1: Setting trust like this is equivalent to no inclusion of trust\n",
    "trust_matrix = np.ones((3, 10),dtype=np.float16)"
   ]
  },
  {
   "cell_type": "code",
   "execution_count": 2003,
   "metadata": {},
   "outputs": [],
   "source": [
    "# Primary modeler's score preference for each feature\n",
    "\n",
    "# Array representing the primary modeler's score preference for each feature\n",
    "# * Note 1: This means that scores below the selected scores are not taken into acoount durring the opinion formulation\n",
    "primary_modeler_score_preference = np.array([4, 4, 4], dtype=np.int8)"
   ]
  },
  {
   "cell_type": "code",
   "execution_count": 2004,
   "metadata": {},
   "outputs": [],
   "source": [
    "# Primary modeler's brand preference\n",
    "\n",
    "# Array representing the primary modeler's initial brand preference\n",
    "# * Note 1: Set to uniform\n",
    "primary_modeler_brand_pref = np.array([1, 1, 1], dtype=np.int8)\n",
    "\n",
    "# Normalize the brand preference so that the sum equals 1\n",
    "primary_modeler_brand_pref = primary_modeler_brand_pref / np.sum(primary_modeler_brand_pref)\n"
   ]
  },
  {
   "cell_type": "code",
   "execution_count": 2005,
   "metadata": {},
   "outputs": [],
   "source": [
    "# Setting score range\n",
    "\n",
    "# This represents the highest possible score for each feature, i.e., score range = 'best'\n",
    "score_range = 6"
   ]
  },
  {
   "cell_type": "code",
   "execution_count": 2006,
   "metadata": {},
   "outputs": [],
   "source": [
    "# The values of exponents in Dirichlet distribution must be non-zero,\n",
    "# setting them to a low value\n",
    "\n",
    "# Initial feature weight for the Dirichlet distribution\n",
    "initial_feature_weight = 0.01\n"
   ]
  },
  {
   "cell_type": "markdown",
   "metadata": {},
   "source": [
    "#### Expert opinions"
   ]
  },
  {
   "cell_type": "markdown",
   "metadata": {},
   "source": [
    "The opinion's of individual experts $E_{i}$ for each brand $b\\in{B}$."
   ]
  },
  {
   "cell_type": "code",
   "execution_count": 2007,
   "metadata": {},
   "outputs": [],
   "source": [
    "# Simulated experts for Samsung\n",
    "# Array representing the opinions of 10 simulated experts on Samsung for 3 features\n",
    "samsung_expert_opinions = np.array([\n",
    "    [4, 3, 4], [5, 3, 5], [5, 6, 5], [6, 5, 3], [6, 6, 6], \n",
    "    [5, 6, 5], [6, 6, 5], [6, 3, 4], [4, 5, 4], [6, 4, 3]\n",
    "], dtype=np.int8)\n",
    "\n",
    "# Simulated experts for iPhone\n",
    "# Array representing the opinions of 10 simulated experts on iPhone for 3 features\n",
    "iphone_expert_opinions = np.array([\n",
    "    [5, 5, 5], [5, 6, 5], [3, 4, 4], [3, 4, 5], [4, 5, 5], \n",
    "    [5, 6, 4], [6, 6, 6], [5, 6, 6], [4, 3, 4], [4, 6, 3]\n",
    "], dtype=np.int8)\n",
    "\n",
    "# Simulated experts for Xiaomi\n",
    "# Array representing the opinions of 10 simulated experts on Xiaomi for 3 features\n",
    "xiaomi_expert_opinions = np.array([\n",
    "    [3, 4, 3], [3, 3, 4], [4, 3, 4], [3, 3, 3], [5, 4, 3], \n",
    "    [3, 5, 5], [4, 5, 6], [4, 3, 2], [3, 4, 3], [4, 3, 4]\n",
    "], dtype=np.int8)\n"
   ]
  },
  {
   "cell_type": "code",
   "execution_count": 2008,
   "metadata": {},
   "outputs": [],
   "source": [
    "# Creating DataFrames for each brand\n",
    "\n",
    "# DataFrame for Samsung expert opinions\n",
    "samsung_expert_opinions_df = pd.DataFrame(\n",
    "    samsung_expert_opinions, \n",
    "    index=[f\"Samsung expert {i+1}\" for i in range(10)],  # Setting index as expert identifiers\n",
    "    columns=[\"Feature 1 score\", \"Feature 2 score\", \"Feature 3 score\"]  # Setting the column labels for features\n",
    ")\n",
    "\n",
    "# DataFrame for iPhone expert opinions\n",
    "iphone_expert_opinions_df = pd.DataFrame(\n",
    "    iphone_expert_opinions,\n",
    "    index=[f\"iPhone expert {i+1}\" for i in range(10)],  # Setting index as expert identifiers\n",
    "    columns=[\"Feature 1 score\", \"Feature 2 score\", \"Feature 3 score\"]  # Setting the column labels for features\n",
    ")\n",
    "\n",
    "# DataFrame for Xiaomi expert opinions\n",
    "xiaomi_expert_opinions_df = pd.DataFrame(\n",
    "    xiaomi_expert_opinions, \n",
    "    index=[f\"Xiaomi expert {i+1}\" for i in range(10)],  # Setting index as expert identifiers\n",
    "    columns=[\"Feature 1 score\", \"Feature 2 score\", \"Feature 3 score\"]  # Setting the column labels for features\n",
    ")\n"
   ]
  },
  {
   "cell_type": "code",
   "execution_count": 2009,
   "metadata": {},
   "outputs": [
    {
     "name": "stdout",
     "output_type": "stream",
     "text": [
      "Samsung Experts' Opinions:\n"
     ]
    },
    {
     "data": {
      "application/vnd.microsoft.datawrangler.viewer.v0+json": {
       "columns": [
        {
         "name": "index",
         "rawType": "object",
         "type": "string"
        },
        {
         "name": "Feature 1 score",
         "rawType": "int8",
         "type": "integer"
        },
        {
         "name": "Feature 2 score",
         "rawType": "int8",
         "type": "integer"
        },
        {
         "name": "Feature 3 score",
         "rawType": "int8",
         "type": "integer"
        }
       ],
       "conversionMethod": "pd.DataFrame",
       "ref": "846fa09c-a092-4b84-9fac-aab06b2e0396",
       "rows": [
        [
         "Samsung expert 1",
         "4",
         "3",
         "4"
        ],
        [
         "Samsung expert 2",
         "5",
         "3",
         "5"
        ],
        [
         "Samsung expert 3",
         "5",
         "6",
         "5"
        ],
        [
         "Samsung expert 4",
         "6",
         "5",
         "3"
        ],
        [
         "Samsung expert 5",
         "6",
         "6",
         "6"
        ],
        [
         "Samsung expert 6",
         "5",
         "6",
         "5"
        ],
        [
         "Samsung expert 7",
         "6",
         "6",
         "5"
        ],
        [
         "Samsung expert 8",
         "6",
         "3",
         "4"
        ],
        [
         "Samsung expert 9",
         "4",
         "5",
         "4"
        ],
        [
         "Samsung expert 10",
         "6",
         "4",
         "3"
        ]
       ],
       "shape": {
        "columns": 3,
        "rows": 10
       }
      },
      "text/html": [
       "<div>\n",
       "<style scoped>\n",
       "    .dataframe tbody tr th:only-of-type {\n",
       "        vertical-align: middle;\n",
       "    }\n",
       "\n",
       "    .dataframe tbody tr th {\n",
       "        vertical-align: top;\n",
       "    }\n",
       "\n",
       "    .dataframe thead th {\n",
       "        text-align: right;\n",
       "    }\n",
       "</style>\n",
       "<table border=\"1\" class=\"dataframe\">\n",
       "  <thead>\n",
       "    <tr style=\"text-align: right;\">\n",
       "      <th></th>\n",
       "      <th>Feature 1 score</th>\n",
       "      <th>Feature 2 score</th>\n",
       "      <th>Feature 3 score</th>\n",
       "    </tr>\n",
       "  </thead>\n",
       "  <tbody>\n",
       "    <tr>\n",
       "      <th>Samsung expert 1</th>\n",
       "      <td>4</td>\n",
       "      <td>3</td>\n",
       "      <td>4</td>\n",
       "    </tr>\n",
       "    <tr>\n",
       "      <th>Samsung expert 2</th>\n",
       "      <td>5</td>\n",
       "      <td>3</td>\n",
       "      <td>5</td>\n",
       "    </tr>\n",
       "    <tr>\n",
       "      <th>Samsung expert 3</th>\n",
       "      <td>5</td>\n",
       "      <td>6</td>\n",
       "      <td>5</td>\n",
       "    </tr>\n",
       "    <tr>\n",
       "      <th>Samsung expert 4</th>\n",
       "      <td>6</td>\n",
       "      <td>5</td>\n",
       "      <td>3</td>\n",
       "    </tr>\n",
       "    <tr>\n",
       "      <th>Samsung expert 5</th>\n",
       "      <td>6</td>\n",
       "      <td>6</td>\n",
       "      <td>6</td>\n",
       "    </tr>\n",
       "    <tr>\n",
       "      <th>Samsung expert 6</th>\n",
       "      <td>5</td>\n",
       "      <td>6</td>\n",
       "      <td>5</td>\n",
       "    </tr>\n",
       "    <tr>\n",
       "      <th>Samsung expert 7</th>\n",
       "      <td>6</td>\n",
       "      <td>6</td>\n",
       "      <td>5</td>\n",
       "    </tr>\n",
       "    <tr>\n",
       "      <th>Samsung expert 8</th>\n",
       "      <td>6</td>\n",
       "      <td>3</td>\n",
       "      <td>4</td>\n",
       "    </tr>\n",
       "    <tr>\n",
       "      <th>Samsung expert 9</th>\n",
       "      <td>4</td>\n",
       "      <td>5</td>\n",
       "      <td>4</td>\n",
       "    </tr>\n",
       "    <tr>\n",
       "      <th>Samsung expert 10</th>\n",
       "      <td>6</td>\n",
       "      <td>4</td>\n",
       "      <td>3</td>\n",
       "    </tr>\n",
       "  </tbody>\n",
       "</table>\n",
       "</div>"
      ],
      "text/plain": [
       "                   Feature 1 score  Feature 2 score  Feature 3 score\n",
       "Samsung expert 1                 4                3                4\n",
       "Samsung expert 2                 5                3                5\n",
       "Samsung expert 3                 5                6                5\n",
       "Samsung expert 4                 6                5                3\n",
       "Samsung expert 5                 6                6                6\n",
       "Samsung expert 6                 5                6                5\n",
       "Samsung expert 7                 6                6                5\n",
       "Samsung expert 8                 6                3                4\n",
       "Samsung expert 9                 4                5                4\n",
       "Samsung expert 10                6                4                3"
      ]
     },
     "execution_count": 2009,
     "metadata": {},
     "output_type": "execute_result"
    }
   ],
   "source": [
    "print(\"Samsung Experts' Opinions:\")\n",
    "samsung_expert_opinions_df"
   ]
  },
  {
   "cell_type": "code",
   "execution_count": 2010,
   "metadata": {},
   "outputs": [
    {
     "name": "stdout",
     "output_type": "stream",
     "text": [
      "\n",
      "iPhone Experts' Opinions:\n"
     ]
    },
    {
     "data": {
      "application/vnd.microsoft.datawrangler.viewer.v0+json": {
       "columns": [
        {
         "name": "index",
         "rawType": "object",
         "type": "string"
        },
        {
         "name": "Feature 1 score",
         "rawType": "int8",
         "type": "integer"
        },
        {
         "name": "Feature 2 score",
         "rawType": "int8",
         "type": "integer"
        },
        {
         "name": "Feature 3 score",
         "rawType": "int8",
         "type": "integer"
        }
       ],
       "conversionMethod": "pd.DataFrame",
       "ref": "1f067e97-6e1b-41df-bfaf-e6c93019ca26",
       "rows": [
        [
         "iPhone expert 1",
         "5",
         "5",
         "5"
        ],
        [
         "iPhone expert 2",
         "5",
         "6",
         "5"
        ],
        [
         "iPhone expert 3",
         "3",
         "4",
         "4"
        ],
        [
         "iPhone expert 4",
         "3",
         "4",
         "5"
        ],
        [
         "iPhone expert 5",
         "4",
         "5",
         "5"
        ],
        [
         "iPhone expert 6",
         "5",
         "6",
         "4"
        ],
        [
         "iPhone expert 7",
         "6",
         "6",
         "6"
        ],
        [
         "iPhone expert 8",
         "5",
         "6",
         "6"
        ],
        [
         "iPhone expert 9",
         "4",
         "3",
         "4"
        ],
        [
         "iPhone expert 10",
         "4",
         "6",
         "3"
        ]
       ],
       "shape": {
        "columns": 3,
        "rows": 10
       }
      },
      "text/html": [
       "<div>\n",
       "<style scoped>\n",
       "    .dataframe tbody tr th:only-of-type {\n",
       "        vertical-align: middle;\n",
       "    }\n",
       "\n",
       "    .dataframe tbody tr th {\n",
       "        vertical-align: top;\n",
       "    }\n",
       "\n",
       "    .dataframe thead th {\n",
       "        text-align: right;\n",
       "    }\n",
       "</style>\n",
       "<table border=\"1\" class=\"dataframe\">\n",
       "  <thead>\n",
       "    <tr style=\"text-align: right;\">\n",
       "      <th></th>\n",
       "      <th>Feature 1 score</th>\n",
       "      <th>Feature 2 score</th>\n",
       "      <th>Feature 3 score</th>\n",
       "    </tr>\n",
       "  </thead>\n",
       "  <tbody>\n",
       "    <tr>\n",
       "      <th>iPhone expert 1</th>\n",
       "      <td>5</td>\n",
       "      <td>5</td>\n",
       "      <td>5</td>\n",
       "    </tr>\n",
       "    <tr>\n",
       "      <th>iPhone expert 2</th>\n",
       "      <td>5</td>\n",
       "      <td>6</td>\n",
       "      <td>5</td>\n",
       "    </tr>\n",
       "    <tr>\n",
       "      <th>iPhone expert 3</th>\n",
       "      <td>3</td>\n",
       "      <td>4</td>\n",
       "      <td>4</td>\n",
       "    </tr>\n",
       "    <tr>\n",
       "      <th>iPhone expert 4</th>\n",
       "      <td>3</td>\n",
       "      <td>4</td>\n",
       "      <td>5</td>\n",
       "    </tr>\n",
       "    <tr>\n",
       "      <th>iPhone expert 5</th>\n",
       "      <td>4</td>\n",
       "      <td>5</td>\n",
       "      <td>5</td>\n",
       "    </tr>\n",
       "    <tr>\n",
       "      <th>iPhone expert 6</th>\n",
       "      <td>5</td>\n",
       "      <td>6</td>\n",
       "      <td>4</td>\n",
       "    </tr>\n",
       "    <tr>\n",
       "      <th>iPhone expert 7</th>\n",
       "      <td>6</td>\n",
       "      <td>6</td>\n",
       "      <td>6</td>\n",
       "    </tr>\n",
       "    <tr>\n",
       "      <th>iPhone expert 8</th>\n",
       "      <td>5</td>\n",
       "      <td>6</td>\n",
       "      <td>6</td>\n",
       "    </tr>\n",
       "    <tr>\n",
       "      <th>iPhone expert 9</th>\n",
       "      <td>4</td>\n",
       "      <td>3</td>\n",
       "      <td>4</td>\n",
       "    </tr>\n",
       "    <tr>\n",
       "      <th>iPhone expert 10</th>\n",
       "      <td>4</td>\n",
       "      <td>6</td>\n",
       "      <td>3</td>\n",
       "    </tr>\n",
       "  </tbody>\n",
       "</table>\n",
       "</div>"
      ],
      "text/plain": [
       "                  Feature 1 score  Feature 2 score  Feature 3 score\n",
       "iPhone expert 1                 5                5                5\n",
       "iPhone expert 2                 5                6                5\n",
       "iPhone expert 3                 3                4                4\n",
       "iPhone expert 4                 3                4                5\n",
       "iPhone expert 5                 4                5                5\n",
       "iPhone expert 6                 5                6                4\n",
       "iPhone expert 7                 6                6                6\n",
       "iPhone expert 8                 5                6                6\n",
       "iPhone expert 9                 4                3                4\n",
       "iPhone expert 10                4                6                3"
      ]
     },
     "execution_count": 2010,
     "metadata": {},
     "output_type": "execute_result"
    }
   ],
   "source": [
    "print(\"\\niPhone Experts' Opinions:\")\n",
    "iphone_expert_opinions_df"
   ]
  },
  {
   "cell_type": "code",
   "execution_count": 2011,
   "metadata": {},
   "outputs": [
    {
     "name": "stdout",
     "output_type": "stream",
     "text": [
      "\n",
      "Xiaomi Experts' Opinions:\n"
     ]
    },
    {
     "data": {
      "application/vnd.microsoft.datawrangler.viewer.v0+json": {
       "columns": [
        {
         "name": "index",
         "rawType": "object",
         "type": "string"
        },
        {
         "name": "Feature 1 score",
         "rawType": "int8",
         "type": "integer"
        },
        {
         "name": "Feature 2 score",
         "rawType": "int8",
         "type": "integer"
        },
        {
         "name": "Feature 3 score",
         "rawType": "int8",
         "type": "integer"
        }
       ],
       "conversionMethod": "pd.DataFrame",
       "ref": "93f6fc03-5f0b-4ffd-8e71-73881e806f61",
       "rows": [
        [
         "Xiaomi expert 1",
         "3",
         "4",
         "3"
        ],
        [
         "Xiaomi expert 2",
         "3",
         "3",
         "4"
        ],
        [
         "Xiaomi expert 3",
         "4",
         "3",
         "4"
        ],
        [
         "Xiaomi expert 4",
         "3",
         "3",
         "3"
        ],
        [
         "Xiaomi expert 5",
         "5",
         "4",
         "3"
        ],
        [
         "Xiaomi expert 6",
         "3",
         "5",
         "5"
        ],
        [
         "Xiaomi expert 7",
         "4",
         "5",
         "6"
        ],
        [
         "Xiaomi expert 8",
         "4",
         "3",
         "2"
        ],
        [
         "Xiaomi expert 9",
         "3",
         "4",
         "3"
        ],
        [
         "Xiaomi expert 10",
         "4",
         "3",
         "4"
        ]
       ],
       "shape": {
        "columns": 3,
        "rows": 10
       }
      },
      "text/html": [
       "<div>\n",
       "<style scoped>\n",
       "    .dataframe tbody tr th:only-of-type {\n",
       "        vertical-align: middle;\n",
       "    }\n",
       "\n",
       "    .dataframe tbody tr th {\n",
       "        vertical-align: top;\n",
       "    }\n",
       "\n",
       "    .dataframe thead th {\n",
       "        text-align: right;\n",
       "    }\n",
       "</style>\n",
       "<table border=\"1\" class=\"dataframe\">\n",
       "  <thead>\n",
       "    <tr style=\"text-align: right;\">\n",
       "      <th></th>\n",
       "      <th>Feature 1 score</th>\n",
       "      <th>Feature 2 score</th>\n",
       "      <th>Feature 3 score</th>\n",
       "    </tr>\n",
       "  </thead>\n",
       "  <tbody>\n",
       "    <tr>\n",
       "      <th>Xiaomi expert 1</th>\n",
       "      <td>3</td>\n",
       "      <td>4</td>\n",
       "      <td>3</td>\n",
       "    </tr>\n",
       "    <tr>\n",
       "      <th>Xiaomi expert 2</th>\n",
       "      <td>3</td>\n",
       "      <td>3</td>\n",
       "      <td>4</td>\n",
       "    </tr>\n",
       "    <tr>\n",
       "      <th>Xiaomi expert 3</th>\n",
       "      <td>4</td>\n",
       "      <td>3</td>\n",
       "      <td>4</td>\n",
       "    </tr>\n",
       "    <tr>\n",
       "      <th>Xiaomi expert 4</th>\n",
       "      <td>3</td>\n",
       "      <td>3</td>\n",
       "      <td>3</td>\n",
       "    </tr>\n",
       "    <tr>\n",
       "      <th>Xiaomi expert 5</th>\n",
       "      <td>5</td>\n",
       "      <td>4</td>\n",
       "      <td>3</td>\n",
       "    </tr>\n",
       "    <tr>\n",
       "      <th>Xiaomi expert 6</th>\n",
       "      <td>3</td>\n",
       "      <td>5</td>\n",
       "      <td>5</td>\n",
       "    </tr>\n",
       "    <tr>\n",
       "      <th>Xiaomi expert 7</th>\n",
       "      <td>4</td>\n",
       "      <td>5</td>\n",
       "      <td>6</td>\n",
       "    </tr>\n",
       "    <tr>\n",
       "      <th>Xiaomi expert 8</th>\n",
       "      <td>4</td>\n",
       "      <td>3</td>\n",
       "      <td>2</td>\n",
       "    </tr>\n",
       "    <tr>\n",
       "      <th>Xiaomi expert 9</th>\n",
       "      <td>3</td>\n",
       "      <td>4</td>\n",
       "      <td>3</td>\n",
       "    </tr>\n",
       "    <tr>\n",
       "      <th>Xiaomi expert 10</th>\n",
       "      <td>4</td>\n",
       "      <td>3</td>\n",
       "      <td>4</td>\n",
       "    </tr>\n",
       "  </tbody>\n",
       "</table>\n",
       "</div>"
      ],
      "text/plain": [
       "                  Feature 1 score  Feature 2 score  Feature 3 score\n",
       "Xiaomi expert 1                 3                4                3\n",
       "Xiaomi expert 2                 3                3                4\n",
       "Xiaomi expert 3                 4                3                4\n",
       "Xiaomi expert 4                 3                3                3\n",
       "Xiaomi expert 5                 5                4                3\n",
       "Xiaomi expert 6                 3                5                5\n",
       "Xiaomi expert 7                 4                5                6\n",
       "Xiaomi expert 8                 4                3                2\n",
       "Xiaomi expert 9                 3                4                3\n",
       "Xiaomi expert 10                4                3                4"
      ]
     },
     "execution_count": 2011,
     "metadata": {},
     "output_type": "execute_result"
    }
   ],
   "source": [
    "print(\"\\nXiaomi Experts' Opinions:\")\n",
    "xiaomi_expert_opinions_df"
   ]
  },
  {
   "cell_type": "markdown",
   "metadata": {},
   "source": [
    "<ins>Simple inference of experts opinion of brands</ins>"
   ]
  },
  {
   "cell_type": "code",
   "execution_count": 2012,
   "metadata": {},
   "outputs": [
    {
     "name": "stderr",
     "output_type": "stream",
     "text": [
      "/var/folders/wm/cf004srn2bx_p8lzdm9k_rr80000gn/T/ipykernel_86379/1865824333.py:9: MatplotlibDeprecationWarning: The 'labels' parameter of boxplot() has been renamed 'tick_labels' since Matplotlib 3.9; support for the old name will be dropped in 3.11.\n",
      "  ax.boxplot([samsung_means, iphone_means, xiaomi_means], labels=[\"Samsung\", \"iPhone\", \"Xiaomi\"], showmeans=True)\n"
     ]
    },
    {
     "data": {
      "image/png": "[encoded data removed]",
      "text/plain": [
       "<Figure size 1000x600 with 1 Axes>"
      ]
     },
     "metadata": {},
     "output_type": "display_data"
    }
   ],
   "source": [
    "# Calculate the mean scores of each expert\n",
    "samsung_means = samsung_expert_opinions_df.mean(axis=1)\n",
    "iphone_means = iphone_expert_opinions_df.mean(axis=1)\n",
    "xiaomi_means = xiaomi_expert_opinions_df.mean(axis=1)\n",
    "\n",
    "# Create a box plot for each brand\n",
    "fig, ax = plt.subplots(figsize=(10, 6))\n",
    "\n",
    "ax.boxplot([samsung_means, iphone_means, xiaomi_means], labels=[\"Samsung\", \"iPhone\", \"Xiaomi\"], showmeans=True)\n",
    "ax.set_title('Box Plot of Mean Expert Scores for Each Brand', fontsize=15.5)\n",
    "ax.set_ylabel('Mean Score')\n",
    "ax.set_xlabel('Brand')\n",
    "\n",
    "# Adding scatter plot of the observations\n",
    "x_positions = [1, 2, 3]\n",
    "for i, means in enumerate([samsung_means, iphone_means, xiaomi_means]):\n",
    "    ax.scatter([x_positions[i]] * len(means), means, alpha=0.6, color='blue', s=5)\n",
    "\n",
    "# Save the figure in .eps format\n",
    "\n",
    "# save_path = os.path.join(working_directory, 'Bar_charts', 'brand_mean_scores_boxplot.eps')\n",
    "# plt.tight_layout()\n",
    "# plt.savefig(save_path, format='eps')\n",
    "\n",
    "# Show the plot\n",
    "plt.show()\n"
   ]
  },
  {
   "cell_type": "markdown",
   "metadata": {},
   "source": [
    "<ins>The primary modeler's brand preference after opinion merging.</ins>"
   ]
  },
  {
   "cell_type": "code",
   "execution_count": 2013,
   "metadata": {},
   "outputs": [],
   "source": [
    "# Running the simulated example from the auxiliary module\n",
    "\n",
    "# Call the simulated_example function with the provided parameters\n",
    "_, primary_modeler_posterior_updated = auxiliary.simulated_example(\n",
    "    primary_modeler_scores,  # Initial scores given by the primary modeler\n",
    "    opinion_certainty_array,  # Certainty of the primary modeler's opinions\n",
    "    apply_certainty,  # Flag to apply certainty\n",
    "    number_of_responders,  # Number of responders for each brand\n",
    "    trust_matrix,  # Trust matrix representing trust for each responder\n",
    "    primary_modeler_score_preference,  # Primary modeler's score preference for each feature\n",
    "    primary_modeler_brand_pref,  # Distribution representing primary modeler's brand prefference\n",
    "    score_range,  # Highest possible score for each feature\n",
    "    initial_feature_weight,  # Initial feature weight for the Dirichlet distribution\n",
    "    samsung_expert_opinions,  # Expert opinions for Samsung\n",
    "    iphone_expert_opinions,  # Expert opinions for iPhone\n",
    "    xiaomi_expert_opinions  # Expert opinions for Xiaomi\n",
    ")\n"
   ]
  },
  {
   "cell_type": "code",
   "execution_count": 2014,
   "metadata": {},
   "outputs": [
    {
     "data": {
      "image/png": "[encoded data removed]",
      "text/plain": [
       "<Figure size 1500x500 with 1 Axes>"
      ]
     },
     "metadata": {},
     "output_type": "display_data"
    }
   ],
   "source": [
    "## Plot primary modeler's updated posterior distribution on brands\n",
    "\n",
    "# Variable names for the x-ticks\n",
    "variable_names = ['Samsung', 'iPhone', 'Xiaomi']\n",
    "\n",
    "# Create a figure window with a single subplot\n",
    "fig, ax = plt.subplots(1, 1, figsize=(15, 5))\n",
    "\n",
    "# Plotting the updated posterior distribution as a bar chart\n",
    "ax.bar(variable_names, primary_modeler_posterior_updated)\n",
    "ax.set_ylabel('Probability')\n",
    "ax.set_title(\"Primary modeler's updated brand preference\", fontsize=15.5)\n",
    "ax.tick_params(axis='x', labelsize=17)\n",
    "\n",
    "# Save the figure in .eps format\n",
    "save_path = os.path.join(working_directory, 'Bar_charts', 'figure_0.eps')\n",
    "plt.tight_layout()\n",
    "plt.savefig(save_path, format='eps')\n",
    "\n",
    "# Show the plot\n",
    "plt.show()\n"
   ]
  },
  {
   "cell_type": "markdown",
   "metadata": {},
   "source": [
    "<ins>The primary modeler's updated brand preference.</ins>"
   ]
  },
  {
   "cell_type": "code",
   "execution_count": 2015,
   "metadata": {},
   "outputs": [
    {
     "name": "stdout",
     "output_type": "stream",
     "text": [
      "The Primary modeler's updated brand preference:\n"
     ]
    },
    {
     "data": {
      "application/vnd.microsoft.datawrangler.viewer.v0+json": {
       "columns": [
        {
         "name": "index",
         "rawType": "int64",
         "type": "integer"
        },
        {
         "name": "Samsung",
         "rawType": "object",
         "type": "string"
        },
        {
         "name": "iPhone",
         "rawType": "object",
         "type": "string"
        },
        {
         "name": "Xiaomi",
         "rawType": "object",
         "type": "string"
        }
       ],
       "conversionMethod": "pd.DataFrame",
       "ref": "61e256a9-7422-4f06-a919-8914a7d90516",
       "rows": [
        [
         "0",
         "41.65%",
         "33.33%",
         "25.02%"
        ]
       ],
       "shape": {
        "columns": 3,
        "rows": 1
       }
      },
      "text/html": [
       "<div>\n",
       "<style scoped>\n",
       "    .dataframe tbody tr th:only-of-type {\n",
       "        vertical-align: middle;\n",
       "    }\n",
       "\n",
       "    .dataframe tbody tr th {\n",
       "        vertical-align: top;\n",
       "    }\n",
       "\n",
       "    .dataframe thead th {\n",
       "        text-align: right;\n",
       "    }\n",
       "</style>\n",
       "<table border=\"1\" class=\"dataframe\">\n",
       "  <thead>\n",
       "    <tr style=\"text-align: right;\">\n",
       "      <th></th>\n",
       "      <th>Samsung</th>\n",
       "      <th>iPhone</th>\n",
       "      <th>Xiaomi</th>\n",
       "    </tr>\n",
       "  </thead>\n",
       "  <tbody>\n",
       "    <tr>\n",
       "      <th>0</th>\n",
       "      <td>41.65%</td>\n",
       "      <td>33.33%</td>\n",
       "      <td>25.02%</td>\n",
       "    </tr>\n",
       "  </tbody>\n",
       "</table>\n",
       "</div>"
      ],
      "text/plain": [
       "  Samsung  iPhone  Xiaomi\n",
       "0  41.65%  33.33%  25.02%"
      ]
     },
     "execution_count": 2015,
     "metadata": {},
     "output_type": "execute_result"
    }
   ],
   "source": [
    "# Round the values and convert them to percentage strings\n",
    "primary_modeler_posterior_updated_percent = [f\"{value * 100:.2f}%\" for value in primary_modeler_posterior_updated]\n",
    "\n",
    "# Create a DataFrame for the updated posterior percentages\n",
    "primary_modeler_posterior_updated_df = pd.DataFrame(\n",
    "    [primary_modeler_posterior_updated_percent],    # Percentage values as a list\n",
    "    columns=[\"Samsung\", \"iPhone\", \"Xiaomi\"]         # Column labels for the DataFrame\n",
    ")\n",
    "\n",
    "# Display the DataFrame\n",
    "print(\"The Primary modeler's updated brand preference:\")\n",
    "primary_modeler_posterior_updated_df"
   ]
  },
  {
   "cell_type": "markdown",
   "metadata": {},
   "source": [
    "The results suggest that the experts influenced the primary modeler's opinion to favour the Samsung brand. Additionally, the primary modeler's probability of choosing the Xiaomi brand prior to opinion merging is low due to the low score assigned to feature 3 for the Xiaomi brand.  Consequently, this leads to a low probability entering the posterior distribution before opinion merging, significantly reducing the probability of selecting the Xiaomi brand."
   ]
  },
  {
   "cell_type": "markdown",
   "metadata": {},
   "source": [
    "### Example 2"
   ]
  },
  {
   "cell_type": "markdown",
   "metadata": {},
   "source": [
    "#### Experiment setup"
   ]
  },
  {
   "cell_type": "markdown",
   "metadata": {},
   "source": [
    "##### Agent"
   ]
  },
  {
   "cell_type": "code",
   "execution_count": 2016,
   "metadata": {},
   "outputs": [
    {
     "data": {
      "application/vnd.microsoft.datawrangler.viewer.v0+json": {
       "columns": [
        {
         "name": "index",
         "rawType": "object",
         "type": "string"
        },
        {
         "name": "Feature 1",
         "rawType": "int8",
         "type": "integer"
        },
        {
         "name": "Feature 2",
         "rawType": "int8",
         "type": "integer"
        },
        {
         "name": "Feature 3",
         "rawType": "int8",
         "type": "integer"
        }
       ],
       "conversionMethod": "pd.DataFrame",
       "ref": "355e5031-0adb-4c1f-be6d-3f31c8922140",
       "rows": [
        [
         "Samsung",
         "5",
         "4",
         "5"
        ],
        [
         "iPhone",
         "6",
         "5",
         "6"
        ],
        [
         "Xiaomi",
         "4",
         "4",
         "3"
        ]
       ],
       "shape": {
        "columns": 3,
        "rows": 3
       }
      },
      "text/html": [
       "<div>\n",
       "<style scoped>\n",
       "    .dataframe tbody tr th:only-of-type {\n",
       "        vertical-align: middle;\n",
       "    }\n",
       "\n",
       "    .dataframe tbody tr th {\n",
       "        vertical-align: top;\n",
       "    }\n",
       "\n",
       "    .dataframe thead th {\n",
       "        text-align: right;\n",
       "    }\n",
       "</style>\n",
       "<table border=\"1\" class=\"dataframe\">\n",
       "  <thead>\n",
       "    <tr style=\"text-align: right;\">\n",
       "      <th></th>\n",
       "      <th>Feature 1</th>\n",
       "      <th>Feature 2</th>\n",
       "      <th>Feature 3</th>\n",
       "    </tr>\n",
       "  </thead>\n",
       "  <tbody>\n",
       "    <tr>\n",
       "      <th>Samsung</th>\n",
       "      <td>5</td>\n",
       "      <td>4</td>\n",
       "      <td>5</td>\n",
       "    </tr>\n",
       "    <tr>\n",
       "      <th>iPhone</th>\n",
       "      <td>6</td>\n",
       "      <td>5</td>\n",
       "      <td>6</td>\n",
       "    </tr>\n",
       "    <tr>\n",
       "      <th>Xiaomi</th>\n",
       "      <td>4</td>\n",
       "      <td>4</td>\n",
       "      <td>3</td>\n",
       "    </tr>\n",
       "  </tbody>\n",
       "</table>\n",
       "</div>"
      ],
      "text/plain": [
       "         Feature 1  Feature 2  Feature 3\n",
       "Samsung          5          4          5\n",
       "iPhone           6          5          6\n",
       "Xiaomi           4          4          3"
      ]
     },
     "execution_count": 2016,
     "metadata": {},
     "output_type": "execute_result"
    }
   ],
   "source": [
    "# Creating a DataFrame with the given data\n",
    "# Index represents phone brands, and columns represent different features\n",
    "primary_modeler_scores_df = pd.DataFrame(\n",
    "    primary_modeler_scores,\n",
    "    index=[\"Samsung\", \"iPhone\", \"Xiaomi\"],           # Setting the row labels for phone brands\n",
    "    columns=[\"Feature 1\", \"Feature 2\", \"Feature 3\"]  # Setting the column labels for features\n",
    ")\n",
    "\n",
    "# Display the DataFrame\n",
    "primary_modeler_scores_df"
   ]
  },
  {
   "cell_type": "code",
   "execution_count": 2017,
   "metadata": {},
   "outputs": [],
   "source": [
    "# Setting up the opinion certainty\n",
    "\n",
    "# Array representing the certainty of the primary modeler's opinion for each phone brand\n",
    "# ! Note 1: ones does not equate to no certainty being applied as the opinion certainty is multiplied with number of responders\n",
    "opinion_certainty_array = np.array([1, 1, 1], dtype = np.float16)\n",
    "\n",
    "# Boolean flag to determine if certainty should be applied\n",
    "# * Note 1: This flag is important as setting it to True will ensure that the opinion certainty array is ones.\n",
    "apply_certainty = False"
   ]
  },
  {
   "cell_type": "code",
   "execution_count": 2018,
   "metadata": {},
   "outputs": [],
   "source": [
    "# Setting up the number of responders for each brand so that the opinion\n",
    "# certainty can be applied as many times as the responders responded\n",
    "\n",
    "# Array representing the number of responders for each phone brand\n",
    "number_of_responders = np.array([10, 10, 10], dtype = np.int32)"
   ]
  },
  {
   "cell_type": "code",
   "execution_count": 2019,
   "metadata": {},
   "outputs": [],
   "source": [
    "# Create a trust matrix with ones, representing equal trust for each responder\n",
    "# The matrix has 3 rows (one for each phone brand) and 10 columns (one for each responder)\n",
    "# * Note 1: Setting trust like this is equivalent to no inclusion of trust\n",
    "trust_matrix = np.ones((3, 10), dtype=np.float16)"
   ]
  },
  {
   "cell_type": "code",
   "execution_count": 2020,
   "metadata": {},
   "outputs": [],
   "source": [
    "# Primary modeler's score preference for each feature\n",
    "\n",
    "# Array representing the primary modeler's score preference for each feature\n",
    "# * Note 1: This means that scores below the selected scores are not taken into acoount durring the opinion formulation\n",
    "primary_modeler_score_preference = np.array([4, 4, 4], dtype=np.int8)"
   ]
  },
  {
   "cell_type": "code",
   "execution_count": 2021,
   "metadata": {},
   "outputs": [],
   "source": [
    "# Primary modeler's brand preference\n",
    "\n",
    "# Array representing the primary modeler's initial brand preference\n",
    "# * Note 1: Set to uniform\n",
    "primary_modeler_brand_pref = np.array([1, 1, 1], dtype=np.float16)\n",
    "\n",
    "# Normalize the brand preference so that the sum equals 1\n",
    "primary_modeler_brand_pref = primary_modeler_brand_pref / np.sum(primary_modeler_brand_pref)"
   ]
  },
  {
   "cell_type": "code",
   "execution_count": 2022,
   "metadata": {},
   "outputs": [],
   "source": [
    "# Setting score range\n",
    "\n",
    "# This represents the highest possible score for each feature, i.e., score range = 'best'\n",
    "score_range = 6"
   ]
  },
  {
   "cell_type": "code",
   "execution_count": 2023,
   "metadata": {},
   "outputs": [],
   "source": [
    "# The values of exponents in Dirichlet distribution must be non-zero,\n",
    "# setting them to a low value\n",
    "\n",
    "# Initial feature weight for the Dirichlet distribution\n",
    "initial_feature_weight = 0.01"
   ]
  },
  {
   "cell_type": "markdown",
   "metadata": {},
   "source": [
    "##### Expert opinons"
   ]
  },
  {
   "cell_type": "markdown",
   "metadata": {},
   "source": [
    "The experts are configured to prefer the brands in the following order:\n",
    "\n",
    " **Samsung $\\approx$ iPhone $\\approx$ Xiaomi**, \n",
    "\n",
    "the scores are set up to similar **<ins>high</ins>** values."
   ]
  },
  {
   "cell_type": "code",
   "execution_count": 2024,
   "metadata": {},
   "outputs": [],
   "source": [
    "# Simulated experts for Samsung\n",
    "# Array representing the opinions of 10 simulated experts on Samsung for 3 features\n",
    "samsung_expert_opinions = np.array([\n",
    "    [6, 5, 6], [5, 5, 5], [6, 5, 5], [5, 5, 6], [6, 6, 6],\n",
    "    [5, 6, 5], [6, 5, 5], [6, 5, 5], [5, 6, 6], [6, 5, 5]\n",
    "], dtype=np.int8)\n",
    "\n",
    "# Simulated experts for iPhone\n",
    "# Array representing the opinions of 10 simulated experts on iPhone for 3 features\n",
    "iphone_expert_opinions = np.array([\n",
    "    [5, 6, 5], [6, 5, 5], [6, 5, 6], [5, 6, 5], [6, 6, 5],\n",
    "    [6, 5, 6], [6, 6, 6], [6, 5, 6], [5, 6, 5], [6, 6, 6]\n",
    "], dtype=np.int8)\n",
    "\n",
    "# Simulated experts for Xiaomi\n",
    "# Array representing the opinions of 10 simulated experts on Xiaomi for 3 features\n",
    "xiaomi_expert_opinions = np.array([\n",
    "    [5, 5, 6], [6, 5, 6], [6, 6, 6], [6, 6, 6], [6, 5, 6],\n",
    "    [6, 5, 5], [6, 5, 6], [5, 5, 6], [6, 6, 5], [5, 6, 5]\n",
    "], dtype=np.int8)"
   ]
  },
  {
   "cell_type": "code",
   "execution_count": 2025,
   "metadata": {},
   "outputs": [],
   "source": [
    "# Creating DataFrames for each brand\n",
    "\n",
    "# DataFrame for Samsung expert opinions\n",
    "samsung_expert_opinions_df = pd.DataFrame(\n",
    "    samsung_expert_opinions, \n",
    "    index=[f\"Samsung expert {i+1}\" for i in range(10)],  # Setting index as expert identifiers\n",
    "    columns=[\"Feature 1 score\", \"Feature 2 score\", \"Feature 3 score\"]  # Setting the column labels for features\n",
    ")\n",
    "\n",
    "# DataFrame for iPhone expert opinions\n",
    "iphone_expert_opinions_df = pd.DataFrame(\n",
    "    iphone_expert_opinions,\n",
    "    index=[f\"iPhone expert {i+1}\" for i in range(10)],  # Setting index as expert identifiers\n",
    "    columns=[\"Feature 1 score\", \"Feature 2 score\", \"Feature 3 score\"]  # Setting the column labels for features\n",
    ")\n",
    "\n",
    "# DataFrame for Xiaomi expert opinions\n",
    "xiaomi_expert_opinions_df = pd.DataFrame(\n",
    "    xiaomi_expert_opinions, \n",
    "    index=[f\"Xiaomi expert {i+1}\" for i in range(10)],  # Setting index as expert identifiers\n",
    "    columns=[\"Feature 1 score\", \"Feature 2 score\", \"Feature 3 score\"]  # Setting the column labels for features\n",
    ")\n"
   ]
  },
  {
   "cell_type": "markdown",
   "metadata": {},
   "source": [
    "<ins>Simple inference of experts opinion of brands</ins>"
   ]
  },
  {
   "cell_type": "code",
   "execution_count": 2026,
   "metadata": {},
   "outputs": [
    {
     "name": "stderr",
     "output_type": "stream",
     "text": [
      "/var/folders/wm/cf004srn2bx_p8lzdm9k_rr80000gn/T/ipykernel_86379/1041437077.py:9: MatplotlibDeprecationWarning: The 'labels' parameter of boxplot() has been renamed 'tick_labels' since Matplotlib 3.9; support for the old name will be dropped in 3.11.\n",
      "  ax.boxplot([samsung_means, iphone_means, xiaomi_means], labels=[\"Samsung\", \"iPhone\", \"Xiaomi\"], showmeans=True)\n"
     ]
    },
    {
     "data": {
      "image/png": "[encoded data removed]",
      "text/plain": [
       "<Figure size 1000x600 with 1 Axes>"
      ]
     },
     "metadata": {},
     "output_type": "display_data"
    }
   ],
   "source": [
    "# Calculate the mean scores of each expert\n",
    "samsung_means = samsung_expert_opinions_df.mean(axis=1)\n",
    "iphone_means = iphone_expert_opinions_df.mean(axis=1)\n",
    "xiaomi_means = xiaomi_expert_opinions_df.mean(axis=1)\n",
    "\n",
    "# Create a box plot for each brand\n",
    "fig, ax = plt.subplots(figsize=(10, 6))\n",
    "\n",
    "ax.boxplot([samsung_means, iphone_means, xiaomi_means], labels=[\"Samsung\", \"iPhone\", \"Xiaomi\"], showmeans=True)\n",
    "ax.set_title('Box Plot of Mean Expert Scores for Each Brand', fontsize=15.5)\n",
    "ax.set_ylabel('Mean Score')\n",
    "ax.set_xlabel('Brand')\n",
    "\n",
    "# Adding scatter plot of the observations\n",
    "x_positions = [1, 2, 3]\n",
    "for i, means in enumerate([samsung_means, iphone_means, xiaomi_means]):\n",
    "    ax.scatter([x_positions[i]] * len(means), means, alpha=0.6, color='blue', s=5)\n",
    "\n",
    "# Save the figure in .eps format\n",
    "# save_path = os.path.join(working_directory, 'Bar_charts', 'brand_mean_scores_boxplot.eps')\n",
    "# plt.tight_layout()\n",
    "# plt.savefig(save_path, format='eps')\n",
    "\n",
    "# Show the plot\n",
    "plt.show()\n"
   ]
  },
  {
   "cell_type": "code",
   "execution_count": 2027,
   "metadata": {},
   "outputs": [],
   "source": [
    "# Running the simulated example from the auxiliary module\n",
    "\n",
    "# Call the simulated_example function with the provided parameters\n",
    "_, primary_modeler_posterior_updated = auxiliary.simulated_example(\n",
    "    primary_modeler_scores,  # Initial scores given by the primary modeler\n",
    "    opinion_certainty_array,  # Certainty of the primary modeler's opinions\n",
    "    apply_certainty,  # Flag to apply certainty\n",
    "    number_of_responders,  # Number of responders for each brand\n",
    "    trust_matrix,  # Trust matrix representing trust for each responder\n",
    "    primary_modeler_score_preference,  # Primary modeler's score preference for each feature\n",
    "    primary_modeler_brand_pref,  # Distribution representing primary modeler's brand prefference\n",
    "    score_range,  # Highest possible score for each feature\n",
    "    initial_feature_weight,  # Initial feature weight for the Dirichlet distribution\n",
    "    samsung_expert_opinions,  # Expert opinions for Samsung\n",
    "    iphone_expert_opinions,  # Expert opinions for iPhone\n",
    "    xiaomi_expert_opinions  # Expert opinions for Xiaomi\n",
    ")\n"
   ]
  },
  {
   "cell_type": "code",
   "execution_count": 2028,
   "metadata": {},
   "outputs": [
    {
     "data": {
      "image/png": "[encoded data removed]",
      "text/plain": [
       "<Figure size 700x500 with 1 Axes>"
      ]
     },
     "metadata": {},
     "output_type": "display_data"
    }
   ],
   "source": [
    "# Create a figure window\n",
    "plt.figure(figsize=(7, 5))\n",
    "\n",
    "# Plot the primary modeler's updated posterior distribution on brands\n",
    "plt.bar(['Samsung', 'iPhone', 'Xiaomi'], primary_modeler_posterior_updated)\n",
    "\n",
    "# Set the font size for the x-ticks\n",
    "plt.xticks(fontsize=17)\n",
    "\n",
    "# Label the y-axis and set the title\n",
    "plt.ylabel('Probability')\n",
    "plt.title(\"Primary modeler's updated brand preference\", fontsize=18)\n",
    "\n",
    "# Save the plot\n",
    "save_path = os.path.join(working_directory, 'Bar_charts', 'figure_1.eps')\n",
    "plt.tight_layout()\n",
    "plt.savefig(save_path, format='eps')\n",
    "\n",
    "# Display the plot\n",
    "plt.show()\n"
   ]
  },
  {
   "cell_type": "markdown",
   "metadata": {},
   "source": [
    "<ins>The primary modeler's updated brand preference.</ins>"
   ]
  },
  {
   "cell_type": "code",
   "execution_count": 2029,
   "metadata": {},
   "outputs": [
    {
     "name": "stdout",
     "output_type": "stream",
     "text": [
      "The Primary modeler's updated brand preference:\n"
     ]
    },
    {
     "data": {
      "application/vnd.microsoft.datawrangler.viewer.v0+json": {
       "columns": [
        {
         "name": "index",
         "rawType": "int64",
         "type": "integer"
        },
        {
         "name": "Samsung",
         "rawType": "object",
         "type": "string"
        },
        {
         "name": "iPhone",
         "rawType": "object",
         "type": "string"
        },
        {
         "name": "Xiaomi",
         "rawType": "object",
         "type": "string"
        }
       ],
       "conversionMethod": "pd.DataFrame",
       "ref": "febcdb3d-83bf-405d-982f-56e4dc9f2cc5",
       "rows": [
        [
         "0",
         "33.56%",
         "32.88%",
         "33.56%"
        ]
       ],
       "shape": {
        "columns": 3,
        "rows": 1
       }
      },
      "text/html": [
       "<div>\n",
       "<style scoped>\n",
       "    .dataframe tbody tr th:only-of-type {\n",
       "        vertical-align: middle;\n",
       "    }\n",
       "\n",
       "    .dataframe tbody tr th {\n",
       "        vertical-align: top;\n",
       "    }\n",
       "\n",
       "    .dataframe thead th {\n",
       "        text-align: right;\n",
       "    }\n",
       "</style>\n",
       "<table border=\"1\" class=\"dataframe\">\n",
       "  <thead>\n",
       "    <tr style=\"text-align: right;\">\n",
       "      <th></th>\n",
       "      <th>Samsung</th>\n",
       "      <th>iPhone</th>\n",
       "      <th>Xiaomi</th>\n",
       "    </tr>\n",
       "  </thead>\n",
       "  <tbody>\n",
       "    <tr>\n",
       "      <th>0</th>\n",
       "      <td>33.56%</td>\n",
       "      <td>32.88%</td>\n",
       "      <td>33.56%</td>\n",
       "    </tr>\n",
       "  </tbody>\n",
       "</table>\n",
       "</div>"
      ],
      "text/plain": [
       "  Samsung  iPhone  Xiaomi\n",
       "0  33.56%  32.88%  33.56%"
      ]
     },
     "execution_count": 2029,
     "metadata": {},
     "output_type": "execute_result"
    }
   ],
   "source": [
    "# Round the values and convert them to percentage strings\n",
    "primary_modeler_posterior_updated_percent = [f\"{value * 100:.2f}%\" for value in primary_modeler_posterior_updated]\n",
    "\n",
    "# Create a DataFrame for the updated posterior percentages\n",
    "primary_modeler_posterior_updated_df = pd.DataFrame(\n",
    "    [primary_modeler_posterior_updated_percent],    # Percentage values as a list\n",
    "    columns=[\"Samsung\", \"iPhone\", \"Xiaomi\"]         # Column labels for the DataFrame\n",
    ")\n",
    "\n",
    "# Display the DataFrame\n",
    "print(\"The Primary modeler's updated brand preference:\")\n",
    "primary_modeler_posterior_updated_df"
   ]
  },
  {
   "cell_type": "markdown",
   "metadata": {},
   "source": [
    "Comment on this result are at the end of this section."
   ]
  },
  {
   "cell_type": "markdown",
   "metadata": {},
   "source": [
    "### Example 3"
   ]
  },
  {
   "cell_type": "markdown",
   "metadata": {},
   "source": [
    "The experts are configured to prefer the brands in the following order:\n",
    "\n",
    "**Samsung $\\approx$ iPhone $\\approx$ Xiaomi**, \n",
    "                      \n",
    "the scores are set up to similar **<ins>low</ins>** values."
   ]
  },
  {
   "cell_type": "markdown",
   "metadata": {},
   "source": [
    "#### Experiment setup"
   ]
  },
  {
   "cell_type": "markdown",
   "metadata": {},
   "source": [
    "##### Agent"
   ]
  },
  {
   "cell_type": "code",
   "execution_count": 2030,
   "metadata": {},
   "outputs": [
    {
     "data": {
      "application/vnd.microsoft.datawrangler.viewer.v0+json": {
       "columns": [
        {
         "name": "index",
         "rawType": "object",
         "type": "string"
        },
        {
         "name": "Feature 1",
         "rawType": "int8",
         "type": "integer"
        },
        {
         "name": "Feature 2",
         "rawType": "int8",
         "type": "integer"
        },
        {
         "name": "Feature 3",
         "rawType": "int8",
         "type": "integer"
        }
       ],
       "conversionMethod": "pd.DataFrame",
       "ref": "0649b0dc-0db5-441f-8ef8-61a2b7bb4349",
       "rows": [
        [
         "Samsung",
         "5",
         "4",
         "5"
        ],
        [
         "iPhone",
         "6",
         "5",
         "6"
        ],
        [
         "Xiaomi",
         "4",
         "4",
         "3"
        ]
       ],
       "shape": {
        "columns": 3,
        "rows": 3
       }
      },
      "text/html": [
       "<div>\n",
       "<style scoped>\n",
       "    .dataframe tbody tr th:only-of-type {\n",
       "        vertical-align: middle;\n",
       "    }\n",
       "\n",
       "    .dataframe tbody tr th {\n",
       "        vertical-align: top;\n",
       "    }\n",
       "\n",
       "    .dataframe thead th {\n",
       "        text-align: right;\n",
       "    }\n",
       "</style>\n",
       "<table border=\"1\" class=\"dataframe\">\n",
       "  <thead>\n",
       "    <tr style=\"text-align: right;\">\n",
       "      <th></th>\n",
       "      <th>Feature 1</th>\n",
       "      <th>Feature 2</th>\n",
       "      <th>Feature 3</th>\n",
       "    </tr>\n",
       "  </thead>\n",
       "  <tbody>\n",
       "    <tr>\n",
       "      <th>Samsung</th>\n",
       "      <td>5</td>\n",
       "      <td>4</td>\n",
       "      <td>5</td>\n",
       "    </tr>\n",
       "    <tr>\n",
       "      <th>iPhone</th>\n",
       "      <td>6</td>\n",
       "      <td>5</td>\n",
       "      <td>6</td>\n",
       "    </tr>\n",
       "    <tr>\n",
       "      <th>Xiaomi</th>\n",
       "      <td>4</td>\n",
       "      <td>4</td>\n",
       "      <td>3</td>\n",
       "    </tr>\n",
       "  </tbody>\n",
       "</table>\n",
       "</div>"
      ],
      "text/plain": [
       "         Feature 1  Feature 2  Feature 3\n",
       "Samsung          5          4          5\n",
       "iPhone           6          5          6\n",
       "Xiaomi           4          4          3"
      ]
     },
     "execution_count": 2030,
     "metadata": {},
     "output_type": "execute_result"
    }
   ],
   "source": [
    "# Creating a DataFrame with the given data\n",
    "# Index represents phone brands, and columns represent different features\n",
    "primary_modeler_scores_df = pd.DataFrame(\n",
    "    primary_modeler_scores,\n",
    "    index=[\"Samsung\", \"iPhone\", \"Xiaomi\"],           # Setting the row labels for phone brands\n",
    "    columns=[\"Feature 1\", \"Feature 2\", \"Feature 3\"]  # Setting the column labels for features\n",
    ")\n",
    "\n",
    "# Display the DataFrame\n",
    "primary_modeler_scores_df"
   ]
  },
  {
   "cell_type": "code",
   "execution_count": 2031,
   "metadata": {},
   "outputs": [],
   "source": [
    "# Setting up the opinion certainty\n",
    "\n",
    "# Array representing the certainty of the primary modeler's opinion for each phone brand\n",
    "# ! Note 1: ones does not equate to no certainty being applied as the opinion certainty is multiplied with number of responders\n",
    "opinion_certainty_array = np.array([1, 1, 1], dtype=np.float16)\n",
    "\n",
    "# Boolean flag to determine if certainty should be applied\n",
    "# * Note 1: This flag is important as setting it to True will ensure that the opinion certainty array is ones.\n",
    "apply_certainty = False\n"
   ]
  },
  {
   "cell_type": "code",
   "execution_count": 2032,
   "metadata": {},
   "outputs": [],
   "source": [
    "# Setting up the number of responders for each brand so that the opinion\n",
    "# certainty can be applied as many times as the responders responded\n",
    "\n",
    "# Array representing the number of responders for each phone brand\n",
    "number_of_responders = np.array([10, 10, 10], dtype=np.int32)"
   ]
  },
  {
   "cell_type": "code",
   "execution_count": 2033,
   "metadata": {},
   "outputs": [],
   "source": [
    "# Create a trust matrix with ones, representing equal trust for each responder\n",
    "# The matrix has 3 rows (one for each phone brand) and 10 columns (one for each responder)\n",
    "# * Note 1: Setting trust like this is equivalent to no inclusion of trust\n",
    "trust_matrix = np.ones((3, 10), dtype=np.float16)"
   ]
  },
  {
   "cell_type": "code",
   "execution_count": 2034,
   "metadata": {},
   "outputs": [],
   "source": [
    "# Primary modeler's score preference for each feature\n",
    "\n",
    "# Array representing the primary modeler's score preference for each feature\n",
    "# * Note 1: This means that scores below the selected scores are not taken into acoount durring the opinion formulation\n",
    "primary_modeler_score_preference = np.array([4, 4, 4], dtype=np.int8)"
   ]
  },
  {
   "cell_type": "code",
   "execution_count": 2035,
   "metadata": {},
   "outputs": [],
   "source": [
    "# Primary modeler's brand preference\n",
    "\n",
    "# Array representing the primary modeler's initial brand preference\n",
    "# * Note 1: Set to uniform\n",
    "primary_modeler_brand_pref = np.array([1, 1, 1], dtype=np.float32)\n",
    "\n",
    "# Normalize the brand preference so that the sum equals 1\n",
    "primary_modeler_brand_pref = primary_modeler_brand_pref / np.sum(primary_modeler_brand_pref)\n"
   ]
  },
  {
   "cell_type": "code",
   "execution_count": 2036,
   "metadata": {},
   "outputs": [],
   "source": [
    "# Setting score range\n",
    "\n",
    "# This represents the highest possible score for each feature, i.e., score range = 'best'\n",
    "score_range = 6"
   ]
  },
  {
   "cell_type": "code",
   "execution_count": 2037,
   "metadata": {},
   "outputs": [],
   "source": [
    "# The values of exponents in Dirichlet distribution must be non-zero,\n",
    "# setting them to a low value\n",
    "\n",
    "# Initial feature weight for the Dirichlet distribution\n",
    "initial_feature_weight = 0.01\n"
   ]
  },
  {
   "cell_type": "markdown",
   "metadata": {},
   "source": [
    "#### Expert opinions"
   ]
  },
  {
   "cell_type": "code",
   "execution_count": 2038,
   "metadata": {},
   "outputs": [],
   "source": [
    "# Simulated experts for Samsung\n",
    "# Array representing the opinions of 10 simulated experts on Samsung for 3 features\n",
    "samsung_expert_opinions = np.array([\n",
    "    [3, 4, 4], [3, 4, 4], [4, 4, 4], [4, 3, 3], [4, 3, 3],\n",
    "    [4, 4, 1], [4, 1, 4], [4, 3, 4], [4, 5, 4], [4, 4, 3]\n",
    "], dtype=np.int8)\n",
    "\n",
    "# Simulated experts for iPhone\n",
    "# Array representing the opinions of 10 simulated experts on iPhone for 3 features\n",
    "iphone_expert_opinions = np.array([\n",
    "    [4, 4, 4], [4, 3, 4], [4, 4, 4], [4, 4, 2], [4, 3, 4],\n",
    "    [3, 4, 1], [4, 4, 4], [2, 4, 4], [1, 4, 4], [3, 2, 1]\n",
    "], dtype=np.int8)\n",
    "\n",
    "# Simulated experts for Xiaomi\n",
    "# Array representing the opinions of 10 simulated experts on Xiaomi for 3 features\n",
    "xiaomi_expert_opinions = np.array([\n",
    "    [4, 4, 4], [4, 4, 4], [3, 5, 4], [4, 4, 4], [2, 1, 4],\n",
    "    [4, 4, 5], [3, 4, 2], [4, 3, 4], [4, 4, 1], [1, 2, 3]\n",
    "], dtype=np.int8)\n"
   ]
  },
  {
   "cell_type": "code",
   "execution_count": 2039,
   "metadata": {},
   "outputs": [],
   "source": [
    "# Creating DataFrames for each brand\n",
    "\n",
    "# DataFrame for Samsung expert opinions\n",
    "samsung_expert_opinions_df = pd.DataFrame(\n",
    "    samsung_expert_opinions, \n",
    "    index=[f\"Samsung expert {i+1}\" for i in range(10)],  # Setting index as expert identifiers\n",
    "    columns=[\"Feature 1 score\", \"Feature 2 score\", \"Feature 3 score\"]  # Setting the column labels for features\n",
    ")\n",
    "\n",
    "# DataFrame for iPhone expert opinions\n",
    "iphone_expert_opinions_df = pd.DataFrame(\n",
    "    iphone_expert_opinions,\n",
    "    index=[f\"iPhone expert {i+1}\" for i in range(10)],  # Setting index as expert identifiers\n",
    "    columns=[\"Feature 1 score\", \"Feature 2 score\", \"Feature 3 score\"]  # Setting the column labels for features\n",
    ")\n",
    "\n",
    "# DataFrame for Xiaomi expert opinions\n",
    "xiaomi_expert_opinions_df = pd.DataFrame(\n",
    "    xiaomi_expert_opinions, \n",
    "    index=[f\"Xiaomi expert {i+1}\" for i in range(10)],  # Setting index as expert identifiers\n",
    "    columns=[\"Feature 1 score\", \"Feature 2 score\", \"Feature 3 score\"]  # Setting the column labels for features\n",
    ")\n"
   ]
  },
  {
   "cell_type": "markdown",
   "metadata": {},
   "source": [
    "<ins>Simple inference of experts opinion of brands</ins>"
   ]
  },
  {
   "cell_type": "code",
   "execution_count": 2040,
   "metadata": {},
   "outputs": [
    {
     "name": "stderr",
     "output_type": "stream",
     "text": [
      "/var/folders/wm/cf004srn2bx_p8lzdm9k_rr80000gn/T/ipykernel_86379/1865824333.py:9: MatplotlibDeprecationWarning: The 'labels' parameter of boxplot() has been renamed 'tick_labels' since Matplotlib 3.9; support for the old name will be dropped in 3.11.\n",
      "  ax.boxplot([samsung_means, iphone_means, xiaomi_means], labels=[\"Samsung\", \"iPhone\", \"Xiaomi\"], showmeans=True)\n"
     ]
    },
    {
     "data": {
      "image/png": "[encoded data removed]",
      "text/plain": [
       "<Figure size 1000x600 with 1 Axes>"
      ]
     },
     "metadata": {},
     "output_type": "display_data"
    }
   ],
   "source": [
    "# Calculate the mean scores of each expert\n",
    "samsung_means = samsung_expert_opinions_df.mean(axis=1)\n",
    "iphone_means = iphone_expert_opinions_df.mean(axis=1)\n",
    "xiaomi_means = xiaomi_expert_opinions_df.mean(axis=1)\n",
    "\n",
    "# Create a box plot for each brand\n",
    "fig, ax = plt.subplots(figsize=(10, 6))\n",
    "\n",
    "ax.boxplot([samsung_means, iphone_means, xiaomi_means], labels=[\"Samsung\", \"iPhone\", \"Xiaomi\"], showmeans=True)\n",
    "ax.set_title('Box Plot of Mean Expert Scores for Each Brand', fontsize=15.5)\n",
    "ax.set_ylabel('Mean Score')\n",
    "ax.set_xlabel('Brand')\n",
    "\n",
    "# Adding scatter plot of the observations\n",
    "x_positions = [1, 2, 3]\n",
    "for i, means in enumerate([samsung_means, iphone_means, xiaomi_means]):\n",
    "    ax.scatter([x_positions[i]] * len(means), means, alpha=0.6, color='blue', s=5)\n",
    "\n",
    "# Save the figure in .eps format\n",
    "\n",
    "# save_path = os.path.join(working_directory, 'Bar_charts', 'brand_mean_scores_boxplot.eps')\n",
    "# plt.tight_layout()\n",
    "# plt.savefig(save_path, format='eps')\n",
    "\n",
    "# Show the plot\n",
    "plt.show()\n"
   ]
  },
  {
   "cell_type": "code",
   "execution_count": 2041,
   "metadata": {},
   "outputs": [],
   "source": [
    "# Running the simulated example from the auxiliary module\n",
    "\n",
    "# Call the simulated_example function with the provided parameters\n",
    "_, primary_modeler_posterior_updated = auxiliary.simulated_example(\n",
    "    primary_modeler_scores,  # Initial scores given by the primary modeler\n",
    "    opinion_certainty_array,  # Certainty of the primary modeler's opinions\n",
    "    apply_certainty,  # Flag to apply certainty\n",
    "    number_of_responders,  # Number of responders for each brand\n",
    "    trust_matrix,  # Trust matrix representing trust for each responder\n",
    "    primary_modeler_score_preference,  # Primary modeler's score preference for each feature\n",
    "    primary_modeler_brand_pref,  # Distribution representing primary modeler's brand prefference\n",
    "    score_range,  # Highest possible score for each feature\n",
    "    initial_feature_weight,  # Initial feature weight for the Dirichlet distribution\n",
    "    samsung_expert_opinions,  # Expert opinions for Samsung\n",
    "    iphone_expert_opinions,  # Expert opinions for iPhone\n",
    "    xiaomi_expert_opinions  # Expert opinions for Xiaomi\n",
    ")\n"
   ]
  },
  {
   "cell_type": "code",
   "execution_count": 2042,
   "metadata": {},
   "outputs": [
    {
     "data": {
      "image/png": "[encoded data removed]",
      "text/plain": [
       "<Figure size 700x500 with 1 Axes>"
      ]
     },
     "metadata": {},
     "output_type": "display_data"
    }
   ],
   "source": [
    "# Create a figure window\n",
    "plt.figure(figsize=(7, 5))\n",
    "\n",
    "# Plot the primary modeler's updated posterior distribution on brands\n",
    "plt.bar(['Samsung', 'iPhone', 'Xiaomi'], primary_modeler_posterior_updated)\n",
    "\n",
    "# Set the font size for the x-ticks\n",
    "plt.xticks(fontsize=17)\n",
    "\n",
    "# Label the y-axis and set the title\n",
    "plt.ylabel('Probability')\n",
    "plt.title(\"Primary modeler's updated brand preference\", fontsize=18)\n",
    "\n",
    "# Save the plot\n",
    "save_path = os.path.join(working_directory, 'Bar_charts', 'figure_2.eps')\n",
    "plt.tight_layout()\n",
    "plt.savefig(save_path, format='eps')\n",
    "\n",
    "# Display the plot\n",
    "plt.show()"
   ]
  },
  {
   "cell_type": "markdown",
   "metadata": {},
   "source": [
    "<ins>The primary modeler's updated brand preference.</ins>"
   ]
  },
  {
   "cell_type": "code",
   "execution_count": 2043,
   "metadata": {},
   "outputs": [
    {
     "name": "stdout",
     "output_type": "stream",
     "text": [
      "The Primary modeler's updated brand preference:\n"
     ]
    },
    {
     "data": {
      "application/vnd.microsoft.datawrangler.viewer.v0+json": {
       "columns": [
        {
         "name": "index",
         "rawType": "int64",
         "type": "integer"
        },
        {
         "name": "Samsung",
         "rawType": "object",
         "type": "string"
        },
        {
         "name": "iPhone",
         "rawType": "object",
         "type": "string"
        },
        {
         "name": "Xiaomi",
         "rawType": "object",
         "type": "string"
        }
       ],
       "conversionMethod": "pd.DataFrame",
       "ref": "9cbd06a2-f8f8-48c6-8edb-60702dbdef28",
       "rows": [
        [
         "0",
         "32.88%",
         "33.56%",
         "33.56%"
        ]
       ],
       "shape": {
        "columns": 3,
        "rows": 1
       }
      },
      "text/html": [
       "<div>\n",
       "<style scoped>\n",
       "    .dataframe tbody tr th:only-of-type {\n",
       "        vertical-align: middle;\n",
       "    }\n",
       "\n",
       "    .dataframe tbody tr th {\n",
       "        vertical-align: top;\n",
       "    }\n",
       "\n",
       "    .dataframe thead th {\n",
       "        text-align: right;\n",
       "    }\n",
       "</style>\n",
       "<table border=\"1\" class=\"dataframe\">\n",
       "  <thead>\n",
       "    <tr style=\"text-align: right;\">\n",
       "      <th></th>\n",
       "      <th>Samsung</th>\n",
       "      <th>iPhone</th>\n",
       "      <th>Xiaomi</th>\n",
       "    </tr>\n",
       "  </thead>\n",
       "  <tbody>\n",
       "    <tr>\n",
       "      <th>0</th>\n",
       "      <td>32.88%</td>\n",
       "      <td>33.56%</td>\n",
       "      <td>33.56%</td>\n",
       "    </tr>\n",
       "  </tbody>\n",
       "</table>\n",
       "</div>"
      ],
      "text/plain": [
       "  Samsung  iPhone  Xiaomi\n",
       "0  32.88%  33.56%  33.56%"
      ]
     },
     "execution_count": 2043,
     "metadata": {},
     "output_type": "execute_result"
    }
   ],
   "source": [
    "# Round the values and convert them to percentage strings\n",
    "primary_modeler_posterior_updated_percent = [f\"{value * 100:.2f}%\" for value in primary_modeler_posterior_updated]\n",
    "\n",
    "# Create a DataFrame for the updated posterior percentages\n",
    "primary_modeler_posterior_updated_df = pd.DataFrame(\n",
    "    [primary_modeler_posterior_updated_percent],    # Percentage values as a list\n",
    "    columns=[\"Samsung\", \"iPhone\", \"Xiaomi\"]         # Column labels for the DataFrame\n",
    ")\n",
    "\n",
    "# Display the DataFrame\n",
    "print(\"The Primary modeler's updated brand preference:\")\n",
    "primary_modeler_posterior_updated_df"
   ]
  },
  {
   "cell_type": "markdown",
   "metadata": {},
   "source": [
    "The results of the last two experiments show only a minor difference in the final brand preference. However, it was expected that the primary modeler's opinion would have a stronger influence, pushing the preference towards the following order: **iPhone > Samsung > Xiaomi**.\n",
    "\n",
    "This is attributed to the fact that each expert's contribution to the updated weight $V_{f_{j,b}}$ has a magnitude of +1, and the primary modeler's contribution is also + 1. The cumulative effect of the experts' contributions diminishes the impact of the primary modeler's opinion.\n",
    "\n",
    "To address this, the magnitude of the primary modeler's weights $n_{f_{1,b}}$ needs to be adjusted to ensure that the primary modeler's opinion is not diminished. Further elaboration on this adjustment will be provided in the section titled 'Inclusion of Opinion Certainty' below."
   ]
  },
  {
   "cell_type": "markdown",
   "metadata": {},
   "source": [
    "## Inclusion of trust\n",
    "In this section, we are examining the integration of trust $t_{I,E_{i}}$, into each expert's $E_{i}$ opinion.  The previously mentioned issue still exists and will be addressed later.\n",
    "For now, the primary modeler's opinion will be de-emphasized. This approach allows for a more precise demonstration of trust inclusion, free from any bias introduced by the primary modeler's opinion.\n",
    "For simplicity, the setup of the following two experiments is the same as in the first example from the previous section."
   ]
  },
  {
   "cell_type": "markdown",
   "metadata": {},
   "source": [
    "### Example 1\n",
    "We start by configuring low trust values $t_{I,E_{i}}$ for experts reacting to the Samsung brand and high trust values for experts reacting to iPhone and Xiaomi. The expected outcome is that the preferred brand should be iPhone, since it has similar score values provided by the experts' $E_{i}$ as Samsung, with iPhone being slightly less favoured."
   ]
  },
  {
   "cell_type": "markdown",
   "metadata": {},
   "source": [
    "#### Experiment setup"
   ]
  },
  {
   "cell_type": "markdown",
   "metadata": {},
   "source": [
    "##### Agent"
   ]
  },
  {
   "cell_type": "code",
   "execution_count": 2044,
   "metadata": {},
   "outputs": [],
   "source": [
    "# The primary modeler's opinion\n",
    "\n",
    "# Array representing the scores given by the primary modeler for different phone brands and features\n",
    "# * Note 1: This array represents primary modelers opinion\n",
    "primary_modeler_scores = np.array([\n",
    "    [5, 4, 5],  # Scores for Samsung\n",
    "    [6, 5, 6],  # Scores for iPhone\n",
    "    [4, 4, 3]   # Scores for Xiaomi\n",
    "], dtype=np.int8)"
   ]
  },
  {
   "cell_type": "code",
   "execution_count": 2045,
   "metadata": {},
   "outputs": [
    {
     "data": {
      "application/vnd.microsoft.datawrangler.viewer.v0+json": {
       "columns": [
        {
         "name": "index",
         "rawType": "object",
         "type": "string"
        },
        {
         "name": "Feature 1",
         "rawType": "int8",
         "type": "integer"
        },
        {
         "name": "Feature 2",
         "rawType": "int8",
         "type": "integer"
        },
        {
         "name": "Feature 3",
         "rawType": "int8",
         "type": "integer"
        }
       ],
       "conversionMethod": "pd.DataFrame",
       "ref": "a2d95317-ddee-46a1-84b0-3497a33a0626",
       "rows": [
        [
         "Samsung",
         "5",
         "4",
         "5"
        ],
        [
         "iPhone",
         "6",
         "5",
         "6"
        ],
        [
         "Xiaomi",
         "4",
         "4",
         "3"
        ]
       ],
       "shape": {
        "columns": 3,
        "rows": 3
       }
      },
      "text/html": [
       "<div>\n",
       "<style scoped>\n",
       "    .dataframe tbody tr th:only-of-type {\n",
       "        vertical-align: middle;\n",
       "    }\n",
       "\n",
       "    .dataframe tbody tr th {\n",
       "        vertical-align: top;\n",
       "    }\n",
       "\n",
       "    .dataframe thead th {\n",
       "        text-align: right;\n",
       "    }\n",
       "</style>\n",
       "<table border=\"1\" class=\"dataframe\">\n",
       "  <thead>\n",
       "    <tr style=\"text-align: right;\">\n",
       "      <th></th>\n",
       "      <th>Feature 1</th>\n",
       "      <th>Feature 2</th>\n",
       "      <th>Feature 3</th>\n",
       "    </tr>\n",
       "  </thead>\n",
       "  <tbody>\n",
       "    <tr>\n",
       "      <th>Samsung</th>\n",
       "      <td>5</td>\n",
       "      <td>4</td>\n",
       "      <td>5</td>\n",
       "    </tr>\n",
       "    <tr>\n",
       "      <th>iPhone</th>\n",
       "      <td>6</td>\n",
       "      <td>5</td>\n",
       "      <td>6</td>\n",
       "    </tr>\n",
       "    <tr>\n",
       "      <th>Xiaomi</th>\n",
       "      <td>4</td>\n",
       "      <td>4</td>\n",
       "      <td>3</td>\n",
       "    </tr>\n",
       "  </tbody>\n",
       "</table>\n",
       "</div>"
      ],
      "text/plain": [
       "         Feature 1  Feature 2  Feature 3\n",
       "Samsung          5          4          5\n",
       "iPhone           6          5          6\n",
       "Xiaomi           4          4          3"
      ]
     },
     "execution_count": 2045,
     "metadata": {},
     "output_type": "execute_result"
    }
   ],
   "source": [
    "# Creating a DataFrame with the given data\n",
    "# Index represents phone brands, and columns represent different features\n",
    "primary_modeler_scores_df = pd.DataFrame(\n",
    "    primary_modeler_scores,\n",
    "    index=[\"Samsung\", \"iPhone\", \"Xiaomi\"],           # Setting the row labels for phone brands\n",
    "    columns=[\"Feature 1\", \"Feature 2\", \"Feature 3\"]  # Setting the column labels for features\n",
    ")\n",
    "\n",
    "# Display the DataFrame\n",
    "primary_modeler_scores_df"
   ]
  },
  {
   "cell_type": "code",
   "execution_count": 2046,
   "metadata": {},
   "outputs": [],
   "source": [
    "# Setting up the opinion certainty\n",
    "\n",
    "# Array representing the certainty of the primary modeler's opinion for each phone brand\n",
    "# ! Note 1: ones does not equate to no certainty being applied as the opinion certainty is multiplied with number of responders\n",
    "opinion_certainty_array = np.array([1, 1, 1], dtype=np.float16)\n",
    "\n",
    "# Boolean flag to determine if certainty should be applied\n",
    "# * Note 1: This flag is important as setting it to True will ensure that the opinion certainty array is ones.\n",
    "apply_certainty = False"
   ]
  },
  {
   "cell_type": "code",
   "execution_count": 2047,
   "metadata": {},
   "outputs": [],
   "source": [
    "# Setting up the number of responders for each brand so that the opinion\n",
    "# certainty can be applied as many times as the responders responded\n",
    "\n",
    "# Array representing the number of responders for each phone brand\n",
    "number_of_responders = np.array([10, 10, 10], dtype=np.int32)"
   ]
  },
  {
   "cell_type": "code",
   "execution_count": 2048,
   "metadata": {},
   "outputs": [],
   "source": [
    "# Setting up trust in experts' opinions\n",
    "\n",
    "# Trust matrix representing the trust levels for each expert's opinion\n",
    "# Rows represent phone brands (Samsung, iPhone, Xiaomi)\n",
    "# Columns represent individual experts' trust levels\n",
    "trust_matrix = np.array([\n",
    "    [0.8, 0.9, 0.3, 0.7, 0.2, 0.2, 0.3, 0.5, 0.4, 0.9],  # Trust levels for Samsung experts\n",
    "    [0.9, 0.9, 0.3, 0.3, 0.7, 0.7, 0.9, 0.9, 0.4, 0.4],  # Trust levels for iPhone experts\n",
    "    [0.9, 0.7, 0.8, 0.8, 0.9, 0.8, 0.7, 0.7, 0.8, 0.9]   # Trust levels for Xiaomi experts\n",
    "], dtype=np.float32)"
   ]
  },
  {
   "cell_type": "code",
   "execution_count": 2049,
   "metadata": {},
   "outputs": [],
   "source": [
    "# Primary modeler's score preference for each feature\n",
    "\n",
    "# Array representing the primary modeler's score preference for each feature\n",
    "# * Note 1: This means that scores below the selected scores are not taken into acoount durring the opinion formulation\n",
    "primary_modeler_score_preference = np.array([4, 4, 4], dtype=np.int8)"
   ]
  },
  {
   "cell_type": "code",
   "execution_count": 2050,
   "metadata": {},
   "outputs": [],
   "source": [
    "# Primary modeler's brand preference\n",
    "\n",
    "# Array representing the primary modeler's initial brand preference\n",
    "# * Note 1: Set to uniform\n",
    "primary_modeler_brand_pref = np.array([1, 1, 1], dtype=np.float32)\n",
    "\n",
    "# Normalize the brand preference so that the sum equals 1\n",
    "primary_modeler_brand_pref = primary_modeler_brand_pref / np.sum(primary_modeler_brand_pref)"
   ]
  },
  {
   "cell_type": "code",
   "execution_count": 2051,
   "metadata": {},
   "outputs": [],
   "source": [
    "# Setting score range\n",
    "\n",
    "# This represents the highest possible score for each feature, i.e., score range = 'best'\n",
    "score_range = 6"
   ]
  },
  {
   "cell_type": "code",
   "execution_count": 2052,
   "metadata": {},
   "outputs": [],
   "source": [
    "# The values of exponents in Dirichlet distribution must be non-zero,\n",
    "# setting them to a low value\n",
    "\n",
    "# Initial feature weight for the Dirichlet distribution\n",
    "initial_feature_weight = 0.01"
   ]
  },
  {
   "cell_type": "markdown",
   "metadata": {},
   "source": [
    "#### Expert opinions"
   ]
  },
  {
   "cell_type": "markdown",
   "metadata": {},
   "source": [
    "The opinion's of individual experts $E_{i}$ for each brand $b\\in{B}$."
   ]
  },
  {
   "cell_type": "code",
   "execution_count": 2053,
   "metadata": {},
   "outputs": [],
   "source": [
    "# Simulated experts for Samsung\n",
    "# Array representing the opinions of 10 simulated experts on Samsung for 3 features\n",
    "samsung_expert_opinions = np.array([\n",
    "    [4, 3, 4], [5, 3, 5], [5, 6, 5], [6, 5, 3], [6, 6, 6], \n",
    "    [5, 6, 5], [6, 6, 5], [6, 3, 4], [4, 5, 4], [6, 4, 3]\n",
    "], dtype=np.int8)\n",
    "\n",
    "# Simulated experts for iPhone\n",
    "# Array representing the opinions of 10 simulated experts on iPhone for 3 features\n",
    "iphone_expert_opinions = np.array([\n",
    "    [5, 5, 5], [5, 6, 5], [3, 4, 4], [3, 4, 5], [4, 5, 5], \n",
    "    [5, 6, 4], [6, 6, 6], [5, 6, 6], [4, 3, 4], [4, 6, 3]\n",
    "], dtype=np.int8)\n",
    "\n",
    "# Simulated experts for Xiaomi\n",
    "# Array representing the opinions of 10 simulated experts on Xiaomi for 3 features\n",
    "xiaomi_expert_opinions = np.array([\n",
    "    [3, 4, 3], [3, 3, 4], [4, 3, 4], [3, 3, 3], [5, 4, 3], \n",
    "    [3, 5, 5], [4, 5, 6], [4, 3, 2], [3, 4, 3], [4, 3, 4]\n",
    "], dtype=np.int8)"
   ]
  },
  {
   "cell_type": "code",
   "execution_count": 2054,
   "metadata": {},
   "outputs": [],
   "source": [
    "# Creating DataFrames for each brand\n",
    "\n",
    "# DataFrame for Samsung expert opinions\n",
    "samsung_expert_opinions_df = pd.DataFrame(\n",
    "    samsung_expert_opinions, \n",
    "    index=[f\"Samsung expert {i+1}\" for i in range(10)],  # Setting index as expert identifiers\n",
    "    columns=[\"Feature 1 score\", \"Feature 2 score\", \"Feature 3 score\"]  # Setting the column labels for features\n",
    ")\n",
    "\n",
    "# DataFrame for iPhone expert opinions\n",
    "iphone_expert_opinions_df = pd.DataFrame(\n",
    "    iphone_expert_opinions,\n",
    "    index=[f\"iPhone expert {i+1}\" for i in range(10)],  # Setting index as expert identifiers\n",
    "    columns=[\"Feature 1 score\", \"Feature 2 score\", \"Feature 3 score\"]  # Setting the column labels for features\n",
    ")\n",
    "\n",
    "# DataFrame for Xiaomi expert opinions\n",
    "xiaomi_expert_opinions_df = pd.DataFrame(\n",
    "    xiaomi_expert_opinions, \n",
    "    index=[f\"Xiaomi expert {i+1}\" for i in range(10)],  # Setting index as expert identifiers\n",
    "    columns=[\"Feature 1 score\", \"Feature 2 score\", \"Feature 3 score\"]  # Setting the column labels for features\n",
    ")\n"
   ]
  },
  {
   "cell_type": "markdown",
   "metadata": {},
   "source": [
    "<ins>Simple inference of experts opinion of brands</ins>"
   ]
  },
  {
   "cell_type": "code",
   "execution_count": 2055,
   "metadata": {},
   "outputs": [
    {
     "name": "stderr",
     "output_type": "stream",
     "text": [
      "/var/folders/wm/cf004srn2bx_p8lzdm9k_rr80000gn/T/ipykernel_86379/1865824333.py:9: MatplotlibDeprecationWarning: The 'labels' parameter of boxplot() has been renamed 'tick_labels' since Matplotlib 3.9; support for the old name will be dropped in 3.11.\n",
      "  ax.boxplot([samsung_means, iphone_means, xiaomi_means], labels=[\"Samsung\", \"iPhone\", \"Xiaomi\"], showmeans=True)\n"
     ]
    },
    {
     "data": {
      "image/png": "[encoded data removed]",
      "text/plain": [
       "<Figure size 1000x600 with 1 Axes>"
      ]
     },
     "metadata": {},
     "output_type": "display_data"
    }
   ],
   "source": [
    "# Calculate the mean scores of each expert\n",
    "samsung_means = samsung_expert_opinions_df.mean(axis=1)\n",
    "iphone_means = iphone_expert_opinions_df.mean(axis=1)\n",
    "xiaomi_means = xiaomi_expert_opinions_df.mean(axis=1)\n",
    "\n",
    "# Create a box plot for each brand\n",
    "fig, ax = plt.subplots(figsize=(10, 6))\n",
    "\n",
    "ax.boxplot([samsung_means, iphone_means, xiaomi_means], labels=[\"Samsung\", \"iPhone\", \"Xiaomi\"], showmeans=True)\n",
    "ax.set_title('Box Plot of Mean Expert Scores for Each Brand', fontsize=15.5)\n",
    "ax.set_ylabel('Mean Score')\n",
    "ax.set_xlabel('Brand')\n",
    "\n",
    "# Adding scatter plot of the observations\n",
    "x_positions = [1, 2, 3]\n",
    "for i, means in enumerate([samsung_means, iphone_means, xiaomi_means]):\n",
    "    ax.scatter([x_positions[i]] * len(means), means, alpha=0.6, color='blue', s=5)\n",
    "\n",
    "# Save the figure in .eps format\n",
    "\n",
    "# save_path = os.path.join(working_directory, 'Bar_charts', 'brand_mean_scores_boxplot.eps')\n",
    "# plt.tight_layout()\n",
    "# plt.savefig(save_path, format='eps')\n",
    "\n",
    "# Show the plot\n",
    "plt.show()\n"
   ]
  },
  {
   "cell_type": "code",
   "execution_count": 2056,
   "metadata": {},
   "outputs": [],
   "source": [
    "# Running the simulated example from the auxiliary module\n",
    "\n",
    "# Call the simulated_example function with the provided parameters\n",
    "_, primary_modeler_posterior_updated = auxiliary.simulated_example(\n",
    "    primary_modeler_scores,  # Initial scores given by the primary modeler\n",
    "    opinion_certainty_array,  # Certainty of the primary modeler's opinions\n",
    "    apply_certainty,  # Flag to apply certainty\n",
    "    number_of_responders,  # Number of responders for each brand\n",
    "    trust_matrix,  # Trust matrix representing trust for each responder\n",
    "    primary_modeler_score_preference,  # Primary modeler's score preference for each feature\n",
    "    primary_modeler_brand_pref,  # Distribution representing primary modeler's brand prefference\n",
    "    score_range,  # Highest possible score for each feature\n",
    "    initial_feature_weight,  # Initial feature weight for the Dirichlet distribution\n",
    "    samsung_expert_opinions,  # Expert opinions for Samsung\n",
    "    iphone_expert_opinions,  # Expert opinions for iPhone\n",
    "    xiaomi_expert_opinions  # Expert opinions for Xiaomi\n",
    ")"
   ]
  },
  {
   "cell_type": "code",
   "execution_count": 2057,
   "metadata": {},
   "outputs": [
    {
     "data": {
      "image/png": "[encoded data removed]",
      "text/plain": [
       "<Figure size 700x500 with 1 Axes>"
      ]
     },
     "metadata": {},
     "output_type": "display_data"
    }
   ],
   "source": [
    "# Create a figure window\n",
    "plt.figure(figsize=(7, 5))\n",
    "\n",
    "# Plot the primary modeler's updated posterior distribution on brands\n",
    "plt.bar(['Samsung', 'iPhone', 'Xiaomi'], primary_modeler_posterior_updated)\n",
    "\n",
    "# Set the font size for the x-ticks\n",
    "plt.xticks(fontsize=17)\n",
    "\n",
    "# Label the y-axis and set the title\n",
    "plt.ylabel('Probability')\n",
    "plt.title(\"Primary modeler's updated brand preference\", fontsize=18)\n",
    "\n",
    "# Save the plot\n",
    "save_path = os.path.join(working_directory, 'Bar_charts', 'figure_3.eps')\n",
    "plt.tight_layout()\n",
    "plt.savefig(save_path, format='eps')\n",
    "\n",
    "# Display the plot\n",
    "plt.show()"
   ]
  },
  {
   "cell_type": "markdown",
   "metadata": {},
   "source": [
    "<ins>The primary modeler's updated brand preference.</ins>"
   ]
  },
  {
   "cell_type": "code",
   "execution_count": 2058,
   "metadata": {},
   "outputs": [
    {
     "name": "stdout",
     "output_type": "stream",
     "text": [
      "The Primary modeler's updated brand preference:\n"
     ]
    },
    {
     "data": {
      "application/vnd.microsoft.datawrangler.viewer.v0+json": {
       "columns": [
        {
         "name": "index",
         "rawType": "int64",
         "type": "integer"
        },
        {
         "name": "Samsung",
         "rawType": "object",
         "type": "string"
        },
        {
         "name": "iPhone",
         "rawType": "object",
         "type": "string"
        },
        {
         "name": "Xiaomi",
         "rawType": "object",
         "type": "string"
        }
       ],
       "conversionMethod": "pd.DataFrame",
       "ref": "5ae1c20f-a8d8-4df6-989d-6e9e448815ff",
       "rows": [
        [
         "0",
         "28.82%",
         "46.02%",
         "25.16%"
        ]
       ],
       "shape": {
        "columns": 3,
        "rows": 1
       }
      },
      "text/html": [
       "<div>\n",
       "<style scoped>\n",
       "    .dataframe tbody tr th:only-of-type {\n",
       "        vertical-align: middle;\n",
       "    }\n",
       "\n",
       "    .dataframe tbody tr th {\n",
       "        vertical-align: top;\n",
       "    }\n",
       "\n",
       "    .dataframe thead th {\n",
       "        text-align: right;\n",
       "    }\n",
       "</style>\n",
       "<table border=\"1\" class=\"dataframe\">\n",
       "  <thead>\n",
       "    <tr style=\"text-align: right;\">\n",
       "      <th></th>\n",
       "      <th>Samsung</th>\n",
       "      <th>iPhone</th>\n",
       "      <th>Xiaomi</th>\n",
       "    </tr>\n",
       "  </thead>\n",
       "  <tbody>\n",
       "    <tr>\n",
       "      <th>0</th>\n",
       "      <td>28.82%</td>\n",
       "      <td>46.02%</td>\n",
       "      <td>25.16%</td>\n",
       "    </tr>\n",
       "  </tbody>\n",
       "</table>\n",
       "</div>"
      ],
      "text/plain": [
       "  Samsung  iPhone  Xiaomi\n",
       "0  28.82%  46.02%  25.16%"
      ]
     },
     "execution_count": 2058,
     "metadata": {},
     "output_type": "execute_result"
    }
   ],
   "source": [
    "# Round the values and convert them to percentage strings\n",
    "primary_modeler_posterior_updated_percent = [f\"{value * 100:.2f}%\" for value in primary_modeler_posterior_updated]\n",
    "\n",
    "# Create a DataFrame for the updated posterior percentages\n",
    "primary_modeler_posterior_updated_df = pd.DataFrame(\n",
    "    [primary_modeler_posterior_updated_percent],    # Percentage values as a list\n",
    "    columns=[\"Samsung\", \"iPhone\", \"Xiaomi\"]         # Column labels for the DataFrame\n",
    ")\n",
    "\n",
    "# Display the DataFrame\n",
    "print(\"The Primary modeler's updated brand preference:\")\n",
    "primary_modeler_posterior_updated_df"
   ]
  },
  {
   "cell_type": "markdown",
   "metadata": {},
   "source": [
    "### Example 2\n",
    "Setting the trust $t_{I,E_{i}}$ for experts reacting to Samsung and iPhone brands to low values and to high values for Xiaomi. The preferred brand should be Xiaomi."
   ]
  },
  {
   "cell_type": "markdown",
   "metadata": {},
   "source": [
    "#### Experiment setup"
   ]
  },
  {
   "cell_type": "markdown",
   "metadata": {},
   "source": [
    "##### Agent"
   ]
  },
  {
   "cell_type": "code",
   "execution_count": 2059,
   "metadata": {},
   "outputs": [],
   "source": [
    "# The primary modeler's opinion\n",
    "\n",
    "# Array representing the scores given by the primary modeler for different phone brands and features\n",
    "# * Note 1: This array represents primary modelers opinion\n",
    "primary_modeler_scores = np.array([\n",
    "    [5, 4, 5],  # Scores for Samsung\n",
    "    [6, 5, 6],  # Scores for iPhone\n",
    "    [4, 4, 3]   # Scores for Xiaomi\n",
    "], dtype=np.int8)"
   ]
  },
  {
   "cell_type": "code",
   "execution_count": 2060,
   "metadata": {},
   "outputs": [
    {
     "data": {
      "application/vnd.microsoft.datawrangler.viewer.v0+json": {
       "columns": [
        {
         "name": "index",
         "rawType": "object",
         "type": "string"
        },
        {
         "name": "Feature 1",
         "rawType": "int8",
         "type": "integer"
        },
        {
         "name": "Feature 2",
         "rawType": "int8",
         "type": "integer"
        },
        {
         "name": "Feature 3",
         "rawType": "int8",
         "type": "integer"
        }
       ],
       "conversionMethod": "pd.DataFrame",
       "ref": "81543c99-7fc3-4b5b-89bd-0579442f359d",
       "rows": [
        [
         "Samsung",
         "5",
         "4",
         "5"
        ],
        [
         "iPhone",
         "6",
         "5",
         "6"
        ],
        [
         "Xiaomi",
         "4",
         "4",
         "3"
        ]
       ],
       "shape": {
        "columns": 3,
        "rows": 3
       }
      },
      "text/html": [
       "<div>\n",
       "<style scoped>\n",
       "    .dataframe tbody tr th:only-of-type {\n",
       "        vertical-align: middle;\n",
       "    }\n",
       "\n",
       "    .dataframe tbody tr th {\n",
       "        vertical-align: top;\n",
       "    }\n",
       "\n",
       "    .dataframe thead th {\n",
       "        text-align: right;\n",
       "    }\n",
       "</style>\n",
       "<table border=\"1\" class=\"dataframe\">\n",
       "  <thead>\n",
       "    <tr style=\"text-align: right;\">\n",
       "      <th></th>\n",
       "      <th>Feature 1</th>\n",
       "      <th>Feature 2</th>\n",
       "      <th>Feature 3</th>\n",
       "    </tr>\n",
       "  </thead>\n",
       "  <tbody>\n",
       "    <tr>\n",
       "      <th>Samsung</th>\n",
       "      <td>5</td>\n",
       "      <td>4</td>\n",
       "      <td>5</td>\n",
       "    </tr>\n",
       "    <tr>\n",
       "      <th>iPhone</th>\n",
       "      <td>6</td>\n",
       "      <td>5</td>\n",
       "      <td>6</td>\n",
       "    </tr>\n",
       "    <tr>\n",
       "      <th>Xiaomi</th>\n",
       "      <td>4</td>\n",
       "      <td>4</td>\n",
       "      <td>3</td>\n",
       "    </tr>\n",
       "  </tbody>\n",
       "</table>\n",
       "</div>"
      ],
      "text/plain": [
       "         Feature 1  Feature 2  Feature 3\n",
       "Samsung          5          4          5\n",
       "iPhone           6          5          6\n",
       "Xiaomi           4          4          3"
      ]
     },
     "execution_count": 2060,
     "metadata": {},
     "output_type": "execute_result"
    }
   ],
   "source": [
    "# Creating a DataFrame with the given data\n",
    "# Index represents phone brands, and columns represent different features\n",
    "primary_modeler_scores_df = pd.DataFrame(\n",
    "    primary_modeler_scores,\n",
    "    index=[\"Samsung\", \"iPhone\", \"Xiaomi\"],  # Setting the row labels for phone brands\n",
    "    columns=[\"Feature 1\", \"Feature 2\", \"Feature 3\"]  # Setting the column labels for features\n",
    ")\n",
    "\n",
    "# Display the DataFrame\n",
    "primary_modeler_scores_df"
   ]
  },
  {
   "cell_type": "code",
   "execution_count": 2061,
   "metadata": {},
   "outputs": [],
   "source": [
    "# Setting up the opinion certainty\n",
    "\n",
    "# Array representing the certainty of the primary modeler's opinion for each phone brand\n",
    "# ! Note 1: ones does not equate to no certainty being applied as the opinion certainty is multiplied with number of responders\n",
    "opinion_certainty_array = np.array([1, 1, 1], dtype=np.float16)\n",
    "\n",
    "# Boolean flag to determine if certainty should be applied\n",
    "# * Note 1: This flag is important as setting it to True will ensure that the opinion certainty array is ones.\n",
    "apply_certainty = False"
   ]
  },
  {
   "cell_type": "code",
   "execution_count": 2062,
   "metadata": {},
   "outputs": [],
   "source": [
    "# Setting up the number of responders for each brand so that the opinion\n",
    "# certainty can be applied as many times as the responders responded\n",
    "\n",
    "# Array representing the number of responders for each phone brand\n",
    "number_of_responders = np.array([10, 10, 10], dtype=np.int32)"
   ]
  },
  {
   "cell_type": "code",
   "execution_count": 2063,
   "metadata": {},
   "outputs": [],
   "source": [
    "# Setting up trust in experts' opinions\n",
    "\n",
    "# Trust matrix representing the trust levels for each expert's opinion\n",
    "# Rows represent phone brands (Samsung, iPhone, Xiaomi)\n",
    "# Columns represent individual experts' trust levels\n",
    "trust_matrix = np.array([\n",
    "    [0.8, 0.9, 0.5, 0.9, 0.2, 0.2, 0.2, 0.5, 0.4, 0.9],  # Trust levels for Samsung experts\n",
    "    [0.3, 0.3, 0.9, 0.9, 0.5, 0.5, 0.2, 0.2, 0.8, 0.8],  # Trust levels for iPhone experts\n",
    "    [0.5, 0.7, 0.9, 0.2, 0.9, 0.8, 0.9, 0.7, 0.8, 0.9]   # Trust levels for Xiaomi experts\n",
    "], dtype=np.float32)"
   ]
  },
  {
   "cell_type": "code",
   "execution_count": 2064,
   "metadata": {},
   "outputs": [],
   "source": [
    "# Primary modeler's score preference for each feature\n",
    "\n",
    "# Array representing the primary modeler's score preference for each feature\n",
    "# * Note 1: This means that scores below the selected scores are not taken into acoount durring the opinion formulation\n",
    "primary_modeler_score_preference = np.array([4, 4, 4], dtype=np.int8)"
   ]
  },
  {
   "cell_type": "code",
   "execution_count": 2065,
   "metadata": {},
   "outputs": [],
   "source": [
    "# Primary modeler's brand preference\n",
    "\n",
    "# Array representing the primary modeler's initial brand preference\n",
    "# * Note 1: Set to uniform\n",
    "primary_modeler_brand_pref = np.array([1, 1, 1], dtype=np.float32)\n",
    "\n",
    "# Normalize the brand preference so that the sum equals 1\n",
    "primary_modeler_brand_pref = primary_modeler_brand_pref / np.sum(primary_modeler_brand_pref)"
   ]
  },
  {
   "cell_type": "code",
   "execution_count": 2066,
   "metadata": {},
   "outputs": [],
   "source": [
    "# Setting score range\n",
    "\n",
    "# This represents the highest possible score for each feature, i.e., score range = 'best'\n",
    "score_range = 6"
   ]
  },
  {
   "cell_type": "code",
   "execution_count": 2067,
   "metadata": {},
   "outputs": [],
   "source": [
    "# The values of exponents in Dirichlet distribution must be non-zero,\n",
    "# setting them to a low value\n",
    "\n",
    "# Initial feature weight for the Dirichlet distribution\n",
    "initial_feature_weight = 0.01"
   ]
  },
  {
   "cell_type": "markdown",
   "metadata": {},
   "source": [
    "##### Expert opinions"
   ]
  },
  {
   "cell_type": "code",
   "execution_count": 2068,
   "metadata": {},
   "outputs": [],
   "source": [
    "# Simulated experts for Samsung\n",
    "# Array representing the opinions of 10 simulated experts on Samsung for 3 features\n",
    "samsung_expert_opinions = np.array([\n",
    "    [4, 3, 4], [5, 3, 5], [5, 6, 5], [6, 5, 3], [6, 6, 6], \n",
    "    [5, 6, 5], [6, 6, 5], [6, 3, 4], [4, 5, 4], [6, 4, 3]\n",
    "], dtype=np.int8)\n",
    "\n",
    "# Simulated experts for iPhone\n",
    "# Array representing the opinions of 10 simulated experts on iPhone for 3 features\n",
    "iphone_expert_opinions = np.array([\n",
    "    [5, 5, 5], [5, 6, 5], [3, 4, 4], [3, 4, 5], [4, 5, 5], \n",
    "    [5, 6, 4], [6, 6, 6], [5, 6, 6], [4, 3, 4], [4, 6, 3]\n",
    "], dtype=np.int8)\n",
    "\n",
    "# Simulated experts for Xiaomi\n",
    "# Array representing the opinions of 10 simulated experts on Xiaomi for 3 features\n",
    "xiaomi_expert_opinions = np.array([\n",
    "    [3, 4, 3], [3, 3, 4], [4, 3, 4], [3, 3, 3], [5, 4, 3], \n",
    "    [3, 5, 5], [4, 5, 6], [4, 3, 2], [3, 4, 3], [4, 3, 4]\n",
    "], dtype=np.int8)\n"
   ]
  },
  {
   "cell_type": "code",
   "execution_count": 2069,
   "metadata": {},
   "outputs": [],
   "source": [
    "# Creating DataFrames for each brand\n",
    "\n",
    "# DataFrame for Samsung expert opinions\n",
    "samsung_expert_opinions_df = pd.DataFrame(\n",
    "    samsung_expert_opinions, \n",
    "    index=[f\"Samsung expert {i+1}\" for i in range(10)],  # Setting index as expert identifiers\n",
    "    columns=[\"Feature 1 score\", \"Feature 2 score\", \"Feature 3 score\"]  # Setting the column labels for features\n",
    ")\n",
    "\n",
    "# DataFrame for iPhone expert opinions\n",
    "iphone_expert_opinions_df = pd.DataFrame(\n",
    "    iphone_expert_opinions,\n",
    "    index=[f\"iPhone expert {i+1}\" for i in range(10)],  # Setting index as expert identifiers\n",
    "    columns=[\"Feature 1 score\", \"Feature 2 score\", \"Feature 3 score\"]  # Setting the column labels for features\n",
    ")\n",
    "\n",
    "# DataFrame for Xiaomi expert opinions\n",
    "xiaomi_expert_opinions_df = pd.DataFrame(\n",
    "    xiaomi_expert_opinions, \n",
    "    index=[f\"Xiaomi expert {i+1}\" for i in range(10)],  # Setting index as expert identifiers\n",
    "    columns=[\"Feature 1 score\", \"Feature 2 score\", \"Feature 3 score\"]  # Setting the column labels for features\n",
    ")\n"
   ]
  },
  {
   "cell_type": "markdown",
   "metadata": {},
   "source": [
    "<ins>Simple inference of experts opinion of brands</ins>"
   ]
  },
  {
   "cell_type": "code",
   "execution_count": 2070,
   "metadata": {},
   "outputs": [
    {
     "name": "stderr",
     "output_type": "stream",
     "text": [
      "/var/folders/wm/cf004srn2bx_p8lzdm9k_rr80000gn/T/ipykernel_86379/1865824333.py:9: MatplotlibDeprecationWarning: The 'labels' parameter of boxplot() has been renamed 'tick_labels' since Matplotlib 3.9; support for the old name will be dropped in 3.11.\n",
      "  ax.boxplot([samsung_means, iphone_means, xiaomi_means], labels=[\"Samsung\", \"iPhone\", \"Xiaomi\"], showmeans=True)\n"
     ]
    },
    {
     "data": {
      "image/png": "[encoded data removed]",
      "text/plain": [
       "<Figure size 1000x600 with 1 Axes>"
      ]
     },
     "metadata": {},
     "output_type": "display_data"
    }
   ],
   "source": [
    "# Calculate the mean scores of each expert\n",
    "samsung_means = samsung_expert_opinions_df.mean(axis=1)\n",
    "iphone_means = iphone_expert_opinions_df.mean(axis=1)\n",
    "xiaomi_means = xiaomi_expert_opinions_df.mean(axis=1)\n",
    "\n",
    "# Create a box plot for each brand\n",
    "fig, ax = plt.subplots(figsize=(10, 6))\n",
    "\n",
    "ax.boxplot([samsung_means, iphone_means, xiaomi_means], labels=[\"Samsung\", \"iPhone\", \"Xiaomi\"], showmeans=True)\n",
    "ax.set_title('Box Plot of Mean Expert Scores for Each Brand', fontsize=15.5)\n",
    "ax.set_ylabel('Mean Score')\n",
    "ax.set_xlabel('Brand')\n",
    "\n",
    "# Adding scatter plot of the observations\n",
    "x_positions = [1, 2, 3]\n",
    "for i, means in enumerate([samsung_means, iphone_means, xiaomi_means]):\n",
    "    ax.scatter([x_positions[i]] * len(means), means, alpha=0.6, color='blue', s=5)\n",
    "\n",
    "# Save the figure in .eps format\n",
    "\n",
    "# save_path = os.path.join(working_directory, 'Bar_charts', 'brand_mean_scores_boxplot.eps')\n",
    "# plt.tight_layout()\n",
    "# plt.savefig(save_path, format='eps')\n",
    "\n",
    "# Show the plot\n",
    "plt.show()\n"
   ]
  },
  {
   "cell_type": "code",
   "execution_count": 2071,
   "metadata": {},
   "outputs": [],
   "source": [
    "# Running the simulated example from the auxiliary module\n",
    "\n",
    "# Call the simulated_example function with the provided parameters\n",
    "_, primary_modeler_posterior_updated = auxiliary.simulated_example(\n",
    "    primary_modeler_scores,  # Initial scores given by the primary modeler\n",
    "    opinion_certainty_array,  # Certainty of the primary modeler's opinions\n",
    "    apply_certainty,  # Flag to apply certainty\n",
    "    number_of_responders,  # Number of responders for each brand\n",
    "    trust_matrix,  # Trust matrix representing trust for each responder\n",
    "    primary_modeler_score_preference,  # Primary modeler's score preference for each feature\n",
    "    primary_modeler_brand_pref,  # Distribution representing primary modeler's brand prefference\n",
    "    score_range,  # Highest possible score for each feature\n",
    "    initial_feature_weight,  # Initial feature weight for the Dirichlet distribution\n",
    "    samsung_expert_opinions,  # Expert opinions for Samsung\n",
    "    iphone_expert_opinions,  # Expert opinions for iPhone\n",
    "    xiaomi_expert_opinions  # Expert opinions for Xiaomi\n",
    ")\n"
   ]
  },
  {
   "cell_type": "code",
   "execution_count": 2072,
   "metadata": {},
   "outputs": [
    {
     "data": {
      "image/png": "[encoded data removed]",
      "text/plain": [
       "<Figure size 700x500 with 1 Axes>"
      ]
     },
     "metadata": {},
     "output_type": "display_data"
    }
   ],
   "source": [
    "# Create a figure window\n",
    "plt.figure(figsize=(7, 5))\n",
    "\n",
    "# Plot the primary modeler's updated posterior distribution on brands\n",
    "plt.bar(['Samsung', 'iPhone', 'Xiaomi'], primary_modeler_posterior_updated)\n",
    "\n",
    "# Set the font size for the x-ticks\n",
    "plt.xticks(fontsize=17)\n",
    "\n",
    "# Label the y-axis and set the title\n",
    "plt.ylabel('Probability')\n",
    "plt.title(\"Primary modeler's updated brand preference\", fontsize=18)\n",
    "\n",
    "# Save the plot\n",
    "save_path = os.path.join(working_directory, 'Bar_charts', 'figure_4.eps')\n",
    "plt.tight_layout()\n",
    "plt.savefig(save_path, format='eps')\n",
    "\n",
    "# Display the plot\n",
    "plt.show()"
   ]
  },
  {
   "cell_type": "markdown",
   "metadata": {},
   "source": [
    "<ins>The primary modeler's updated brand preference.</ins>"
   ]
  },
  {
   "cell_type": "code",
   "execution_count": 2073,
   "metadata": {},
   "outputs": [
    {
     "name": "stdout",
     "output_type": "stream",
     "text": [
      "The Primary modeler's updated brand preference:\n"
     ]
    },
    {
     "data": {
      "application/vnd.microsoft.datawrangler.viewer.v0+json": {
       "columns": [
        {
         "name": "index",
         "rawType": "int64",
         "type": "integer"
        },
        {
         "name": "Samsung",
         "rawType": "object",
         "type": "string"
        },
        {
         "name": "iPhone",
         "rawType": "object",
         "type": "string"
        },
        {
         "name": "Xiaomi",
         "rawType": "object",
         "type": "string"
        }
       ],
       "conversionMethod": "pd.DataFrame",
       "ref": "61defa1d-2fa5-4fa5-8077-b893fe4b947a",
       "rows": [
        [
         "0",
         "35.02%",
         "23.63%",
         "41.34%"
        ]
       ],
       "shape": {
        "columns": 3,
        "rows": 1
       }
      },
      "text/html": [
       "<div>\n",
       "<style scoped>\n",
       "    .dataframe tbody tr th:only-of-type {\n",
       "        vertical-align: middle;\n",
       "    }\n",
       "\n",
       "    .dataframe tbody tr th {\n",
       "        vertical-align: top;\n",
       "    }\n",
       "\n",
       "    .dataframe thead th {\n",
       "        text-align: right;\n",
       "    }\n",
       "</style>\n",
       "<table border=\"1\" class=\"dataframe\">\n",
       "  <thead>\n",
       "    <tr style=\"text-align: right;\">\n",
       "      <th></th>\n",
       "      <th>Samsung</th>\n",
       "      <th>iPhone</th>\n",
       "      <th>Xiaomi</th>\n",
       "    </tr>\n",
       "  </thead>\n",
       "  <tbody>\n",
       "    <tr>\n",
       "      <th>0</th>\n",
       "      <td>35.02%</td>\n",
       "      <td>23.63%</td>\n",
       "      <td>41.34%</td>\n",
       "    </tr>\n",
       "  </tbody>\n",
       "</table>\n",
       "</div>"
      ],
      "text/plain": [
       "  Samsung  iPhone  Xiaomi\n",
       "0  35.02%  23.63%  41.34%"
      ]
     },
     "execution_count": 2073,
     "metadata": {},
     "output_type": "execute_result"
    }
   ],
   "source": [
    "# Round the values and convert them to percentage strings\n",
    "primary_modeler_posterior_updated_percent = [f\"{value * 100:.2f}%\" for value in primary_modeler_posterior_updated]\n",
    "\n",
    "# Create a DataFrame for the updated posterior percentages\n",
    "primary_modeler_posterior_updated_df = pd.DataFrame(\n",
    "    [primary_modeler_posterior_updated_percent],    # Percentage values as a list\n",
    "    columns=[\"Samsung\", \"iPhone\", \"Xiaomi\"]         # Column labels for the DataFrame\n",
    ")\n",
    "\n",
    "# Display the DataFrame\n",
    "print(\"The Primary modeler's updated brand preference:\")\n",
    "primary_modeler_posterior_updated_df"
   ]
  },
  {
   "cell_type": "markdown",
   "metadata": {},
   "source": [
    "The trust process works as intended."
   ]
  },
  {
   "cell_type": "markdown",
   "metadata": {},
   "source": [
    "### Inclusion of certainty\n",
    "This section aims to provide a solution to the problem of setting the primary modeler's initial weights $n_{f_{1,b}}$ so that the primary modeler's opinion is not diminished, this is described in the first three examples. \n",
    "To better demonstrate the proposed solution, the trust values $t_{I,E_{i}} \\in \\langle 0, 1 \\rangle$ are intentionally excluded. When the trust value is not set, it is equivalent to setting the trust $t_{I,E_{i}}$ to the maximum value of 1.\n",
    "In contrast, in the opposite scenario, the weight increments of the experts are generally $t_{I,E_{i}} \\in \\langle 0, 1 \\rangle$, this effect is linearly combined with the value of opinion certainty $c_{I,b,n}$.\n",
    "A simplified solution was deemed to be sufficient.\n",
    "\n",
    "For simplicity, the setup of the following three examples are the same as in the first example from the first section, apart from the setup of the primary modeler's opinion and opinion certainty."
   ]
  },
  {
   "cell_type": "markdown",
   "metadata": {},
   "source": [
    "### Example 1:\n",
    "This example illustrates the impact of the opinion certainty $c_{I,b,n}$ on the final brand ordering. Setting maximum opinion certainty $c_{I,b,n}$ = 1 in the primary modeler's low scores for the Samsung brand should lead to the preference for the iPhone as the top brand, Xiaomi being the second most preferred brand.\n",
    "\n",
    "The primary modeler's opinion is configured to prefer the brands in the following order:\n",
    "\n",
    "**iPhone > Xiaomi > Samsung**."
   ]
  },
  {
   "cell_type": "markdown",
   "metadata": {},
   "source": [
    "#### Experiment setup"
   ]
  },
  {
   "cell_type": "markdown",
   "metadata": {},
   "source": [
    "##### Agent"
   ]
  },
  {
   "cell_type": "code",
   "execution_count": 2074,
   "metadata": {},
   "outputs": [],
   "source": [
    "# The primary modeler's opinion\n",
    "\n",
    "# Array representing the scores given by the primary modeler for different phone brands and features\n",
    "# * Note 1: This array represents primary modelers opinion\n",
    "primary_modeler_scores = np.array([\n",
    "    [3, 4, 1],  # Scores for Samsung\n",
    "    [6, 5, 6],  # Scores for iPhone\n",
    "    [4, 4, 3]   # Scores for Xiaomi\n",
    "], dtype=np.int8)"
   ]
  },
  {
   "cell_type": "code",
   "execution_count": 2075,
   "metadata": {},
   "outputs": [
    {
     "name": "stdout",
     "output_type": "stream",
     "text": [
      "The Primary Modelers Scores Table:\n"
     ]
    },
    {
     "data": {
      "application/vnd.microsoft.datawrangler.viewer.v0+json": {
       "columns": [
        {
         "name": "index",
         "rawType": "object",
         "type": "string"
        },
        {
         "name": "Feature 1",
         "rawType": "int8",
         "type": "integer"
        },
        {
         "name": "Feature 2",
         "rawType": "int8",
         "type": "integer"
        },
        {
         "name": "Feature 3",
         "rawType": "int8",
         "type": "integer"
        }
       ],
       "conversionMethod": "pd.DataFrame",
       "ref": "b57d75b4-3c91-4423-8331-283184c56abe",
       "rows": [
        [
         "Samsung",
         "3",
         "4",
         "1"
        ],
        [
         "iPhone",
         "6",
         "5",
         "6"
        ],
        [
         "Xiaomi",
         "4",
         "4",
         "3"
        ]
       ],
       "shape": {
        "columns": 3,
        "rows": 3
       }
      },
      "text/html": [
       "<div>\n",
       "<style scoped>\n",
       "    .dataframe tbody tr th:only-of-type {\n",
       "        vertical-align: middle;\n",
       "    }\n",
       "\n",
       "    .dataframe tbody tr th {\n",
       "        vertical-align: top;\n",
       "    }\n",
       "\n",
       "    .dataframe thead th {\n",
       "        text-align: right;\n",
       "    }\n",
       "</style>\n",
       "<table border=\"1\" class=\"dataframe\">\n",
       "  <thead>\n",
       "    <tr style=\"text-align: right;\">\n",
       "      <th></th>\n",
       "      <th>Feature 1</th>\n",
       "      <th>Feature 2</th>\n",
       "      <th>Feature 3</th>\n",
       "    </tr>\n",
       "  </thead>\n",
       "  <tbody>\n",
       "    <tr>\n",
       "      <th>Samsung</th>\n",
       "      <td>3</td>\n",
       "      <td>4</td>\n",
       "      <td>1</td>\n",
       "    </tr>\n",
       "    <tr>\n",
       "      <th>iPhone</th>\n",
       "      <td>6</td>\n",
       "      <td>5</td>\n",
       "      <td>6</td>\n",
       "    </tr>\n",
       "    <tr>\n",
       "      <th>Xiaomi</th>\n",
       "      <td>4</td>\n",
       "      <td>4</td>\n",
       "      <td>3</td>\n",
       "    </tr>\n",
       "  </tbody>\n",
       "</table>\n",
       "</div>"
      ],
      "text/plain": [
       "         Feature 1  Feature 2  Feature 3\n",
       "Samsung          3          4          1\n",
       "iPhone           6          5          6\n",
       "Xiaomi           4          4          3"
      ]
     },
     "execution_count": 2075,
     "metadata": {},
     "output_type": "execute_result"
    }
   ],
   "source": [
    "# Create a DataFrame\n",
    "primary_modeler_scores_df = pd.DataFrame(\n",
    "    primary_modeler_scores,\n",
    "    index=[\"Samsung\", \"iPhone\", \"Xiaomi\"],\n",
    "    columns=[\"Feature 1\", \"Feature 2\", \"Feature 3\"]\n",
    ")\n",
    "\n",
    "# Display the DataFrame\n",
    "print(\"The Primary Modelers Scores Table:\")\n",
    "primary_modeler_scores_df"
   ]
  },
  {
   "cell_type": "markdown",
   "metadata": {},
   "source": [
    "The primary modeler's certainty in the opinion $c_{I,b,n}$ for each brand is the following: "
   ]
  },
  {
   "cell_type": "code",
   "execution_count": 2076,
   "metadata": {},
   "outputs": [],
   "source": [
    "# Setting up the opinion certainty\n",
    "\n",
    "# Array representing the certainty of the primary modeler's opinion for each phone brand\n",
    "opinion_certainty_array = np.array([1, 0.4, 0.1], dtype=np.float16)\n",
    "\n",
    "# Boolean flag to determine if certainty should be applied\n",
    "# * Note 1: This flag is important as setting it to True will ensure that the opinion certainty array is ones.\n",
    "apply_certainty = True\n"
   ]
  },
  {
   "cell_type": "code",
   "execution_count": 2077,
   "metadata": {},
   "outputs": [
    {
     "name": "stdout",
     "output_type": "stream",
     "text": [
      "Opinion Certainty Table:\n"
     ]
    },
    {
     "data": {
      "application/vnd.microsoft.datawrangler.viewer.v0+json": {
       "columns": [
        {
         "name": "index",
         "rawType": "int64",
         "type": "integer"
        },
        {
         "name": "Samsung",
         "rawType": "object",
         "type": "string"
        },
        {
         "name": "iPhone",
         "rawType": "object",
         "type": "string"
        },
        {
         "name": "Xiaomi",
         "rawType": "object",
         "type": "string"
        }
       ],
       "conversionMethod": "pd.DataFrame",
       "ref": "52d3b5ca-95e2-4ff5-94e4-6911439912d5",
       "rows": [
        [
         "0",
         "100.0%",
         "40.0%",
         "10.0%"
        ]
       ],
       "shape": {
        "columns": 3,
        "rows": 1
       }
      },
      "text/html": [
       "<div>\n",
       "<style scoped>\n",
       "    .dataframe tbody tr th:only-of-type {\n",
       "        vertical-align: middle;\n",
       "    }\n",
       "\n",
       "    .dataframe tbody tr th {\n",
       "        vertical-align: top;\n",
       "    }\n",
       "\n",
       "    .dataframe thead th {\n",
       "        text-align: right;\n",
       "    }\n",
       "</style>\n",
       "<table border=\"1\" class=\"dataframe\">\n",
       "  <thead>\n",
       "    <tr style=\"text-align: right;\">\n",
       "      <th></th>\n",
       "      <th>Samsung</th>\n",
       "      <th>iPhone</th>\n",
       "      <th>Xiaomi</th>\n",
       "    </tr>\n",
       "  </thead>\n",
       "  <tbody>\n",
       "    <tr>\n",
       "      <th>0</th>\n",
       "      <td>100.0%</td>\n",
       "      <td>40.0%</td>\n",
       "      <td>10.0%</td>\n",
       "    </tr>\n",
       "  </tbody>\n",
       "</table>\n",
       "</div>"
      ],
      "text/plain": [
       "  Samsung iPhone Xiaomi\n",
       "0  100.0%  40.0%  10.0%"
      ]
     },
     "execution_count": 2077,
     "metadata": {},
     "output_type": "execute_result"
    }
   ],
   "source": [
    "# Round the values and convert them to percentage strings\n",
    "opinion_certainty_percent = [f\"{round(value * 100, 1)}%\" for value in opinion_certainty_array]\n",
    "\n",
    "# Create a DataFrame for opinion certainty percentages\n",
    "opinion_certainty_df = pd.DataFrame(\n",
    "    [opinion_certainty_percent],             # Percentage values as a list\n",
    "    columns=[\"Samsung\", \"iPhone\", \"Xiaomi\"]  # Column labels for the DataFrame\n",
    ")\n",
    "\n",
    "# Display the DataFrame\n",
    "print(\"Opinion Certainty Table:\")\n",
    "opinion_certainty_df\n"
   ]
  },
  {
   "cell_type": "code",
   "execution_count": 2078,
   "metadata": {},
   "outputs": [],
   "source": [
    "# Setting up the number of responders for each brand so that the opinion\n",
    "# certainty can be applied as many times as the responders responded\n",
    "\n",
    "# Array representing the number of responders for each phone brand\n",
    "number_of_responders = np.array([10, 10, 10], dtype=np.int32)"
   ]
  },
  {
   "cell_type": "code",
   "execution_count": 2079,
   "metadata": {},
   "outputs": [],
   "source": [
    "# Create a trust matrix with ones, representing equal trust for each responder\n",
    "# The matrix has 3 rows (one for each phone brand) and 10 columns (one for each responder)\n",
    "# * Note 1: Setting trust like this is equivalent to no inclusion of trust\n",
    "trust_matrix = np.ones((3, 10), dtype=np.float16)"
   ]
  },
  {
   "cell_type": "code",
   "execution_count": 2080,
   "metadata": {},
   "outputs": [],
   "source": [
    "# Primary modeler's score preference for each feature\n",
    "\n",
    "# Array representing the primary modeler's score preference for each feature\n",
    "# * Note 1: This means that scores below the selected scores are not taken into acoount durring the opinion formulation\n",
    "primary_modeler_score_preference = np.array([4, 4, 4], dtype=np.int8)"
   ]
  },
  {
   "cell_type": "code",
   "execution_count": 2081,
   "metadata": {},
   "outputs": [],
   "source": [
    "# Primary modeler's brand preference\n",
    "\n",
    "# Array representing the primary modeler's initial brand preference\n",
    "# * Note 1: Set to uniform\n",
    "primary_modeler_brand_pref = np.array([1, 1, 1], dtype=np.float32)\n",
    "\n",
    "# Normalize the brand preference so that the sum equals 1\n",
    "primary_modeler_brand_pref = primary_modeler_brand_pref / np.sum(primary_modeler_brand_pref)\n"
   ]
  },
  {
   "cell_type": "code",
   "execution_count": 2082,
   "metadata": {},
   "outputs": [],
   "source": [
    "# Setting score range\n",
    "\n",
    "# This represents the highest possible score for each feature, i.e., score range = 'best'\n",
    "score_range = 6"
   ]
  },
  {
   "cell_type": "code",
   "execution_count": 2083,
   "metadata": {},
   "outputs": [],
   "source": [
    "# The values of exponents in Dirichlet distribution must be non-zero,\n",
    "# setting them to a low value\n",
    "\n",
    "# Initial feature weight for the Dirichlet distribution\n",
    "initial_feature_weight = 0.01\n"
   ]
  },
  {
   "cell_type": "markdown",
   "metadata": {},
   "source": [
    "##### Expert opinions"
   ]
  },
  {
   "cell_type": "markdown",
   "metadata": {},
   "source": [
    "Low values of opinion certainty $c_{I,b,n}$ for iPhone and Xiaomi, result in higher influence of the experts' opinion on the opinion of the primary modeler. This can be intuitively interpreted as the primary modeler being more receptive to advice from the experts $E_{i}$."
   ]
  },
  {
   "cell_type": "code",
   "execution_count": 2084,
   "metadata": {},
   "outputs": [],
   "source": [
    "# Simulated experts for Samsung\n",
    "# Array representing the opinions of 10 simulated experts on Samsung for 3 features\n",
    "samsung_expert_opinions = np.array([\n",
    "    [4, 3, 4], [5, 3, 5], [5, 6, 5], [6, 5, 3], [6, 6, 6], \n",
    "    [5, 6, 5], [6, 6, 5], [6, 3, 4], [4, 5, 4], [6, 4, 3]\n",
    "], dtype=np.int8)\n",
    "\n",
    "# Simulated experts for iPhone\n",
    "# Array representing the opinions of 10 simulated experts on iPhone for 3 features\n",
    "iphone_expert_opinions = np.array([\n",
    "    [5, 5, 5], [5, 6, 5], [3, 4, 4], [3, 4, 5], [4, 5, 5], \n",
    "    [5, 6, 4], [6, 6, 6], [5, 6, 6], [4, 3, 4], [4, 6, 3]\n",
    "], dtype=np.int8)\n",
    "\n",
    "# Simulated experts for Xiaomi\n",
    "# Array representing the opinions of 10 simulated experts on Xiaomi for 3 features\n",
    "xiaomi_expert_opinions = np.array([\n",
    "    [3, 4, 3], [3, 3, 4], [4, 3, 4], [3, 3, 3], [5, 4, 3], \n",
    "    [3, 5, 5], [4, 5, 6], [4, 3, 2], [3, 4, 3], [4, 3, 4]\n",
    "], dtype=np.int8)"
   ]
  },
  {
   "cell_type": "code",
   "execution_count": 2085,
   "metadata": {},
   "outputs": [],
   "source": [
    "# Creating DataFrames for each brand\n",
    "\n",
    "# DataFrame for Samsung expert opinions\n",
    "samsung_expert_opinions_df = pd.DataFrame(\n",
    "    samsung_expert_opinions, \n",
    "    index=[f\"Samsung expert {i+1}\" for i in range(10)],  # Setting index as expert identifiers\n",
    "    columns=[\"Feature 1 score\", \"Feature 2 score\", \"Feature 3 score\"]  # Setting the column labels for features\n",
    ")\n",
    "\n",
    "# DataFrame for iPhone expert opinions\n",
    "iphone_expert_opinions_df = pd.DataFrame(\n",
    "    iphone_expert_opinions,\n",
    "    index=[f\"iPhone expert {i+1}\" for i in range(10)],  # Setting index as expert identifiers\n",
    "    columns=[\"Feature 1 score\", \"Feature 2 score\", \"Feature 3 score\"]  # Setting the column labels for features\n",
    ")\n",
    "\n",
    "# DataFrame for Xiaomi expert opinions\n",
    "xiaomi_expert_opinions_df = pd.DataFrame(\n",
    "    xiaomi_expert_opinions, \n",
    "    index=[f\"Xiaomi expert {i+1}\" for i in range(10)],  # Setting index as expert identifiers\n",
    "    columns=[\"Feature 1 score\", \"Feature 2 score\", \"Feature 3 score\"]  # Setting the column labels for features\n",
    ")"
   ]
  },
  {
   "cell_type": "markdown",
   "metadata": {},
   "source": [
    "<ins>Simple inference of experts opinion of brands</ins>"
   ]
  },
  {
   "cell_type": "code",
   "execution_count": 2086,
   "metadata": {},
   "outputs": [
    {
     "name": "stderr",
     "output_type": "stream",
     "text": [
      "/var/folders/wm/cf004srn2bx_p8lzdm9k_rr80000gn/T/ipykernel_86379/1865824333.py:9: MatplotlibDeprecationWarning: The 'labels' parameter of boxplot() has been renamed 'tick_labels' since Matplotlib 3.9; support for the old name will be dropped in 3.11.\n",
      "  ax.boxplot([samsung_means, iphone_means, xiaomi_means], labels=[\"Samsung\", \"iPhone\", \"Xiaomi\"], showmeans=True)\n"
     ]
    },
    {
     "data": {
      "image/png": "[encoded data removed]",
      "text/plain": [
       "<Figure size 1000x600 with 1 Axes>"
      ]
     },
     "metadata": {},
     "output_type": "display_data"
    }
   ],
   "source": [
    "# Calculate the mean scores of each expert\n",
    "samsung_means = samsung_expert_opinions_df.mean(axis=1)\n",
    "iphone_means = iphone_expert_opinions_df.mean(axis=1)\n",
    "xiaomi_means = xiaomi_expert_opinions_df.mean(axis=1)\n",
    "\n",
    "# Create a box plot for each brand\n",
    "fig, ax = plt.subplots(figsize=(10, 6))\n",
    "\n",
    "ax.boxplot([samsung_means, iphone_means, xiaomi_means], labels=[\"Samsung\", \"iPhone\", \"Xiaomi\"], showmeans=True)\n",
    "ax.set_title('Box Plot of Mean Expert Scores for Each Brand', fontsize=15.5)\n",
    "ax.set_ylabel('Mean Score')\n",
    "ax.set_xlabel('Brand')\n",
    "\n",
    "# Adding scatter plot of the observations\n",
    "x_positions = [1, 2, 3]\n",
    "for i, means in enumerate([samsung_means, iphone_means, xiaomi_means]):\n",
    "    ax.scatter([x_positions[i]] * len(means), means, alpha=0.6, color='blue', s=5)\n",
    "\n",
    "# Save the figure in .eps format\n",
    "\n",
    "# save_path = os.path.join(working_directory, 'Bar_charts', 'brand_mean_scores_boxplot.eps')\n",
    "# plt.tight_layout()\n",
    "# plt.savefig(save_path, format='eps')\n",
    "\n",
    "# Show the plot\n",
    "plt.show()\n"
   ]
  },
  {
   "cell_type": "code",
   "execution_count": 2087,
   "metadata": {},
   "outputs": [],
   "source": [
    "# Running the simulated example from the auxiliary module\n",
    "\n",
    "# Call the simulated_example function with the provided parameters\n",
    "_, primary_modeler_posterior_updated = auxiliary.simulated_example(\n",
    "    primary_modeler_scores,  # Initial scores given by the primary modeler\n",
    "    opinion_certainty_array,  # Certainty of the primary modeler's opinions\n",
    "    apply_certainty,  # Flag to apply certainty\n",
    "    number_of_responders,  # Number of responders for each brand\n",
    "    trust_matrix,  # Trust matrix representing trust for each responder\n",
    "    primary_modeler_score_preference,  # Primary modeler's score preference for each feature\n",
    "    primary_modeler_brand_pref,  # Distribution representing primary modeler's brand prefference\n",
    "    score_range,  # Highest possible score for each feature\n",
    "    initial_feature_weight,  # Initial feature weight for the Dirichlet distribution\n",
    "    samsung_expert_opinions,  # Expert opinions for Samsung\n",
    "    iphone_expert_opinions,  # Expert opinions for iPhone\n",
    "    xiaomi_expert_opinions  # Expert opinions for Xiaomi\n",
    ")\n"
   ]
  },
  {
   "cell_type": "code",
   "execution_count": 2088,
   "metadata": {},
   "outputs": [
    {
     "data": {
      "image/png": "[encoded data removed]",
      "text/plain": [
       "<Figure size 1500x500 with 1 Axes>"
      ]
     },
     "metadata": {},
     "output_type": "display_data"
    }
   ],
   "source": [
    "## Plot primary modeler's initial and updated posterior distribution on brands\n",
    "\n",
    "# Create a figure window with two subplots\n",
    "fig, axes = plt.subplots(1, 1, figsize=(15, 5))\n",
    "\n",
    "# Variable names for the x-ticks\n",
    "variable_names = ['Samsung', 'iPhone', 'Xiaomi']\n",
    "\n",
    "# Plotting the initial posterior distribution as a bar chart\n",
    "axes.bar(variable_names, primary_modeler_posterior_updated)\n",
    "axes.set_ylabel('Probability')\n",
    "axes.set_title(\"Primary modeler's updated brand preference\", fontsize=15.5)\n",
    "axes.tick_params(axis='x', labelsize=17)\n",
    "\n",
    "# Save the figure\n",
    "save_path = os.path.join(working_directory, 'Bar_charts', 'figure_5.eps')\n",
    "plt.tight_layout()\n",
    "plt.savefig(save_path, format='eps')\n",
    "\n",
    "# Show the plots\n",
    "plt.show()\n",
    "\n",
    "\n"
   ]
  },
  {
   "cell_type": "markdown",
   "metadata": {},
   "source": [
    "<ins>The primary modeler's updated brand preference.</ins>"
   ]
  },
  {
   "cell_type": "code",
   "execution_count": 2089,
   "metadata": {},
   "outputs": [
    {
     "name": "stdout",
     "output_type": "stream",
     "text": [
      "The Primary modeler's updated brand preference:\n"
     ]
    },
    {
     "data": {
      "application/vnd.microsoft.datawrangler.viewer.v0+json": {
       "columns": [
        {
         "name": "index",
         "rawType": "int64",
         "type": "integer"
        },
        {
         "name": "Samsung",
         "rawType": "object",
         "type": "string"
        },
        {
         "name": "iPhone",
         "rawType": "object",
         "type": "string"
        },
        {
         "name": "Xiaomi",
         "rawType": "object",
         "type": "string"
        }
       ],
       "conversionMethod": "pd.DataFrame",
       "ref": "ebf1ea07-8fbf-4aab-9579-a90494e839f7",
       "rows": [
        [
         "0",
         "19.97%",
         "47.45%",
         "32.58%"
        ]
       ],
       "shape": {
        "columns": 3,
        "rows": 1
       }
      },
      "text/html": [
       "<div>\n",
       "<style scoped>\n",
       "    .dataframe tbody tr th:only-of-type {\n",
       "        vertical-align: middle;\n",
       "    }\n",
       "\n",
       "    .dataframe tbody tr th {\n",
       "        vertical-align: top;\n",
       "    }\n",
       "\n",
       "    .dataframe thead th {\n",
       "        text-align: right;\n",
       "    }\n",
       "</style>\n",
       "<table border=\"1\" class=\"dataframe\">\n",
       "  <thead>\n",
       "    <tr style=\"text-align: right;\">\n",
       "      <th></th>\n",
       "      <th>Samsung</th>\n",
       "      <th>iPhone</th>\n",
       "      <th>Xiaomi</th>\n",
       "    </tr>\n",
       "  </thead>\n",
       "  <tbody>\n",
       "    <tr>\n",
       "      <th>0</th>\n",
       "      <td>19.97%</td>\n",
       "      <td>47.45%</td>\n",
       "      <td>32.58%</td>\n",
       "    </tr>\n",
       "  </tbody>\n",
       "</table>\n",
       "</div>"
      ],
      "text/plain": [
       "  Samsung  iPhone  Xiaomi\n",
       "0  19.97%  47.45%  32.58%"
      ]
     },
     "execution_count": 2089,
     "metadata": {},
     "output_type": "execute_result"
    }
   ],
   "source": [
    "# Round the values and convert them to percentage strings\n",
    "primary_modeler_posterior_updated_percent = [f\"{value * 100:.2f}%\" for value in primary_modeler_posterior_updated]\n",
    "\n",
    "# Create a DataFrame for the updated posterior percentages\n",
    "primary_modeler_posterior_updated_df = pd.DataFrame(\n",
    "    [primary_modeler_posterior_updated_percent],    # Percentage values as a list\n",
    "    columns=[\"Samsung\", \"iPhone\", \"Xiaomi\"]         # Column labels for the DataFrame\n",
    ")\n",
    "\n",
    "# Display the DataFrame\n",
    "print(\"The Primary modeler's updated brand preference:\")\n",
    "primary_modeler_posterior_updated_df"
   ]
  },
  {
   "cell_type": "markdown",
   "metadata": {},
   "source": [
    "The opinion certainty process works as intended in this example."
   ]
  },
  {
   "cell_type": "markdown",
   "metadata": {},
   "source": [
    "### Example 2\n",
    "In this example the maximum opinion certainty $c_{I,b,n}$ = 1 in the primary modeler's low scores for the Samsung and iPhone brand should lead to the preference for the Xiaomi brand.\n",
    "\n",
    "The primary modeler's opinion is configured to prefer the brands in the following order:\n",
    "\n",
    "**Xiaomi > iPhone > Samsung**. "
   ]
  },
  {
   "cell_type": "markdown",
   "metadata": {},
   "source": [
    "#### Experiment setup"
   ]
  },
  {
   "cell_type": "markdown",
   "metadata": {},
   "source": [
    "##### Agent"
   ]
  },
  {
   "cell_type": "code",
   "execution_count": 2090,
   "metadata": {},
   "outputs": [],
   "source": [
    "# The primary modeler's opinion\n",
    "\n",
    "# Array representing the scores given by the primary modeler for different phone brands and features\n",
    "# * Note 1: This array represents primary modelers opinion\n",
    "primary_modeler_scores = np.array([\n",
    "    [3, 1, 1],  # Scores for Samsung\n",
    "    [2, 3, 1],  # Scores for iPhone\n",
    "    [6, 5, 5]   # Scores for Xiaomi\n",
    "], dtype=np.int8)\n"
   ]
  },
  {
   "cell_type": "code",
   "execution_count": 2091,
   "metadata": {},
   "outputs": [
    {
     "data": {
      "application/vnd.microsoft.datawrangler.viewer.v0+json": {
       "columns": [
        {
         "name": "index",
         "rawType": "object",
         "type": "string"
        },
        {
         "name": "Feature 1",
         "rawType": "int8",
         "type": "integer"
        },
        {
         "name": "Feature 2",
         "rawType": "int8",
         "type": "integer"
        },
        {
         "name": "Feature 3",
         "rawType": "int8",
         "type": "integer"
        }
       ],
       "conversionMethod": "pd.DataFrame",
       "ref": "2c4bae3a-d7a8-4506-8231-357b97c67322",
       "rows": [
        [
         "Samsung",
         "3",
         "1",
         "1"
        ],
        [
         "iPhone",
         "2",
         "3",
         "1"
        ],
        [
         "Xiaomi",
         "6",
         "5",
         "5"
        ]
       ],
       "shape": {
        "columns": 3,
        "rows": 3
       }
      },
      "text/html": [
       "<div>\n",
       "<style scoped>\n",
       "    .dataframe tbody tr th:only-of-type {\n",
       "        vertical-align: middle;\n",
       "    }\n",
       "\n",
       "    .dataframe tbody tr th {\n",
       "        vertical-align: top;\n",
       "    }\n",
       "\n",
       "    .dataframe thead th {\n",
       "        text-align: right;\n",
       "    }\n",
       "</style>\n",
       "<table border=\"1\" class=\"dataframe\">\n",
       "  <thead>\n",
       "    <tr style=\"text-align: right;\">\n",
       "      <th></th>\n",
       "      <th>Feature 1</th>\n",
       "      <th>Feature 2</th>\n",
       "      <th>Feature 3</th>\n",
       "    </tr>\n",
       "  </thead>\n",
       "  <tbody>\n",
       "    <tr>\n",
       "      <th>Samsung</th>\n",
       "      <td>3</td>\n",
       "      <td>1</td>\n",
       "      <td>1</td>\n",
       "    </tr>\n",
       "    <tr>\n",
       "      <th>iPhone</th>\n",
       "      <td>2</td>\n",
       "      <td>3</td>\n",
       "      <td>1</td>\n",
       "    </tr>\n",
       "    <tr>\n",
       "      <th>Xiaomi</th>\n",
       "      <td>6</td>\n",
       "      <td>5</td>\n",
       "      <td>5</td>\n",
       "    </tr>\n",
       "  </tbody>\n",
       "</table>\n",
       "</div>"
      ],
      "text/plain": [
       "         Feature 1  Feature 2  Feature 3\n",
       "Samsung          3          1          1\n",
       "iPhone           2          3          1\n",
       "Xiaomi           6          5          5"
      ]
     },
     "execution_count": 2091,
     "metadata": {},
     "output_type": "execute_result"
    }
   ],
   "source": [
    "# Creating a DataFrame with the given data\n",
    "# Index represents phone brands, and columns represent different features\n",
    "primary_modeler_scores_df = pd.DataFrame(\n",
    "    primary_modeler_scores,\n",
    "    index=[\"Samsung\", \"iPhone\", \"Xiaomi\"],           # Setting the row labels for phone brands\n",
    "    columns=[\"Feature 1\", \"Feature 2\", \"Feature 3\"]  # Setting the column labels for features\n",
    ")\n",
    "\n",
    "# Display the DataFrame\n",
    "primary_modeler_scores_df"
   ]
  },
  {
   "cell_type": "markdown",
   "metadata": {},
   "source": [
    "The primary modeler's certainty in the opinion $c_{I,b,n}$ for each brand is the following: "
   ]
  },
  {
   "cell_type": "code",
   "execution_count": 2092,
   "metadata": {},
   "outputs": [],
   "source": [
    "# Setting up the opinion certainty\n",
    "\n",
    "# Array representing the certainty of the primary modeler's opinion for each phone brand\n",
    "opinion_certainty_array = np.array([0.2, 0.2, 1], dtype=np.float16)\n",
    "\n",
    "# Boolean flag to determine if certainty should be applied\n",
    "# * Note 1: This flag is important as setting it to True will ensure that the opinion certainty array is ones.\n",
    "apply_certainty = True"
   ]
  },
  {
   "cell_type": "code",
   "execution_count": 2093,
   "metadata": {},
   "outputs": [
    {
     "name": "stdout",
     "output_type": "stream",
     "text": [
      "Opinion Certainty Table:\n"
     ]
    },
    {
     "data": {
      "application/vnd.microsoft.datawrangler.viewer.v0+json": {
       "columns": [
        {
         "name": "index",
         "rawType": "int64",
         "type": "integer"
        },
        {
         "name": "Samsung",
         "rawType": "object",
         "type": "string"
        },
        {
         "name": "iPhone",
         "rawType": "object",
         "type": "string"
        },
        {
         "name": "Xiaomi",
         "rawType": "object",
         "type": "string"
        }
       ],
       "conversionMethod": "pd.DataFrame",
       "ref": "f4ddbbaa-c946-47c4-bc1b-b512f7e970af",
       "rows": [
        [
         "0",
         "20.0%",
         "20.0%",
         "100.0%"
        ]
       ],
       "shape": {
        "columns": 3,
        "rows": 1
       }
      },
      "text/html": [
       "<div>\n",
       "<style scoped>\n",
       "    .dataframe tbody tr th:only-of-type {\n",
       "        vertical-align: middle;\n",
       "    }\n",
       "\n",
       "    .dataframe tbody tr th {\n",
       "        vertical-align: top;\n",
       "    }\n",
       "\n",
       "    .dataframe thead th {\n",
       "        text-align: right;\n",
       "    }\n",
       "</style>\n",
       "<table border=\"1\" class=\"dataframe\">\n",
       "  <thead>\n",
       "    <tr style=\"text-align: right;\">\n",
       "      <th></th>\n",
       "      <th>Samsung</th>\n",
       "      <th>iPhone</th>\n",
       "      <th>Xiaomi</th>\n",
       "    </tr>\n",
       "  </thead>\n",
       "  <tbody>\n",
       "    <tr>\n",
       "      <th>0</th>\n",
       "      <td>20.0%</td>\n",
       "      <td>20.0%</td>\n",
       "      <td>100.0%</td>\n",
       "    </tr>\n",
       "  </tbody>\n",
       "</table>\n",
       "</div>"
      ],
      "text/plain": [
       "  Samsung iPhone  Xiaomi\n",
       "0   20.0%  20.0%  100.0%"
      ]
     },
     "execution_count": 2093,
     "metadata": {},
     "output_type": "execute_result"
    }
   ],
   "source": [
    "# Round the values and convert them to percentage strings\n",
    "opinion_certainty_percent = [f\"{round(value * 100, 1)}%\" for value in opinion_certainty_array]\n",
    "\n",
    "# Create a DataFrame for opinion certainty percentages\n",
    "opinion_certainty_df = pd.DataFrame(\n",
    "    [opinion_certainty_percent],             # Percentage values as a list\n",
    "    columns=[\"Samsung\", \"iPhone\", \"Xiaomi\"]  # Column labels for the DataFrame\n",
    ")\n",
    "\n",
    "# Display the DataFrame\n",
    "print(\"Opinion Certainty Table:\")\n",
    "opinion_certainty_df\n"
   ]
  },
  {
   "cell_type": "markdown",
   "metadata": {},
   "source": [
    "Similarly to the previous example, low values of opinion certainty $c_{I,b,n}$ for Samsung and iPhone, result in higher influence of the experts' opinion on the opinion of the primary modeler. This can be intuitively interpreted as the primary modeler being more receptive to advice from the experts $E_{i}$."
   ]
  },
  {
   "cell_type": "code",
   "execution_count": 2094,
   "metadata": {},
   "outputs": [],
   "source": [
    "# Setting up the number of responders for each brand so that the opinion\n",
    "# certainty can be applied as many times as the responders responded\n",
    "\n",
    "# Array representing the number of responders for each phone brand\n",
    "number_of_responders = np.array([10, 10, 10], dtype=np.int32)"
   ]
  },
  {
   "cell_type": "code",
   "execution_count": 2095,
   "metadata": {},
   "outputs": [],
   "source": [
    "# Create a trust matrix with ones, representing equal trust for each responder\n",
    "# The matrix has 3 rows (one for each phone brand) and 10 columns (one for each responder)\n",
    "# * Note 1: Setting trust like this is equivalent to no inclusion of trust\n",
    "trust_matrix = np.ones((3, 10), dtype=np.float16)"
   ]
  },
  {
   "cell_type": "code",
   "execution_count": 2096,
   "metadata": {},
   "outputs": [],
   "source": [
    "# Primary modeler's score preference for each feature\n",
    "\n",
    "# Array representing the primary modeler's score preference for each feature\n",
    "# * Note 1: This means that scores below the selected scores are not taken into acoount durring the opinion formulation\n",
    "primary_modeler_score_preference = np.array([4, 4, 4], dtype=np.int8)"
   ]
  },
  {
   "cell_type": "code",
   "execution_count": 2097,
   "metadata": {},
   "outputs": [],
   "source": [
    "# Primary modeler's brand preference\n",
    "\n",
    "# Array representing the primary modeler's initial brand preference\n",
    "# * Note 1: Set to uniform\n",
    "primary_modeler_brand_pref = np.array([1, 1, 1], dtype=np.float32)\n",
    "\n",
    "# Normalize the brand preference so that the sum equals 1\n",
    "primary_modeler_brand_pref = primary_modeler_brand_pref / np.sum(primary_modeler_brand_pref)\n"
   ]
  },
  {
   "cell_type": "code",
   "execution_count": 2098,
   "metadata": {},
   "outputs": [],
   "source": [
    "# Setting score range\n",
    "\n",
    "# This represents the highest possible score for each feature, i.e., score range = 'best'\n",
    "score_range = 6"
   ]
  },
  {
   "cell_type": "code",
   "execution_count": 2099,
   "metadata": {},
   "outputs": [],
   "source": [
    "# The values of exponents in Dirichlet distribution must be non-zero,\n",
    "# setting them to a low value\n",
    "\n",
    "# Initial feature weight for the Dirichlet distribution\n",
    "initial_feature_weight = 0.01\n"
   ]
  },
  {
   "cell_type": "markdown",
   "metadata": {},
   "source": [
    "##### Expert opinions"
   ]
  },
  {
   "cell_type": "code",
   "execution_count": 2100,
   "metadata": {},
   "outputs": [],
   "source": [
    "# Simulated experts for Samsung\n",
    "# Array representing the opinions of 10 simulated experts on Samsung for 3 features\n",
    "samsung_expert_opinions = np.array([\n",
    "    [4, 3, 4], [5, 3, 5], [5, 6, 5], [6, 5, 3], [6, 6, 6], \n",
    "    [5, 6, 5], [6, 6, 5], [6, 3, 4], [4, 5, 4], [6, 4, 3]\n",
    "], dtype=np.int8)\n",
    "\n",
    "# Simulated experts for iPhone\n",
    "# Array representing the opinions of 10 simulated experts on iPhone for 3 features\n",
    "iphone_expert_opinions = np.array([\n",
    "    [5, 5, 5], [5, 6, 5], [3, 4, 4], [3, 4, 5], [4, 5, 5], \n",
    "    [5, 6, 4], [6, 6, 6], [5, 6, 6], [4, 3, 4], [4, 6, 3]\n",
    "], dtype=np.int8)\n",
    "\n",
    "# Simulated experts for Xiaomi\n",
    "# Array representing the opinions of 10 simulated experts on Xiaomi for 3 features\n",
    "xiaomi_expert_opinions = np.array([\n",
    "    [3, 4, 3], [3, 3, 4], [4, 3, 4], [3, 3, 3], [5, 4, 3], \n",
    "    [3, 5, 5], [4, 5, 6], [4, 3, 2], [3, 4, 3], [4, 3, 4]\n",
    "], dtype=np.int8)\n"
   ]
  },
  {
   "cell_type": "code",
   "execution_count": 2101,
   "metadata": {},
   "outputs": [],
   "source": [
    "# Creating DataFrames for each brand\n",
    "\n",
    "# DataFrame for Samsung expert opinions\n",
    "samsung_expert_opinions_df = pd.DataFrame(\n",
    "    samsung_expert_opinions, \n",
    "    index=[f\"Samsung expert {i+1}\" for i in range(10)],  # Setting index as expert identifiers\n",
    "    columns=[\"Feature 1 score\", \"Feature 2 score\", \"Feature 3 score\"]  # Setting the column labels for features\n",
    ")\n",
    "\n",
    "# DataFrame for iPhone expert opinions\n",
    "iphone_expert_opinions_df = pd.DataFrame(\n",
    "    iphone_expert_opinions,\n",
    "    index=[f\"iPhone expert {i+1}\" for i in range(10)],  # Setting index as expert identifiers\n",
    "    columns=[\"Feature 1 score\", \"Feature 2 score\", \"Feature 3 score\"]  # Setting the column labels for features\n",
    ")\n",
    "\n",
    "# DataFrame for Xiaomi expert opinions\n",
    "xiaomi_expert_opinions_df = pd.DataFrame(\n",
    "    xiaomi_expert_opinions, \n",
    "    index=[f\"Xiaomi expert {i+1}\" for i in range(10)],  # Setting index as expert identifiers\n",
    "    columns=[\"Feature 1 score\", \"Feature 2 score\", \"Feature 3 score\"]  # Setting the column labels for features\n",
    ")"
   ]
  },
  {
   "cell_type": "markdown",
   "metadata": {},
   "source": [
    "<ins>Simple inference of experts opinion of brands</ins>"
   ]
  },
  {
   "cell_type": "code",
   "execution_count": 2102,
   "metadata": {},
   "outputs": [
    {
     "name": "stderr",
     "output_type": "stream",
     "text": [
      "/var/folders/wm/cf004srn2bx_p8lzdm9k_rr80000gn/T/ipykernel_86379/1865824333.py:9: MatplotlibDeprecationWarning: The 'labels' parameter of boxplot() has been renamed 'tick_labels' since Matplotlib 3.9; support for the old name will be dropped in 3.11.\n",
      "  ax.boxplot([samsung_means, iphone_means, xiaomi_means], labels=[\"Samsung\", \"iPhone\", \"Xiaomi\"], showmeans=True)\n"
     ]
    },
    {
     "data": {
      "image/png": "[encoded data removed]",
      "text/plain": [
       "<Figure size 1000x600 with 1 Axes>"
      ]
     },
     "metadata": {},
     "output_type": "display_data"
    }
   ],
   "source": [
    "# Calculate the mean scores of each expert\n",
    "samsung_means = samsung_expert_opinions_df.mean(axis=1)\n",
    "iphone_means = iphone_expert_opinions_df.mean(axis=1)\n",
    "xiaomi_means = xiaomi_expert_opinions_df.mean(axis=1)\n",
    "\n",
    "# Create a box plot for each brand\n",
    "fig, ax = plt.subplots(figsize=(10, 6))\n",
    "\n",
    "ax.boxplot([samsung_means, iphone_means, xiaomi_means], labels=[\"Samsung\", \"iPhone\", \"Xiaomi\"], showmeans=True)\n",
    "ax.set_title('Box Plot of Mean Expert Scores for Each Brand', fontsize=15.5)\n",
    "ax.set_ylabel('Mean Score')\n",
    "ax.set_xlabel('Brand')\n",
    "\n",
    "# Adding scatter plot of the observations\n",
    "x_positions = [1, 2, 3]\n",
    "for i, means in enumerate([samsung_means, iphone_means, xiaomi_means]):\n",
    "    ax.scatter([x_positions[i]] * len(means), means, alpha=0.6, color='blue', s=5)\n",
    "\n",
    "# Save the figure in .eps format\n",
    "\n",
    "# save_path = os.path.join(working_directory, 'Bar_charts', 'brand_mean_scores_boxplot.eps')\n",
    "# plt.tight_layout()\n",
    "# plt.savefig(save_path, format='eps')\n",
    "\n",
    "# Show the plot\n",
    "plt.show()\n"
   ]
  },
  {
   "cell_type": "code",
   "execution_count": 2103,
   "metadata": {},
   "outputs": [],
   "source": [
    "# Running the simulated example from the auxiliary module\n",
    "\n",
    "# Call the simulated_example function with the provided parameters\n",
    "_, primary_modeler_posterior_updated = auxiliary.simulated_example(\n",
    "    primary_modeler_scores,  # Initial scores given by the primary modeler\n",
    "    opinion_certainty_array,  # Certainty of the primary modeler's opinions\n",
    "    apply_certainty,  # Flag to apply certainty\n",
    "    number_of_responders,  # Number of responders for each brand\n",
    "    trust_matrix,  # Trust matrix representing trust for each responder\n",
    "    primary_modeler_score_preference,  # Primary modeler's score preference for each feature\n",
    "    primary_modeler_brand_pref,  # Distribution representing primary modeler's brand prefference\n",
    "    score_range,  # Highest possible score for each feature\n",
    "    initial_feature_weight,  # Initial feature weight for the Dirichlet distribution\n",
    "    samsung_expert_opinions,  # Expert opinions for Samsung\n",
    "    iphone_expert_opinions,  # Expert opinions for iPhone\n",
    "    xiaomi_expert_opinions  # Expert opinions for Xiaomi\n",
    ")\n"
   ]
  },
  {
   "cell_type": "code",
   "execution_count": 2104,
   "metadata": {},
   "outputs": [
    {
     "data": {
      "image/png": "[encoded data removed]",
      "text/plain": [
       "<Figure size 1500x500 with 1 Axes>"
      ]
     },
     "metadata": {},
     "output_type": "display_data"
    }
   ],
   "source": [
    "## Plot primary modeler's initial and updated posterior distribution on brands\n",
    "\n",
    "# Create a figure window with two subplots\n",
    "fig, axes = plt.subplots(1, 1, figsize=(15, 5))\n",
    "\n",
    "# Variable names for the x-ticks\n",
    "variable_names = ['Samsung', 'iPhone', 'Xiaomi']\n",
    "\n",
    "# Plotting the updated posterior distribution as a bar chart\n",
    "axes.bar(variable_names, primary_modeler_posterior_updated)\n",
    "axes.set_ylabel('Probability')\n",
    "axes.set_title(\"Primary modeler's updated brand preference\", fontsize=15.5)\n",
    "axes.tick_params(axis='x', labelsize=17)\n",
    "\n",
    "# Save the figure\n",
    "save_path = os.path.join(working_directory, 'Bar_charts', 'figure_6.eps')\n",
    "plt.tight_layout()\n",
    "plt.savefig(save_path, format='eps')\n",
    "\n",
    "# Show the plots\n",
    "plt.show()\n"
   ]
  },
  {
   "cell_type": "markdown",
   "metadata": {},
   "source": [
    "<ins>The primary modeler's updated brand preference.</ins>"
   ]
  },
  {
   "cell_type": "code",
   "execution_count": 2105,
   "metadata": {},
   "outputs": [
    {
     "name": "stdout",
     "output_type": "stream",
     "text": [
      "The Primary modeler's updated brand preference:\n"
     ]
    },
    {
     "data": {
      "application/vnd.microsoft.datawrangler.viewer.v0+json": {
       "columns": [
        {
         "name": "index",
         "rawType": "int64",
         "type": "integer"
        },
        {
         "name": "Samsung",
         "rawType": "object",
         "type": "string"
        },
        {
         "name": "iPhone",
         "rawType": "object",
         "type": "string"
        },
        {
         "name": "Xiaomi",
         "rawType": "object",
         "type": "string"
        }
       ],
       "conversionMethod": "pd.DataFrame",
       "ref": "d4c721fe-0e0c-466b-ae73-8d135093f5e0",
       "rows": [
        [
         "0",
         "17.95%",
         "17.95%",
         "64.09%"
        ]
       ],
       "shape": {
        "columns": 3,
        "rows": 1
       }
      },
      "text/html": [
       "<div>\n",
       "<style scoped>\n",
       "    .dataframe tbody tr th:only-of-type {\n",
       "        vertical-align: middle;\n",
       "    }\n",
       "\n",
       "    .dataframe tbody tr th {\n",
       "        vertical-align: top;\n",
       "    }\n",
       "\n",
       "    .dataframe thead th {\n",
       "        text-align: right;\n",
       "    }\n",
       "</style>\n",
       "<table border=\"1\" class=\"dataframe\">\n",
       "  <thead>\n",
       "    <tr style=\"text-align: right;\">\n",
       "      <th></th>\n",
       "      <th>Samsung</th>\n",
       "      <th>iPhone</th>\n",
       "      <th>Xiaomi</th>\n",
       "    </tr>\n",
       "  </thead>\n",
       "  <tbody>\n",
       "    <tr>\n",
       "      <th>0</th>\n",
       "      <td>17.95%</td>\n",
       "      <td>17.95%</td>\n",
       "      <td>64.09%</td>\n",
       "    </tr>\n",
       "  </tbody>\n",
       "</table>\n",
       "</div>"
      ],
      "text/plain": [
       "  Samsung  iPhone  Xiaomi\n",
       "0  17.95%  17.95%  64.09%"
      ]
     },
     "execution_count": 2105,
     "metadata": {},
     "output_type": "execute_result"
    }
   ],
   "source": [
    "# Round the values and convert them to percentage strings\n",
    "primary_modeler_posterior_updated_percent = [f\"{value * 100:.2f}%\" for value in primary_modeler_posterior_updated]\n",
    "\n",
    "# Create a DataFrame for the updated posterior percentages\n",
    "primary_modeler_posterior_updated_df = pd.DataFrame(\n",
    "    [primary_modeler_posterior_updated_percent],    # Percentage values as a list\n",
    "    columns=[\"Samsung\", \"iPhone\", \"Xiaomi\"]         # Column labels for the DataFrame\n",
    ")\n",
    "\n",
    "# Display the DataFrame\n",
    "print(\"The Primary modeler's updated brand preference:\")\n",
    "primary_modeler_posterior_updated_df"
   ]
  },
  {
   "cell_type": "markdown",
   "metadata": {},
   "source": [
    "The opinion certainty process works as intended in this example."
   ]
  },
  {
   "cell_type": "markdown",
   "metadata": {},
   "source": [
    "### Example 3\n",
    "In this example the maximum opinion certainty $c_{I,b,n}$ = 1 in the primary modeler's lowest scores for Samsung brand should lead to the preference for the iPhone brand.\n",
    "\n",
    "The primary modeler's opinion is configured to prefer the brands in the following order:\n",
    "\n",
    "**iPhone > Xiaomi > Samsung**. "
   ]
  },
  {
   "cell_type": "markdown",
   "metadata": {},
   "source": [
    "#### Experiment setup"
   ]
  },
  {
   "cell_type": "markdown",
   "metadata": {},
   "source": [
    "##### Agent"
   ]
  },
  {
   "cell_type": "code",
   "execution_count": 2106,
   "metadata": {},
   "outputs": [],
   "source": [
    "# The primary modeler's opinion\n",
    "\n",
    "# Array representing the scores given by the primary modeler for different phone brands and features\n",
    "# * Note 1: This array represents primary modelers opinion\n",
    "primary_modeler_scores = np.array([\n",
    "    [1, 1, 1],  # Scores for Samsung\n",
    "    [6, 5, 6],  # Scores for iPhone\n",
    "    [4, 4, 3]   # Scores for Xiaomi\n",
    "], dtype=np.int8)\n"
   ]
  },
  {
   "cell_type": "code",
   "execution_count": 2107,
   "metadata": {},
   "outputs": [
    {
     "data": {
      "application/vnd.microsoft.datawrangler.viewer.v0+json": {
       "columns": [
        {
         "name": "index",
         "rawType": "object",
         "type": "string"
        },
        {
         "name": "Feature 1",
         "rawType": "int8",
         "type": "integer"
        },
        {
         "name": "Feature 2",
         "rawType": "int8",
         "type": "integer"
        },
        {
         "name": "Feature 3",
         "rawType": "int8",
         "type": "integer"
        }
       ],
       "conversionMethod": "pd.DataFrame",
       "ref": "ff211757-9985-4c66-aafd-e64b9ff1ed12",
       "rows": [
        [
         "Samsung",
         "1",
         "1",
         "1"
        ],
        [
         "iPhone",
         "6",
         "5",
         "6"
        ],
        [
         "Xiaomi",
         "4",
         "4",
         "3"
        ]
       ],
       "shape": {
        "columns": 3,
        "rows": 3
       }
      },
      "text/html": [
       "<div>\n",
       "<style scoped>\n",
       "    .dataframe tbody tr th:only-of-type {\n",
       "        vertical-align: middle;\n",
       "    }\n",
       "\n",
       "    .dataframe tbody tr th {\n",
       "        vertical-align: top;\n",
       "    }\n",
       "\n",
       "    .dataframe thead th {\n",
       "        text-align: right;\n",
       "    }\n",
       "</style>\n",
       "<table border=\"1\" class=\"dataframe\">\n",
       "  <thead>\n",
       "    <tr style=\"text-align: right;\">\n",
       "      <th></th>\n",
       "      <th>Feature 1</th>\n",
       "      <th>Feature 2</th>\n",
       "      <th>Feature 3</th>\n",
       "    </tr>\n",
       "  </thead>\n",
       "  <tbody>\n",
       "    <tr>\n",
       "      <th>Samsung</th>\n",
       "      <td>1</td>\n",
       "      <td>1</td>\n",
       "      <td>1</td>\n",
       "    </tr>\n",
       "    <tr>\n",
       "      <th>iPhone</th>\n",
       "      <td>6</td>\n",
       "      <td>5</td>\n",
       "      <td>6</td>\n",
       "    </tr>\n",
       "    <tr>\n",
       "      <th>Xiaomi</th>\n",
       "      <td>4</td>\n",
       "      <td>4</td>\n",
       "      <td>3</td>\n",
       "    </tr>\n",
       "  </tbody>\n",
       "</table>\n",
       "</div>"
      ],
      "text/plain": [
       "         Feature 1  Feature 2  Feature 3\n",
       "Samsung          1          1          1\n",
       "iPhone           6          5          6\n",
       "Xiaomi           4          4          3"
      ]
     },
     "execution_count": 2107,
     "metadata": {},
     "output_type": "execute_result"
    }
   ],
   "source": [
    "# Creating a DataFrame with the given data\n",
    "# Index represents phone brands, and columns represent different features\n",
    "primary_modeler_scores_df = pd.DataFrame(\n",
    "    primary_modeler_scores,\n",
    "    index=[\"Samsung\", \"iPhone\", \"Xiaomi\"],           # Setting the row labels for phone brands\n",
    "    columns=[\"Feature 1\", \"Feature 2\", \"Feature 3\"]  # Setting the column labels for features\n",
    ")\n",
    "\n",
    "# Display the DataFrame\n",
    "primary_modeler_scores_df"
   ]
  },
  {
   "cell_type": "markdown",
   "metadata": {},
   "source": [
    "Additionally, to simulate an issue with this design, all the experts' opinions for Samsung are deliberately set to the highest scores.\n",
    "\n",
    "The primary modeler's certainty in the opinion $c_{I,b,n}$ for each brand is the following: "
   ]
  },
  {
   "cell_type": "code",
   "execution_count": 2108,
   "metadata": {},
   "outputs": [],
   "source": [
    "# Setting up the opinion certainty\n",
    "\n",
    "# Array representing the certainty of the primary modeler's opinion for each phone brand\n",
    "opinion_certainty_array = np.array([1, 0, 0], dtype=np.float16)\n",
    "\n",
    "# Boolean flag to determine if certainty should be applied\n",
    "# * Note 1: This flag is important as setting it to True will ensure that the opinion certainty array is ones.\n",
    "apply_certainty = True"
   ]
  },
  {
   "cell_type": "code",
   "execution_count": 2109,
   "metadata": {},
   "outputs": [
    {
     "name": "stdout",
     "output_type": "stream",
     "text": [
      "Opinion Certainty Table:\n"
     ]
    },
    {
     "data": {
      "application/vnd.microsoft.datawrangler.viewer.v0+json": {
       "columns": [
        {
         "name": "index",
         "rawType": "int64",
         "type": "integer"
        },
        {
         "name": "Samsung",
         "rawType": "object",
         "type": "string"
        },
        {
         "name": "iPhone",
         "rawType": "object",
         "type": "string"
        },
        {
         "name": "Xiaomi",
         "rawType": "object",
         "type": "string"
        }
       ],
       "conversionMethod": "pd.DataFrame",
       "ref": "d9b2ae0e-f048-4a26-aa02-4320edd492c3",
       "rows": [
        [
         "0",
         "100.0%",
         "0.0%",
         "0.0%"
        ]
       ],
       "shape": {
        "columns": 3,
        "rows": 1
       }
      },
      "text/html": [
       "<div>\n",
       "<style scoped>\n",
       "    .dataframe tbody tr th:only-of-type {\n",
       "        vertical-align: middle;\n",
       "    }\n",
       "\n",
       "    .dataframe tbody tr th {\n",
       "        vertical-align: top;\n",
       "    }\n",
       "\n",
       "    .dataframe thead th {\n",
       "        text-align: right;\n",
       "    }\n",
       "</style>\n",
       "<table border=\"1\" class=\"dataframe\">\n",
       "  <thead>\n",
       "    <tr style=\"text-align: right;\">\n",
       "      <th></th>\n",
       "      <th>Samsung</th>\n",
       "      <th>iPhone</th>\n",
       "      <th>Xiaomi</th>\n",
       "    </tr>\n",
       "  </thead>\n",
       "  <tbody>\n",
       "    <tr>\n",
       "      <th>0</th>\n",
       "      <td>100.0%</td>\n",
       "      <td>0.0%</td>\n",
       "      <td>0.0%</td>\n",
       "    </tr>\n",
       "  </tbody>\n",
       "</table>\n",
       "</div>"
      ],
      "text/plain": [
       "  Samsung iPhone Xiaomi\n",
       "0  100.0%   0.0%   0.0%"
      ]
     },
     "execution_count": 2109,
     "metadata": {},
     "output_type": "execute_result"
    }
   ],
   "source": [
    "# Round the values and convert them to percentage strings\n",
    "opinion_certainty_percent = [f\"{round(value * 100, 1)}%\" for value in opinion_certainty_array]\n",
    "\n",
    "# Create a DataFrame for opinion certainty percentages\n",
    "opinion_certainty_df = pd.DataFrame(\n",
    "    [opinion_certainty_percent],             # Percentage values as a list\n",
    "    columns=[\"Samsung\", \"iPhone\", \"Xiaomi\"]  # Column labels for the DataFrame\n",
    ")\n",
    "\n",
    "# Display the DataFrame\n",
    "print(\"Opinion Certainty Table:\")\n",
    "opinion_certainty_df"
   ]
  },
  {
   "cell_type": "code",
   "execution_count": 2110,
   "metadata": {},
   "outputs": [],
   "source": [
    "# Setting up the number of responders for each brand so that the opinion\n",
    "# certainty can be applied as many times as the responders responded\n",
    "\n",
    "# Array representing the number of responders for each phone brand\n",
    "number_of_responders = np.array([10, 10, 10], dtype=np.int32)"
   ]
  },
  {
   "cell_type": "code",
   "execution_count": 2111,
   "metadata": {},
   "outputs": [],
   "source": [
    "# Create a trust matrix with ones, representing equal trust for each responder\n",
    "# The matrix has 3 rows (one for each phone brand) and 10 columns (one for each responder)\n",
    "# * Note 1: Setting trust like this is equivalent to no inclusion of trust\n",
    "trust_matrix = np.ones((3, 10), dtype=np.float16)"
   ]
  },
  {
   "cell_type": "code",
   "execution_count": 2112,
   "metadata": {},
   "outputs": [],
   "source": [
    "# Primary modeler's score preference for each feature\n",
    "\n",
    "# Array representing the primary modeler's score preference for each feature\n",
    "# * Note 1: This means that scores below the selected scores are not taken into acoount durring the opinion formulation\n",
    "primary_modeler_score_preference = np.array([4, 4, 4], dtype=np.int8)"
   ]
  },
  {
   "cell_type": "code",
   "execution_count": 2113,
   "metadata": {},
   "outputs": [],
   "source": [
    "# Primary modeler's brand preference\n",
    "\n",
    "# Array representing the primary modeler's initial brand preference\n",
    "# * Note 1: Set to uniform\n",
    "primary_modeler_brand_pref = np.array([1, 1, 1], dtype=np.float16)\n",
    "\n",
    "# Normalize the brand preference so that the sum equals 1\n",
    "primary_modeler_brand_pref = primary_modeler_brand_pref / np.sum(primary_modeler_brand_pref)\n"
   ]
  },
  {
   "cell_type": "code",
   "execution_count": 2114,
   "metadata": {},
   "outputs": [],
   "source": [
    "# Setting score range\n",
    "\n",
    "# This represents the highest possible score for each feature, i.e., score range = 'best'\n",
    "score_range = 6"
   ]
  },
  {
   "cell_type": "code",
   "execution_count": 2115,
   "metadata": {},
   "outputs": [],
   "source": [
    "# The values of exponents in Dirichlet distribution must be non-zero,\n",
    "# setting them to a low value\n",
    "\n",
    "# Initial feature weight for the Dirichlet distribution\n",
    "initial_feature_weight = 0.01\n"
   ]
  },
  {
   "cell_type": "markdown",
   "metadata": {},
   "source": [
    "When opinion certainty values $c_{I,b,n}$ for iPhone and Xiaomi are set to zero, it results in the complete influence of the experts' opinions on the primary modeler's own opinion. This can be intuitively interpreted as the primary modeler completely replacing his own opinion with the opinions of the experts $E_{i}$."
   ]
  },
  {
   "cell_type": "markdown",
   "metadata": {},
   "source": [
    "##### Expert opinions"
   ]
  },
  {
   "cell_type": "code",
   "execution_count": 2116,
   "metadata": {},
   "outputs": [],
   "source": [
    "# Simulated experts for Samsung\n",
    "# Array representing the opinions of 10 simulated experts on Samsung for 3 features\n",
    "samsung_expert_opinions = np.array([\n",
    "    [6, 6, 6], [6, 6, 6], [6, 6, 6], [6, 6, 6], [6, 6, 6], \n",
    "    [6, 6, 6], [6, 6, 6], [6, 6, 6], [6, 6, 6], [6, 6, 6]\n",
    "], dtype=np.int8)\n",
    "\n",
    "# Simulated experts for iPhone\n",
    "# Array representing the opinions of 10 simulated experts on iPhone for 3 features\n",
    "iphone_expert_opinions = np.array([\n",
    "    [5, 5, 5], [5, 6, 5], [3, 4, 4], [3, 4, 5], [4, 5, 5], \n",
    "    [5, 6, 4], [6, 6, 6], [5, 6, 6], [4, 3, 4], [4, 6, 3]\n",
    "], dtype=np.int8)\n",
    "\n",
    "# Simulated experts for Xiaomi\n",
    "# Array representing the opinions of 10 simulated experts on Xiaomi for 3 features\n",
    "xiaomi_expert_opinions = np.array([\n",
    "    [3, 4, 3], [3, 3, 4], [4, 3, 4], [3, 3, 3], [5, 4, 3], \n",
    "    [3, 5, 5], [4, 5, 6], [4, 3, 2], [3, 4, 3], [4, 3, 4]\n",
    "], dtype=np.int8)"
   ]
  },
  {
   "cell_type": "code",
   "execution_count": 2117,
   "metadata": {},
   "outputs": [],
   "source": [
    "# Creating DataFrames for each brand\n",
    "\n",
    "# DataFrame for Samsung expert opinions\n",
    "samsung_expert_opinions_df = pd.DataFrame(\n",
    "    samsung_expert_opinions, \n",
    "    index=[f\"Samsung expert {i+1}\" for i in range(10)],  # Setting index as expert identifiers\n",
    "    columns=[\"Feature 1 score\", \"Feature 2 score\", \"Feature 3 score\"]  # Setting the column labels for features\n",
    ")\n",
    "\n",
    "# DataFrame for iPhone expert opinions\n",
    "iphone_expert_opinions_df = pd.DataFrame(\n",
    "    iphone_expert_opinions,\n",
    "    index=[f\"iPhone expert {i+1}\" for i in range(10)],  # Setting index as expert identifiers\n",
    "    columns=[\"Feature 1 score\", \"Feature 2 score\", \"Feature 3 score\"]  # Setting the column labels for features\n",
    ")\n",
    "\n",
    "# DataFrame for Xiaomi expert opinions\n",
    "xiaomi_expert_opinions_df = pd.DataFrame(\n",
    "    xiaomi_expert_opinions, \n",
    "    index=[f\"Xiaomi expert {i+1}\" for i in range(10)],  # Setting index as expert identifiers\n",
    "    columns=[\"Feature 1 score\", \"Feature 2 score\", \"Feature 3 score\"]  # Setting the column labels for features\n",
    ")"
   ]
  },
  {
   "cell_type": "markdown",
   "metadata": {},
   "source": [
    "<ins>Simple inference of experts opinion of brands</ins>"
   ]
  },
  {
   "cell_type": "code",
   "execution_count": 2118,
   "metadata": {},
   "outputs": [
    {
     "name": "stderr",
     "output_type": "stream",
     "text": [
      "/var/folders/wm/cf004srn2bx_p8lzdm9k_rr80000gn/T/ipykernel_86379/1865824333.py:9: MatplotlibDeprecationWarning: The 'labels' parameter of boxplot() has been renamed 'tick_labels' since Matplotlib 3.9; support for the old name will be dropped in 3.11.\n",
      "  ax.boxplot([samsung_means, iphone_means, xiaomi_means], labels=[\"Samsung\", \"iPhone\", \"Xiaomi\"], showmeans=True)\n"
     ]
    },
    {
     "data": {
      "image/png": "[encoded data removed]",
      "text/plain": [
       "<Figure size 1000x600 with 1 Axes>"
      ]
     },
     "metadata": {},
     "output_type": "display_data"
    }
   ],
   "source": [
    "# Calculate the mean scores of each expert\n",
    "samsung_means = samsung_expert_opinions_df.mean(axis=1)\n",
    "iphone_means = iphone_expert_opinions_df.mean(axis=1)\n",
    "xiaomi_means = xiaomi_expert_opinions_df.mean(axis=1)\n",
    "\n",
    "# Create a box plot for each brand\n",
    "fig, ax = plt.subplots(figsize=(10, 6))\n",
    "\n",
    "ax.boxplot([samsung_means, iphone_means, xiaomi_means], labels=[\"Samsung\", \"iPhone\", \"Xiaomi\"], showmeans=True)\n",
    "ax.set_title('Box Plot of Mean Expert Scores for Each Brand', fontsize=15.5)\n",
    "ax.set_ylabel('Mean Score')\n",
    "ax.set_xlabel('Brand')\n",
    "\n",
    "# Adding scatter plot of the observations\n",
    "x_positions = [1, 2, 3]\n",
    "for i, means in enumerate([samsung_means, iphone_means, xiaomi_means]):\n",
    "    ax.scatter([x_positions[i]] * len(means), means, alpha=0.6, color='blue', s=5)\n",
    "\n",
    "# Save the figure in .eps format\n",
    "\n",
    "# save_path = os.path.join(working_directory, 'Bar_charts', 'brand_mean_scores_boxplot.eps')\n",
    "# plt.tight_layout()\n",
    "# plt.savefig(save_path, format='eps')\n",
    "\n",
    "# Show the plot\n",
    "plt.show()\n"
   ]
  },
  {
   "cell_type": "code",
   "execution_count": 2119,
   "metadata": {},
   "outputs": [],
   "source": [
    "# Running the simulated example from the auxiliary module\n",
    "\n",
    "# Call the simulated_example function with the provided parameters\n",
    "_, primary_modeler_posterior_updated = auxiliary.simulated_example(\n",
    "    primary_modeler_scores,  # Initial scores given by the primary modeler\n",
    "    opinion_certainty_array,  # Certainty of the primary modeler's opinions\n",
    "    apply_certainty,  # Flag to apply certainty\n",
    "    number_of_responders,  # Number of responders for each brand\n",
    "    trust_matrix,  # Trust matrix representing trust for each responder\n",
    "    primary_modeler_score_preference,  # Primary modeler's score preference for each feature\n",
    "    primary_modeler_brand_pref,  # Distribution representing primary modeler's brand prefference\n",
    "    score_range,  # Highest possible score for each feature\n",
    "    initial_feature_weight,  # Initial feature weight for the Dirichlet distribution\n",
    "    samsung_expert_opinions,  # Expert opinions for Samsung\n",
    "    iphone_expert_opinions,  # Expert opinions for iPhone\n",
    "    xiaomi_expert_opinions  # Expert opinions for Xiaomi\n",
    ")\n"
   ]
  },
  {
   "cell_type": "code",
   "execution_count": 2120,
   "metadata": {},
   "outputs": [
    {
     "data": {
      "image/png": "[encoded data removed]",
      "text/plain": [
       "<Figure size 1500x500 with 1 Axes>"
      ]
     },
     "metadata": {},
     "output_type": "display_data"
    }
   ],
   "source": [
    "## Plot primary modeler's initial and updated posterior distribution on brands\n",
    "\n",
    "# Create a figure window with two subplots\n",
    "fig, axes = plt.subplots(1, 1, figsize=(15, 5))\n",
    "\n",
    "# Variable names for the x-ticks\n",
    "variable_names = ['Samsung', 'iPhone', 'Xiaomi']\n",
    "\n",
    "# Plotting the updated posterior distribution as a bar chart\n",
    "axes.bar(variable_names, primary_modeler_posterior_updated)\n",
    "axes.set_ylabel('Probability')\n",
    "axes.set_title(\"Primary modeler's updated brand preference\", fontsize=15.5)\n",
    "axes.tick_params(axis='x', labelsize=17)\n",
    "\n",
    "# Save the figure\n",
    "save_path = os.path.join(working_directory, 'Bar_charts', 'figure_7.eps')\n",
    "plt.tight_layout()\n",
    "plt.savefig(save_path, format='eps')\n",
    "\n",
    "# Show the plots\n",
    "plt.show()\n"
   ]
  },
  {
   "cell_type": "markdown",
   "metadata": {},
   "source": [
    "<ins>The primary modeler's updated brand preference.</ins>"
   ]
  },
  {
   "cell_type": "code",
   "execution_count": 2121,
   "metadata": {},
   "outputs": [
    {
     "name": "stdout",
     "output_type": "stream",
     "text": [
      "The Primary modeler's updated brand preference:\n"
     ]
    },
    {
     "data": {
      "application/vnd.microsoft.datawrangler.viewer.v0+json": {
       "columns": [
        {
         "name": "index",
         "rawType": "int64",
         "type": "integer"
        },
        {
         "name": "Samsung",
         "rawType": "object",
         "type": "string"
        },
        {
         "name": "iPhone",
         "rawType": "object",
         "type": "string"
        },
        {
         "name": "Xiaomi",
         "rawType": "object",
         "type": "string"
        }
       ],
       "conversionMethod": "pd.DataFrame",
       "ref": "d6437dca-ec08-4ef7-b18f-7d3a88791dc0",
       "rows": [
        [
         "0",
         "51.97%",
         "33.10%",
         "14.93%"
        ]
       ],
       "shape": {
        "columns": 3,
        "rows": 1
       }
      },
      "text/html": [
       "<div>\n",
       "<style scoped>\n",
       "    .dataframe tbody tr th:only-of-type {\n",
       "        vertical-align: middle;\n",
       "    }\n",
       "\n",
       "    .dataframe tbody tr th {\n",
       "        vertical-align: top;\n",
       "    }\n",
       "\n",
       "    .dataframe thead th {\n",
       "        text-align: right;\n",
       "    }\n",
       "</style>\n",
       "<table border=\"1\" class=\"dataframe\">\n",
       "  <thead>\n",
       "    <tr style=\"text-align: right;\">\n",
       "      <th></th>\n",
       "      <th>Samsung</th>\n",
       "      <th>iPhone</th>\n",
       "      <th>Xiaomi</th>\n",
       "    </tr>\n",
       "  </thead>\n",
       "  <tbody>\n",
       "    <tr>\n",
       "      <th>0</th>\n",
       "      <td>51.97%</td>\n",
       "      <td>33.10%</td>\n",
       "      <td>14.93%</td>\n",
       "    </tr>\n",
       "  </tbody>\n",
       "</table>\n",
       "</div>"
      ],
      "text/plain": [
       "  Samsung  iPhone  Xiaomi\n",
       "0  51.97%  33.10%  14.93%"
      ]
     },
     "execution_count": 2121,
     "metadata": {},
     "output_type": "execute_result"
    }
   ],
   "source": [
    "# Round the values and convert them to percentage strings\n",
    "primary_modeler_posterior_updated_percent = [f\"{value * 100:.2f}%\" for value in primary_modeler_posterior_updated]\n",
    "\n",
    "# Create a DataFrame for the updated posterior percentages\n",
    "primary_modeler_posterior_updated_df = pd.DataFrame(\n",
    "    [primary_modeler_posterior_updated_percent],    # Percentage values as a list\n",
    "    columns=[\"Samsung\", \"iPhone\", \"Xiaomi\"]         # Column labels for the DataFrame\n",
    ")\n",
    "\n",
    "# Display the DataFrame\n",
    "print(\"The Primary modeler's updated brand preference:\")\n",
    "primary_modeler_posterior_updated_df"
   ]
  },
  {
   "cell_type": "markdown",
   "metadata": {},
   "source": [
    "In this scenario, an unexpected outcome occurs due to the way each expert's $E_{i}$ contribution to the updated weight $V_{f_{j,b}}$ and the primary modeler's contribution are configured. In particular:\n",
    "\n",
    " 1. Each expert's contribution to the updated weight $V_{f_{i,b}}$ has a magnitude of +1.\n",
    " 2. The primary modeler's contribution to the updated weight $V_{f_{i,b}}$ is also +1 for each expert, given that opinion certainty $c_{I,b,n}$ is set to the maximum value of 1.\n",
    "\n",
    "As a result, the updated weight becomes $V_{i_{Samsung}}$ = 10 for all $i\\in \\{1,2,3\\}$. This leads to high maximum values for the respective probabilities $P_{I}^{0}(F_{i,Samsung}|Samsung)$ for all $i\\in \\{1,2,3\\}$, of choosing the underlying scores. Consequently, the probabilities entering the final posterior distribution on brands $P_{I}^{0}(F_{1,Samsung}|Samsung)P_{I}^{0}(F_{2,Samsung}|Samsung)P_{I}^{0}(F_{3,Samsung}|Samsung)$ remain high, resulting in the selection of the Samsung brand, contrary to the expected outcome."
   ]
  }
 ],
 "metadata": {
  "kernelspec": {
   "display_name": "TMoCOBoT",
   "language": "python",
   "name": "python3"
  },
  "language_info": {
   "codemirror_mode": {
    "name": "ipython",
    "version": 3
   },
   "file_extension": ".py",
   "mimetype": "text/x-python",
   "name": "python",
   "nbconvert_exporter": "python",
   "pygments_lexer": "ipython3",
   "version": "3.12.4"
  }
 },
 "nbformat": 4,
 "nbformat_minor": 2
}
